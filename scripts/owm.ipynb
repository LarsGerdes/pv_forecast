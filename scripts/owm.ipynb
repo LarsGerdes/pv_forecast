{
 "cells": [
  {
   "cell_type": "markdown",
   "source": [
    "# Open Weather Map\n",
    "Get a look on the data of openweathermap.org.\n",
    "## Prerequisits"
   ],
   "metadata": {
    "collapsed": false,
    "pycharm": {
     "name": "#%% md\n"
    }
   }
  },
  {
   "cell_type": "code",
   "execution_count": 1,
   "metadata": {
    "collapsed": true
   },
   "outputs": [
    {
     "data": {
      "text/plain": "'../data/owm_2020_12_30.json'"
     },
     "execution_count": 1,
     "metadata": {},
     "output_type": "execute_result"
    }
   ],
   "source": [
    "import requests\n",
    "import pickle\n",
    "import user_data as ud\n",
    "import pandas as pd\n",
    "\n",
    "path = '../data/owm_{}.json'.format(pd.Timestamp.now().strftime('%Y_%m_%d'))\n",
    "path"
   ]
  },
  {
   "cell_type": "markdown",
   "source": [
    "## API\n",
    "Get data from API and safe json file."
   ],
   "metadata": {
    "collapsed": false,
    "pycharm": {
     "name": "#%% md\n"
    }
   }
  },
  {
   "cell_type": "code",
   "execution_count": 2,
   "outputs": [
    {
     "data": {
      "text/plain": "<Response [200]>"
     },
     "execution_count": 2,
     "metadata": {},
     "output_type": "execute_result"
    }
   ],
   "source": [
    "response = requests.get(\n",
    "    'https://api.openweathermap.org/data/2.5/onecall?lat={lat}&lon={lng}'\n",
    "    '&units=metric&APPID={key}'.format(lat=ud.lat, lng=ud.lng, key=ud.owm))\n",
    "data = response.json()\n",
    "pickle.dump(data, open(path, 'wb'))\n",
    "response"
   ],
   "metadata": {
    "collapsed": false,
    "pycharm": {
     "name": "#%%\n"
    }
   }
  },
  {
   "cell_type": "markdown",
   "source": [
    "## Load Safed Data"
   ],
   "metadata": {
    "collapsed": false,
    "pycharm": {
     "name": "#%% md\n"
    }
   }
  },
  {
   "cell_type": "code",
   "execution_count": 3,
   "outputs": [
    {
     "data": {
      "text/plain": "dict_keys(['lat', 'lon', 'timezone', 'timezone_offset', 'current', 'minutely', 'hourly', 'daily'])"
     },
     "execution_count": 3,
     "metadata": {},
     "output_type": "execute_result"
    }
   ],
   "source": [
    "data = pickle.load(open(path, 'rb'))\n",
    "data.keys()"
   ],
   "metadata": {
    "collapsed": false,
    "pycharm": {
     "name": "#%%\n"
    }
   }
  },
  {
   "cell_type": "markdown",
   "source": [
    "## Minutely Data\n",
    "- 1 hour\n",
    "- 60 observations"
   ],
   "metadata": {
    "collapsed": false,
    "pycharm": {
     "name": "#%% md\n"
    }
   }
  },
  {
   "cell_type": "code",
   "execution_count": 4,
   "outputs": [
    {
     "data": {
      "text/plain": "                     precipitation\ndt                                \n2020-12-30 17:02:00              0\n2020-12-30 17:03:00              0\n2020-12-30 17:04:00              0\n2020-12-30 17:05:00              0\n2020-12-30 17:06:00              0\n...                            ...\n2020-12-30 17:58:00              0\n2020-12-30 17:59:00              0\n2020-12-30 18:00:00              0\n2020-12-30 18:01:00              0\n2020-12-30 18:02:00              0\n\n[61 rows x 1 columns]",
      "text/html": "<div>\n<style scoped>\n    .dataframe tbody tr th:only-of-type {\n        vertical-align: middle;\n    }\n\n    .dataframe tbody tr th {\n        vertical-align: top;\n    }\n\n    .dataframe thead th {\n        text-align: right;\n    }\n</style>\n<table border=\"1\" class=\"dataframe\">\n  <thead>\n    <tr style=\"text-align: right;\">\n      <th></th>\n      <th>precipitation</th>\n    </tr>\n    <tr>\n      <th>dt</th>\n      <th></th>\n    </tr>\n  </thead>\n  <tbody>\n    <tr>\n      <th>2020-12-30 17:02:00</th>\n      <td>0</td>\n    </tr>\n    <tr>\n      <th>2020-12-30 17:03:00</th>\n      <td>0</td>\n    </tr>\n    <tr>\n      <th>2020-12-30 17:04:00</th>\n      <td>0</td>\n    </tr>\n    <tr>\n      <th>2020-12-30 17:05:00</th>\n      <td>0</td>\n    </tr>\n    <tr>\n      <th>2020-12-30 17:06:00</th>\n      <td>0</td>\n    </tr>\n    <tr>\n      <th>...</th>\n      <td>...</td>\n    </tr>\n    <tr>\n      <th>2020-12-30 17:58:00</th>\n      <td>0</td>\n    </tr>\n    <tr>\n      <th>2020-12-30 17:59:00</th>\n      <td>0</td>\n    </tr>\n    <tr>\n      <th>2020-12-30 18:00:00</th>\n      <td>0</td>\n    </tr>\n    <tr>\n      <th>2020-12-30 18:01:00</th>\n      <td>0</td>\n    </tr>\n    <tr>\n      <th>2020-12-30 18:02:00</th>\n      <td>0</td>\n    </tr>\n  </tbody>\n</table>\n<p>61 rows × 1 columns</p>\n</div>"
     },
     "execution_count": 4,
     "metadata": {},
     "output_type": "execute_result"
    }
   ],
   "source": [
    "mnt = pd.DataFrame(data['minutely'])\n",
    "mnt = mnt.set_index('dt')\n",
    "mnt.index = pd.to_datetime(mnt.index, unit='s')\n",
    "mnt"
   ],
   "metadata": {
    "collapsed": false,
    "pycharm": {
     "name": "#%%\n"
    }
   }
  },
  {
   "cell_type": "markdown",
   "source": [
    "## Hourly Data\n",
    "- 2 days\n",
    "- 48 observations"
   ],
   "metadata": {
    "collapsed": false,
    "pycharm": {
     "name": "#%% md\n"
    }
   }
  },
  {
   "cell_type": "code",
   "execution_count": 5,
   "outputs": [
    {
     "data": {
      "text/plain": "                     temp  feels_like  pressure  humidity  dew_point   uvi  \\\ndt                                                                           \n2020-12-30 17:00:00  4.47       -1.13       998        86       2.34  0.00   \n2020-12-30 18:00:00  4.27       -1.48       998        89       2.62  0.00   \n2020-12-30 19:00:00  4.28       -1.91       998        90       2.79  0.00   \n2020-12-30 20:00:00  4.54       -2.15       999        89       2.89  0.00   \n2020-12-30 21:00:00  4.63       -2.35       999        88       2.82  0.00   \n2020-12-30 22:00:00  4.31       -3.06      1000        88       2.55  0.00   \n2020-12-30 23:00:00  3.55       -3.49      1000        88       1.86  0.00   \n2020-12-31 00:00:00  3.06       -3.68      1000        88       1.33  0.00   \n2020-12-31 01:00:00  2.50       -4.01      1000        90       1.14  0.00   \n2020-12-31 02:00:00  2.23       -4.06      1000        93       1.30  0.00   \n2020-12-31 03:00:00  2.28       -4.14      1000        93       1.35  0.00   \n2020-12-31 04:00:00  2.31       -3.93      1000        93       1.37  0.00   \n2020-12-31 05:00:00  2.25       -3.76      1001        94       1.40  0.00   \n2020-12-31 06:00:00  2.15       -3.63      1001        95       1.44  0.00   \n2020-12-31 07:00:00  2.34       -3.43      1001        95       1.63  0.00   \n2020-12-31 08:00:00  2.77       -2.98      1001        93       1.85  0.00   \n2020-12-31 09:00:00  2.85       -2.84      1001        93       1.93  0.12   \n2020-12-31 10:00:00  2.91       -2.45      1002        93       1.99  0.17   \n2020-12-31 11:00:00  3.58       -1.54      1002        89       2.02  0.23   \n2020-12-31 12:00:00  3.94       -1.06      1002        87       2.10  0.23   \n2020-12-31 13:00:00  4.03       -0.78      1001        86       2.04  0.17   \n2020-12-31 14:00:00  3.99       -0.52      1002        86       1.88  0.09   \n2020-12-31 15:00:00  3.52       -0.32      1002        88       1.74  0.00   \n2020-12-31 16:00:00  3.06       -0.59      1002        90       1.61  0.00   \n2020-12-31 17:00:00  3.14       -0.56      1003        90       1.69  0.00   \n2020-12-31 18:00:00  3.40       -0.31      1003        89       1.83  0.00   \n2020-12-31 19:00:00  3.41       -0.29      1003        89       1.77  0.00   \n2020-12-31 20:00:00  3.24       -0.44      1004        89       1.66  0.00   \n2020-12-31 21:00:00  3.01       -0.77      1004        89       1.47  0.00   \n2020-12-31 22:00:00  2.70       -1.18      1004        90       1.35  0.00   \n2020-12-31 23:00:00  2.12       -1.94      1005        92       1.04  0.00   \n2021-01-01 00:00:00  1.48       -2.76      1005        93       0.55  0.00   \n2021-01-01 01:00:00  1.23       -3.08      1005        93       0.32  0.00   \n2021-01-01 02:00:00  1.10       -3.20      1005        93       0.14  0.00   \n2021-01-01 03:00:00  1.02       -3.26      1005        92       0.01  0.00   \n2021-01-01 04:00:00  1.14       -3.03      1005        92       0.10  0.00   \n2021-01-01 05:00:00  1.74       -2.31      1006        92       0.60  0.00   \n2021-01-01 06:00:00  2.10       -1.80      1006        91       0.90  0.00   \n2021-01-01 07:00:00  2.11       -1.50      1006        92       1.00  0.00   \n2021-01-01 08:00:00  2.13       -1.29      1006        92       1.08  0.00   \n2021-01-01 09:00:00  2.60       -0.76      1006        91       1.41  0.13   \n2021-01-01 10:00:00  3.30        0.13      1007        90       1.82  0.25   \n2021-01-01 11:00:00  4.00        1.04      1007        88       2.19  0.34   \n2021-01-01 12:00:00  4.64        1.81      1007        85       2.42  0.34   \n2021-01-01 13:00:00  4.95        2.04      1007        84       2.61  0.25   \n2021-01-01 14:00:00  4.92        1.75      1007        84       2.52  0.13   \n2021-01-01 15:00:00  4.60        0.95      1007        82       1.87  0.00   \n2021-01-01 16:00:00  4.17        0.19      1008        81       1.37  0.00   \n\n                     clouds  visibility  wind_speed  wind_deg   pop  \\\ndt                                                                    \n2020-12-30 17:00:00     100       10000        5.69       219  0.32   \n2020-12-30 18:00:00     100       10000        5.97       222  0.32   \n2020-12-30 19:00:00     100       10000        6.64       230  0.19   \n2020-12-30 20:00:00     100       10000        7.39       233  0.19   \n2020-12-30 21:00:00     100       10000        7.78       234  0.27   \n2020-12-30 22:00:00     100       10000        8.26       233  0.31   \n2020-12-30 23:00:00      96       10000        7.61       231  0.31   \n2020-12-31 00:00:00      84       10000        7.07       229  0.29   \n2020-12-31 01:00:00      16       10000        6.68       224  0.03   \n2020-12-31 02:00:00      13       10000        6.42       218  0.03   \n2020-12-31 03:00:00      34       10000        6.61       214  0.03   \n2020-12-31 04:00:00      50       10000        6.36       215  0.08   \n2020-12-31 05:00:00      60       10000        6.05       215  0.08   \n2020-12-31 06:00:00      67       10000        5.73       216  0.12   \n2020-12-31 07:00:00     100       10000        5.77       219  0.22   \n2020-12-31 08:00:00     100       10000        5.77       220  0.31   \n2020-12-31 09:00:00     100       10000        5.70       223  0.31   \n2020-12-31 10:00:00     100       10000        5.24       224  0.39   \n2020-12-31 11:00:00     100       10000        4.91       221  0.35   \n2020-12-31 12:00:00     100       10000        4.75       224  0.35   \n2020-12-31 13:00:00      98       10000        4.46       220  0.13   \n2020-12-31 14:00:00      97       10000        4.02       220  0.13   \n2020-12-31 15:00:00      92       10000        3.03       217  0.17   \n2020-12-31 16:00:00      86       10000        2.72       211  0.17   \n2020-12-31 17:00:00      87       10000        2.82       203  0.17   \n2020-12-31 18:00:00      88       10000        2.86       205  0.17   \n2020-12-31 19:00:00      90       10000        2.84       212  0.01   \n2020-12-31 20:00:00      87       10000        2.77       218  0.02   \n2020-12-31 21:00:00      85       10000        2.86       221  0.02   \n2020-12-31 22:00:00      81       10000        2.98       219  0.02   \n2020-12-31 23:00:00      74       10000        3.17       217  0.01   \n2021-01-01 00:00:00      61       10000        3.32       213  0.02   \n2021-01-01 01:00:00       0       10000        3.37       211  0.06   \n2021-01-01 02:00:00       1       10000        3.32       211  0.10   \n2021-01-01 03:00:00       5       10000        3.25       209  0.11   \n2021-01-01 04:00:00      13       10000        3.12       205  0.06   \n2021-01-01 05:00:00      26       10000        3.08       202  0.06   \n2021-01-01 06:00:00      34       10000        2.91       202  0.06   \n2021-01-01 07:00:00      93       10000        2.53       205  0.00   \n2021-01-01 08:00:00      92       10000        2.26       206  0.00   \n2021-01-01 09:00:00      91       10000        2.25       207  0.00   \n2021-01-01 10:00:00      90       10000        2.09       207  0.00   \n2021-01-01 11:00:00      86       10000        1.89       215  0.00   \n2021-01-01 12:00:00      85       10000        1.73       222  0.00   \n2021-01-01 13:00:00      91       10000        1.88       222  0.00   \n2021-01-01 14:00:00      95       10000        2.24       225  0.00   \n2021-01-01 15:00:00      95       10000        2.78       232  0.00   \n2021-01-01 16:00:00      92       10000        3.11       232  0.00   \n\n                             rain  weather_id weather_main  \\\ndt                                                           \n2020-12-30 17:00:00           NaN       804.0       Clouds   \n2020-12-30 18:00:00           NaN       804.0       Clouds   \n2020-12-30 19:00:00           NaN       804.0       Clouds   \n2020-12-30 20:00:00           NaN       804.0       Clouds   \n2020-12-30 21:00:00           NaN       804.0       Clouds   \n2020-12-30 22:00:00           NaN       804.0       Clouds   \n2020-12-30 23:00:00           NaN       804.0       Clouds   \n2020-12-31 00:00:00           NaN       803.0       Clouds   \n2020-12-31 01:00:00           NaN       801.0       Clouds   \n2020-12-31 02:00:00           NaN       801.0       Clouds   \n2020-12-31 03:00:00           NaN       802.0       Clouds   \n2020-12-31 04:00:00           NaN       802.0       Clouds   \n2020-12-31 05:00:00           NaN       803.0       Clouds   \n2020-12-31 06:00:00           NaN       803.0       Clouds   \n2020-12-31 07:00:00           NaN       804.0       Clouds   \n2020-12-31 08:00:00           NaN       804.0       Clouds   \n2020-12-31 09:00:00           NaN       804.0       Clouds   \n2020-12-31 10:00:00  {'1h': 0.13}       500.0         Rain   \n2020-12-31 11:00:00           NaN       804.0       Clouds   \n2020-12-31 12:00:00           NaN       804.0       Clouds   \n2020-12-31 13:00:00           NaN       804.0       Clouds   \n2020-12-31 14:00:00           NaN       804.0       Clouds   \n2020-12-31 15:00:00           NaN       804.0       Clouds   \n2020-12-31 16:00:00           NaN       804.0       Clouds   \n2020-12-31 17:00:00           NaN       804.0       Clouds   \n2020-12-31 18:00:00           NaN       804.0       Clouds   \n2020-12-31 19:00:00           NaN       804.0       Clouds   \n2020-12-31 20:00:00           NaN       804.0       Clouds   \n2020-12-31 21:00:00           NaN       804.0       Clouds   \n2020-12-31 22:00:00           NaN       803.0       Clouds   \n2020-12-31 23:00:00           NaN       803.0       Clouds   \n2021-01-01 00:00:00           NaN       803.0       Clouds   \n2021-01-01 01:00:00           NaN       800.0        Clear   \n2021-01-01 02:00:00           NaN       800.0        Clear   \n2021-01-01 03:00:00           NaN       800.0        Clear   \n2021-01-01 04:00:00           NaN       801.0       Clouds   \n2021-01-01 05:00:00           NaN       802.0       Clouds   \n2021-01-01 06:00:00           NaN       802.0       Clouds   \n2021-01-01 07:00:00           NaN       804.0       Clouds   \n2021-01-01 08:00:00           NaN       804.0       Clouds   \n2021-01-01 09:00:00           NaN       804.0       Clouds   \n2021-01-01 10:00:00           NaN       804.0       Clouds   \n2021-01-01 11:00:00           NaN       804.0       Clouds   \n2021-01-01 12:00:00           NaN       804.0       Clouds   \n2021-01-01 13:00:00           NaN       804.0       Clouds   \n2021-01-01 14:00:00           NaN       804.0       Clouds   \n2021-01-01 15:00:00           NaN       804.0       Clouds   \n2021-01-01 16:00:00           NaN       804.0       Clouds   \n\n                    weather_description weather_icon  \ndt                                                    \n2020-12-30 17:00:00     overcast clouds          04n  \n2020-12-30 18:00:00     overcast clouds          04n  \n2020-12-30 19:00:00     overcast clouds          04n  \n2020-12-30 20:00:00     overcast clouds          04n  \n2020-12-30 21:00:00     overcast clouds          04n  \n2020-12-30 22:00:00     overcast clouds          04n  \n2020-12-30 23:00:00     overcast clouds          04n  \n2020-12-31 00:00:00       broken clouds          04n  \n2020-12-31 01:00:00          few clouds          02n  \n2020-12-31 02:00:00          few clouds          02n  \n2020-12-31 03:00:00    scattered clouds          03n  \n2020-12-31 04:00:00    scattered clouds          03n  \n2020-12-31 05:00:00       broken clouds          04n  \n2020-12-31 06:00:00       broken clouds          04n  \n2020-12-31 07:00:00     overcast clouds          04n  \n2020-12-31 08:00:00     overcast clouds          04d  \n2020-12-31 09:00:00     overcast clouds          04d  \n2020-12-31 10:00:00          light rain          10d  \n2020-12-31 11:00:00     overcast clouds          04d  \n2020-12-31 12:00:00     overcast clouds          04d  \n2020-12-31 13:00:00     overcast clouds          04d  \n2020-12-31 14:00:00     overcast clouds          04d  \n2020-12-31 15:00:00     overcast clouds          04d  \n2020-12-31 16:00:00     overcast clouds          04n  \n2020-12-31 17:00:00     overcast clouds          04n  \n2020-12-31 18:00:00     overcast clouds          04n  \n2020-12-31 19:00:00     overcast clouds          04n  \n2020-12-31 20:00:00     overcast clouds          04n  \n2020-12-31 21:00:00     overcast clouds          04n  \n2020-12-31 22:00:00       broken clouds          04n  \n2020-12-31 23:00:00       broken clouds          04n  \n2021-01-01 00:00:00       broken clouds          04n  \n2021-01-01 01:00:00           clear sky          01n  \n2021-01-01 02:00:00           clear sky          01n  \n2021-01-01 03:00:00           clear sky          01n  \n2021-01-01 04:00:00          few clouds          02n  \n2021-01-01 05:00:00    scattered clouds          03n  \n2021-01-01 06:00:00    scattered clouds          03n  \n2021-01-01 07:00:00     overcast clouds          04n  \n2021-01-01 08:00:00     overcast clouds          04d  \n2021-01-01 09:00:00     overcast clouds          04d  \n2021-01-01 10:00:00     overcast clouds          04d  \n2021-01-01 11:00:00     overcast clouds          04d  \n2021-01-01 12:00:00     overcast clouds          04d  \n2021-01-01 13:00:00     overcast clouds          04d  \n2021-01-01 14:00:00     overcast clouds          04d  \n2021-01-01 15:00:00     overcast clouds          04d  \n2021-01-01 16:00:00     overcast clouds          04n  ",
      "text/html": "<div>\n<style scoped>\n    .dataframe tbody tr th:only-of-type {\n        vertical-align: middle;\n    }\n\n    .dataframe tbody tr th {\n        vertical-align: top;\n    }\n\n    .dataframe thead th {\n        text-align: right;\n    }\n</style>\n<table border=\"1\" class=\"dataframe\">\n  <thead>\n    <tr style=\"text-align: right;\">\n      <th></th>\n      <th>temp</th>\n      <th>feels_like</th>\n      <th>pressure</th>\n      <th>humidity</th>\n      <th>dew_point</th>\n      <th>uvi</th>\n      <th>clouds</th>\n      <th>visibility</th>\n      <th>wind_speed</th>\n      <th>wind_deg</th>\n      <th>pop</th>\n      <th>rain</th>\n      <th>weather_id</th>\n      <th>weather_main</th>\n      <th>weather_description</th>\n      <th>weather_icon</th>\n    </tr>\n    <tr>\n      <th>dt</th>\n      <th></th>\n      <th></th>\n      <th></th>\n      <th></th>\n      <th></th>\n      <th></th>\n      <th></th>\n      <th></th>\n      <th></th>\n      <th></th>\n      <th></th>\n      <th></th>\n      <th></th>\n      <th></th>\n      <th></th>\n      <th></th>\n    </tr>\n  </thead>\n  <tbody>\n    <tr>\n      <th>2020-12-30 17:00:00</th>\n      <td>4.47</td>\n      <td>-1.13</td>\n      <td>998</td>\n      <td>86</td>\n      <td>2.34</td>\n      <td>0.00</td>\n      <td>100</td>\n      <td>10000</td>\n      <td>5.69</td>\n      <td>219</td>\n      <td>0.32</td>\n      <td>NaN</td>\n      <td>804.0</td>\n      <td>Clouds</td>\n      <td>overcast clouds</td>\n      <td>04n</td>\n    </tr>\n    <tr>\n      <th>2020-12-30 18:00:00</th>\n      <td>4.27</td>\n      <td>-1.48</td>\n      <td>998</td>\n      <td>89</td>\n      <td>2.62</td>\n      <td>0.00</td>\n      <td>100</td>\n      <td>10000</td>\n      <td>5.97</td>\n      <td>222</td>\n      <td>0.32</td>\n      <td>NaN</td>\n      <td>804.0</td>\n      <td>Clouds</td>\n      <td>overcast clouds</td>\n      <td>04n</td>\n    </tr>\n    <tr>\n      <th>2020-12-30 19:00:00</th>\n      <td>4.28</td>\n      <td>-1.91</td>\n      <td>998</td>\n      <td>90</td>\n      <td>2.79</td>\n      <td>0.00</td>\n      <td>100</td>\n      <td>10000</td>\n      <td>6.64</td>\n      <td>230</td>\n      <td>0.19</td>\n      <td>NaN</td>\n      <td>804.0</td>\n      <td>Clouds</td>\n      <td>overcast clouds</td>\n      <td>04n</td>\n    </tr>\n    <tr>\n      <th>2020-12-30 20:00:00</th>\n      <td>4.54</td>\n      <td>-2.15</td>\n      <td>999</td>\n      <td>89</td>\n      <td>2.89</td>\n      <td>0.00</td>\n      <td>100</td>\n      <td>10000</td>\n      <td>7.39</td>\n      <td>233</td>\n      <td>0.19</td>\n      <td>NaN</td>\n      <td>804.0</td>\n      <td>Clouds</td>\n      <td>overcast clouds</td>\n      <td>04n</td>\n    </tr>\n    <tr>\n      <th>2020-12-30 21:00:00</th>\n      <td>4.63</td>\n      <td>-2.35</td>\n      <td>999</td>\n      <td>88</td>\n      <td>2.82</td>\n      <td>0.00</td>\n      <td>100</td>\n      <td>10000</td>\n      <td>7.78</td>\n      <td>234</td>\n      <td>0.27</td>\n      <td>NaN</td>\n      <td>804.0</td>\n      <td>Clouds</td>\n      <td>overcast clouds</td>\n      <td>04n</td>\n    </tr>\n    <tr>\n      <th>2020-12-30 22:00:00</th>\n      <td>4.31</td>\n      <td>-3.06</td>\n      <td>1000</td>\n      <td>88</td>\n      <td>2.55</td>\n      <td>0.00</td>\n      <td>100</td>\n      <td>10000</td>\n      <td>8.26</td>\n      <td>233</td>\n      <td>0.31</td>\n      <td>NaN</td>\n      <td>804.0</td>\n      <td>Clouds</td>\n      <td>overcast clouds</td>\n      <td>04n</td>\n    </tr>\n    <tr>\n      <th>2020-12-30 23:00:00</th>\n      <td>3.55</td>\n      <td>-3.49</td>\n      <td>1000</td>\n      <td>88</td>\n      <td>1.86</td>\n      <td>0.00</td>\n      <td>96</td>\n      <td>10000</td>\n      <td>7.61</td>\n      <td>231</td>\n      <td>0.31</td>\n      <td>NaN</td>\n      <td>804.0</td>\n      <td>Clouds</td>\n      <td>overcast clouds</td>\n      <td>04n</td>\n    </tr>\n    <tr>\n      <th>2020-12-31 00:00:00</th>\n      <td>3.06</td>\n      <td>-3.68</td>\n      <td>1000</td>\n      <td>88</td>\n      <td>1.33</td>\n      <td>0.00</td>\n      <td>84</td>\n      <td>10000</td>\n      <td>7.07</td>\n      <td>229</td>\n      <td>0.29</td>\n      <td>NaN</td>\n      <td>803.0</td>\n      <td>Clouds</td>\n      <td>broken clouds</td>\n      <td>04n</td>\n    </tr>\n    <tr>\n      <th>2020-12-31 01:00:00</th>\n      <td>2.50</td>\n      <td>-4.01</td>\n      <td>1000</td>\n      <td>90</td>\n      <td>1.14</td>\n      <td>0.00</td>\n      <td>16</td>\n      <td>10000</td>\n      <td>6.68</td>\n      <td>224</td>\n      <td>0.03</td>\n      <td>NaN</td>\n      <td>801.0</td>\n      <td>Clouds</td>\n      <td>few clouds</td>\n      <td>02n</td>\n    </tr>\n    <tr>\n      <th>2020-12-31 02:00:00</th>\n      <td>2.23</td>\n      <td>-4.06</td>\n      <td>1000</td>\n      <td>93</td>\n      <td>1.30</td>\n      <td>0.00</td>\n      <td>13</td>\n      <td>10000</td>\n      <td>6.42</td>\n      <td>218</td>\n      <td>0.03</td>\n      <td>NaN</td>\n      <td>801.0</td>\n      <td>Clouds</td>\n      <td>few clouds</td>\n      <td>02n</td>\n    </tr>\n    <tr>\n      <th>2020-12-31 03:00:00</th>\n      <td>2.28</td>\n      <td>-4.14</td>\n      <td>1000</td>\n      <td>93</td>\n      <td>1.35</td>\n      <td>0.00</td>\n      <td>34</td>\n      <td>10000</td>\n      <td>6.61</td>\n      <td>214</td>\n      <td>0.03</td>\n      <td>NaN</td>\n      <td>802.0</td>\n      <td>Clouds</td>\n      <td>scattered clouds</td>\n      <td>03n</td>\n    </tr>\n    <tr>\n      <th>2020-12-31 04:00:00</th>\n      <td>2.31</td>\n      <td>-3.93</td>\n      <td>1000</td>\n      <td>93</td>\n      <td>1.37</td>\n      <td>0.00</td>\n      <td>50</td>\n      <td>10000</td>\n      <td>6.36</td>\n      <td>215</td>\n      <td>0.08</td>\n      <td>NaN</td>\n      <td>802.0</td>\n      <td>Clouds</td>\n      <td>scattered clouds</td>\n      <td>03n</td>\n    </tr>\n    <tr>\n      <th>2020-12-31 05:00:00</th>\n      <td>2.25</td>\n      <td>-3.76</td>\n      <td>1001</td>\n      <td>94</td>\n      <td>1.40</td>\n      <td>0.00</td>\n      <td>60</td>\n      <td>10000</td>\n      <td>6.05</td>\n      <td>215</td>\n      <td>0.08</td>\n      <td>NaN</td>\n      <td>803.0</td>\n      <td>Clouds</td>\n      <td>broken clouds</td>\n      <td>04n</td>\n    </tr>\n    <tr>\n      <th>2020-12-31 06:00:00</th>\n      <td>2.15</td>\n      <td>-3.63</td>\n      <td>1001</td>\n      <td>95</td>\n      <td>1.44</td>\n      <td>0.00</td>\n      <td>67</td>\n      <td>10000</td>\n      <td>5.73</td>\n      <td>216</td>\n      <td>0.12</td>\n      <td>NaN</td>\n      <td>803.0</td>\n      <td>Clouds</td>\n      <td>broken clouds</td>\n      <td>04n</td>\n    </tr>\n    <tr>\n      <th>2020-12-31 07:00:00</th>\n      <td>2.34</td>\n      <td>-3.43</td>\n      <td>1001</td>\n      <td>95</td>\n      <td>1.63</td>\n      <td>0.00</td>\n      <td>100</td>\n      <td>10000</td>\n      <td>5.77</td>\n      <td>219</td>\n      <td>0.22</td>\n      <td>NaN</td>\n      <td>804.0</td>\n      <td>Clouds</td>\n      <td>overcast clouds</td>\n      <td>04n</td>\n    </tr>\n    <tr>\n      <th>2020-12-31 08:00:00</th>\n      <td>2.77</td>\n      <td>-2.98</td>\n      <td>1001</td>\n      <td>93</td>\n      <td>1.85</td>\n      <td>0.00</td>\n      <td>100</td>\n      <td>10000</td>\n      <td>5.77</td>\n      <td>220</td>\n      <td>0.31</td>\n      <td>NaN</td>\n      <td>804.0</td>\n      <td>Clouds</td>\n      <td>overcast clouds</td>\n      <td>04d</td>\n    </tr>\n    <tr>\n      <th>2020-12-31 09:00:00</th>\n      <td>2.85</td>\n      <td>-2.84</td>\n      <td>1001</td>\n      <td>93</td>\n      <td>1.93</td>\n      <td>0.12</td>\n      <td>100</td>\n      <td>10000</td>\n      <td>5.70</td>\n      <td>223</td>\n      <td>0.31</td>\n      <td>NaN</td>\n      <td>804.0</td>\n      <td>Clouds</td>\n      <td>overcast clouds</td>\n      <td>04d</td>\n    </tr>\n    <tr>\n      <th>2020-12-31 10:00:00</th>\n      <td>2.91</td>\n      <td>-2.45</td>\n      <td>1002</td>\n      <td>93</td>\n      <td>1.99</td>\n      <td>0.17</td>\n      <td>100</td>\n      <td>10000</td>\n      <td>5.24</td>\n      <td>224</td>\n      <td>0.39</td>\n      <td>{'1h': 0.13}</td>\n      <td>500.0</td>\n      <td>Rain</td>\n      <td>light rain</td>\n      <td>10d</td>\n    </tr>\n    <tr>\n      <th>2020-12-31 11:00:00</th>\n      <td>3.58</td>\n      <td>-1.54</td>\n      <td>1002</td>\n      <td>89</td>\n      <td>2.02</td>\n      <td>0.23</td>\n      <td>100</td>\n      <td>10000</td>\n      <td>4.91</td>\n      <td>221</td>\n      <td>0.35</td>\n      <td>NaN</td>\n      <td>804.0</td>\n      <td>Clouds</td>\n      <td>overcast clouds</td>\n      <td>04d</td>\n    </tr>\n    <tr>\n      <th>2020-12-31 12:00:00</th>\n      <td>3.94</td>\n      <td>-1.06</td>\n      <td>1002</td>\n      <td>87</td>\n      <td>2.10</td>\n      <td>0.23</td>\n      <td>100</td>\n      <td>10000</td>\n      <td>4.75</td>\n      <td>224</td>\n      <td>0.35</td>\n      <td>NaN</td>\n      <td>804.0</td>\n      <td>Clouds</td>\n      <td>overcast clouds</td>\n      <td>04d</td>\n    </tr>\n    <tr>\n      <th>2020-12-31 13:00:00</th>\n      <td>4.03</td>\n      <td>-0.78</td>\n      <td>1001</td>\n      <td>86</td>\n      <td>2.04</td>\n      <td>0.17</td>\n      <td>98</td>\n      <td>10000</td>\n      <td>4.46</td>\n      <td>220</td>\n      <td>0.13</td>\n      <td>NaN</td>\n      <td>804.0</td>\n      <td>Clouds</td>\n      <td>overcast clouds</td>\n      <td>04d</td>\n    </tr>\n    <tr>\n      <th>2020-12-31 14:00:00</th>\n      <td>3.99</td>\n      <td>-0.52</td>\n      <td>1002</td>\n      <td>86</td>\n      <td>1.88</td>\n      <td>0.09</td>\n      <td>97</td>\n      <td>10000</td>\n      <td>4.02</td>\n      <td>220</td>\n      <td>0.13</td>\n      <td>NaN</td>\n      <td>804.0</td>\n      <td>Clouds</td>\n      <td>overcast clouds</td>\n      <td>04d</td>\n    </tr>\n    <tr>\n      <th>2020-12-31 15:00:00</th>\n      <td>3.52</td>\n      <td>-0.32</td>\n      <td>1002</td>\n      <td>88</td>\n      <td>1.74</td>\n      <td>0.00</td>\n      <td>92</td>\n      <td>10000</td>\n      <td>3.03</td>\n      <td>217</td>\n      <td>0.17</td>\n      <td>NaN</td>\n      <td>804.0</td>\n      <td>Clouds</td>\n      <td>overcast clouds</td>\n      <td>04d</td>\n    </tr>\n    <tr>\n      <th>2020-12-31 16:00:00</th>\n      <td>3.06</td>\n      <td>-0.59</td>\n      <td>1002</td>\n      <td>90</td>\n      <td>1.61</td>\n      <td>0.00</td>\n      <td>86</td>\n      <td>10000</td>\n      <td>2.72</td>\n      <td>211</td>\n      <td>0.17</td>\n      <td>NaN</td>\n      <td>804.0</td>\n      <td>Clouds</td>\n      <td>overcast clouds</td>\n      <td>04n</td>\n    </tr>\n    <tr>\n      <th>2020-12-31 17:00:00</th>\n      <td>3.14</td>\n      <td>-0.56</td>\n      <td>1003</td>\n      <td>90</td>\n      <td>1.69</td>\n      <td>0.00</td>\n      <td>87</td>\n      <td>10000</td>\n      <td>2.82</td>\n      <td>203</td>\n      <td>0.17</td>\n      <td>NaN</td>\n      <td>804.0</td>\n      <td>Clouds</td>\n      <td>overcast clouds</td>\n      <td>04n</td>\n    </tr>\n    <tr>\n      <th>2020-12-31 18:00:00</th>\n      <td>3.40</td>\n      <td>-0.31</td>\n      <td>1003</td>\n      <td>89</td>\n      <td>1.83</td>\n      <td>0.00</td>\n      <td>88</td>\n      <td>10000</td>\n      <td>2.86</td>\n      <td>205</td>\n      <td>0.17</td>\n      <td>NaN</td>\n      <td>804.0</td>\n      <td>Clouds</td>\n      <td>overcast clouds</td>\n      <td>04n</td>\n    </tr>\n    <tr>\n      <th>2020-12-31 19:00:00</th>\n      <td>3.41</td>\n      <td>-0.29</td>\n      <td>1003</td>\n      <td>89</td>\n      <td>1.77</td>\n      <td>0.00</td>\n      <td>90</td>\n      <td>10000</td>\n      <td>2.84</td>\n      <td>212</td>\n      <td>0.01</td>\n      <td>NaN</td>\n      <td>804.0</td>\n      <td>Clouds</td>\n      <td>overcast clouds</td>\n      <td>04n</td>\n    </tr>\n    <tr>\n      <th>2020-12-31 20:00:00</th>\n      <td>3.24</td>\n      <td>-0.44</td>\n      <td>1004</td>\n      <td>89</td>\n      <td>1.66</td>\n      <td>0.00</td>\n      <td>87</td>\n      <td>10000</td>\n      <td>2.77</td>\n      <td>218</td>\n      <td>0.02</td>\n      <td>NaN</td>\n      <td>804.0</td>\n      <td>Clouds</td>\n      <td>overcast clouds</td>\n      <td>04n</td>\n    </tr>\n    <tr>\n      <th>2020-12-31 21:00:00</th>\n      <td>3.01</td>\n      <td>-0.77</td>\n      <td>1004</td>\n      <td>89</td>\n      <td>1.47</td>\n      <td>0.00</td>\n      <td>85</td>\n      <td>10000</td>\n      <td>2.86</td>\n      <td>221</td>\n      <td>0.02</td>\n      <td>NaN</td>\n      <td>804.0</td>\n      <td>Clouds</td>\n      <td>overcast clouds</td>\n      <td>04n</td>\n    </tr>\n    <tr>\n      <th>2020-12-31 22:00:00</th>\n      <td>2.70</td>\n      <td>-1.18</td>\n      <td>1004</td>\n      <td>90</td>\n      <td>1.35</td>\n      <td>0.00</td>\n      <td>81</td>\n      <td>10000</td>\n      <td>2.98</td>\n      <td>219</td>\n      <td>0.02</td>\n      <td>NaN</td>\n      <td>803.0</td>\n      <td>Clouds</td>\n      <td>broken clouds</td>\n      <td>04n</td>\n    </tr>\n    <tr>\n      <th>2020-12-31 23:00:00</th>\n      <td>2.12</td>\n      <td>-1.94</td>\n      <td>1005</td>\n      <td>92</td>\n      <td>1.04</td>\n      <td>0.00</td>\n      <td>74</td>\n      <td>10000</td>\n      <td>3.17</td>\n      <td>217</td>\n      <td>0.01</td>\n      <td>NaN</td>\n      <td>803.0</td>\n      <td>Clouds</td>\n      <td>broken clouds</td>\n      <td>04n</td>\n    </tr>\n    <tr>\n      <th>2021-01-01 00:00:00</th>\n      <td>1.48</td>\n      <td>-2.76</td>\n      <td>1005</td>\n      <td>93</td>\n      <td>0.55</td>\n      <td>0.00</td>\n      <td>61</td>\n      <td>10000</td>\n      <td>3.32</td>\n      <td>213</td>\n      <td>0.02</td>\n      <td>NaN</td>\n      <td>803.0</td>\n      <td>Clouds</td>\n      <td>broken clouds</td>\n      <td>04n</td>\n    </tr>\n    <tr>\n      <th>2021-01-01 01:00:00</th>\n      <td>1.23</td>\n      <td>-3.08</td>\n      <td>1005</td>\n      <td>93</td>\n      <td>0.32</td>\n      <td>0.00</td>\n      <td>0</td>\n      <td>10000</td>\n      <td>3.37</td>\n      <td>211</td>\n      <td>0.06</td>\n      <td>NaN</td>\n      <td>800.0</td>\n      <td>Clear</td>\n      <td>clear sky</td>\n      <td>01n</td>\n    </tr>\n    <tr>\n      <th>2021-01-01 02:00:00</th>\n      <td>1.10</td>\n      <td>-3.20</td>\n      <td>1005</td>\n      <td>93</td>\n      <td>0.14</td>\n      <td>0.00</td>\n      <td>1</td>\n      <td>10000</td>\n      <td>3.32</td>\n      <td>211</td>\n      <td>0.10</td>\n      <td>NaN</td>\n      <td>800.0</td>\n      <td>Clear</td>\n      <td>clear sky</td>\n      <td>01n</td>\n    </tr>\n    <tr>\n      <th>2021-01-01 03:00:00</th>\n      <td>1.02</td>\n      <td>-3.26</td>\n      <td>1005</td>\n      <td>92</td>\n      <td>0.01</td>\n      <td>0.00</td>\n      <td>5</td>\n      <td>10000</td>\n      <td>3.25</td>\n      <td>209</td>\n      <td>0.11</td>\n      <td>NaN</td>\n      <td>800.0</td>\n      <td>Clear</td>\n      <td>clear sky</td>\n      <td>01n</td>\n    </tr>\n    <tr>\n      <th>2021-01-01 04:00:00</th>\n      <td>1.14</td>\n      <td>-3.03</td>\n      <td>1005</td>\n      <td>92</td>\n      <td>0.10</td>\n      <td>0.00</td>\n      <td>13</td>\n      <td>10000</td>\n      <td>3.12</td>\n      <td>205</td>\n      <td>0.06</td>\n      <td>NaN</td>\n      <td>801.0</td>\n      <td>Clouds</td>\n      <td>few clouds</td>\n      <td>02n</td>\n    </tr>\n    <tr>\n      <th>2021-01-01 05:00:00</th>\n      <td>1.74</td>\n      <td>-2.31</td>\n      <td>1006</td>\n      <td>92</td>\n      <td>0.60</td>\n      <td>0.00</td>\n      <td>26</td>\n      <td>10000</td>\n      <td>3.08</td>\n      <td>202</td>\n      <td>0.06</td>\n      <td>NaN</td>\n      <td>802.0</td>\n      <td>Clouds</td>\n      <td>scattered clouds</td>\n      <td>03n</td>\n    </tr>\n    <tr>\n      <th>2021-01-01 06:00:00</th>\n      <td>2.10</td>\n      <td>-1.80</td>\n      <td>1006</td>\n      <td>91</td>\n      <td>0.90</td>\n      <td>0.00</td>\n      <td>34</td>\n      <td>10000</td>\n      <td>2.91</td>\n      <td>202</td>\n      <td>0.06</td>\n      <td>NaN</td>\n      <td>802.0</td>\n      <td>Clouds</td>\n      <td>scattered clouds</td>\n      <td>03n</td>\n    </tr>\n    <tr>\n      <th>2021-01-01 07:00:00</th>\n      <td>2.11</td>\n      <td>-1.50</td>\n      <td>1006</td>\n      <td>92</td>\n      <td>1.00</td>\n      <td>0.00</td>\n      <td>93</td>\n      <td>10000</td>\n      <td>2.53</td>\n      <td>205</td>\n      <td>0.00</td>\n      <td>NaN</td>\n      <td>804.0</td>\n      <td>Clouds</td>\n      <td>overcast clouds</td>\n      <td>04n</td>\n    </tr>\n    <tr>\n      <th>2021-01-01 08:00:00</th>\n      <td>2.13</td>\n      <td>-1.29</td>\n      <td>1006</td>\n      <td>92</td>\n      <td>1.08</td>\n      <td>0.00</td>\n      <td>92</td>\n      <td>10000</td>\n      <td>2.26</td>\n      <td>206</td>\n      <td>0.00</td>\n      <td>NaN</td>\n      <td>804.0</td>\n      <td>Clouds</td>\n      <td>overcast clouds</td>\n      <td>04d</td>\n    </tr>\n    <tr>\n      <th>2021-01-01 09:00:00</th>\n      <td>2.60</td>\n      <td>-0.76</td>\n      <td>1006</td>\n      <td>91</td>\n      <td>1.41</td>\n      <td>0.13</td>\n      <td>91</td>\n      <td>10000</td>\n      <td>2.25</td>\n      <td>207</td>\n      <td>0.00</td>\n      <td>NaN</td>\n      <td>804.0</td>\n      <td>Clouds</td>\n      <td>overcast clouds</td>\n      <td>04d</td>\n    </tr>\n    <tr>\n      <th>2021-01-01 10:00:00</th>\n      <td>3.30</td>\n      <td>0.13</td>\n      <td>1007</td>\n      <td>90</td>\n      <td>1.82</td>\n      <td>0.25</td>\n      <td>90</td>\n      <td>10000</td>\n      <td>2.09</td>\n      <td>207</td>\n      <td>0.00</td>\n      <td>NaN</td>\n      <td>804.0</td>\n      <td>Clouds</td>\n      <td>overcast clouds</td>\n      <td>04d</td>\n    </tr>\n    <tr>\n      <th>2021-01-01 11:00:00</th>\n      <td>4.00</td>\n      <td>1.04</td>\n      <td>1007</td>\n      <td>88</td>\n      <td>2.19</td>\n      <td>0.34</td>\n      <td>86</td>\n      <td>10000</td>\n      <td>1.89</td>\n      <td>215</td>\n      <td>0.00</td>\n      <td>NaN</td>\n      <td>804.0</td>\n      <td>Clouds</td>\n      <td>overcast clouds</td>\n      <td>04d</td>\n    </tr>\n    <tr>\n      <th>2021-01-01 12:00:00</th>\n      <td>4.64</td>\n      <td>1.81</td>\n      <td>1007</td>\n      <td>85</td>\n      <td>2.42</td>\n      <td>0.34</td>\n      <td>85</td>\n      <td>10000</td>\n      <td>1.73</td>\n      <td>222</td>\n      <td>0.00</td>\n      <td>NaN</td>\n      <td>804.0</td>\n      <td>Clouds</td>\n      <td>overcast clouds</td>\n      <td>04d</td>\n    </tr>\n    <tr>\n      <th>2021-01-01 13:00:00</th>\n      <td>4.95</td>\n      <td>2.04</td>\n      <td>1007</td>\n      <td>84</td>\n      <td>2.61</td>\n      <td>0.25</td>\n      <td>91</td>\n      <td>10000</td>\n      <td>1.88</td>\n      <td>222</td>\n      <td>0.00</td>\n      <td>NaN</td>\n      <td>804.0</td>\n      <td>Clouds</td>\n      <td>overcast clouds</td>\n      <td>04d</td>\n    </tr>\n    <tr>\n      <th>2021-01-01 14:00:00</th>\n      <td>4.92</td>\n      <td>1.75</td>\n      <td>1007</td>\n      <td>84</td>\n      <td>2.52</td>\n      <td>0.13</td>\n      <td>95</td>\n      <td>10000</td>\n      <td>2.24</td>\n      <td>225</td>\n      <td>0.00</td>\n      <td>NaN</td>\n      <td>804.0</td>\n      <td>Clouds</td>\n      <td>overcast clouds</td>\n      <td>04d</td>\n    </tr>\n    <tr>\n      <th>2021-01-01 15:00:00</th>\n      <td>4.60</td>\n      <td>0.95</td>\n      <td>1007</td>\n      <td>82</td>\n      <td>1.87</td>\n      <td>0.00</td>\n      <td>95</td>\n      <td>10000</td>\n      <td>2.78</td>\n      <td>232</td>\n      <td>0.00</td>\n      <td>NaN</td>\n      <td>804.0</td>\n      <td>Clouds</td>\n      <td>overcast clouds</td>\n      <td>04d</td>\n    </tr>\n    <tr>\n      <th>2021-01-01 16:00:00</th>\n      <td>4.17</td>\n      <td>0.19</td>\n      <td>1008</td>\n      <td>81</td>\n      <td>1.37</td>\n      <td>0.00</td>\n      <td>92</td>\n      <td>10000</td>\n      <td>3.11</td>\n      <td>232</td>\n      <td>0.00</td>\n      <td>NaN</td>\n      <td>804.0</td>\n      <td>Clouds</td>\n      <td>overcast clouds</td>\n      <td>04n</td>\n    </tr>\n  </tbody>\n</table>\n</div>"
     },
     "execution_count": 5,
     "metadata": {},
     "output_type": "execute_result"
    }
   ],
   "source": [
    "hr = pd.DataFrame(data['hourly'])\n",
    "hr = hr.set_index('dt')\n",
    "hr.index = pd.to_datetime(hr.index, unit='s')\n",
    "for index in hr.index:\n",
    "    hr.loc[index, 'weather_id'] = hr.loc[index, 'weather'][0]['id']\n",
    "    hr.loc[index, 'weather_main'] = hr.loc[index, 'weather'][0]['main']\n",
    "    hr.loc[index, 'weather_description'] = hr.loc[index,\n",
    "                                                  'weather'][0]['description']\n",
    "    hr.loc[index, 'weather_icon'] = hr.loc[index, 'weather'][0]['icon']\n",
    "hr = hr.drop(columns='weather')\n",
    "hr"
   ],
   "metadata": {
    "collapsed": false,
    "pycharm": {
     "name": "#%%\n"
    }
   }
  },
  {
   "cell_type": "markdown",
   "source": [
    "## Daily Data\n",
    "- 1 week\n",
    "- 8 observations"
   ],
   "metadata": {
    "collapsed": false,
    "pycharm": {
     "name": "#%% md\n"
    }
   }
  },
  {
   "cell_type": "code",
   "execution_count": 6,
   "outputs": [
    {
     "data": {
      "text/plain": "                                sunrise              sunset  pressure  \\\ndt                                                                      \n2020-12-30 11:00:00 2020-12-30 07:45:46 2020-12-30 15:17:50       997   \n2020-12-31 11:00:00 2020-12-31 07:45:41 2020-12-31 15:18:51      1002   \n2021-01-01 11:00:00 2021-01-01 07:45:32 2021-01-01 15:19:55      1007   \n2021-01-02 11:00:00 2021-01-02 07:45:20 2021-01-02 15:21:02      1015   \n2021-01-03 11:00:00 2021-01-03 07:45:04 2021-01-03 15:22:12      1018   \n2021-01-04 11:00:00 2021-01-04 07:44:44 2021-01-04 15:23:25      1019   \n2021-01-05 11:00:00 2021-01-05 07:44:21 2021-01-05 15:24:41      1019   \n2021-01-06 11:00:00 2021-01-06 07:43:55 2021-01-06 15:26:00      1021   \n\n                     humidity  dew_point  wind_speed  wind_deg  clouds   pop  \\\ndt                                                                             \n2020-12-30 11:00:00        88       2.70        6.09       225     100  0.80   \n2020-12-31 11:00:00        89       2.02        4.91       221     100  0.39   \n2021-01-01 11:00:00        88       2.19        1.89       215      86  0.16   \n2021-01-02 11:00:00        73       0.17        0.42        41      55  0.39   \n2021-01-03 11:00:00        82      -1.31        4.86        30      92  0.00   \n2021-01-04 11:00:00        81      -0.66        6.37        44     100  0.20   \n2021-01-05 11:00:00        94       1.45        2.49        31     100  0.36   \n2021-01-06 11:00:00        91       0.59        1.76       164      98  0.47   \n\n                     rain  ...  temp_eve  temp_morn  feels_like_day  \\\ndt                         ...                                        \n2020-12-30 11:00:00  1.27  ...      4.47       4.06           -1.47   \n2020-12-31 11:00:00  0.13  ...      3.14       2.25           -1.54   \n2021-01-01 11:00:00   NaN  ...      3.48       1.74            1.04   \n2021-01-02 11:00:00   NaN  ...      2.49       2.65            2.16   \n2021-01-03 11:00:00   NaN  ...      1.74       2.15           -3.04   \n2021-01-04 11:00:00   NaN  ...      1.79       0.10           -3.76   \n2021-01-05 11:00:00  0.24  ...      2.25       1.39           -1.29   \n2021-01-06 11:00:00   NaN  ...      0.05       1.40           -1.37   \n\n                     feels_like_night  feels_like_eve  feels_like_morn  \\\ndt                                                                       \n2020-12-30 11:00:00             -3.06           -1.13            -1.63   \n2020-12-31 11:00:00             -1.18           -0.56            -3.76   \n2021-01-01 11:00:00             -2.11           -0.64            -2.31   \n2021-01-02 11:00:00             -2.43           -0.94             0.11   \n2021-01-03 11:00:00             -3.72           -2.68            -1.96   \n2021-01-04 11:00:00             -2.97           -3.12            -4.67   \n2021-01-05 11:00:00             -0.65           -0.94            -2.98   \n2021-01-06 11:00:00             -4.38           -2.98            -1.81   \n\n                     weather_id  weather_main  weather_description  \\\ndt                                                                   \n2020-12-30 11:00:00       500.0          Rain           light rain   \n2020-12-31 11:00:00       500.0          Rain           light rain   \n2021-01-01 11:00:00       804.0        Clouds      overcast clouds   \n2021-01-02 11:00:00       803.0        Clouds        broken clouds   \n2021-01-03 11:00:00       804.0        Clouds      overcast clouds   \n2021-01-04 11:00:00       600.0          Snow           light snow   \n2021-01-05 11:00:00       500.0          Rain           light rain   \n2021-01-06 11:00:00       804.0        Clouds      overcast clouds   \n\n                     weather_icon  \ndt                                 \n2020-12-30 11:00:00           10d  \n2020-12-31 11:00:00           10d  \n2021-01-01 11:00:00           04d  \n2021-01-02 11:00:00           04d  \n2021-01-03 11:00:00           04d  \n2021-01-04 11:00:00           13d  \n2021-01-05 11:00:00           10d  \n2021-01-06 11:00:00           04d  \n\n[8 rows x 26 columns]",
      "text/html": "<div>\n<style scoped>\n    .dataframe tbody tr th:only-of-type {\n        vertical-align: middle;\n    }\n\n    .dataframe tbody tr th {\n        vertical-align: top;\n    }\n\n    .dataframe thead th {\n        text-align: right;\n    }\n</style>\n<table border=\"1\" class=\"dataframe\">\n  <thead>\n    <tr style=\"text-align: right;\">\n      <th></th>\n      <th>sunrise</th>\n      <th>sunset</th>\n      <th>pressure</th>\n      <th>humidity</th>\n      <th>dew_point</th>\n      <th>wind_speed</th>\n      <th>wind_deg</th>\n      <th>clouds</th>\n      <th>pop</th>\n      <th>rain</th>\n      <th>...</th>\n      <th>temp_eve</th>\n      <th>temp_morn</th>\n      <th>feels_like_day</th>\n      <th>feels_like_night</th>\n      <th>feels_like_eve</th>\n      <th>feels_like_morn</th>\n      <th>weather_id</th>\n      <th>weather_main</th>\n      <th>weather_description</th>\n      <th>weather_icon</th>\n    </tr>\n    <tr>\n      <th>dt</th>\n      <th></th>\n      <th></th>\n      <th></th>\n      <th></th>\n      <th></th>\n      <th></th>\n      <th></th>\n      <th></th>\n      <th></th>\n      <th></th>\n      <th></th>\n      <th></th>\n      <th></th>\n      <th></th>\n      <th></th>\n      <th></th>\n      <th></th>\n      <th></th>\n      <th></th>\n      <th></th>\n      <th></th>\n    </tr>\n  </thead>\n  <tbody>\n    <tr>\n      <th>2020-12-30 11:00:00</th>\n      <td>2020-12-30 07:45:46</td>\n      <td>2020-12-30 15:17:50</td>\n      <td>997</td>\n      <td>88</td>\n      <td>2.70</td>\n      <td>6.09</td>\n      <td>225</td>\n      <td>100</td>\n      <td>0.80</td>\n      <td>1.27</td>\n      <td>...</td>\n      <td>4.47</td>\n      <td>4.06</td>\n      <td>-1.47</td>\n      <td>-3.06</td>\n      <td>-1.13</td>\n      <td>-1.63</td>\n      <td>500.0</td>\n      <td>Rain</td>\n      <td>light rain</td>\n      <td>10d</td>\n    </tr>\n    <tr>\n      <th>2020-12-31 11:00:00</th>\n      <td>2020-12-31 07:45:41</td>\n      <td>2020-12-31 15:18:51</td>\n      <td>1002</td>\n      <td>89</td>\n      <td>2.02</td>\n      <td>4.91</td>\n      <td>221</td>\n      <td>100</td>\n      <td>0.39</td>\n      <td>0.13</td>\n      <td>...</td>\n      <td>3.14</td>\n      <td>2.25</td>\n      <td>-1.54</td>\n      <td>-1.18</td>\n      <td>-0.56</td>\n      <td>-3.76</td>\n      <td>500.0</td>\n      <td>Rain</td>\n      <td>light rain</td>\n      <td>10d</td>\n    </tr>\n    <tr>\n      <th>2021-01-01 11:00:00</th>\n      <td>2021-01-01 07:45:32</td>\n      <td>2021-01-01 15:19:55</td>\n      <td>1007</td>\n      <td>88</td>\n      <td>2.19</td>\n      <td>1.89</td>\n      <td>215</td>\n      <td>86</td>\n      <td>0.16</td>\n      <td>NaN</td>\n      <td>...</td>\n      <td>3.48</td>\n      <td>1.74</td>\n      <td>1.04</td>\n      <td>-2.11</td>\n      <td>-0.64</td>\n      <td>-2.31</td>\n      <td>804.0</td>\n      <td>Clouds</td>\n      <td>overcast clouds</td>\n      <td>04d</td>\n    </tr>\n    <tr>\n      <th>2021-01-02 11:00:00</th>\n      <td>2021-01-02 07:45:20</td>\n      <td>2021-01-02 15:21:02</td>\n      <td>1015</td>\n      <td>73</td>\n      <td>0.17</td>\n      <td>0.42</td>\n      <td>41</td>\n      <td>55</td>\n      <td>0.39</td>\n      <td>NaN</td>\n      <td>...</td>\n      <td>2.49</td>\n      <td>2.65</td>\n      <td>2.16</td>\n      <td>-2.43</td>\n      <td>-0.94</td>\n      <td>0.11</td>\n      <td>803.0</td>\n      <td>Clouds</td>\n      <td>broken clouds</td>\n      <td>04d</td>\n    </tr>\n    <tr>\n      <th>2021-01-03 11:00:00</th>\n      <td>2021-01-03 07:45:04</td>\n      <td>2021-01-03 15:22:12</td>\n      <td>1018</td>\n      <td>82</td>\n      <td>-1.31</td>\n      <td>4.86</td>\n      <td>30</td>\n      <td>92</td>\n      <td>0.00</td>\n      <td>NaN</td>\n      <td>...</td>\n      <td>1.74</td>\n      <td>2.15</td>\n      <td>-3.04</td>\n      <td>-3.72</td>\n      <td>-2.68</td>\n      <td>-1.96</td>\n      <td>804.0</td>\n      <td>Clouds</td>\n      <td>overcast clouds</td>\n      <td>04d</td>\n    </tr>\n    <tr>\n      <th>2021-01-04 11:00:00</th>\n      <td>2021-01-04 07:44:44</td>\n      <td>2021-01-04 15:23:25</td>\n      <td>1019</td>\n      <td>81</td>\n      <td>-0.66</td>\n      <td>6.37</td>\n      <td>44</td>\n      <td>100</td>\n      <td>0.20</td>\n      <td>NaN</td>\n      <td>...</td>\n      <td>1.79</td>\n      <td>0.10</td>\n      <td>-3.76</td>\n      <td>-2.97</td>\n      <td>-3.12</td>\n      <td>-4.67</td>\n      <td>600.0</td>\n      <td>Snow</td>\n      <td>light snow</td>\n      <td>13d</td>\n    </tr>\n    <tr>\n      <th>2021-01-05 11:00:00</th>\n      <td>2021-01-05 07:44:21</td>\n      <td>2021-01-05 15:24:41</td>\n      <td>1019</td>\n      <td>94</td>\n      <td>1.45</td>\n      <td>2.49</td>\n      <td>31</td>\n      <td>100</td>\n      <td>0.36</td>\n      <td>0.24</td>\n      <td>...</td>\n      <td>2.25</td>\n      <td>1.39</td>\n      <td>-1.29</td>\n      <td>-0.65</td>\n      <td>-0.94</td>\n      <td>-2.98</td>\n      <td>500.0</td>\n      <td>Rain</td>\n      <td>light rain</td>\n      <td>10d</td>\n    </tr>\n    <tr>\n      <th>2021-01-06 11:00:00</th>\n      <td>2021-01-06 07:43:55</td>\n      <td>2021-01-06 15:26:00</td>\n      <td>1021</td>\n      <td>91</td>\n      <td>0.59</td>\n      <td>1.76</td>\n      <td>164</td>\n      <td>98</td>\n      <td>0.47</td>\n      <td>NaN</td>\n      <td>...</td>\n      <td>0.05</td>\n      <td>1.40</td>\n      <td>-1.37</td>\n      <td>-4.38</td>\n      <td>-2.98</td>\n      <td>-1.81</td>\n      <td>804.0</td>\n      <td>Clouds</td>\n      <td>overcast clouds</td>\n      <td>04d</td>\n    </tr>\n  </tbody>\n</table>\n<p>8 rows × 26 columns</p>\n</div>"
     },
     "execution_count": 6,
     "metadata": {},
     "output_type": "execute_result"
    }
   ],
   "source": [
    "d = pd.DataFrame(data['daily'])\n",
    "d[['dt', 'sunrise', 'sunset']] = d[['dt', 'sunrise', 'sunset']].apply(\n",
    "    pd.to_datetime, unit='s'\n",
    ")\n",
    "d = d.set_index('dt')\n",
    "for index in d.index:\n",
    "    d.loc[index, 'temp_day'] = d.loc[index, 'temp']['day']\n",
    "    d.loc[index, 'temp_min'] = d.loc[index, 'temp']['min']\n",
    "    d.loc[index, 'temp_max'] = d.loc[index, 'temp']['max']\n",
    "    d.loc[index, 'temp_night'] = d.loc[index, 'temp']['night']\n",
    "    d.loc[index, 'temp_eve'] = d.loc[index, 'temp']['eve']\n",
    "    d.loc[index, 'temp_morn'] = d.loc[index, 'temp']['morn']\n",
    "    d.loc[index, 'feels_like_day'] = d.loc[index, 'feels_like']['day']\n",
    "    d.loc[index, 'feels_like_night'] = d.loc[index, 'feels_like']['night']\n",
    "    d.loc[index, 'feels_like_eve'] = d.loc[index, 'feels_like']['eve']\n",
    "    d.loc[index, 'feels_like_morn'] = d.loc[index, 'feels_like']['morn']\n",
    "    d.loc[index, 'weather_id'] = d.loc[index, 'weather'][0]['id']\n",
    "    d.loc[index, 'weather_main'] = d.loc[index, 'weather'][0]['main']\n",
    "    d.loc[index, 'weather_description'] = d.loc[index,\n",
    "                                                'weather'][0]['description']\n",
    "    d.loc[index, 'weather_icon'] = d.loc[index, 'weather'][0]['icon']\n",
    "d = d.drop(columns=['temp', 'feels_like', 'weather'])\n",
    "d\n"
   ],
   "metadata": {
    "collapsed": false,
    "pycharm": {
     "name": "#%%\n"
    }
   }
  }
 ],
 "metadata": {
  "kernelspec": {
   "name": "python_3_8_env",
   "language": "python",
   "display_name": "python_3_8_env"
  },
  "language_info": {
   "codemirror_mode": {
    "name": "ipython",
    "version": 2
   },
   "file_extension": ".py",
   "mimetype": "text/x-python",
   "name": "python",
   "nbconvert_exporter": "python",
   "pygments_lexer": "ipython2",
   "version": "2.7.6"
  }
 },
 "nbformat": 4,
 "nbformat_minor": 0
}