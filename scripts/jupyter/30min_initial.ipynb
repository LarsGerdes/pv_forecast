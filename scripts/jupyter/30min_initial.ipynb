{
 "cells": [
  {
   "cell_type": "markdown",
   "metadata": {},
   "source": [
    "# Analysis of Original Data\n",
    "Initial analysis of 30 minutes USB data.\n",
    "## Prerequesities"
   ]
  },
  {
   "cell_type": "code",
   "execution_count": 1,
   "metadata": {},
   "outputs": [
    {
     "data": {
      "text/plain": "date                       object\ntime                       object\ninverter_no                 int64\ndevice_type                 int64\nperiode_s                 float64\nenergy_positiv_ws         float64\nreactive_energy_l_vars    float64\nreactive_energy_c_vars    float64\nuac_l1_v                  float64\niac_l1_a                  float64\nudc_mppt1_v               float64\nidc_mppt1_a               float64\nudc_mppt2_v               float64\nidc_mppt2_a               float64\ndescription                object\ndtype: object"
     },
     "execution_count": 1,
     "metadata": {},
     "output_type": "execute_result"
    }
   ],
   "source": [
    "import toml\n",
    "from sqlalchemy import create_engine\n",
    "import pandas as pd\n",
    "\n",
    "conf = toml.load('../../conf.toml')\n",
    "db = conf['database']['local']\n",
    "\n",
    "conn = create_engine('postgresql+psycopg2://{}:{}@{}:{}/{}'.format(\n",
    "    db['user'], db['password'], db['host'], db['port'], db['name']\n",
    ")).connect()\n",
    "\n",
    "pv = pd.read_sql('SELECT * FROM pv_org', conn)\n",
    "pv.dtypes"
   ]
  },
  {
   "cell_type": "markdown",
   "source": [
    "## Explanation of Columns\n",
    "### date and time\n",
    "- Night: about every 90 Minuten 4 observations\n",
    "- Day: every 30 minutes 1 observation\n",
    "\n",
    "### inverter_no\n",
    "- all observations are 1\n",
    "\n",
    "### device_type\n",
    "- all obseravations are 76\n",
    "\n",
    "### periode_s\n",
    "- number of seconds between observations\n",
    "- at night NaN\n",
    "- at day 1800 (30 minutes)\n",
    "\n",
    "### energy_positiv_ws\n",
    "- Ws: watt seconds\n",
    "- at night NaN\n",
    "- Energy produced in last half hour\n",
    "\n",
    "### reactive_energy_l_vars\n",
    "- VAR: voltampere reactiv\n",
    "- at night NaN\n",
    "- 1 VAR = 1 W\n",
    "- electrical energy that is lost\n",
    "- happens with ac\n",
    "- inductive (l), capacitive (c) load\n",
    "\n",
    "### uac_l1_v\n",
    "- V: Volt\n",
    "- at night NaN\n",
    "- voltage at output\n",
    "- about 230 volt as in german electricity grid\n",
    "\n",
    "### iac_l1_a\n",
    "- A: Ampere\n",
    "- at night NaN\n",
    "- current at output\n",
    "\n",
    "### udc_mppt1_v and udc_mppt2_v\n",
    "- at night NaN\n",
    "- voltage at input\n",
    "- 2 inputs\n",
    "\n",
    "### idc_mppt1_a and idc_mppt2_a\n",
    "- at night NaN\n",
    "- current at input\n",
    "- 2 inputs\n",
    "\n",
    "### description\n",
    "- at day NaN\n",
    "- at night: about every 90 minutes 4 observations"
   ],
   "metadata": {
    "collapsed": false,
    "pycharm": {
     "name": "#%% md\n"
    }
   }
  },
  {
   "cell_type": "code",
   "execution_count": 2,
   "outputs": [
    {
     "data": {
      "text/plain": "            date      time  inverter_no  device_type  periode_s  \\\n0     2020-10-12  21:53:33            1           76        NaN   \n1     2020-10-12  21:53:33            1           76        NaN   \n2     2020-10-12  21:53:33            1           76        NaN   \n3     2020-10-12  21:53:33            1           76        NaN   \n4     2020-10-12  23:17:36            1           76        NaN   \n...          ...       ...          ...          ...        ...   \n5784  2020-12-18  18:37:48            1           76        NaN   \n5785  2020-12-18  20:01:56            1           76        NaN   \n5786  2020-12-18  20:01:56            1           76        NaN   \n5787  2020-12-18  20:01:56            1           76        NaN   \n5788  2020-12-18  20:01:56            1           76        NaN   \n\n      energy_positiv_ws  reactive_energy_l_vars  reactive_energy_c_vars  \\\n0                   NaN                     NaN                     NaN   \n1                   NaN                     NaN                     NaN   \n2                   NaN                     NaN                     NaN   \n3                   NaN                     NaN                     NaN   \n4                   NaN                     NaN                     NaN   \n...                 ...                     ...                     ...   \n5784                NaN                     NaN                     NaN   \n5785                NaN                     NaN                     NaN   \n5786                NaN                     NaN                     NaN   \n5787                NaN                     NaN                     NaN   \n5788                NaN                     NaN                     NaN   \n\n      uac_l1_v  iac_l1_a  udc_mppt1_v  idc_mppt1_a  udc_mppt2_v  idc_mppt2_a  \\\n0          NaN       NaN          NaN          NaN          NaN          NaN   \n1          NaN       NaN          NaN          NaN          NaN          NaN   \n2          NaN       NaN          NaN          NaN          NaN          NaN   \n3          NaN       NaN          NaN          NaN          NaN          NaN   \n4          NaN       NaN          NaN          NaN          NaN          NaN   \n...        ...       ...          ...          ...          ...          ...   \n5784       NaN       NaN          NaN          NaN          NaN          NaN   \n5785       NaN       NaN          NaN          NaN          NaN          NaN   \n5786       NaN       NaN          NaN          NaN          NaN          NaN   \n5787       NaN       NaN          NaN          NaN          NaN          NaN   \n5788       NaN       NaN          NaN          NaN          NaN          NaN   \n\n                                     description  \n0                            Display Information  \n1                                V0.3.23 Build 0  \n2     12.10.2020 20:30:55 Info 017, Counter 2302  \n3                                  Logging Start  \n4                            Display Information  \n...                                          ...  \n5784                               Logging Start  \n5785                         Display Information  \n5786                             V0.3.23 Build 0  \n5787  18.12.2020 18:39:18 Info 017, Counter 3447  \n5788                               Logging Start  \n\n[5789 rows x 15 columns]",
      "text/html": "<div>\n<style scoped>\n    .dataframe tbody tr th:only-of-type {\n        vertical-align: middle;\n    }\n\n    .dataframe tbody tr th {\n        vertical-align: top;\n    }\n\n    .dataframe thead th {\n        text-align: right;\n    }\n</style>\n<table border=\"1\" class=\"dataframe\">\n  <thead>\n    <tr style=\"text-align: right;\">\n      <th></th>\n      <th>date</th>\n      <th>time</th>\n      <th>inverter_no</th>\n      <th>device_type</th>\n      <th>periode_s</th>\n      <th>energy_positiv_ws</th>\n      <th>reactive_energy_l_vars</th>\n      <th>reactive_energy_c_vars</th>\n      <th>uac_l1_v</th>\n      <th>iac_l1_a</th>\n      <th>udc_mppt1_v</th>\n      <th>idc_mppt1_a</th>\n      <th>udc_mppt2_v</th>\n      <th>idc_mppt2_a</th>\n      <th>description</th>\n    </tr>\n  </thead>\n  <tbody>\n    <tr>\n      <th>0</th>\n      <td>2020-10-12</td>\n      <td>21:53:33</td>\n      <td>1</td>\n      <td>76</td>\n      <td>NaN</td>\n      <td>NaN</td>\n      <td>NaN</td>\n      <td>NaN</td>\n      <td>NaN</td>\n      <td>NaN</td>\n      <td>NaN</td>\n      <td>NaN</td>\n      <td>NaN</td>\n      <td>NaN</td>\n      <td>Display Information</td>\n    </tr>\n    <tr>\n      <th>1</th>\n      <td>2020-10-12</td>\n      <td>21:53:33</td>\n      <td>1</td>\n      <td>76</td>\n      <td>NaN</td>\n      <td>NaN</td>\n      <td>NaN</td>\n      <td>NaN</td>\n      <td>NaN</td>\n      <td>NaN</td>\n      <td>NaN</td>\n      <td>NaN</td>\n      <td>NaN</td>\n      <td>NaN</td>\n      <td>V0.3.23 Build 0</td>\n    </tr>\n    <tr>\n      <th>2</th>\n      <td>2020-10-12</td>\n      <td>21:53:33</td>\n      <td>1</td>\n      <td>76</td>\n      <td>NaN</td>\n      <td>NaN</td>\n      <td>NaN</td>\n      <td>NaN</td>\n      <td>NaN</td>\n      <td>NaN</td>\n      <td>NaN</td>\n      <td>NaN</td>\n      <td>NaN</td>\n      <td>NaN</td>\n      <td>12.10.2020 20:30:55 Info 017, Counter 2302</td>\n    </tr>\n    <tr>\n      <th>3</th>\n      <td>2020-10-12</td>\n      <td>21:53:33</td>\n      <td>1</td>\n      <td>76</td>\n      <td>NaN</td>\n      <td>NaN</td>\n      <td>NaN</td>\n      <td>NaN</td>\n      <td>NaN</td>\n      <td>NaN</td>\n      <td>NaN</td>\n      <td>NaN</td>\n      <td>NaN</td>\n      <td>NaN</td>\n      <td>Logging Start</td>\n    </tr>\n    <tr>\n      <th>4</th>\n      <td>2020-10-12</td>\n      <td>23:17:36</td>\n      <td>1</td>\n      <td>76</td>\n      <td>NaN</td>\n      <td>NaN</td>\n      <td>NaN</td>\n      <td>NaN</td>\n      <td>NaN</td>\n      <td>NaN</td>\n      <td>NaN</td>\n      <td>NaN</td>\n      <td>NaN</td>\n      <td>NaN</td>\n      <td>Display Information</td>\n    </tr>\n    <tr>\n      <th>...</th>\n      <td>...</td>\n      <td>...</td>\n      <td>...</td>\n      <td>...</td>\n      <td>...</td>\n      <td>...</td>\n      <td>...</td>\n      <td>...</td>\n      <td>...</td>\n      <td>...</td>\n      <td>...</td>\n      <td>...</td>\n      <td>...</td>\n      <td>...</td>\n      <td>...</td>\n    </tr>\n    <tr>\n      <th>5784</th>\n      <td>2020-12-18</td>\n      <td>18:37:48</td>\n      <td>1</td>\n      <td>76</td>\n      <td>NaN</td>\n      <td>NaN</td>\n      <td>NaN</td>\n      <td>NaN</td>\n      <td>NaN</td>\n      <td>NaN</td>\n      <td>NaN</td>\n      <td>NaN</td>\n      <td>NaN</td>\n      <td>NaN</td>\n      <td>Logging Start</td>\n    </tr>\n    <tr>\n      <th>5785</th>\n      <td>2020-12-18</td>\n      <td>20:01:56</td>\n      <td>1</td>\n      <td>76</td>\n      <td>NaN</td>\n      <td>NaN</td>\n      <td>NaN</td>\n      <td>NaN</td>\n      <td>NaN</td>\n      <td>NaN</td>\n      <td>NaN</td>\n      <td>NaN</td>\n      <td>NaN</td>\n      <td>NaN</td>\n      <td>Display Information</td>\n    </tr>\n    <tr>\n      <th>5786</th>\n      <td>2020-12-18</td>\n      <td>20:01:56</td>\n      <td>1</td>\n      <td>76</td>\n      <td>NaN</td>\n      <td>NaN</td>\n      <td>NaN</td>\n      <td>NaN</td>\n      <td>NaN</td>\n      <td>NaN</td>\n      <td>NaN</td>\n      <td>NaN</td>\n      <td>NaN</td>\n      <td>NaN</td>\n      <td>V0.3.23 Build 0</td>\n    </tr>\n    <tr>\n      <th>5787</th>\n      <td>2020-12-18</td>\n      <td>20:01:56</td>\n      <td>1</td>\n      <td>76</td>\n      <td>NaN</td>\n      <td>NaN</td>\n      <td>NaN</td>\n      <td>NaN</td>\n      <td>NaN</td>\n      <td>NaN</td>\n      <td>NaN</td>\n      <td>NaN</td>\n      <td>NaN</td>\n      <td>NaN</td>\n      <td>18.12.2020 18:39:18 Info 017, Counter 3447</td>\n    </tr>\n    <tr>\n      <th>5788</th>\n      <td>2020-12-18</td>\n      <td>20:01:56</td>\n      <td>1</td>\n      <td>76</td>\n      <td>NaN</td>\n      <td>NaN</td>\n      <td>NaN</td>\n      <td>NaN</td>\n      <td>NaN</td>\n      <td>NaN</td>\n      <td>NaN</td>\n      <td>NaN</td>\n      <td>NaN</td>\n      <td>NaN</td>\n      <td>Logging Start</td>\n    </tr>\n  </tbody>\n</table>\n<p>5789 rows × 15 columns</p>\n</div>"
     },
     "execution_count": 2,
     "metadata": {},
     "output_type": "execute_result"
    }
   ],
   "source": [
    "pv"
   ],
   "metadata": {
    "collapsed": false,
    "pycharm": {
     "name": "#%%\n"
    }
   }
  },
  {
   "cell_type": "code",
   "execution_count": 3,
   "outputs": [
    {
     "data": {
      "text/plain": "       inverter_no  device_type    periode_s  energy_positiv_ws  \\\ncount       5789.0       5789.0  1205.000000       1.205000e+03   \nmean           1.0         76.0  1800.131120       1.212920e+06   \nstd            0.0          0.0     4.725108       1.739445e+06   \nmin            1.0         76.0  1799.000000       0.000000e+00   \n25%            1.0         76.0  1800.000000       3.791500e+04   \n50%            1.0         76.0  1800.000000       4.074690e+05   \n75%            1.0         76.0  1800.000000       1.680593e+06   \nmax            1.0         76.0  1964.000000       8.146009e+06   \n\n       reactive_energy_l_vars  reactive_energy_c_vars     uac_l1_v  \\\ncount             1205.000000             1205.000000  1205.000000   \nmean             19525.678838             3102.266390   219.718091   \nstd              20898.856762             1859.573549    55.462679   \nmin                  0.000000                0.000000     0.000000   \n25%               8220.000000             1820.000000   232.300000   \n50%              10807.000000             2832.000000   233.600000   \n75%              23523.000000             4251.000000   234.900000   \nmax             105401.000000            11302.000000   239.700000   \n\n          iac_l1_a  udc_mppt1_v  idc_mppt1_a  udc_mppt2_v  idc_mppt2_a  \ncount  1205.000000  1205.000000  1205.000000  1205.000000  1205.000000  \nmean      2.875253   156.083983     1.947768   158.164315     2.000423  \nstd       4.072522    43.246186     2.655767    43.659544     2.729500  \nmin       0.000000    60.800000     0.000000    61.300000     0.000000  \n25%       0.140000   118.000000     0.290000   120.300000     0.290000  \n50%       0.970000   180.300000     0.730000   182.600000     0.710000  \n75%       3.990000   190.200000     2.420000   191.500000     2.620000  \nmax      19.140000   213.400000    13.920000   206.600000    13.830000  ",
      "text/html": "<div>\n<style scoped>\n    .dataframe tbody tr th:only-of-type {\n        vertical-align: middle;\n    }\n\n    .dataframe tbody tr th {\n        vertical-align: top;\n    }\n\n    .dataframe thead th {\n        text-align: right;\n    }\n</style>\n<table border=\"1\" class=\"dataframe\">\n  <thead>\n    <tr style=\"text-align: right;\">\n      <th></th>\n      <th>inverter_no</th>\n      <th>device_type</th>\n      <th>periode_s</th>\n      <th>energy_positiv_ws</th>\n      <th>reactive_energy_l_vars</th>\n      <th>reactive_energy_c_vars</th>\n      <th>uac_l1_v</th>\n      <th>iac_l1_a</th>\n      <th>udc_mppt1_v</th>\n      <th>idc_mppt1_a</th>\n      <th>udc_mppt2_v</th>\n      <th>idc_mppt2_a</th>\n    </tr>\n  </thead>\n  <tbody>\n    <tr>\n      <th>count</th>\n      <td>5789.0</td>\n      <td>5789.0</td>\n      <td>1205.000000</td>\n      <td>1.205000e+03</td>\n      <td>1205.000000</td>\n      <td>1205.000000</td>\n      <td>1205.000000</td>\n      <td>1205.000000</td>\n      <td>1205.000000</td>\n      <td>1205.000000</td>\n      <td>1205.000000</td>\n      <td>1205.000000</td>\n    </tr>\n    <tr>\n      <th>mean</th>\n      <td>1.0</td>\n      <td>76.0</td>\n      <td>1800.131120</td>\n      <td>1.212920e+06</td>\n      <td>19525.678838</td>\n      <td>3102.266390</td>\n      <td>219.718091</td>\n      <td>2.875253</td>\n      <td>156.083983</td>\n      <td>1.947768</td>\n      <td>158.164315</td>\n      <td>2.000423</td>\n    </tr>\n    <tr>\n      <th>std</th>\n      <td>0.0</td>\n      <td>0.0</td>\n      <td>4.725108</td>\n      <td>1.739445e+06</td>\n      <td>20898.856762</td>\n      <td>1859.573549</td>\n      <td>55.462679</td>\n      <td>4.072522</td>\n      <td>43.246186</td>\n      <td>2.655767</td>\n      <td>43.659544</td>\n      <td>2.729500</td>\n    </tr>\n    <tr>\n      <th>min</th>\n      <td>1.0</td>\n      <td>76.0</td>\n      <td>1799.000000</td>\n      <td>0.000000e+00</td>\n      <td>0.000000</td>\n      <td>0.000000</td>\n      <td>0.000000</td>\n      <td>0.000000</td>\n      <td>60.800000</td>\n      <td>0.000000</td>\n      <td>61.300000</td>\n      <td>0.000000</td>\n    </tr>\n    <tr>\n      <th>25%</th>\n      <td>1.0</td>\n      <td>76.0</td>\n      <td>1800.000000</td>\n      <td>3.791500e+04</td>\n      <td>8220.000000</td>\n      <td>1820.000000</td>\n      <td>232.300000</td>\n      <td>0.140000</td>\n      <td>118.000000</td>\n      <td>0.290000</td>\n      <td>120.300000</td>\n      <td>0.290000</td>\n    </tr>\n    <tr>\n      <th>50%</th>\n      <td>1.0</td>\n      <td>76.0</td>\n      <td>1800.000000</td>\n      <td>4.074690e+05</td>\n      <td>10807.000000</td>\n      <td>2832.000000</td>\n      <td>233.600000</td>\n      <td>0.970000</td>\n      <td>180.300000</td>\n      <td>0.730000</td>\n      <td>182.600000</td>\n      <td>0.710000</td>\n    </tr>\n    <tr>\n      <th>75%</th>\n      <td>1.0</td>\n      <td>76.0</td>\n      <td>1800.000000</td>\n      <td>1.680593e+06</td>\n      <td>23523.000000</td>\n      <td>4251.000000</td>\n      <td>234.900000</td>\n      <td>3.990000</td>\n      <td>190.200000</td>\n      <td>2.420000</td>\n      <td>191.500000</td>\n      <td>2.620000</td>\n    </tr>\n    <tr>\n      <th>max</th>\n      <td>1.0</td>\n      <td>76.0</td>\n      <td>1964.000000</td>\n      <td>8.146009e+06</td>\n      <td>105401.000000</td>\n      <td>11302.000000</td>\n      <td>239.700000</td>\n      <td>19.140000</td>\n      <td>213.400000</td>\n      <td>13.920000</td>\n      <td>206.600000</td>\n      <td>13.830000</td>\n    </tr>\n  </tbody>\n</table>\n</div>"
     },
     "execution_count": 3,
     "metadata": {},
     "output_type": "execute_result"
    }
   ],
   "source": [
    "pv.describe()"
   ],
   "metadata": {
    "collapsed": false,
    "pycharm": {
     "name": "#%%\n"
    }
   }
  }
 ],
 "metadata": {
  "kernelspec": {
   "name": "python3",
   "language": "python",
   "display_name": "Python 3"
  },
  "language_info": {
   "codemirror_mode": {
    "name": "ipython",
    "version": 3
   },
   "file_extension": ".py",
   "mimetype": "text/x-python",
   "name": "python",
   "nbconvert_exporter": "python",
   "pygments_lexer": "ipython3",
   "version": "3.8.2"
  }
 },
 "nbformat": 4,
 "nbformat_minor": 4
}