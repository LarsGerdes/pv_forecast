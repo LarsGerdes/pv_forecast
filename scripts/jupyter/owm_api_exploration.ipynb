{
 "cells": [
  {
   "cell_type": "markdown",
   "source": [
    "# Open Weather Map\n",
    "Get a look on the data of openweathermap.org.\n",
    "## Prerequisits"
   ],
   "metadata": {
    "collapsed": false,
    "pycharm": {
     "name": "#%% md\n"
    }
   }
  },
  {
   "cell_type": "code",
   "execution_count": 61,
   "metadata": {
    "collapsed": true
   },
   "outputs": [],
   "source": [
    "import requests\n",
    "import user_data as ud\n",
    "import pandas as pd\n",
    "\n",
    "def del_lst(x):\n",
    "    return x[0]\n",
    "\n",
    "url = 'https://api.openweathermap.org/data/2.5/onecall?lat={lat}&lon={lng}' \\\n",
    "      '&units=metric&APPID={key}'.format(lat=ud.lat, lng=ud.lng, key=ud.owm)"
   ]
  },
  {
   "cell_type": "markdown",
   "source": [
    "## API\n",
    "Get data from API and safe json file."
   ],
   "metadata": {
    "collapsed": false,
    "pycharm": {
     "name": "#%% md\n"
    }
   }
  },
  {
   "cell_type": "code",
   "execution_count": 62,
   "outputs": [
    {
     "data": {
      "text/plain": "dict_keys(['lat', 'lon', 'timezone', 'timezone_offset', 'current', 'minutely', 'hourly', 'daily'])"
     },
     "execution_count": 62,
     "metadata": {},
     "output_type": "execute_result"
    }
   ],
   "source": [
    "response = requests.get(url)\n",
    "data = response.json()\n",
    "data.keys()"
   ],
   "metadata": {
    "collapsed": false,
    "pycharm": {
     "name": "#%%\n"
    }
   }
  },
  {
   "cell_type": "markdown",
   "source": [
    "## Current Weather\n",
    "- Timezone is UTC\n",
    "- temp, feels_like, dew_point: °C\n",
    "- pressure: hPa\n",
    "- humidity, clouds: %\n",
    "- uvi: UV Index\n",
    "- visibility: m\n",
    "- wind_speed: m / s\n",
    "- wind_deg: °"
   ],
   "metadata": {
    "collapsed": false,
    "pycharm": {
     "name": "#%% md\n"
    }
   }
  },
  {
   "cell_type": "code",
   "execution_count": 63,
   "outputs": [
    {
     "data": {
      "text/plain": "                          timezone timezone_offset             sunrise  \\\ndt                                                                       \n2021-03-09 20:49:08  Europe/Berlin 0 days 01:00:00 2021-03-09 05:58:19   \n\n                                 sunset  temp  feels_like  pressure  humidity  \\\ndt                                                                              \n2021-03-09 20:49:08 2021-03-09 17:21:29  1.97       -1.31      1018        93   \n\n                     dew_point  uvi  clouds  visibility  wind_speed  wind_deg  \\\ndt                                                                              \n2021-03-09 20:49:08       0.96    0      75        5000        2.06        90   \n\n                      id  main description icon  \ndt                                               \n2021-03-09 20:49:08  701  Mist        mist  50n  ",
      "text/html": "<div>\n<style scoped>\n    .dataframe tbody tr th:only-of-type {\n        vertical-align: middle;\n    }\n\n    .dataframe tbody tr th {\n        vertical-align: top;\n    }\n\n    .dataframe thead th {\n        text-align: right;\n    }\n</style>\n<table border=\"1\" class=\"dataframe\">\n  <thead>\n    <tr style=\"text-align: right;\">\n      <th></th>\n      <th>timezone</th>\n      <th>timezone_offset</th>\n      <th>sunrise</th>\n      <th>sunset</th>\n      <th>temp</th>\n      <th>feels_like</th>\n      <th>pressure</th>\n      <th>humidity</th>\n      <th>dew_point</th>\n      <th>uvi</th>\n      <th>clouds</th>\n      <th>visibility</th>\n      <th>wind_speed</th>\n      <th>wind_deg</th>\n      <th>id</th>\n      <th>main</th>\n      <th>description</th>\n      <th>icon</th>\n    </tr>\n    <tr>\n      <th>dt</th>\n      <th></th>\n      <th></th>\n      <th></th>\n      <th></th>\n      <th></th>\n      <th></th>\n      <th></th>\n      <th></th>\n      <th></th>\n      <th></th>\n      <th></th>\n      <th></th>\n      <th></th>\n      <th></th>\n      <th></th>\n      <th></th>\n      <th></th>\n      <th></th>\n    </tr>\n  </thead>\n  <tbody>\n    <tr>\n      <th>2021-03-09 20:49:08</th>\n      <td>Europe/Berlin</td>\n      <td>0 days 01:00:00</td>\n      <td>2021-03-09 05:58:19</td>\n      <td>2021-03-09 17:21:29</td>\n      <td>1.97</td>\n      <td>-1.31</td>\n      <td>1018</td>\n      <td>93</td>\n      <td>0.96</td>\n      <td>0</td>\n      <td>75</td>\n      <td>5000</td>\n      <td>2.06</td>\n      <td>90</td>\n      <td>701</td>\n      <td>Mist</td>\n      <td>mist</td>\n      <td>50n</td>\n    </tr>\n  </tbody>\n</table>\n</div>"
     },
     "execution_count": 63,
     "metadata": {},
     "output_type": "execute_result"
    }
   ],
   "source": [
    "keys = ['timezone', 'timezone_offset', 'current']\n",
    "time = ['dt', 'sunrise', 'sunset']\n",
    "\n",
    "cur = pd.DataFrame(list(map(data.get, keys)), keys).T\n",
    "cur = cur.join(pd.DataFrame(cur.current[0]))\n",
    "cur = cur.join(pd.DataFrame(cur.weather[0], [0]))\n",
    "cur = cur.drop(columns=['current', 'weather'])\n",
    "\n",
    "cur['timezone_offset'] = pd.to_timedelta(cur.timezone_offset, 's')\n",
    "cur[time] = cur[time].apply(pd.to_datetime, unit='s')\n",
    "cur = cur.set_index('dt')\n",
    "cur"
   ],
   "metadata": {
    "collapsed": false,
    "pycharm": {
     "name": "#%%\n"
    }
   }
  },
  {
   "cell_type": "markdown",
   "source": [
    "### Alerts"
   ],
   "metadata": {
    "collapsed": false,
    "pycharm": {
     "name": "#%% md\n"
    }
   }
  },
  {
   "cell_type": "code",
   "execution_count": 64,
   "outputs": [],
   "source": [
    "# ale = pd.DataFrame(data['alerts'], ['german', 'english'])\n",
    "#\n",
    "# time = ['start', 'end']\n",
    "#\n",
    "# ale[time] = ale[time].apply(pd.to_datetime, unit='s')\n",
    "# ale"
   ],
   "metadata": {
    "collapsed": false,
    "pycharm": {
     "name": "#%%\n"
    }
   }
  },
  {
   "cell_type": "markdown",
   "source": [
    "## Minutely Data\n",
    "- 1 hour\n",
    "- 60 observations\n",
    "- precipitation: mm"
   ],
   "metadata": {
    "collapsed": false,
    "pycharm": {
     "name": "#%% md\n"
    }
   }
  },
  {
   "cell_type": "code",
   "execution_count": 65,
   "outputs": [
    {
     "data": {
      "text/plain": "                     precipitation\ndt                                \n2021-03-09 20:50:00              0\n2021-03-09 20:51:00              0\n2021-03-09 20:52:00              0\n2021-03-09 20:53:00              0\n2021-03-09 20:54:00              0\n...                            ...\n2021-03-09 21:46:00              0\n2021-03-09 21:47:00              0\n2021-03-09 21:48:00              0\n2021-03-09 21:49:00              0\n2021-03-09 21:50:00              0\n\n[61 rows x 1 columns]",
      "text/html": "<div>\n<style scoped>\n    .dataframe tbody tr th:only-of-type {\n        vertical-align: middle;\n    }\n\n    .dataframe tbody tr th {\n        vertical-align: top;\n    }\n\n    .dataframe thead th {\n        text-align: right;\n    }\n</style>\n<table border=\"1\" class=\"dataframe\">\n  <thead>\n    <tr style=\"text-align: right;\">\n      <th></th>\n      <th>precipitation</th>\n    </tr>\n    <tr>\n      <th>dt</th>\n      <th></th>\n    </tr>\n  </thead>\n  <tbody>\n    <tr>\n      <th>2021-03-09 20:50:00</th>\n      <td>0</td>\n    </tr>\n    <tr>\n      <th>2021-03-09 20:51:00</th>\n      <td>0</td>\n    </tr>\n    <tr>\n      <th>2021-03-09 20:52:00</th>\n      <td>0</td>\n    </tr>\n    <tr>\n      <th>2021-03-09 20:53:00</th>\n      <td>0</td>\n    </tr>\n    <tr>\n      <th>2021-03-09 20:54:00</th>\n      <td>0</td>\n    </tr>\n    <tr>\n      <th>...</th>\n      <td>...</td>\n    </tr>\n    <tr>\n      <th>2021-03-09 21:46:00</th>\n      <td>0</td>\n    </tr>\n    <tr>\n      <th>2021-03-09 21:47:00</th>\n      <td>0</td>\n    </tr>\n    <tr>\n      <th>2021-03-09 21:48:00</th>\n      <td>0</td>\n    </tr>\n    <tr>\n      <th>2021-03-09 21:49:00</th>\n      <td>0</td>\n    </tr>\n    <tr>\n      <th>2021-03-09 21:50:00</th>\n      <td>0</td>\n    </tr>\n  </tbody>\n</table>\n<p>61 rows × 1 columns</p>\n</div>"
     },
     "execution_count": 65,
     "metadata": {},
     "output_type": "execute_result"
    }
   ],
   "source": [
    "mnt = pd.DataFrame(data['minutely'])\n",
    "mnt = mnt.set_index('dt')\n",
    "mnt.index = pd.to_datetime(mnt.index, unit='s')\n",
    "mnt"
   ],
   "metadata": {
    "collapsed": false,
    "pycharm": {
     "name": "#%%\n"
    }
   }
  },
  {
   "cell_type": "markdown",
   "source": [
    "## Hourly Data\n",
    "- 2 days\n",
    "- 48 observations\n",
    "- pop: %"
   ],
   "metadata": {
    "collapsed": false,
    "pycharm": {
     "name": "#%% md\n"
    }
   }
  },
  {
   "cell_type": "code",
   "execution_count": 66,
   "outputs": [
    {
     "data": {
      "text/plain": "                     temp  feels_like  pressure  humidity  dew_point   uvi  \\\ndt                                                                           \n2021-03-09 20:00:00  1.97       -1.38      1018        93       0.96  0.00   \n2021-03-09 21:00:00  2.15       -1.01      1018        91       0.84  0.00   \n2021-03-09 22:00:00  1.99       -1.29      1019        90       0.53  0.00   \n2021-03-09 23:00:00  1.25       -1.86      1019        92       0.10  0.00   \n2021-03-10 00:00:00  0.68       -2.45      1018        94      -0.15  0.00   \n2021-03-10 01:00:00  0.32       -3.14      1018        96      -0.50  0.00   \n2021-03-10 02:00:00 -0.05       -3.90      1018        98      -0.74  0.00   \n2021-03-10 03:00:00 -0.54       -4.38      1018        98      -1.14  0.00   \n2021-03-10 04:00:00 -0.54       -4.55      1017        98      -1.13  0.00   \n2021-03-10 05:00:00 -0.47       -4.73      1017        98      -1.06  0.00   \n2021-03-10 06:00:00 -0.11       -4.86      1017        99      -0.65  0.00   \n2021-03-10 07:00:00  0.85       -4.10      1017        95       0.18  0.16   \n2021-03-10 08:00:00  2.37       -3.11      1017        91       1.13  0.46   \n2021-03-10 09:00:00  3.64       -2.17      1016        87       1.84  0.88   \n2021-03-10 10:00:00  3.65       -2.24      1016        89       2.04  0.80   \n2021-03-10 11:00:00  4.90       -0.91      1016        87       3.03  0.96   \n2021-03-10 12:00:00  6.06        0.50      1015        85       3.88  0.96   \n2021-03-10 13:00:00  6.85        1.11      1014        83       4.27  0.89   \n2021-03-10 14:00:00  7.56        1.61      1013        79       4.27  0.61   \n2021-03-10 15:00:00  7.32        1.61      1013        80       4.11  0.32   \n2021-03-10 16:00:00  6.83        1.18      1012        80       3.65  0.09   \n2021-03-10 17:00:00  6.05        0.45      1011        83       3.54  0.00   \n2021-03-10 18:00:00  5.59       -0.41      1010        88       3.80  0.00   \n2021-03-10 19:00:00  5.50       -1.06      1009        90       4.00  0.00   \n2021-03-10 20:00:00  5.53       -1.88      1008        91       4.18  0.00   \n2021-03-10 21:00:00  5.54       -2.55      1007        90       4.14  0.00   \n2021-03-10 22:00:00  5.53       -2.48      1005        91       4.31  0.00   \n2021-03-10 23:00:00  5.68       -2.62      1004        91       4.37  0.00   \n2021-03-11 00:00:00  5.81       -2.42      1002        91       4.55  0.00   \n2021-03-11 01:00:00  5.97       -2.48      1000        91       4.66  0.00   \n2021-03-11 02:00:00  6.16       -2.85       998        89       4.59  0.00   \n2021-03-11 03:00:00  6.49       -2.32       996        92       5.38  0.00   \n2021-03-11 04:00:00  7.55       -0.96       995        90       6.17  0.00   \n2021-03-11 05:00:00  8.49        0.14       994        89       6.94  0.00   \n2021-03-11 06:00:00  9.43        1.17       994        86       7.23  0.00   \n2021-03-11 07:00:00  9.29        1.90       993        88       7.50  0.15   \n2021-03-11 08:00:00  9.08        1.45       993        87       7.05  0.44   \n2021-03-11 09:00:00  9.33       -0.45       992        70       4.22  0.83   \n2021-03-11 10:00:00  9.34       -1.00       992        68       3.80  1.07   \n2021-03-11 11:00:00  9.76       -1.53       992        67       4.06  1.29   \n2021-03-11 12:00:00  8.84       -2.40       992        72       4.23  1.29   \n2021-03-11 13:00:00  8.28       -2.08       993        74       3.95  0.64   \n2021-03-11 14:00:00  7.90       -1.34       993        72       3.28  0.44   \n2021-03-11 15:00:00  8.06       -0.60       994        69       2.77  0.23   \n2021-03-11 16:00:00  7.63       -1.21       995        71       2.84  0.16   \n2021-03-11 17:00:00  6.64       -0.74       995        73       2.35  0.00   \n2021-03-11 18:00:00  5.76       -1.06       995        78       2.32  0.00   \n2021-03-11 19:00:00  5.62       -0.82       996        79       2.41  0.00   \n\n                     clouds  visibility  wind_speed  wind_deg   pop  \\\ndt                                                                    \n2021-03-09 20:00:00      75       10000        2.15        83  0.00   \n2021-03-09 21:00:00      87       10000        1.86        97  0.00   \n2021-03-09 22:00:00      94       10000        1.96       117  0.00   \n2021-03-09 23:00:00      93       10000        1.63       148  0.00   \n2021-03-10 00:00:00      92       10000        1.60       149  0.00   \n2021-03-10 01:00:00      50       10000        2.06       139  0.00   \n2021-03-10 02:00:00      39       10000        2.60       136  0.00   \n2021-03-10 03:00:00      27       10000        2.48       162  0.00   \n2021-03-10 04:00:00      45       10000        2.73       163  0.00   \n2021-03-10 05:00:00      57       10000        3.10       158  0.00   \n2021-03-10 06:00:00      64       10000        3.90       157  0.00   \n2021-03-10 07:00:00     100       10000        4.26       167  0.00   \n2021-03-10 08:00:00     100       10000        5.22       163  0.00   \n2021-03-10 09:00:00     100       10000        5.83       173  0.00   \n2021-03-10 10:00:00     100       10000        6.02       175  0.00   \n2021-03-10 11:00:00     100       10000        6.14       182  0.00   \n2021-03-10 12:00:00     100       10000        5.99       183  0.00   \n2021-03-10 13:00:00     100       10000        6.36       186  0.00   \n2021-03-10 14:00:00     100       10000        6.66       188  0.00   \n2021-03-10 15:00:00     100       10000        6.30       191  0.27   \n2021-03-10 16:00:00     100       10000        6.08       194  0.26   \n2021-03-10 17:00:00     100       10000        5.96       193  0.46   \n2021-03-10 18:00:00     100       10000        6.62       187  0.55   \n2021-03-10 19:00:00     100       10000        7.49       190  0.84   \n2021-03-10 20:00:00     100       10000        8.75       185  0.84   \n2021-03-10 21:00:00     100       10000        9.68       182  0.95   \n2021-03-10 22:00:00     100       10000        9.60       182  1.00   \n2021-03-10 23:00:00     100       10000       10.06       182  1.00   \n2021-03-11 00:00:00     100       10000       10.00       185  1.00   \n2021-03-11 01:00:00     100        9554       10.35       187  1.00   \n2021-03-11 02:00:00     100       10000       11.12       190  1.00   \n2021-03-11 03:00:00     100       10000       11.06       195  1.00   \n2021-03-11 04:00:00     100       10000       10.85       202  1.00   \n2021-03-11 05:00:00     100       10000       10.86       208  1.00   \n2021-03-11 06:00:00     100       10000       10.87       212  0.80   \n2021-03-11 07:00:00     100       10000        9.69       219  0.84   \n2021-03-11 08:00:00     100       10000        9.91       231  0.93   \n2021-03-11 09:00:00      98       10000       12.13       233  0.93   \n2021-03-11 10:00:00      98       10000       12.81       232  0.88   \n2021-03-11 11:00:00      96        8713       14.22       238  0.84   \n2021-03-11 12:00:00      97       10000       14.19       240  0.90   \n2021-03-11 13:00:00     100       10000       12.89       249  0.56   \n2021-03-11 14:00:00     100       10000       11.10       254  0.70   \n2021-03-11 15:00:00     100       10000       10.16       257  0.78   \n2021-03-11 16:00:00     100       10000       10.41       254  0.81   \n2021-03-11 17:00:00     100       10000        8.19       250  0.73   \n2021-03-11 18:00:00      98       10000        7.40       241  0.73   \n2021-03-11 19:00:00     100       10000        6.88       240  0.19   \n\n                             rain   id    main       description icon  \ndt                                                                     \n2021-03-09 20:00:00           NaN  803  Clouds     broken clouds  04n  \n2021-03-09 21:00:00           NaN  804  Clouds   overcast clouds  04n  \n2021-03-09 22:00:00           NaN  804  Clouds   overcast clouds  04n  \n2021-03-09 23:00:00           NaN  804  Clouds   overcast clouds  04n  \n2021-03-10 00:00:00           NaN  804  Clouds   overcast clouds  04n  \n2021-03-10 01:00:00           NaN  802  Clouds  scattered clouds  03n  \n2021-03-10 02:00:00           NaN  802  Clouds  scattered clouds  03n  \n2021-03-10 03:00:00           NaN  802  Clouds  scattered clouds  03n  \n2021-03-10 04:00:00           NaN  802  Clouds  scattered clouds  03n  \n2021-03-10 05:00:00           NaN  803  Clouds     broken clouds  04n  \n2021-03-10 06:00:00           NaN  803  Clouds     broken clouds  04d  \n2021-03-10 07:00:00           NaN  804  Clouds   overcast clouds  04d  \n2021-03-10 08:00:00           NaN  804  Clouds   overcast clouds  04d  \n2021-03-10 09:00:00           NaN  804  Clouds   overcast clouds  04d  \n2021-03-10 10:00:00           NaN  804  Clouds   overcast clouds  04d  \n2021-03-10 11:00:00           NaN  804  Clouds   overcast clouds  04d  \n2021-03-10 12:00:00           NaN  804  Clouds   overcast clouds  04d  \n2021-03-10 13:00:00           NaN  804  Clouds   overcast clouds  04d  \n2021-03-10 14:00:00           NaN  804  Clouds   overcast clouds  04d  \n2021-03-10 15:00:00  {'1h': 0.18}  500    Rain        light rain  10d  \n2021-03-10 16:00:00  {'1h': 0.12}  500    Rain        light rain  10d  \n2021-03-10 17:00:00  {'1h': 0.12}  500    Rain        light rain  10d  \n2021-03-10 18:00:00  {'1h': 0.17}  500    Rain        light rain  10n  \n2021-03-10 19:00:00  {'1h': 0.25}  500    Rain        light rain  10n  \n2021-03-10 20:00:00   {'1h': 0.2}  500    Rain        light rain  10n  \n2021-03-10 21:00:00  {'1h': 0.41}  500    Rain        light rain  10n  \n2021-03-10 22:00:00  {'1h': 0.86}  500    Rain        light rain  10n  \n2021-03-10 23:00:00  {'1h': 0.76}  500    Rain        light rain  10n  \n2021-03-11 00:00:00   {'1h': 0.8}  500    Rain        light rain  10n  \n2021-03-11 01:00:00  {'1h': 0.87}  500    Rain        light rain  10n  \n2021-03-11 02:00:00   {'1h': 0.6}  500    Rain        light rain  10n  \n2021-03-11 03:00:00  {'1h': 2.52}  501    Rain     moderate rain  10n  \n2021-03-11 04:00:00  {'1h': 0.43}  500    Rain        light rain  10n  \n2021-03-11 05:00:00  {'1h': 0.23}  500    Rain        light rain  10n  \n2021-03-11 06:00:00           NaN  804  Clouds   overcast clouds  04d  \n2021-03-11 07:00:00  {'1h': 0.31}  500    Rain        light rain  10d  \n2021-03-11 08:00:00  {'1h': 0.83}  500    Rain        light rain  10d  \n2021-03-11 09:00:00  {'1h': 0.12}  500    Rain        light rain  10d  \n2021-03-11 10:00:00           NaN  804  Clouds   overcast clouds  04d  \n2021-03-11 11:00:00  {'1h': 0.15}  500    Rain        light rain  10d  \n2021-03-11 12:00:00  {'1h': 0.15}  500    Rain        light rain  10d  \n2021-03-11 13:00:00           NaN  804  Clouds   overcast clouds  04d  \n2021-03-11 14:00:00  {'1h': 0.21}  500    Rain        light rain  10d  \n2021-03-11 15:00:00  {'1h': 0.21}  500    Rain        light rain  10d  \n2021-03-11 16:00:00  {'1h': 0.32}  500    Rain        light rain  10d  \n2021-03-11 17:00:00  {'1h': 0.17}  500    Rain        light rain  10d  \n2021-03-11 18:00:00  {'1h': 0.11}  500    Rain        light rain  10n  \n2021-03-11 19:00:00           NaN  804  Clouds   overcast clouds  04n  ",
      "text/html": "<div>\n<style scoped>\n    .dataframe tbody tr th:only-of-type {\n        vertical-align: middle;\n    }\n\n    .dataframe tbody tr th {\n        vertical-align: top;\n    }\n\n    .dataframe thead th {\n        text-align: right;\n    }\n</style>\n<table border=\"1\" class=\"dataframe\">\n  <thead>\n    <tr style=\"text-align: right;\">\n      <th></th>\n      <th>temp</th>\n      <th>feels_like</th>\n      <th>pressure</th>\n      <th>humidity</th>\n      <th>dew_point</th>\n      <th>uvi</th>\n      <th>clouds</th>\n      <th>visibility</th>\n      <th>wind_speed</th>\n      <th>wind_deg</th>\n      <th>pop</th>\n      <th>rain</th>\n      <th>id</th>\n      <th>main</th>\n      <th>description</th>\n      <th>icon</th>\n    </tr>\n    <tr>\n      <th>dt</th>\n      <th></th>\n      <th></th>\n      <th></th>\n      <th></th>\n      <th></th>\n      <th></th>\n      <th></th>\n      <th></th>\n      <th></th>\n      <th></th>\n      <th></th>\n      <th></th>\n      <th></th>\n      <th></th>\n      <th></th>\n      <th></th>\n    </tr>\n  </thead>\n  <tbody>\n    <tr>\n      <th>2021-03-09 20:00:00</th>\n      <td>1.97</td>\n      <td>-1.38</td>\n      <td>1018</td>\n      <td>93</td>\n      <td>0.96</td>\n      <td>0.00</td>\n      <td>75</td>\n      <td>10000</td>\n      <td>2.15</td>\n      <td>83</td>\n      <td>0.00</td>\n      <td>NaN</td>\n      <td>803</td>\n      <td>Clouds</td>\n      <td>broken clouds</td>\n      <td>04n</td>\n    </tr>\n    <tr>\n      <th>2021-03-09 21:00:00</th>\n      <td>2.15</td>\n      <td>-1.01</td>\n      <td>1018</td>\n      <td>91</td>\n      <td>0.84</td>\n      <td>0.00</td>\n      <td>87</td>\n      <td>10000</td>\n      <td>1.86</td>\n      <td>97</td>\n      <td>0.00</td>\n      <td>NaN</td>\n      <td>804</td>\n      <td>Clouds</td>\n      <td>overcast clouds</td>\n      <td>04n</td>\n    </tr>\n    <tr>\n      <th>2021-03-09 22:00:00</th>\n      <td>1.99</td>\n      <td>-1.29</td>\n      <td>1019</td>\n      <td>90</td>\n      <td>0.53</td>\n      <td>0.00</td>\n      <td>94</td>\n      <td>10000</td>\n      <td>1.96</td>\n      <td>117</td>\n      <td>0.00</td>\n      <td>NaN</td>\n      <td>804</td>\n      <td>Clouds</td>\n      <td>overcast clouds</td>\n      <td>04n</td>\n    </tr>\n    <tr>\n      <th>2021-03-09 23:00:00</th>\n      <td>1.25</td>\n      <td>-1.86</td>\n      <td>1019</td>\n      <td>92</td>\n      <td>0.10</td>\n      <td>0.00</td>\n      <td>93</td>\n      <td>10000</td>\n      <td>1.63</td>\n      <td>148</td>\n      <td>0.00</td>\n      <td>NaN</td>\n      <td>804</td>\n      <td>Clouds</td>\n      <td>overcast clouds</td>\n      <td>04n</td>\n    </tr>\n    <tr>\n      <th>2021-03-10 00:00:00</th>\n      <td>0.68</td>\n      <td>-2.45</td>\n      <td>1018</td>\n      <td>94</td>\n      <td>-0.15</td>\n      <td>0.00</td>\n      <td>92</td>\n      <td>10000</td>\n      <td>1.60</td>\n      <td>149</td>\n      <td>0.00</td>\n      <td>NaN</td>\n      <td>804</td>\n      <td>Clouds</td>\n      <td>overcast clouds</td>\n      <td>04n</td>\n    </tr>\n    <tr>\n      <th>2021-03-10 01:00:00</th>\n      <td>0.32</td>\n      <td>-3.14</td>\n      <td>1018</td>\n      <td>96</td>\n      <td>-0.50</td>\n      <td>0.00</td>\n      <td>50</td>\n      <td>10000</td>\n      <td>2.06</td>\n      <td>139</td>\n      <td>0.00</td>\n      <td>NaN</td>\n      <td>802</td>\n      <td>Clouds</td>\n      <td>scattered clouds</td>\n      <td>03n</td>\n    </tr>\n    <tr>\n      <th>2021-03-10 02:00:00</th>\n      <td>-0.05</td>\n      <td>-3.90</td>\n      <td>1018</td>\n      <td>98</td>\n      <td>-0.74</td>\n      <td>0.00</td>\n      <td>39</td>\n      <td>10000</td>\n      <td>2.60</td>\n      <td>136</td>\n      <td>0.00</td>\n      <td>NaN</td>\n      <td>802</td>\n      <td>Clouds</td>\n      <td>scattered clouds</td>\n      <td>03n</td>\n    </tr>\n    <tr>\n      <th>2021-03-10 03:00:00</th>\n      <td>-0.54</td>\n      <td>-4.38</td>\n      <td>1018</td>\n      <td>98</td>\n      <td>-1.14</td>\n      <td>0.00</td>\n      <td>27</td>\n      <td>10000</td>\n      <td>2.48</td>\n      <td>162</td>\n      <td>0.00</td>\n      <td>NaN</td>\n      <td>802</td>\n      <td>Clouds</td>\n      <td>scattered clouds</td>\n      <td>03n</td>\n    </tr>\n    <tr>\n      <th>2021-03-10 04:00:00</th>\n      <td>-0.54</td>\n      <td>-4.55</td>\n      <td>1017</td>\n      <td>98</td>\n      <td>-1.13</td>\n      <td>0.00</td>\n      <td>45</td>\n      <td>10000</td>\n      <td>2.73</td>\n      <td>163</td>\n      <td>0.00</td>\n      <td>NaN</td>\n      <td>802</td>\n      <td>Clouds</td>\n      <td>scattered clouds</td>\n      <td>03n</td>\n    </tr>\n    <tr>\n      <th>2021-03-10 05:00:00</th>\n      <td>-0.47</td>\n      <td>-4.73</td>\n      <td>1017</td>\n      <td>98</td>\n      <td>-1.06</td>\n      <td>0.00</td>\n      <td>57</td>\n      <td>10000</td>\n      <td>3.10</td>\n      <td>158</td>\n      <td>0.00</td>\n      <td>NaN</td>\n      <td>803</td>\n      <td>Clouds</td>\n      <td>broken clouds</td>\n      <td>04n</td>\n    </tr>\n    <tr>\n      <th>2021-03-10 06:00:00</th>\n      <td>-0.11</td>\n      <td>-4.86</td>\n      <td>1017</td>\n      <td>99</td>\n      <td>-0.65</td>\n      <td>0.00</td>\n      <td>64</td>\n      <td>10000</td>\n      <td>3.90</td>\n      <td>157</td>\n      <td>0.00</td>\n      <td>NaN</td>\n      <td>803</td>\n      <td>Clouds</td>\n      <td>broken clouds</td>\n      <td>04d</td>\n    </tr>\n    <tr>\n      <th>2021-03-10 07:00:00</th>\n      <td>0.85</td>\n      <td>-4.10</td>\n      <td>1017</td>\n      <td>95</td>\n      <td>0.18</td>\n      <td>0.16</td>\n      <td>100</td>\n      <td>10000</td>\n      <td>4.26</td>\n      <td>167</td>\n      <td>0.00</td>\n      <td>NaN</td>\n      <td>804</td>\n      <td>Clouds</td>\n      <td>overcast clouds</td>\n      <td>04d</td>\n    </tr>\n    <tr>\n      <th>2021-03-10 08:00:00</th>\n      <td>2.37</td>\n      <td>-3.11</td>\n      <td>1017</td>\n      <td>91</td>\n      <td>1.13</td>\n      <td>0.46</td>\n      <td>100</td>\n      <td>10000</td>\n      <td>5.22</td>\n      <td>163</td>\n      <td>0.00</td>\n      <td>NaN</td>\n      <td>804</td>\n      <td>Clouds</td>\n      <td>overcast clouds</td>\n      <td>04d</td>\n    </tr>\n    <tr>\n      <th>2021-03-10 09:00:00</th>\n      <td>3.64</td>\n      <td>-2.17</td>\n      <td>1016</td>\n      <td>87</td>\n      <td>1.84</td>\n      <td>0.88</td>\n      <td>100</td>\n      <td>10000</td>\n      <td>5.83</td>\n      <td>173</td>\n      <td>0.00</td>\n      <td>NaN</td>\n      <td>804</td>\n      <td>Clouds</td>\n      <td>overcast clouds</td>\n      <td>04d</td>\n    </tr>\n    <tr>\n      <th>2021-03-10 10:00:00</th>\n      <td>3.65</td>\n      <td>-2.24</td>\n      <td>1016</td>\n      <td>89</td>\n      <td>2.04</td>\n      <td>0.80</td>\n      <td>100</td>\n      <td>10000</td>\n      <td>6.02</td>\n      <td>175</td>\n      <td>0.00</td>\n      <td>NaN</td>\n      <td>804</td>\n      <td>Clouds</td>\n      <td>overcast clouds</td>\n      <td>04d</td>\n    </tr>\n    <tr>\n      <th>2021-03-10 11:00:00</th>\n      <td>4.90</td>\n      <td>-0.91</td>\n      <td>1016</td>\n      <td>87</td>\n      <td>3.03</td>\n      <td>0.96</td>\n      <td>100</td>\n      <td>10000</td>\n      <td>6.14</td>\n      <td>182</td>\n      <td>0.00</td>\n      <td>NaN</td>\n      <td>804</td>\n      <td>Clouds</td>\n      <td>overcast clouds</td>\n      <td>04d</td>\n    </tr>\n    <tr>\n      <th>2021-03-10 12:00:00</th>\n      <td>6.06</td>\n      <td>0.50</td>\n      <td>1015</td>\n      <td>85</td>\n      <td>3.88</td>\n      <td>0.96</td>\n      <td>100</td>\n      <td>10000</td>\n      <td>5.99</td>\n      <td>183</td>\n      <td>0.00</td>\n      <td>NaN</td>\n      <td>804</td>\n      <td>Clouds</td>\n      <td>overcast clouds</td>\n      <td>04d</td>\n    </tr>\n    <tr>\n      <th>2021-03-10 13:00:00</th>\n      <td>6.85</td>\n      <td>1.11</td>\n      <td>1014</td>\n      <td>83</td>\n      <td>4.27</td>\n      <td>0.89</td>\n      <td>100</td>\n      <td>10000</td>\n      <td>6.36</td>\n      <td>186</td>\n      <td>0.00</td>\n      <td>NaN</td>\n      <td>804</td>\n      <td>Clouds</td>\n      <td>overcast clouds</td>\n      <td>04d</td>\n    </tr>\n    <tr>\n      <th>2021-03-10 14:00:00</th>\n      <td>7.56</td>\n      <td>1.61</td>\n      <td>1013</td>\n      <td>79</td>\n      <td>4.27</td>\n      <td>0.61</td>\n      <td>100</td>\n      <td>10000</td>\n      <td>6.66</td>\n      <td>188</td>\n      <td>0.00</td>\n      <td>NaN</td>\n      <td>804</td>\n      <td>Clouds</td>\n      <td>overcast clouds</td>\n      <td>04d</td>\n    </tr>\n    <tr>\n      <th>2021-03-10 15:00:00</th>\n      <td>7.32</td>\n      <td>1.61</td>\n      <td>1013</td>\n      <td>80</td>\n      <td>4.11</td>\n      <td>0.32</td>\n      <td>100</td>\n      <td>10000</td>\n      <td>6.30</td>\n      <td>191</td>\n      <td>0.27</td>\n      <td>{'1h': 0.18}</td>\n      <td>500</td>\n      <td>Rain</td>\n      <td>light rain</td>\n      <td>10d</td>\n    </tr>\n    <tr>\n      <th>2021-03-10 16:00:00</th>\n      <td>6.83</td>\n      <td>1.18</td>\n      <td>1012</td>\n      <td>80</td>\n      <td>3.65</td>\n      <td>0.09</td>\n      <td>100</td>\n      <td>10000</td>\n      <td>6.08</td>\n      <td>194</td>\n      <td>0.26</td>\n      <td>{'1h': 0.12}</td>\n      <td>500</td>\n      <td>Rain</td>\n      <td>light rain</td>\n      <td>10d</td>\n    </tr>\n    <tr>\n      <th>2021-03-10 17:00:00</th>\n      <td>6.05</td>\n      <td>0.45</td>\n      <td>1011</td>\n      <td>83</td>\n      <td>3.54</td>\n      <td>0.00</td>\n      <td>100</td>\n      <td>10000</td>\n      <td>5.96</td>\n      <td>193</td>\n      <td>0.46</td>\n      <td>{'1h': 0.12}</td>\n      <td>500</td>\n      <td>Rain</td>\n      <td>light rain</td>\n      <td>10d</td>\n    </tr>\n    <tr>\n      <th>2021-03-10 18:00:00</th>\n      <td>5.59</td>\n      <td>-0.41</td>\n      <td>1010</td>\n      <td>88</td>\n      <td>3.80</td>\n      <td>0.00</td>\n      <td>100</td>\n      <td>10000</td>\n      <td>6.62</td>\n      <td>187</td>\n      <td>0.55</td>\n      <td>{'1h': 0.17}</td>\n      <td>500</td>\n      <td>Rain</td>\n      <td>light rain</td>\n      <td>10n</td>\n    </tr>\n    <tr>\n      <th>2021-03-10 19:00:00</th>\n      <td>5.50</td>\n      <td>-1.06</td>\n      <td>1009</td>\n      <td>90</td>\n      <td>4.00</td>\n      <td>0.00</td>\n      <td>100</td>\n      <td>10000</td>\n      <td>7.49</td>\n      <td>190</td>\n      <td>0.84</td>\n      <td>{'1h': 0.25}</td>\n      <td>500</td>\n      <td>Rain</td>\n      <td>light rain</td>\n      <td>10n</td>\n    </tr>\n    <tr>\n      <th>2021-03-10 20:00:00</th>\n      <td>5.53</td>\n      <td>-1.88</td>\n      <td>1008</td>\n      <td>91</td>\n      <td>4.18</td>\n      <td>0.00</td>\n      <td>100</td>\n      <td>10000</td>\n      <td>8.75</td>\n      <td>185</td>\n      <td>0.84</td>\n      <td>{'1h': 0.2}</td>\n      <td>500</td>\n      <td>Rain</td>\n      <td>light rain</td>\n      <td>10n</td>\n    </tr>\n    <tr>\n      <th>2021-03-10 21:00:00</th>\n      <td>5.54</td>\n      <td>-2.55</td>\n      <td>1007</td>\n      <td>90</td>\n      <td>4.14</td>\n      <td>0.00</td>\n      <td>100</td>\n      <td>10000</td>\n      <td>9.68</td>\n      <td>182</td>\n      <td>0.95</td>\n      <td>{'1h': 0.41}</td>\n      <td>500</td>\n      <td>Rain</td>\n      <td>light rain</td>\n      <td>10n</td>\n    </tr>\n    <tr>\n      <th>2021-03-10 22:00:00</th>\n      <td>5.53</td>\n      <td>-2.48</td>\n      <td>1005</td>\n      <td>91</td>\n      <td>4.31</td>\n      <td>0.00</td>\n      <td>100</td>\n      <td>10000</td>\n      <td>9.60</td>\n      <td>182</td>\n      <td>1.00</td>\n      <td>{'1h': 0.86}</td>\n      <td>500</td>\n      <td>Rain</td>\n      <td>light rain</td>\n      <td>10n</td>\n    </tr>\n    <tr>\n      <th>2021-03-10 23:00:00</th>\n      <td>5.68</td>\n      <td>-2.62</td>\n      <td>1004</td>\n      <td>91</td>\n      <td>4.37</td>\n      <td>0.00</td>\n      <td>100</td>\n      <td>10000</td>\n      <td>10.06</td>\n      <td>182</td>\n      <td>1.00</td>\n      <td>{'1h': 0.76}</td>\n      <td>500</td>\n      <td>Rain</td>\n      <td>light rain</td>\n      <td>10n</td>\n    </tr>\n    <tr>\n      <th>2021-03-11 00:00:00</th>\n      <td>5.81</td>\n      <td>-2.42</td>\n      <td>1002</td>\n      <td>91</td>\n      <td>4.55</td>\n      <td>0.00</td>\n      <td>100</td>\n      <td>10000</td>\n      <td>10.00</td>\n      <td>185</td>\n      <td>1.00</td>\n      <td>{'1h': 0.8}</td>\n      <td>500</td>\n      <td>Rain</td>\n      <td>light rain</td>\n      <td>10n</td>\n    </tr>\n    <tr>\n      <th>2021-03-11 01:00:00</th>\n      <td>5.97</td>\n      <td>-2.48</td>\n      <td>1000</td>\n      <td>91</td>\n      <td>4.66</td>\n      <td>0.00</td>\n      <td>100</td>\n      <td>9554</td>\n      <td>10.35</td>\n      <td>187</td>\n      <td>1.00</td>\n      <td>{'1h': 0.87}</td>\n      <td>500</td>\n      <td>Rain</td>\n      <td>light rain</td>\n      <td>10n</td>\n    </tr>\n    <tr>\n      <th>2021-03-11 02:00:00</th>\n      <td>6.16</td>\n      <td>-2.85</td>\n      <td>998</td>\n      <td>89</td>\n      <td>4.59</td>\n      <td>0.00</td>\n      <td>100</td>\n      <td>10000</td>\n      <td>11.12</td>\n      <td>190</td>\n      <td>1.00</td>\n      <td>{'1h': 0.6}</td>\n      <td>500</td>\n      <td>Rain</td>\n      <td>light rain</td>\n      <td>10n</td>\n    </tr>\n    <tr>\n      <th>2021-03-11 03:00:00</th>\n      <td>6.49</td>\n      <td>-2.32</td>\n      <td>996</td>\n      <td>92</td>\n      <td>5.38</td>\n      <td>0.00</td>\n      <td>100</td>\n      <td>10000</td>\n      <td>11.06</td>\n      <td>195</td>\n      <td>1.00</td>\n      <td>{'1h': 2.52}</td>\n      <td>501</td>\n      <td>Rain</td>\n      <td>moderate rain</td>\n      <td>10n</td>\n    </tr>\n    <tr>\n      <th>2021-03-11 04:00:00</th>\n      <td>7.55</td>\n      <td>-0.96</td>\n      <td>995</td>\n      <td>90</td>\n      <td>6.17</td>\n      <td>0.00</td>\n      <td>100</td>\n      <td>10000</td>\n      <td>10.85</td>\n      <td>202</td>\n      <td>1.00</td>\n      <td>{'1h': 0.43}</td>\n      <td>500</td>\n      <td>Rain</td>\n      <td>light rain</td>\n      <td>10n</td>\n    </tr>\n    <tr>\n      <th>2021-03-11 05:00:00</th>\n      <td>8.49</td>\n      <td>0.14</td>\n      <td>994</td>\n      <td>89</td>\n      <td>6.94</td>\n      <td>0.00</td>\n      <td>100</td>\n      <td>10000</td>\n      <td>10.86</td>\n      <td>208</td>\n      <td>1.00</td>\n      <td>{'1h': 0.23}</td>\n      <td>500</td>\n      <td>Rain</td>\n      <td>light rain</td>\n      <td>10n</td>\n    </tr>\n    <tr>\n      <th>2021-03-11 06:00:00</th>\n      <td>9.43</td>\n      <td>1.17</td>\n      <td>994</td>\n      <td>86</td>\n      <td>7.23</td>\n      <td>0.00</td>\n      <td>100</td>\n      <td>10000</td>\n      <td>10.87</td>\n      <td>212</td>\n      <td>0.80</td>\n      <td>NaN</td>\n      <td>804</td>\n      <td>Clouds</td>\n      <td>overcast clouds</td>\n      <td>04d</td>\n    </tr>\n    <tr>\n      <th>2021-03-11 07:00:00</th>\n      <td>9.29</td>\n      <td>1.90</td>\n      <td>993</td>\n      <td>88</td>\n      <td>7.50</td>\n      <td>0.15</td>\n      <td>100</td>\n      <td>10000</td>\n      <td>9.69</td>\n      <td>219</td>\n      <td>0.84</td>\n      <td>{'1h': 0.31}</td>\n      <td>500</td>\n      <td>Rain</td>\n      <td>light rain</td>\n      <td>10d</td>\n    </tr>\n    <tr>\n      <th>2021-03-11 08:00:00</th>\n      <td>9.08</td>\n      <td>1.45</td>\n      <td>993</td>\n      <td>87</td>\n      <td>7.05</td>\n      <td>0.44</td>\n      <td>100</td>\n      <td>10000</td>\n      <td>9.91</td>\n      <td>231</td>\n      <td>0.93</td>\n      <td>{'1h': 0.83}</td>\n      <td>500</td>\n      <td>Rain</td>\n      <td>light rain</td>\n      <td>10d</td>\n    </tr>\n    <tr>\n      <th>2021-03-11 09:00:00</th>\n      <td>9.33</td>\n      <td>-0.45</td>\n      <td>992</td>\n      <td>70</td>\n      <td>4.22</td>\n      <td>0.83</td>\n      <td>98</td>\n      <td>10000</td>\n      <td>12.13</td>\n      <td>233</td>\n      <td>0.93</td>\n      <td>{'1h': 0.12}</td>\n      <td>500</td>\n      <td>Rain</td>\n      <td>light rain</td>\n      <td>10d</td>\n    </tr>\n    <tr>\n      <th>2021-03-11 10:00:00</th>\n      <td>9.34</td>\n      <td>-1.00</td>\n      <td>992</td>\n      <td>68</td>\n      <td>3.80</td>\n      <td>1.07</td>\n      <td>98</td>\n      <td>10000</td>\n      <td>12.81</td>\n      <td>232</td>\n      <td>0.88</td>\n      <td>NaN</td>\n      <td>804</td>\n      <td>Clouds</td>\n      <td>overcast clouds</td>\n      <td>04d</td>\n    </tr>\n    <tr>\n      <th>2021-03-11 11:00:00</th>\n      <td>9.76</td>\n      <td>-1.53</td>\n      <td>992</td>\n      <td>67</td>\n      <td>4.06</td>\n      <td>1.29</td>\n      <td>96</td>\n      <td>8713</td>\n      <td>14.22</td>\n      <td>238</td>\n      <td>0.84</td>\n      <td>{'1h': 0.15}</td>\n      <td>500</td>\n      <td>Rain</td>\n      <td>light rain</td>\n      <td>10d</td>\n    </tr>\n    <tr>\n      <th>2021-03-11 12:00:00</th>\n      <td>8.84</td>\n      <td>-2.40</td>\n      <td>992</td>\n      <td>72</td>\n      <td>4.23</td>\n      <td>1.29</td>\n      <td>97</td>\n      <td>10000</td>\n      <td>14.19</td>\n      <td>240</td>\n      <td>0.90</td>\n      <td>{'1h': 0.15}</td>\n      <td>500</td>\n      <td>Rain</td>\n      <td>light rain</td>\n      <td>10d</td>\n    </tr>\n    <tr>\n      <th>2021-03-11 13:00:00</th>\n      <td>8.28</td>\n      <td>-2.08</td>\n      <td>993</td>\n      <td>74</td>\n      <td>3.95</td>\n      <td>0.64</td>\n      <td>100</td>\n      <td>10000</td>\n      <td>12.89</td>\n      <td>249</td>\n      <td>0.56</td>\n      <td>NaN</td>\n      <td>804</td>\n      <td>Clouds</td>\n      <td>overcast clouds</td>\n      <td>04d</td>\n    </tr>\n    <tr>\n      <th>2021-03-11 14:00:00</th>\n      <td>7.90</td>\n      <td>-1.34</td>\n      <td>993</td>\n      <td>72</td>\n      <td>3.28</td>\n      <td>0.44</td>\n      <td>100</td>\n      <td>10000</td>\n      <td>11.10</td>\n      <td>254</td>\n      <td>0.70</td>\n      <td>{'1h': 0.21}</td>\n      <td>500</td>\n      <td>Rain</td>\n      <td>light rain</td>\n      <td>10d</td>\n    </tr>\n    <tr>\n      <th>2021-03-11 15:00:00</th>\n      <td>8.06</td>\n      <td>-0.60</td>\n      <td>994</td>\n      <td>69</td>\n      <td>2.77</td>\n      <td>0.23</td>\n      <td>100</td>\n      <td>10000</td>\n      <td>10.16</td>\n      <td>257</td>\n      <td>0.78</td>\n      <td>{'1h': 0.21}</td>\n      <td>500</td>\n      <td>Rain</td>\n      <td>light rain</td>\n      <td>10d</td>\n    </tr>\n    <tr>\n      <th>2021-03-11 16:00:00</th>\n      <td>7.63</td>\n      <td>-1.21</td>\n      <td>995</td>\n      <td>71</td>\n      <td>2.84</td>\n      <td>0.16</td>\n      <td>100</td>\n      <td>10000</td>\n      <td>10.41</td>\n      <td>254</td>\n      <td>0.81</td>\n      <td>{'1h': 0.32}</td>\n      <td>500</td>\n      <td>Rain</td>\n      <td>light rain</td>\n      <td>10d</td>\n    </tr>\n    <tr>\n      <th>2021-03-11 17:00:00</th>\n      <td>6.64</td>\n      <td>-0.74</td>\n      <td>995</td>\n      <td>73</td>\n      <td>2.35</td>\n      <td>0.00</td>\n      <td>100</td>\n      <td>10000</td>\n      <td>8.19</td>\n      <td>250</td>\n      <td>0.73</td>\n      <td>{'1h': 0.17}</td>\n      <td>500</td>\n      <td>Rain</td>\n      <td>light rain</td>\n      <td>10d</td>\n    </tr>\n    <tr>\n      <th>2021-03-11 18:00:00</th>\n      <td>5.76</td>\n      <td>-1.06</td>\n      <td>995</td>\n      <td>78</td>\n      <td>2.32</td>\n      <td>0.00</td>\n      <td>98</td>\n      <td>10000</td>\n      <td>7.40</td>\n      <td>241</td>\n      <td>0.73</td>\n      <td>{'1h': 0.11}</td>\n      <td>500</td>\n      <td>Rain</td>\n      <td>light rain</td>\n      <td>10n</td>\n    </tr>\n    <tr>\n      <th>2021-03-11 19:00:00</th>\n      <td>5.62</td>\n      <td>-0.82</td>\n      <td>996</td>\n      <td>79</td>\n      <td>2.41</td>\n      <td>0.00</td>\n      <td>100</td>\n      <td>10000</td>\n      <td>6.88</td>\n      <td>240</td>\n      <td>0.19</td>\n      <td>NaN</td>\n      <td>804</td>\n      <td>Clouds</td>\n      <td>overcast clouds</td>\n      <td>04n</td>\n    </tr>\n  </tbody>\n</table>\n</div>"
     },
     "execution_count": 66,
     "metadata": {},
     "output_type": "execute_result"
    }
   ],
   "source": [
    "hr = pd.DataFrame(data['hourly'])\n",
    "hr = hr.set_index('dt')\n",
    "hr.index = pd.to_datetime(hr.index, unit='s')\n",
    "hr = hr.join(pd.DataFrame(hr.weather.apply(del_lst).tolist(), hr.index))\n",
    "hr = hr.drop(columns='weather')\n",
    "hr"
   ],
   "metadata": {
    "collapsed": false,
    "pycharm": {
     "name": "#%%\n"
    }
   }
  },
  {
   "cell_type": "markdown",
   "source": [
    "## Daily Data\n",
    "- 1 week\n",
    "- 8 observations"
   ],
   "metadata": {
    "collapsed": false,
    "pycharm": {
     "name": "#%% md\n"
    }
   }
  },
  {
   "cell_type": "code",
   "execution_count": 67,
   "outputs": [
    {
     "data": {
      "text/plain": "                                sunrise              sunset  pressure  \\\ndt                                                                      \n2021-03-09 11:00:00 2021-03-09 05:58:19 2021-03-09 17:21:29      1017   \n2021-03-10 11:00:00 2021-03-10 05:55:55 2021-03-10 17:23:21      1016   \n2021-03-11 11:00:00 2021-03-11 05:53:30 2021-03-11 17:25:13       992   \n2021-03-12 11:00:00 2021-03-12 05:51:05 2021-03-12 17:27:05      1003   \n2021-03-13 11:00:00 2021-03-13 05:48:40 2021-03-13 17:28:56       994   \n2021-03-14 11:00:00 2021-03-14 05:46:14 2021-03-14 17:30:47      1001   \n2021-03-15 11:00:00 2021-03-15 05:43:48 2021-03-15 17:32:38      1014   \n2021-03-16 11:00:00 2021-03-16 05:41:22 2021-03-16 17:34:29      1024   \n\n                     humidity  dew_point  wind_speed  wind_deg  clouds   pop  \\\ndt                                                                             \n2021-03-09 11:00:00        91       2.53        3.15        70     100  1.00   \n2021-03-10 11:00:00        87       3.03        6.14       182     100  1.00   \n2021-03-11 11:00:00        67       4.06       14.22       238      96  1.00   \n2021-03-12 11:00:00        72       2.14        9.87       238      58  1.00   \n2021-03-13 11:00:00        90       4.98       10.55       221     100  1.00   \n2021-03-14 11:00:00        72       2.55        9.06       289      95  0.97   \n2021-03-15 11:00:00        68       0.93        9.05       316      57  0.31   \n2021-03-16 11:00:00        71       1.12        4.71       289      97  0.56   \n\n                     rain  ...   eve  morn  day_feels_like  night_feels_like  \\\ndt                         ...                                                 \n2021-03-09 11:00:00  6.06  ...  3.26  2.96           -0.05             -1.29   \n2021-03-10 11:00:00  2.31  ...  6.05 -0.47           -0.91             -2.48   \n2021-03-11 11:00:00  9.41  ...  6.64  8.49           -1.53             -2.00   \n2021-03-12 11:00:00  6.03  ...  5.68  3.43           -1.85             -1.89   \n2021-03-13 11:00:00  9.00  ...  5.80  3.91           -2.13             -0.51   \n2021-03-14 11:00:00  1.52  ...  3.49  2.88           -0.73             -1.98   \n2021-03-15 11:00:00  0.78  ...  4.20  3.50           -1.81             -2.99   \n2021-03-16 11:00:00  0.71  ...  3.91  3.63            0.68              0.08   \n\n                     eve_feels_like  morn_feels_like   id  main  \\\ndt                                                                \n2021-03-09 11:00:00           -0.27            -1.17  501  Rain   \n2021-03-10 11:00:00            0.45            -4.73  500  Rain   \n2021-03-11 11:00:00           -0.74             0.14  501  Rain   \n2021-03-12 11:00:00           -2.26            -4.75  501  Rain   \n2021-03-13 11:00:00           -0.55            -3.31  501  Rain   \n2021-03-14 11:00:00           -1.73            -3.24  500  Rain   \n2021-03-15 11:00:00           -2.39            -1.65  500  Rain   \n2021-03-16 11:00:00            1.07            -2.37  500  Rain   \n\n                       description  icon  \ndt                                        \n2021-03-09 11:00:00  moderate rain   10d  \n2021-03-10 11:00:00     light rain   10d  \n2021-03-11 11:00:00  moderate rain   10d  \n2021-03-12 11:00:00  moderate rain   10d  \n2021-03-13 11:00:00  moderate rain   10d  \n2021-03-14 11:00:00     light rain   10d  \n2021-03-15 11:00:00     light rain   10d  \n2021-03-16 11:00:00     light rain   10d  \n\n[8 rows x 25 columns]",
      "text/html": "<div>\n<style scoped>\n    .dataframe tbody tr th:only-of-type {\n        vertical-align: middle;\n    }\n\n    .dataframe tbody tr th {\n        vertical-align: top;\n    }\n\n    .dataframe thead th {\n        text-align: right;\n    }\n</style>\n<table border=\"1\" class=\"dataframe\">\n  <thead>\n    <tr style=\"text-align: right;\">\n      <th></th>\n      <th>sunrise</th>\n      <th>sunset</th>\n      <th>pressure</th>\n      <th>humidity</th>\n      <th>dew_point</th>\n      <th>wind_speed</th>\n      <th>wind_deg</th>\n      <th>clouds</th>\n      <th>pop</th>\n      <th>rain</th>\n      <th>...</th>\n      <th>eve</th>\n      <th>morn</th>\n      <th>day_feels_like</th>\n      <th>night_feels_like</th>\n      <th>eve_feels_like</th>\n      <th>morn_feels_like</th>\n      <th>id</th>\n      <th>main</th>\n      <th>description</th>\n      <th>icon</th>\n    </tr>\n    <tr>\n      <th>dt</th>\n      <th></th>\n      <th></th>\n      <th></th>\n      <th></th>\n      <th></th>\n      <th></th>\n      <th></th>\n      <th></th>\n      <th></th>\n      <th></th>\n      <th></th>\n      <th></th>\n      <th></th>\n      <th></th>\n      <th></th>\n      <th></th>\n      <th></th>\n      <th></th>\n      <th></th>\n      <th></th>\n      <th></th>\n    </tr>\n  </thead>\n  <tbody>\n    <tr>\n      <th>2021-03-09 11:00:00</th>\n      <td>2021-03-09 05:58:19</td>\n      <td>2021-03-09 17:21:29</td>\n      <td>1017</td>\n      <td>91</td>\n      <td>2.53</td>\n      <td>3.15</td>\n      <td>70</td>\n      <td>100</td>\n      <td>1.00</td>\n      <td>6.06</td>\n      <td>...</td>\n      <td>3.26</td>\n      <td>2.96</td>\n      <td>-0.05</td>\n      <td>-1.29</td>\n      <td>-0.27</td>\n      <td>-1.17</td>\n      <td>501</td>\n      <td>Rain</td>\n      <td>moderate rain</td>\n      <td>10d</td>\n    </tr>\n    <tr>\n      <th>2021-03-10 11:00:00</th>\n      <td>2021-03-10 05:55:55</td>\n      <td>2021-03-10 17:23:21</td>\n      <td>1016</td>\n      <td>87</td>\n      <td>3.03</td>\n      <td>6.14</td>\n      <td>182</td>\n      <td>100</td>\n      <td>1.00</td>\n      <td>2.31</td>\n      <td>...</td>\n      <td>6.05</td>\n      <td>-0.47</td>\n      <td>-0.91</td>\n      <td>-2.48</td>\n      <td>0.45</td>\n      <td>-4.73</td>\n      <td>500</td>\n      <td>Rain</td>\n      <td>light rain</td>\n      <td>10d</td>\n    </tr>\n    <tr>\n      <th>2021-03-11 11:00:00</th>\n      <td>2021-03-11 05:53:30</td>\n      <td>2021-03-11 17:25:13</td>\n      <td>992</td>\n      <td>67</td>\n      <td>4.06</td>\n      <td>14.22</td>\n      <td>238</td>\n      <td>96</td>\n      <td>1.00</td>\n      <td>9.41</td>\n      <td>...</td>\n      <td>6.64</td>\n      <td>8.49</td>\n      <td>-1.53</td>\n      <td>-2.00</td>\n      <td>-0.74</td>\n      <td>0.14</td>\n      <td>501</td>\n      <td>Rain</td>\n      <td>moderate rain</td>\n      <td>10d</td>\n    </tr>\n    <tr>\n      <th>2021-03-12 11:00:00</th>\n      <td>2021-03-12 05:51:05</td>\n      <td>2021-03-12 17:27:05</td>\n      <td>1003</td>\n      <td>72</td>\n      <td>2.14</td>\n      <td>9.87</td>\n      <td>238</td>\n      <td>58</td>\n      <td>1.00</td>\n      <td>6.03</td>\n      <td>...</td>\n      <td>5.68</td>\n      <td>3.43</td>\n      <td>-1.85</td>\n      <td>-1.89</td>\n      <td>-2.26</td>\n      <td>-4.75</td>\n      <td>501</td>\n      <td>Rain</td>\n      <td>moderate rain</td>\n      <td>10d</td>\n    </tr>\n    <tr>\n      <th>2021-03-13 11:00:00</th>\n      <td>2021-03-13 05:48:40</td>\n      <td>2021-03-13 17:28:56</td>\n      <td>994</td>\n      <td>90</td>\n      <td>4.98</td>\n      <td>10.55</td>\n      <td>221</td>\n      <td>100</td>\n      <td>1.00</td>\n      <td>9.00</td>\n      <td>...</td>\n      <td>5.80</td>\n      <td>3.91</td>\n      <td>-2.13</td>\n      <td>-0.51</td>\n      <td>-0.55</td>\n      <td>-3.31</td>\n      <td>501</td>\n      <td>Rain</td>\n      <td>moderate rain</td>\n      <td>10d</td>\n    </tr>\n    <tr>\n      <th>2021-03-14 11:00:00</th>\n      <td>2021-03-14 05:46:14</td>\n      <td>2021-03-14 17:30:47</td>\n      <td>1001</td>\n      <td>72</td>\n      <td>2.55</td>\n      <td>9.06</td>\n      <td>289</td>\n      <td>95</td>\n      <td>0.97</td>\n      <td>1.52</td>\n      <td>...</td>\n      <td>3.49</td>\n      <td>2.88</td>\n      <td>-0.73</td>\n      <td>-1.98</td>\n      <td>-1.73</td>\n      <td>-3.24</td>\n      <td>500</td>\n      <td>Rain</td>\n      <td>light rain</td>\n      <td>10d</td>\n    </tr>\n    <tr>\n      <th>2021-03-15 11:00:00</th>\n      <td>2021-03-15 05:43:48</td>\n      <td>2021-03-15 17:32:38</td>\n      <td>1014</td>\n      <td>68</td>\n      <td>0.93</td>\n      <td>9.05</td>\n      <td>316</td>\n      <td>57</td>\n      <td>0.31</td>\n      <td>0.78</td>\n      <td>...</td>\n      <td>4.20</td>\n      <td>3.50</td>\n      <td>-1.81</td>\n      <td>-2.99</td>\n      <td>-2.39</td>\n      <td>-1.65</td>\n      <td>500</td>\n      <td>Rain</td>\n      <td>light rain</td>\n      <td>10d</td>\n    </tr>\n    <tr>\n      <th>2021-03-16 11:00:00</th>\n      <td>2021-03-16 05:41:22</td>\n      <td>2021-03-16 17:34:29</td>\n      <td>1024</td>\n      <td>71</td>\n      <td>1.12</td>\n      <td>4.71</td>\n      <td>289</td>\n      <td>97</td>\n      <td>0.56</td>\n      <td>0.71</td>\n      <td>...</td>\n      <td>3.91</td>\n      <td>3.63</td>\n      <td>0.68</td>\n      <td>0.08</td>\n      <td>1.07</td>\n      <td>-2.37</td>\n      <td>500</td>\n      <td>Rain</td>\n      <td>light rain</td>\n      <td>10d</td>\n    </tr>\n  </tbody>\n</table>\n<p>8 rows × 25 columns</p>\n</div>"
     },
     "execution_count": 67,
     "metadata": {},
     "output_type": "execute_result"
    }
   ],
   "source": [
    "time = ['dt', 'sunrise', 'sunset']\n",
    "dly = pd.DataFrame(data['daily'])\n",
    "dly[time] = dly[time].apply(pd.to_datetime, unit='s')\n",
    "\n",
    "dly = dly.join(pd.DataFrame(dly.temp.to_list()))\n",
    "dly = dly.join(pd.DataFrame(dly.feels_like.to_list()).add_suffix('_feels_like'))\n",
    "dly = dly.join(pd.DataFrame(dly.weather.apply(del_lst).to_list()))\n",
    "\n",
    "dly = dly.drop(columns=['temp', 'feels_like', 'weather'])\n",
    "dly = dly.set_index('dt')\n",
    "dly"
   ],
   "metadata": {
    "collapsed": false,
    "pycharm": {
     "name": "#%%\n"
    }
   }
  },
  {
   "cell_type": "code",
   "execution_count": 67,
   "outputs": [],
   "source": [],
   "metadata": {
    "collapsed": false,
    "pycharm": {
     "name": "#%%\n"
    }
   }
  }
 ],
 "metadata": {
  "kernelspec": {
   "name": "python3",
   "language": "python",
   "display_name": "Python 3"
  },
  "language_info": {
   "codemirror_mode": {
    "name": "ipython",
    "version": 2
   },
   "file_extension": ".py",
   "mimetype": "text/x-python",
   "name": "python",
   "nbconvert_exporter": "python",
   "pygments_lexer": "ipython2",
   "version": "2.7.6"
  }
 },
 "nbformat": 4,
 "nbformat_minor": 0
}