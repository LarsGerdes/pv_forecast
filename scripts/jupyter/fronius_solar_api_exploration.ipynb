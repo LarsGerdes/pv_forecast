{
 "cells": [
  {
   "cell_type": "markdown",
   "source": [
    "# Fronius Solar API"
   ],
   "metadata": {
    "collapsed": false,
    "pycharm": {
     "name": "#%% md\n"
    }
   }
  },
  {
   "cell_type": "code",
   "execution_count": 133,
   "metadata": {
    "collapsed": true
   },
   "outputs": [
    {
     "data": {
      "text/plain": "                   BaseURL CompatibilityRange\nAPIVersion                                   \n1           /solar_api/v1/             1.5-18",
      "text/html": "<div>\n<style scoped>\n    .dataframe tbody tr th:only-of-type {\n        vertical-align: middle;\n    }\n\n    .dataframe tbody tr th {\n        vertical-align: top;\n    }\n\n    .dataframe thead th {\n        text-align: right;\n    }\n</style>\n<table border=\"1\" class=\"dataframe\">\n  <thead>\n    <tr style=\"text-align: right;\">\n      <th></th>\n      <th>BaseURL</th>\n      <th>CompatibilityRange</th>\n    </tr>\n    <tr>\n      <th>APIVersion</th>\n      <th></th>\n      <th></th>\n    </tr>\n  </thead>\n  <tbody>\n    <tr>\n      <th>1</th>\n      <td>/solar_api/v1/</td>\n      <td>1.5-18</td>\n    </tr>\n  </tbody>\n</table>\n</div>"
     },
     "execution_count": 133,
     "metadata": {},
     "output_type": "execute_result"
    }
   ],
   "source": [
    "import requests\n",
    "import user_data as ud\n",
    "import pandas as pd\n",
    "\n",
    "url_base = 'http://{}/solar_api'.format(ud.ip)\n",
    "url = url_base + '/GetAPIVersion.cgi'\n",
    "\n",
    "pd.DataFrame(requests.get(url).json(), [0]).set_index('APIVersion')"
   ]
  },
  {
   "cell_type": "markdown",
   "source": [
    "## Real-Time Data\n",
    "- DAY_ENERGY: AC Energy generated on current day\n",
    "- PAC: AC power (negative value for consuming power)\n",
    "- TOTAL_ENERGY: AC Energy generated overall\n",
    "- YEAR_ENERGY: AC Energy generated in current year\n",
    "\n",
    "### Scope = System"
   ],
   "metadata": {
    "collapsed": false,
    "pycharm": {
     "name": "#%% md\n"
    }
   }
  },
  {
   "cell_type": "code",
   "execution_count": 134,
   "outputs": [
    {
     "data": {
      "text/plain": "{'RequestArguments': {'DeviceClass': 'Inverter', 'Scope': 'System'},\n 'Status': {'Code': 0, 'Reason': '', 'UserMessage': ''},\n 'Timestamp': '2021-03-12T17:46:14+01:00'}"
     },
     "execution_count": 134,
     "metadata": {},
     "output_type": "execute_result"
    }
   ],
   "source": [
    "url_real = url_base + '/v1/GetInverterRealtimeData.cgi'\n",
    "url = url_real + '?Scope=System'\n",
    "\n",
    "dic = requests.get(url).json()\n",
    "dic['Head']"
   ],
   "metadata": {
    "collapsed": false,
    "pycharm": {
     "name": "#%%\n"
    }
   }
  },
  {
   "cell_type": "code",
   "execution_count": 135,
   "outputs": [
    {
     "data": {
      "text/plain": "       DAY_ENERGY PAC TOTAL_ENERGY YEAR_ENERGY\nUnit           Wh   W           Wh          Wh\nValues       8853  27      4542970      551051",
      "text/html": "<div>\n<style scoped>\n    .dataframe tbody tr th:only-of-type {\n        vertical-align: middle;\n    }\n\n    .dataframe tbody tr th {\n        vertical-align: top;\n    }\n\n    .dataframe thead th {\n        text-align: right;\n    }\n</style>\n<table border=\"1\" class=\"dataframe\">\n  <thead>\n    <tr style=\"text-align: right;\">\n      <th></th>\n      <th>DAY_ENERGY</th>\n      <th>PAC</th>\n      <th>TOTAL_ENERGY</th>\n      <th>YEAR_ENERGY</th>\n    </tr>\n  </thead>\n  <tbody>\n    <tr>\n      <th>Unit</th>\n      <td>Wh</td>\n      <td>W</td>\n      <td>Wh</td>\n      <td>Wh</td>\n    </tr>\n    <tr>\n      <th>Values</th>\n      <td>8853</td>\n      <td>27</td>\n      <td>4542970</td>\n      <td>551051</td>\n    </tr>\n  </tbody>\n</table>\n</div>"
     },
     "execution_count": 135,
     "metadata": {},
     "output_type": "execute_result"
    }
   ],
   "source": [
    "df = pd.DataFrame(dic['Body']['Data'])\n",
    "df.loc['Values'] = df.loc['Values'].apply(lambda x: x['1'])\n",
    "df"
   ],
   "metadata": {
    "collapsed": false,
    "pycharm": {
     "name": "#%%\n"
    }
   }
  },
  {
   "cell_type": "markdown",
   "source": [
    "### Scope = Device\n",
    "#### Cumulation Inverter Data\n",
    "Data is identical to \"System\"."
   ],
   "metadata": {
    "collapsed": false,
    "pycharm": {
     "name": "#%% md\n"
    }
   }
  },
  {
   "cell_type": "code",
   "source": [
    "url_real_dev = url_real + '?Scope=Device&DeviceId=1'\n",
    "url = url_real_dev + '&DataCollection=CumulationInverterData'\n",
    "\n",
    "dic = requests.get(url).json()\n",
    "dic_data = dic['Body']['Data']\n",
    "dic['Head'], dic_data['DeviceStatus']"
   ],
   "metadata": {
    "collapsed": false,
    "pycharm": {
     "name": "#%%\n"
    }
   },
   "execution_count": 136,
   "outputs": [
    {
     "data": {
      "text/plain": "({'RequestArguments': {'DataCollection': 'CumulationInverterData',\n   'DeviceClass': 'Inverter',\n   'DeviceId': '1',\n   'Scope': 'Device'},\n  'Status': {'Code': 0, 'Reason': '', 'UserMessage': ''},\n  'Timestamp': '2021-03-12T17:46:15+01:00'},\n {'ErrorCode': 0,\n  'LEDColor': 2,\n  'LEDState': 0,\n  'MgmtTimerRemainingTime': -1,\n  'StateToReset': False,\n  'StatusCode': 7})"
     },
     "execution_count": 136,
     "metadata": {},
     "output_type": "execute_result"
    }
   ]
  },
  {
   "cell_type": "code",
   "execution_count": 137,
   "outputs": [
    {
     "data": {
      "text/plain": "      DAY_ENERGY PAC TOTAL_ENERGY YEAR_ENERGY\nUnit          Wh   W           Wh          Wh\nValue       8853  20      4542970      551051",
      "text/html": "<div>\n<style scoped>\n    .dataframe tbody tr th:only-of-type {\n        vertical-align: middle;\n    }\n\n    .dataframe tbody tr th {\n        vertical-align: top;\n    }\n\n    .dataframe thead th {\n        text-align: right;\n    }\n</style>\n<table border=\"1\" class=\"dataframe\">\n  <thead>\n    <tr style=\"text-align: right;\">\n      <th></th>\n      <th>DAY_ENERGY</th>\n      <th>PAC</th>\n      <th>TOTAL_ENERGY</th>\n      <th>YEAR_ENERGY</th>\n    </tr>\n  </thead>\n  <tbody>\n    <tr>\n      <th>Unit</th>\n      <td>Wh</td>\n      <td>W</td>\n      <td>Wh</td>\n      <td>Wh</td>\n    </tr>\n    <tr>\n      <th>Value</th>\n      <td>8853</td>\n      <td>20</td>\n      <td>4542970</td>\n      <td>551051</td>\n    </tr>\n  </tbody>\n</table>\n</div>"
     },
     "execution_count": 137,
     "metadata": {},
     "output_type": "execute_result"
    }
   ],
   "source": [
    "df = {key: dic_data[key] for key in dic_data.keys() if key != 'DeviceStatus'}\n",
    "pd.DataFrame(df)"
   ],
   "metadata": {
    "collapsed": false,
    "pycharm": {
     "name": "#%%\n"
    }
   }
  },
  {
   "cell_type": "markdown",
   "source": [
    "#### Common Inverter Data\n",
    "- FAC: AC frequency\n",
    "- IAC: AC current (absolute, accumulated over all lines)\n",
    "- IDC: DC current\n",
    "- UAC: AC voltage\n",
    "- UDC: DC voltage"
   ],
   "metadata": {
    "collapsed": false,
    "pycharm": {
     "name": "#%% md\n"
    }
   }
  },
  {
   "cell_type": "code",
   "execution_count": 138,
   "outputs": [
    {
     "data": {
      "text/plain": "({'RequestArguments': {'DataCollection': 'CommonInverterData',\n   'DeviceClass': 'Inverter',\n   'DeviceId': '1',\n   'Scope': 'Device'},\n  'Status': {'Code': 0, 'Reason': '', 'UserMessage': ''},\n  'Timestamp': '2021-03-12T17:46:16+01:00'},\n {'ErrorCode': 0,\n  'LEDColor': 2,\n  'LEDState': 0,\n  'MgmtTimerRemainingTime': -1,\n  'StateToReset': False,\n  'StatusCode': 7})"
     },
     "execution_count": 138,
     "metadata": {},
     "output_type": "execute_result"
    }
   ],
   "source": [
    "url = url_real_dev + '&DataCollection=CommonInverterData'\n",
    "\n",
    "dic = requests.get(url).json()\n",
    "dic_data = dic['Body']['Data']\n",
    "dic['Head'], dic_data['DeviceStatus']"
   ],
   "metadata": {
    "collapsed": false,
    "pycharm": {
     "name": "#%%\n"
    }
   }
  },
  {
   "cell_type": "code",
   "execution_count": 139,
   "outputs": [
    {
     "data": {
      "text/plain": "      DAY_ENERGY    FAC   IAC   IDC PAC TOTAL_ENERGY    UAC   UDC YEAR_ENERGY\nUnit          Wh     Hz     A     A   W           Wh      V     V          Wh\nValue       8853  49.97  0.12  1.01  19      4542970  233.1  71.5      551051",
      "text/html": "<div>\n<style scoped>\n    .dataframe tbody tr th:only-of-type {\n        vertical-align: middle;\n    }\n\n    .dataframe tbody tr th {\n        vertical-align: top;\n    }\n\n    .dataframe thead th {\n        text-align: right;\n    }\n</style>\n<table border=\"1\" class=\"dataframe\">\n  <thead>\n    <tr style=\"text-align: right;\">\n      <th></th>\n      <th>DAY_ENERGY</th>\n      <th>FAC</th>\n      <th>IAC</th>\n      <th>IDC</th>\n      <th>PAC</th>\n      <th>TOTAL_ENERGY</th>\n      <th>UAC</th>\n      <th>UDC</th>\n      <th>YEAR_ENERGY</th>\n    </tr>\n  </thead>\n  <tbody>\n    <tr>\n      <th>Unit</th>\n      <td>Wh</td>\n      <td>Hz</td>\n      <td>A</td>\n      <td>A</td>\n      <td>W</td>\n      <td>Wh</td>\n      <td>V</td>\n      <td>V</td>\n      <td>Wh</td>\n    </tr>\n    <tr>\n      <th>Value</th>\n      <td>8853</td>\n      <td>49.97</td>\n      <td>0.12</td>\n      <td>1.01</td>\n      <td>19</td>\n      <td>4542970</td>\n      <td>233.1</td>\n      <td>71.5</td>\n      <td>551051</td>\n    </tr>\n  </tbody>\n</table>\n</div>"
     },
     "execution_count": 139,
     "metadata": {},
     "output_type": "execute_result"
    }
   ],
   "source": [
    "df = {key: dic_data[key] for key in dic_data.keys() if key != 'DeviceStatus'}\n",
    "pd.DataFrame(df)"
   ],
   "metadata": {
    "collapsed": false,
    "pycharm": {
     "name": "#%%\n"
    }
   }
  },
  {
   "cell_type": "markdown",
   "source": [
    "#### Min Max Inverter Data"
   ],
   "metadata": {
    "collapsed": false,
    "pycharm": {
     "name": "#%% md\n"
    }
   }
  },
  {
   "cell_type": "code",
   "execution_count": 140,
   "outputs": [
    {
     "data": {
      "text/plain": "{'RequestArguments': {'DataCollection': 'MinMaxInverterData',\n  'DeviceClass': 'Inverter',\n  'DeviceId': '1',\n  'Scope': 'Device'},\n 'Status': {'Code': 0, 'Reason': '', 'UserMessage': ''},\n 'Timestamp': '2021-03-12T17:46:17+01:00'}"
     },
     "execution_count": 140,
     "metadata": {},
     "output_type": "execute_result"
    }
   ],
   "source": [
    "url = url_real_dev + '&DataCollection=MinMaxInverterData'\n",
    "\n",
    "dic = requests.get(url).json()\n",
    "dic['Head']"
   ],
   "metadata": {
    "collapsed": false,
    "pycharm": {
     "name": "#%%\n"
    }
   }
  },
  {
   "cell_type": "code",
   "execution_count": 141,
   "outputs": [
    {
     "data": {
      "text/plain": "      DAY_PMAX DAY_UACMAX DAY_UDCMAX TOTAL_PMAX TOTAL_UACMAX TOTAL_UDCMAX  \\\nUnit         W          V          V          W            V            V   \nValue     5077      242.6      219.6       5216          267        246.1   \n\n      YEAR_PMAX YEAR_UACMAX YEAR_UDCMAX  \nUnit          W           V           V  \nValue      5077         267       242.7  ",
      "text/html": "<div>\n<style scoped>\n    .dataframe tbody tr th:only-of-type {\n        vertical-align: middle;\n    }\n\n    .dataframe tbody tr th {\n        vertical-align: top;\n    }\n\n    .dataframe thead th {\n        text-align: right;\n    }\n</style>\n<table border=\"1\" class=\"dataframe\">\n  <thead>\n    <tr style=\"text-align: right;\">\n      <th></th>\n      <th>DAY_PMAX</th>\n      <th>DAY_UACMAX</th>\n      <th>DAY_UDCMAX</th>\n      <th>TOTAL_PMAX</th>\n      <th>TOTAL_UACMAX</th>\n      <th>TOTAL_UDCMAX</th>\n      <th>YEAR_PMAX</th>\n      <th>YEAR_UACMAX</th>\n      <th>YEAR_UDCMAX</th>\n    </tr>\n  </thead>\n  <tbody>\n    <tr>\n      <th>Unit</th>\n      <td>W</td>\n      <td>V</td>\n      <td>V</td>\n      <td>W</td>\n      <td>V</td>\n      <td>V</td>\n      <td>W</td>\n      <td>V</td>\n      <td>V</td>\n    </tr>\n    <tr>\n      <th>Value</th>\n      <td>5077</td>\n      <td>242.6</td>\n      <td>219.6</td>\n      <td>5216</td>\n      <td>267</td>\n      <td>246.1</td>\n      <td>5077</td>\n      <td>267</td>\n      <td>242.7</td>\n    </tr>\n  </tbody>\n</table>\n</div>"
     },
     "execution_count": 141,
     "metadata": {},
     "output_type": "execute_result"
    }
   ],
   "source": [
    "pd.DataFrame(dic['Body']['Data'])"
   ],
   "metadata": {
    "collapsed": false,
    "pycharm": {
     "name": "#%%\n"
    }
   }
  },
  {
   "cell_type": "markdown",
   "source": [
    "### Get Logger Info\n",
    "Information about logging device."
   ],
   "metadata": {
    "collapsed": false,
    "pycharm": {
     "name": "#%% md\n"
    }
   }
  },
  {
   "cell_type": "code",
   "execution_count": 142,
   "outputs": [],
   "source": [
    "url = url_base + '/v1/GetLoggerInfo.cgi'\n",
    "# requests.get(url).json()"
   ],
   "metadata": {
    "collapsed": false,
    "pycharm": {
     "name": "#%%\n"
    }
   }
  },
  {
   "cell_type": "markdown",
   "source": [
    "### Get Logger LED Info\n",
    "Information of LEDs on the device."
   ],
   "metadata": {
    "collapsed": false,
    "pycharm": {
     "name": "#%% md\n"
    }
   }
  },
  {
   "cell_type": "code",
   "execution_count": 143,
   "outputs": [
    {
     "data": {
      "text/plain": "{'RequestArguments': {},\n 'Status': {'Code': 0, 'Reason': '', 'UserMessage': ''},\n 'Timestamp': '2021-03-12T17:46:19+01:00'}"
     },
     "execution_count": 143,
     "metadata": {},
     "output_type": "execute_result"
    }
   ],
   "source": [
    "url = url_base + '/v1/GetLoggerLEDInfo.cgi'\n",
    "dic = requests.get(url).json()\n",
    "dic['Head']"
   ],
   "metadata": {
    "collapsed": false,
    "pycharm": {
     "name": "#%%\n"
    }
   }
  },
  {
   "cell_type": "code",
   "execution_count": 144,
   "outputs": [
    {
     "data": {
      "text/plain": "      PowerLED SolarNetLED SolarWebLED WLANLED\nColor    green       green       green   green\nState       on          on          on      on",
      "text/html": "<div>\n<style scoped>\n    .dataframe tbody tr th:only-of-type {\n        vertical-align: middle;\n    }\n\n    .dataframe tbody tr th {\n        vertical-align: top;\n    }\n\n    .dataframe thead th {\n        text-align: right;\n    }\n</style>\n<table border=\"1\" class=\"dataframe\">\n  <thead>\n    <tr style=\"text-align: right;\">\n      <th></th>\n      <th>PowerLED</th>\n      <th>SolarNetLED</th>\n      <th>SolarWebLED</th>\n      <th>WLANLED</th>\n    </tr>\n  </thead>\n  <tbody>\n    <tr>\n      <th>Color</th>\n      <td>green</td>\n      <td>green</td>\n      <td>green</td>\n      <td>green</td>\n    </tr>\n    <tr>\n      <th>State</th>\n      <td>on</td>\n      <td>on</td>\n      <td>on</td>\n      <td>on</td>\n    </tr>\n  </tbody>\n</table>\n</div>"
     },
     "execution_count": 144,
     "metadata": {},
     "output_type": "execute_result"
    }
   ],
   "source": [
    "pd.DataFrame(dic['Body']['Data'])"
   ],
   "metadata": {
    "collapsed": false,
    "pycharm": {
     "name": "#%%\n"
    }
   }
  },
  {
   "cell_type": "markdown",
   "source": [
    "### Get Inverter Info\n",
    "Information about all inverters who were online in the last 24 hours."
   ],
   "metadata": {
    "collapsed": false,
    "pycharm": {
     "name": "#%% md\n"
    }
   }
  },
  {
   "cell_type": "code",
   "execution_count": 145,
   "outputs": [],
   "source": [
    "url = url_base + '/v1/GetInverterInfo.cgi'\n",
    "# requests.get(url).json()"
   ],
   "metadata": {
    "collapsed": false,
    "pycharm": {
     "name": "#%%\n"
    }
   }
  },
  {
   "cell_type": "markdown",
   "source": [
    "### Get Active Device Info\n",
    "Information about online decives."
   ],
   "metadata": {
    "collapsed": false,
    "pycharm": {
     "name": "#%% md\n"
    }
   }
  },
  {
   "cell_type": "code",
   "execution_count": 146,
   "outputs": [],
   "source": [
    "url = url_base + '/v1/GetActiveDeviceInfo.cgi?DeviceClass=System'\n",
    "# requests.get(url).json()"
   ],
   "metadata": {
    "collapsed": false,
    "pycharm": {
     "name": "#%%\n"
    }
   }
  },
  {
   "cell_type": "markdown",
   "source": [
    "### Get Power Flow Realtime Data\n",
    "Information about the local energy grid."
   ],
   "metadata": {
    "collapsed": false,
    "pycharm": {
     "name": "#%% md\n"
    }
   }
  },
  {
   "cell_type": "code",
   "execution_count": 147,
   "outputs": [
    {
     "data": {
      "text/plain": "{'RequestArguments': {},\n 'Status': {'Code': 0, 'Reason': '', 'UserMessage': ''},\n 'Timestamp': '2021-03-12T17:46:19+01:00'}"
     },
     "execution_count": 147,
     "metadata": {},
     "output_type": "execute_result"
    }
   ],
   "source": [
    "url = url_base + '/v1/GetPowerFlowRealtimeData.fcgi'\n",
    "dic = requests.get(url).json()\n",
    "dic_dat = dic['Body']['Data']\n",
    "dic['Head'] # , {key: dic_dat[key] for key in dic_dat.keys() if key != 'Inverters'}"
   ],
   "metadata": {
    "collapsed": false,
    "pycharm": {
     "name": "#%%\n"
    }
   }
  },
  {
   "cell_type": "code",
   "execution_count": 148,
   "outputs": [
    {
     "data": {
      "text/plain": "               1\nDT            76\nE_Day       8853\nE_Total  4542970\nE_Year    551051\nP             33",
      "text/html": "<div>\n<style scoped>\n    .dataframe tbody tr th:only-of-type {\n        vertical-align: middle;\n    }\n\n    .dataframe tbody tr th {\n        vertical-align: top;\n    }\n\n    .dataframe thead th {\n        text-align: right;\n    }\n</style>\n<table border=\"1\" class=\"dataframe\">\n  <thead>\n    <tr style=\"text-align: right;\">\n      <th></th>\n      <th>1</th>\n    </tr>\n  </thead>\n  <tbody>\n    <tr>\n      <th>DT</th>\n      <td>76</td>\n    </tr>\n    <tr>\n      <th>E_Day</th>\n      <td>8853</td>\n    </tr>\n    <tr>\n      <th>E_Total</th>\n      <td>4542970</td>\n    </tr>\n    <tr>\n      <th>E_Year</th>\n      <td>551051</td>\n    </tr>\n    <tr>\n      <th>P</th>\n      <td>33</td>\n    </tr>\n  </tbody>\n</table>\n</div>"
     },
     "execution_count": 148,
     "metadata": {},
     "output_type": "execute_result"
    }
   ],
   "source": [
    "pd.DataFrame(dic_dat['Inverters'])"
   ],
   "metadata": {
    "collapsed": false,
    "pycharm": {
     "name": "#%%\n"
    }
   }
  }
 ],
 "metadata": {
  "kernelspec": {
   "display_name": "Python 3",
   "language": "python",
   "name": "python3"
  },
  "language_info": {
   "codemirror_mode": {
    "name": "ipython",
    "version": 2
   },
   "file_extension": ".py",
   "mimetype": "text/x-python",
   "name": "python",
   "nbconvert_exporter": "python",
   "pygments_lexer": "ipython2",
   "version": "2.7.6"
  }
 },
 "nbformat": 4,
 "nbformat_minor": 0
}