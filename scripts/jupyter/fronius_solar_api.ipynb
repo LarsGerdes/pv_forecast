{
 "cells": [
  {
   "cell_type": "markdown",
   "source": [
    "# Fronius Solar API"
   ],
   "metadata": {
    "collapsed": false,
    "pycharm": {
     "name": "#%% md\n"
    }
   }
  },
  {
   "cell_type": "code",
   "execution_count": 2,
   "metadata": {
    "collapsed": true
   },
   "outputs": [
    {
     "data": {
      "text/plain": "                   BaseURL CompatibilityRange\nAPIVersion                                   \n1           /solar_api/v1/             1.5-18",
      "text/html": "<div>\n<style scoped>\n    .dataframe tbody tr th:only-of-type {\n        vertical-align: middle;\n    }\n\n    .dataframe tbody tr th {\n        vertical-align: top;\n    }\n\n    .dataframe thead th {\n        text-align: right;\n    }\n</style>\n<table border=\"1\" class=\"dataframe\">\n  <thead>\n    <tr style=\"text-align: right;\">\n      <th></th>\n      <th>BaseURL</th>\n      <th>CompatibilityRange</th>\n    </tr>\n    <tr>\n      <th>APIVersion</th>\n      <th></th>\n      <th></th>\n    </tr>\n  </thead>\n  <tbody>\n    <tr>\n      <th>1</th>\n      <td>/solar_api/v1/</td>\n      <td>1.5-18</td>\n    </tr>\n  </tbody>\n</table>\n</div>"
     },
     "execution_count": 2,
     "metadata": {},
     "output_type": "execute_result"
    }
   ],
   "source": [
    "import toml\n",
    "import requests\n",
    "import pandas as pd\n",
    "\n",
    "conf = toml.load('../../conf.toml')\n",
    "\n",
    "url_base = 'http://{}/solar_api'.format(conf['fronius'])\n",
    "url = url_base + '/GetAPIVersion.cgi'\n",
    "\n",
    "pd.DataFrame(requests.get(url).json(), [0]).set_index('APIVersion')"
   ]
  },
  {
   "cell_type": "markdown",
   "source": [
    "## Real-Time Data\n",
    "- DAY_ENERGY: AC Energy generated on current day\n",
    "- PAC: AC power (negative value for consuming power)\n",
    "- TOTAL_ENERGY: AC Energy generated overall\n",
    "- YEAR_ENERGY: AC Energy generated in current year\n",
    "\n",
    "### Scope = System"
   ],
   "metadata": {
    "collapsed": false,
    "pycharm": {
     "name": "#%% md\n"
    }
   }
  },
  {
   "cell_type": "code",
   "execution_count": 3,
   "outputs": [
    {
     "data": {
      "text/plain": "{'RequestArguments': {'DeviceClass': 'Inverter', 'Scope': 'System'},\n 'Status': {'Code': 0, 'Reason': '', 'UserMessage': ''},\n 'Timestamp': '2021-06-03T13:10:35+02:00'}"
     },
     "execution_count": 3,
     "metadata": {},
     "output_type": "execute_result"
    }
   ],
   "source": [
    "url_real = url_base + '/v1/GetInverterRealtimeData.cgi'\n",
    "url = url_real + '?Scope=System'\n",
    "\n",
    "dic = requests.get(url).json()\n",
    "dic['Head']"
   ],
   "metadata": {
    "collapsed": false,
    "pycharm": {
     "name": "#%%\n"
    }
   }
  },
  {
   "cell_type": "code",
   "execution_count": 4,
   "outputs": [
    {
     "data": {
      "text/plain": "       DAY_ENERGY   PAC TOTAL_ENERGY YEAR_ENERGY\nUnit           Wh     W           Wh          Wh\nValues      10748  2054      6201509     2209592",
      "text/html": "<div>\n<style scoped>\n    .dataframe tbody tr th:only-of-type {\n        vertical-align: middle;\n    }\n\n    .dataframe tbody tr th {\n        vertical-align: top;\n    }\n\n    .dataframe thead th {\n        text-align: right;\n    }\n</style>\n<table border=\"1\" class=\"dataframe\">\n  <thead>\n    <tr style=\"text-align: right;\">\n      <th></th>\n      <th>DAY_ENERGY</th>\n      <th>PAC</th>\n      <th>TOTAL_ENERGY</th>\n      <th>YEAR_ENERGY</th>\n    </tr>\n  </thead>\n  <tbody>\n    <tr>\n      <th>Unit</th>\n      <td>Wh</td>\n      <td>W</td>\n      <td>Wh</td>\n      <td>Wh</td>\n    </tr>\n    <tr>\n      <th>Values</th>\n      <td>10748</td>\n      <td>2054</td>\n      <td>6201509</td>\n      <td>2209592</td>\n    </tr>\n  </tbody>\n</table>\n</div>"
     },
     "execution_count": 4,
     "metadata": {},
     "output_type": "execute_result"
    }
   ],
   "source": [
    "df = pd.DataFrame(dic['Body']['Data'])\n",
    "df.loc['Values'] = df.loc['Values'].apply(lambda x: x['1'])\n",
    "df"
   ],
   "metadata": {
    "collapsed": false,
    "pycharm": {
     "name": "#%%\n"
    }
   }
  },
  {
   "cell_type": "markdown",
   "source": [
    "### Scope = Device\n",
    "#### Cumulation Inverter Data\n",
    "Data is identical to \"System\"."
   ],
   "metadata": {
    "collapsed": false,
    "pycharm": {
     "name": "#%% md\n"
    }
   }
  },
  {
   "cell_type": "code",
   "source": [
    "url_real_dev = url_real + '?Scope=Device&DeviceId=1'\n",
    "url = url_real_dev + '&DataCollection=CumulationInverterData'\n",
    "\n",
    "dic = requests.get(url).json()\n",
    "dic_data = dic['Body']['Data']\n",
    "dic['Head'], dic_data['DeviceStatus']"
   ],
   "metadata": {
    "collapsed": false,
    "pycharm": {
     "name": "#%%\n"
    }
   },
   "execution_count": 5,
   "outputs": [
    {
     "data": {
      "text/plain": "({'RequestArguments': {'DataCollection': 'CumulationInverterData',\n   'DeviceClass': 'Inverter',\n   'DeviceId': '1',\n   'Scope': 'Device'},\n  'Status': {'Code': 0, 'Reason': '', 'UserMessage': ''},\n  'Timestamp': '2021-06-03T13:10:36+02:00'},\n {'ErrorCode': 0,\n  'LEDColor': 2,\n  'LEDState': 0,\n  'MgmtTimerRemainingTime': -1,\n  'StateToReset': False,\n  'StatusCode': 7})"
     },
     "execution_count": 5,
     "metadata": {},
     "output_type": "execute_result"
    }
   ]
  },
  {
   "cell_type": "code",
   "execution_count": 6,
   "outputs": [],
   "source": [
    "\n",
    "t = dic['Head']['Timestamp']"
   ],
   "metadata": {
    "collapsed": false,
    "pycharm": {
     "name": "#%%\n"
    }
   }
  },
  {
   "cell_type": "code",
   "execution_count": 7,
   "outputs": [
    {
     "data": {
      "text/plain": "      DAY_ENERGY   PAC TOTAL_ENERGY YEAR_ENERGY\nUnit          Wh     W           Wh          Wh\nValue      10750  2052    6201509.5  2209593.25",
      "text/html": "<div>\n<style scoped>\n    .dataframe tbody tr th:only-of-type {\n        vertical-align: middle;\n    }\n\n    .dataframe tbody tr th {\n        vertical-align: top;\n    }\n\n    .dataframe thead th {\n        text-align: right;\n    }\n</style>\n<table border=\"1\" class=\"dataframe\">\n  <thead>\n    <tr style=\"text-align: right;\">\n      <th></th>\n      <th>DAY_ENERGY</th>\n      <th>PAC</th>\n      <th>TOTAL_ENERGY</th>\n      <th>YEAR_ENERGY</th>\n    </tr>\n  </thead>\n  <tbody>\n    <tr>\n      <th>Unit</th>\n      <td>Wh</td>\n      <td>W</td>\n      <td>Wh</td>\n      <td>Wh</td>\n    </tr>\n    <tr>\n      <th>Value</th>\n      <td>10750</td>\n      <td>2052</td>\n      <td>6201509.5</td>\n      <td>2209593.25</td>\n    </tr>\n  </tbody>\n</table>\n</div>"
     },
     "execution_count": 7,
     "metadata": {},
     "output_type": "execute_result"
    }
   ],
   "source": [
    "df = {key: dic_data[key] for key in dic_data.keys() if key != 'DeviceStatus'}\n",
    "pd.DataFrame(df)"
   ],
   "metadata": {
    "collapsed": false,
    "pycharm": {
     "name": "#%%\n"
    }
   }
  },
  {
   "cell_type": "code",
   "execution_count": 8,
   "outputs": [
    {
     "data": {
      "text/plain": "{'Body': {'Data': {'DAY_ENERGY': {'Unit': 'Wh', 'Value': 10750},\n   'DeviceStatus': {'ErrorCode': 0,\n    'LEDColor': 2,\n    'LEDState': 0,\n    'MgmtTimerRemainingTime': -1,\n    'StateToReset': False,\n    'StatusCode': 7},\n   'PAC': {'Unit': 'W', 'Value': 2052},\n   'TOTAL_ENERGY': {'Unit': 'Wh', 'Value': 6201509.5},\n   'YEAR_ENERGY': {'Unit': 'Wh', 'Value': 2209593.25}}},\n 'Head': {'RequestArguments': {'DataCollection': 'CumulationInverterData',\n   'DeviceClass': 'Inverter',\n   'DeviceId': '1',\n   'Scope': 'Device'},\n  'Status': {'Code': 0, 'Reason': '', 'UserMessage': ''},\n  'Timestamp': '2021-06-03T13:10:36+02:00'}}"
     },
     "execution_count": 8,
     "metadata": {},
     "output_type": "execute_result"
    }
   ],
   "source": [
    "dic"
   ],
   "metadata": {
    "collapsed": false,
    "pycharm": {
     "name": "#%%\n"
    }
   }
  },
  {
   "cell_type": "markdown",
   "source": [
    "#### Common Inverter Data\n",
    "- FAC: AC frequency\n",
    "- IAC: AC current (absolute, accumulated over all lines)\n",
    "- IDC: DC current\n",
    "- UAC: AC voltage\n",
    "- UDC: DC voltage"
   ],
   "metadata": {
    "collapsed": false,
    "pycharm": {
     "name": "#%% md\n"
    }
   }
  },
  {
   "cell_type": "code",
   "execution_count": 9,
   "outputs": [
    {
     "data": {
      "text/plain": "({'RequestArguments': {'DataCollection': 'CommonInverterData',\n   'DeviceClass': 'Inverter',\n   'DeviceId': '1',\n   'Scope': 'Device'},\n  'Status': {'Code': 0, 'Reason': '', 'UserMessage': ''},\n  'Timestamp': '2021-06-03T13:10:37+02:00'},\n {'ErrorCode': 0,\n  'LEDColor': 2,\n  'LEDState': 0,\n  'MgmtTimerRemainingTime': -1,\n  'StateToReset': False,\n  'StatusCode': 7})"
     },
     "execution_count": 9,
     "metadata": {},
     "output_type": "execute_result"
    }
   ],
   "source": [
    "url = url_real_dev + '&DataCollection=CommonInverterData'\n",
    "\n",
    "dic = requests.get(url).json()\n",
    "dic_data = dic['Body']['Data']\n",
    "dic['Head'], dic_data['DeviceStatus']"
   ],
   "metadata": {
    "collapsed": false,
    "pycharm": {
     "name": "#%%\n"
    }
   }
  },
  {
   "cell_type": "code",
   "execution_count": 10,
   "outputs": [
    {
     "data": {
      "text/plain": "      DAY_ENERGY FAC   IAC    IDC   PAC TOTAL_ENERGY    UAC  UDC YEAR_ENERGY\nUnit          Wh  Hz     A      A     W           Wh      V    V          Wh\nValue      10750  50  8.75  11.73  2049    6201509.5  234.3  186   2209594.5",
      "text/html": "<div>\n<style scoped>\n    .dataframe tbody tr th:only-of-type {\n        vertical-align: middle;\n    }\n\n    .dataframe tbody tr th {\n        vertical-align: top;\n    }\n\n    .dataframe thead th {\n        text-align: right;\n    }\n</style>\n<table border=\"1\" class=\"dataframe\">\n  <thead>\n    <tr style=\"text-align: right;\">\n      <th></th>\n      <th>DAY_ENERGY</th>\n      <th>FAC</th>\n      <th>IAC</th>\n      <th>IDC</th>\n      <th>PAC</th>\n      <th>TOTAL_ENERGY</th>\n      <th>UAC</th>\n      <th>UDC</th>\n      <th>YEAR_ENERGY</th>\n    </tr>\n  </thead>\n  <tbody>\n    <tr>\n      <th>Unit</th>\n      <td>Wh</td>\n      <td>Hz</td>\n      <td>A</td>\n      <td>A</td>\n      <td>W</td>\n      <td>Wh</td>\n      <td>V</td>\n      <td>V</td>\n      <td>Wh</td>\n    </tr>\n    <tr>\n      <th>Value</th>\n      <td>10750</td>\n      <td>50</td>\n      <td>8.75</td>\n      <td>11.73</td>\n      <td>2049</td>\n      <td>6201509.5</td>\n      <td>234.3</td>\n      <td>186</td>\n      <td>2209594.5</td>\n    </tr>\n  </tbody>\n</table>\n</div>"
     },
     "execution_count": 10,
     "metadata": {},
     "output_type": "execute_result"
    }
   ],
   "source": [
    "df = {key: dic_data[key] for key in dic_data.keys() if key != 'DeviceStatus'}\n",
    "pd.DataFrame(df)"
   ],
   "metadata": {
    "collapsed": false,
    "pycharm": {
     "name": "#%%\n"
    }
   }
  },
  {
   "cell_type": "markdown",
   "source": [
    "#### Min Max Inverter Data"
   ],
   "metadata": {
    "collapsed": false,
    "pycharm": {
     "name": "#%% md\n"
    }
   }
  },
  {
   "cell_type": "code",
   "execution_count": 11,
   "outputs": [
    {
     "data": {
      "text/plain": "{'RequestArguments': {'DataCollection': 'MinMaxInverterData',\n  'DeviceClass': 'Inverter',\n  'DeviceId': '1',\n  'Scope': 'Device'},\n 'Status': {'Code': 0, 'Reason': '', 'UserMessage': ''},\n 'Timestamp': '2021-06-03T13:10:38+02:00'}"
     },
     "execution_count": 11,
     "metadata": {},
     "output_type": "execute_result"
    }
   ],
   "source": [
    "url = url_real_dev + '&DataCollection=MinMaxInverterData'\n",
    "\n",
    "dic = requests.get(url).json()\n",
    "dic['Head']"
   ],
   "metadata": {
    "collapsed": false,
    "pycharm": {
     "name": "#%%\n"
    }
   }
  },
  {
   "cell_type": "code",
   "execution_count": 12,
   "outputs": [
    {
     "data": {
      "text/plain": "      DAY_PMAX DAY_UACMAX DAY_UDCMAX TOTAL_PMAX TOTAL_UACMAX TOTAL_UDCMAX  \\\nUnit         W          V          V          W            V            V   \nValue     4798        261      209.5       5216        267.6        246.1   \n\n      YEAR_PMAX YEAR_UACMAX YEAR_UDCMAX  \nUnit          W           V           V  \nValue      5093       267.6       242.7  ",
      "text/html": "<div>\n<style scoped>\n    .dataframe tbody tr th:only-of-type {\n        vertical-align: middle;\n    }\n\n    .dataframe tbody tr th {\n        vertical-align: top;\n    }\n\n    .dataframe thead th {\n        text-align: right;\n    }\n</style>\n<table border=\"1\" class=\"dataframe\">\n  <thead>\n    <tr style=\"text-align: right;\">\n      <th></th>\n      <th>DAY_PMAX</th>\n      <th>DAY_UACMAX</th>\n      <th>DAY_UDCMAX</th>\n      <th>TOTAL_PMAX</th>\n      <th>TOTAL_UACMAX</th>\n      <th>TOTAL_UDCMAX</th>\n      <th>YEAR_PMAX</th>\n      <th>YEAR_UACMAX</th>\n      <th>YEAR_UDCMAX</th>\n    </tr>\n  </thead>\n  <tbody>\n    <tr>\n      <th>Unit</th>\n      <td>W</td>\n      <td>V</td>\n      <td>V</td>\n      <td>W</td>\n      <td>V</td>\n      <td>V</td>\n      <td>W</td>\n      <td>V</td>\n      <td>V</td>\n    </tr>\n    <tr>\n      <th>Value</th>\n      <td>4798</td>\n      <td>261</td>\n      <td>209.5</td>\n      <td>5216</td>\n      <td>267.6</td>\n      <td>246.1</td>\n      <td>5093</td>\n      <td>267.6</td>\n      <td>242.7</td>\n    </tr>\n  </tbody>\n</table>\n</div>"
     },
     "execution_count": 12,
     "metadata": {},
     "output_type": "execute_result"
    }
   ],
   "source": [
    "pd.DataFrame(dic['Body']['Data'])"
   ],
   "metadata": {
    "collapsed": false,
    "pycharm": {
     "name": "#%%\n"
    }
   }
  },
  {
   "cell_type": "markdown",
   "source": [
    "### Logger Info\n",
    "Information about logging device."
   ],
   "metadata": {
    "collapsed": false,
    "pycharm": {
     "name": "#%% md\n"
    }
   }
  },
  {
   "cell_type": "code",
   "execution_count": 13,
   "outputs": [],
   "source": [
    "url = url_base + '/v1/GetLoggerInfo.cgi'\n",
    "# requests.get(url).json()"
   ],
   "metadata": {
    "collapsed": false,
    "pycharm": {
     "name": "#%%\n"
    }
   }
  },
  {
   "cell_type": "markdown",
   "source": [
    "### Logger LED Info\n",
    "Information of LEDs on the device."
   ],
   "metadata": {
    "collapsed": false,
    "pycharm": {
     "name": "#%% md\n"
    }
   }
  },
  {
   "cell_type": "code",
   "execution_count": 14,
   "outputs": [
    {
     "data": {
      "text/plain": "{'RequestArguments': {},\n 'Status': {'Code': 0, 'Reason': '', 'UserMessage': ''},\n 'Timestamp': '2021-06-03T13:10:39+02:00'}"
     },
     "execution_count": 14,
     "metadata": {},
     "output_type": "execute_result"
    }
   ],
   "source": [
    "url = url_base + '/v1/GetLoggerLEDInfo.cgi'\n",
    "dic = requests.get(url).json()\n",
    "dic['Head']"
   ],
   "metadata": {
    "collapsed": false,
    "pycharm": {
     "name": "#%%\n"
    }
   }
  },
  {
   "cell_type": "code",
   "execution_count": 15,
   "outputs": [
    {
     "data": {
      "text/plain": "      PowerLED SolarNetLED SolarWebLED WLANLED\nColor    green       green       green   green\nState       on          on          on      on",
      "text/html": "<div>\n<style scoped>\n    .dataframe tbody tr th:only-of-type {\n        vertical-align: middle;\n    }\n\n    .dataframe tbody tr th {\n        vertical-align: top;\n    }\n\n    .dataframe thead th {\n        text-align: right;\n    }\n</style>\n<table border=\"1\" class=\"dataframe\">\n  <thead>\n    <tr style=\"text-align: right;\">\n      <th></th>\n      <th>PowerLED</th>\n      <th>SolarNetLED</th>\n      <th>SolarWebLED</th>\n      <th>WLANLED</th>\n    </tr>\n  </thead>\n  <tbody>\n    <tr>\n      <th>Color</th>\n      <td>green</td>\n      <td>green</td>\n      <td>green</td>\n      <td>green</td>\n    </tr>\n    <tr>\n      <th>State</th>\n      <td>on</td>\n      <td>on</td>\n      <td>on</td>\n      <td>on</td>\n    </tr>\n  </tbody>\n</table>\n</div>"
     },
     "execution_count": 15,
     "metadata": {},
     "output_type": "execute_result"
    }
   ],
   "source": [
    "pd.DataFrame(dic['Body']['Data'])"
   ],
   "metadata": {
    "collapsed": false,
    "pycharm": {
     "name": "#%%\n"
    }
   }
  },
  {
   "cell_type": "markdown",
   "source": [
    "### Inverter Info\n",
    "Information about all inverters who were online in the last 24 hours."
   ],
   "metadata": {
    "collapsed": false,
    "pycharm": {
     "name": "#%% md\n"
    }
   }
  },
  {
   "cell_type": "code",
   "execution_count": 16,
   "outputs": [],
   "source": [
    "url = url_base + '/v1/GetInverterInfo.cgi'\n",
    "# requests.get(url).json()"
   ],
   "metadata": {
    "collapsed": false,
    "pycharm": {
     "name": "#%%\n"
    }
   }
  },
  {
   "cell_type": "markdown",
   "source": [
    "### Active Device Info\n",
    "Information about online decives."
   ],
   "metadata": {
    "collapsed": false,
    "pycharm": {
     "name": "#%% md\n"
    }
   }
  },
  {
   "cell_type": "code",
   "execution_count": 17,
   "outputs": [],
   "source": [
    "url = url_base + '/v1/GetActiveDeviceInfo.cgi?DeviceClass=System'\n",
    "# requests.get(url).json()"
   ],
   "metadata": {
    "collapsed": false,
    "pycharm": {
     "name": "#%%\n"
    }
   }
  },
  {
   "cell_type": "markdown",
   "source": [
    "### Power Flow Realtime Data\n",
    "Information about the local energy grid."
   ],
   "metadata": {
    "collapsed": false,
    "pycharm": {
     "name": "#%% md\n"
    }
   }
  },
  {
   "cell_type": "code",
   "execution_count": 18,
   "outputs": [
    {
     "data": {
      "text/plain": "{'RequestArguments': {},\n 'Status': {'Code': 0, 'Reason': '', 'UserMessage': ''},\n 'Timestamp': '2021-06-03T13:10:40+02:00'}"
     },
     "execution_count": 18,
     "metadata": {},
     "output_type": "execute_result"
    }
   ],
   "source": [
    "url = url_base + '/v1/GetPowerFlowRealtimeData.fcgi'\n",
    "dic = requests.get(url).json()\n",
    "dic_dat = dic['Body']['Data']\n",
    "dic['Head'] # , {key: dic_dat[key] for key in dic_dat.keys() if key != 'Inverters'}"
   ],
   "metadata": {
    "collapsed": false,
    "pycharm": {
     "name": "#%%\n"
    }
   }
  },
  {
   "cell_type": "code",
   "execution_count": 19,
   "outputs": [
    {
     "data": {
      "text/plain": "                 1\nDT            76.0\nE_Day      10750.0\nE_Total  6201509.5\nE_Year   2209594.5\nP           2049.0",
      "text/html": "<div>\n<style scoped>\n    .dataframe tbody tr th:only-of-type {\n        vertical-align: middle;\n    }\n\n    .dataframe tbody tr th {\n        vertical-align: top;\n    }\n\n    .dataframe thead th {\n        text-align: right;\n    }\n</style>\n<table border=\"1\" class=\"dataframe\">\n  <thead>\n    <tr style=\"text-align: right;\">\n      <th></th>\n      <th>1</th>\n    </tr>\n  </thead>\n  <tbody>\n    <tr>\n      <th>DT</th>\n      <td>76.0</td>\n    </tr>\n    <tr>\n      <th>E_Day</th>\n      <td>10750.0</td>\n    </tr>\n    <tr>\n      <th>E_Total</th>\n      <td>6201509.5</td>\n    </tr>\n    <tr>\n      <th>E_Year</th>\n      <td>2209594.5</td>\n    </tr>\n    <tr>\n      <th>P</th>\n      <td>2049.0</td>\n    </tr>\n  </tbody>\n</table>\n</div>"
     },
     "execution_count": 19,
     "metadata": {},
     "output_type": "execute_result"
    }
   ],
   "source": [
    "pd.DataFrame(dic_dat['Inverters'])"
   ],
   "metadata": {
    "collapsed": false,
    "pycharm": {
     "name": "#%%\n"
    }
   }
  },
  {
   "cell_type": "markdown",
   "source": [
    "## Archive Data\n",
    "- Requests can be made for up to 16 days.\n",
    "- 5 minute frequency"
   ],
   "metadata": {
    "collapsed": false,
    "pycharm": {
     "name": "#%% md\n"
    }
   }
  },
  {
   "cell_type": "code",
   "execution_count": 20,
   "outputs": [
    {
     "data": {
      "text/plain": "[{'RequestArguments': {'Channel': ['TimeSpanInSec',\n    'EnergyReal_WAC_Sum_Produced',\n    'InverterErrors',\n    'Current_DC_String_1',\n    'Current_DC_String_2',\n    'Voltage_DC_String_1',\n    'Voltage_DC_String_2',\n    'Temperature_Powerstage',\n    'Voltage_AC_Phase_1',\n    'Current_AC_Phase_1',\n    'PowerReal_PAC_Sum'],\n   'EndDate': '2021-01-17T23:59:59+01:00',\n   'HumanReadable': 'True',\n   'Scope': 'System',\n   'SeriesType': 'Detail',\n   'StartDate': '2021-01-01T00:00:00+01:00'},\n  'Status': {'Code': 0,\n   'ErrorDetail': {'Nodes': []},\n   'Reason': '',\n   'UserMessage': ''},\n  'Timestamp': '2021-06-03T13:10:57+02:00'},\n {'DeviceType': 76,\n  'End': '2021-01-17T23:59:59+01:00',\n  'NodeType': 97,\n  'Start': '2021-01-01T00:00:00+01:00'},\n {'Current_AC_Phase_1': {'Unit': 'A', '_comment': 'channelId=65794'},\n  'Current_DC_String_1': {'Unit': 'A', '_comment': 'channelId=65794'},\n  'Current_DC_String_2': {'Unit': 'A', '_comment': 'channelId=65794'},\n  'EnergyReal_WAC_Sum_Produced': {'Unit': 'A', '_comment': 'channelId=65794'},\n  'InverterErrors': {'Unit': 'A', '_comment': 'channelId=65794'},\n  'PowerReal_PAC_Sum': {'Unit': 'A', '_comment': 'channelId=65794'},\n  'Temperature_Powerstage': {'Unit': 'A', '_comment': 'channelId=65794'},\n  'TimeSpanInSec': {'Unit': 'A', '_comment': 'channelId=65794'},\n  'Voltage_AC_Phase_1': {'Unit': 'A', '_comment': 'channelId=65794'},\n  'Voltage_DC_String_1': {'Unit': 'A', '_comment': 'channelId=65794'},\n  'Voltage_DC_String_2': {'Unit': 'A', '_comment': 'channelId=65794'}}]"
     },
     "execution_count": 20,
     "metadata": {},
     "output_type": "execute_result"
    }
   ],
   "source": [
    "start = pd.Timestamp('2021-01-01')\n",
    "end = start + pd.Timedelta('16d')\n",
    "url = url_base + '/v1/GetArchiveData.cgi' \\\n",
    "                 '?Scope=System&StartDate={}&EndDate={}'.format(start, end)\n",
    "channels = [\n",
    "    'TimeSpanInSec', 'EnergyReal_WAC_Sum_Produced', 'InverterErrors',\n",
    "    'Current_DC_String_1', 'Current_DC_String_2', 'Voltage_DC_String_1',\n",
    "    'Voltage_DC_String_2', 'Temperature_Powerstage', 'Voltage_AC_Phase_1',\n",
    "    'Current_AC_Phase_1', 'PowerReal_PAC_Sum'\n",
    "]\n",
    "\n",
    "for cha in channels:\n",
    "    url += '&Channel={}'.format(cha)\n",
    "\n",
    "dic = requests.get(url).json()\n",
    "\n",
    "inv = dic['Body']['Data']['inverter/1']\n",
    "dat = inv['Data']\n",
    "dat_0 = dat[list(dat.keys())[0]]\n",
    "\n",
    "[dic['Head'], {key: inv[key] for key in inv.keys() if key != 'Data'},\n",
    " {key_out: {key_in: dat_0[key_in] for key_in in dat_0.keys()\n",
    "            if key_in != 'Values'} for key_out in dat.keys()}]"
   ],
   "metadata": {
    "collapsed": false,
    "pycharm": {
     "name": "#%%\n"
    }
   }
  },
  {
   "cell_type": "code",
   "execution_count": 21,
   "outputs": [
    {
     "data": {
      "text/plain": "                     Current_AC_Phase_1  Current_DC_String_1  \\\n2021-01-01 08:10:00                5.00                 2.02   \n2021-01-01 08:15:00                8.74                 2.72   \n2021-01-01 08:20:00                8.08                 2.26   \n2021-01-01 08:25:00                6.46                 1.93   \n2021-01-01 08:30:00                5.61                 2.22   \n...                                 ...                  ...   \n2021-01-17 16:40:00                3.98                 2.47   \n2021-01-17 16:45:00                2.14                 1.38   \n2021-01-17 16:50:00                1.22                 0.83   \n2021-01-17 16:55:00                2.99                 1.65   \n2021-01-17 17:00:00                8.73                 3.75   \n\n                     Current_DC_String_2  EnergyReal_WAC_Sum_Produced  \\\n2021-01-01 08:10:00                 4.34                    96.588333   \n2021-01-01 08:15:00                 8.69                   172.974722   \n2021-01-01 08:20:00                 7.91                   160.368611   \n2021-01-01 08:25:00                 6.82                   125.732222   \n2021-01-01 08:30:00                 5.16                   110.955833   \n...                                  ...                          ...   \n2021-01-17 16:40:00                 2.49                    78.125833   \n2021-01-17 16:45:00                 1.38                    40.990000   \n2021-01-17 16:50:00                 0.84                    23.760278   \n2021-01-17 16:55:00                 2.10                    57.606111   \n2021-01-17 17:00:00                 7.23                   173.001667   \n\n                     InverterErrors  PowerReal_PAC_Sum  \\\n2021-01-01 08:10:00             NaN        1170.767677   \n2021-01-01 08:15:00             NaN        2061.950331   \n2021-01-01 08:20:00             NaN        1911.678808   \n2021-01-01 08:25:00             NaN        1524.026936   \n2021-01-01 08:30:00             NaN        1322.652318   \n...                             ...                ...   \n2021-01-17 16:40:00             NaN         931.301325   \n2021-01-17 16:45:00             NaN         496.848485   \n2021-01-17 16:50:00             NaN         283.235099   \n2021-01-17 16:55:00             NaN         698.255892   \n2021-01-17 17:00:00             NaN        2062.271523   \n\n                     Temperature_Powerstage  TimeSpanInSec  \\\n2021-01-01 08:10:00                    40.0            297   \n2021-01-01 08:15:00                    40.0            302   \n2021-01-01 08:20:00                    41.0            302   \n2021-01-01 08:25:00                    41.0            297   \n2021-01-01 08:30:00                    40.0            302   \n...                                     ...            ...   \n2021-01-17 16:40:00                    40.0            302   \n2021-01-17 16:45:00                    38.0            297   \n2021-01-17 16:50:00                    37.0            302   \n2021-01-17 16:55:00                    37.0            297   \n2021-01-17 17:00:00                    40.0            302   \n\n                     Voltage_AC_Phase_1  Voltage_DC_String_1  \\\n2021-01-01 08:10:00               233.5                204.5   \n2021-01-01 08:15:00               235.4                191.8   \n2021-01-01 08:20:00               236.0                202.8   \n2021-01-01 08:25:00               235.5                202.9   \n2021-01-01 08:30:00               235.5                211.7   \n...                                 ...                  ...   \n2021-01-17 16:40:00               233.6                199.3   \n2021-01-17 16:45:00               231.9                195.6   \n2021-01-17 16:50:00               232.0                192.2   \n2021-01-17 16:55:00               232.8                201.9   \n2021-01-17 17:00:00               235.5                203.5   \n\n                     Voltage_DC_String_2  \n2021-01-01 08:10:00                191.5  \n2021-01-01 08:15:00                189.7  \n2021-01-01 08:20:00                196.9  \n2021-01-01 08:25:00                179.6  \n2021-01-01 08:30:00                180.1  \n...                                  ...  \n2021-01-17 16:40:00                197.9  \n2021-01-17 16:45:00                194.9  \n2021-01-17 16:50:00                190.8  \n2021-01-17 16:55:00                193.7  \n2021-01-17 17:00:00                193.9  \n\n[1804 rows x 11 columns]",
      "text/html": "<div>\n<style scoped>\n    .dataframe tbody tr th:only-of-type {\n        vertical-align: middle;\n    }\n\n    .dataframe tbody tr th {\n        vertical-align: top;\n    }\n\n    .dataframe thead th {\n        text-align: right;\n    }\n</style>\n<table border=\"1\" class=\"dataframe\">\n  <thead>\n    <tr style=\"text-align: right;\">\n      <th></th>\n      <th>Current_AC_Phase_1</th>\n      <th>Current_DC_String_1</th>\n      <th>Current_DC_String_2</th>\n      <th>EnergyReal_WAC_Sum_Produced</th>\n      <th>InverterErrors</th>\n      <th>PowerReal_PAC_Sum</th>\n      <th>Temperature_Powerstage</th>\n      <th>TimeSpanInSec</th>\n      <th>Voltage_AC_Phase_1</th>\n      <th>Voltage_DC_String_1</th>\n      <th>Voltage_DC_String_2</th>\n    </tr>\n  </thead>\n  <tbody>\n    <tr>\n      <th>2021-01-01 08:10:00</th>\n      <td>5.00</td>\n      <td>2.02</td>\n      <td>4.34</td>\n      <td>96.588333</td>\n      <td>NaN</td>\n      <td>1170.767677</td>\n      <td>40.0</td>\n      <td>297</td>\n      <td>233.5</td>\n      <td>204.5</td>\n      <td>191.5</td>\n    </tr>\n    <tr>\n      <th>2021-01-01 08:15:00</th>\n      <td>8.74</td>\n      <td>2.72</td>\n      <td>8.69</td>\n      <td>172.974722</td>\n      <td>NaN</td>\n      <td>2061.950331</td>\n      <td>40.0</td>\n      <td>302</td>\n      <td>235.4</td>\n      <td>191.8</td>\n      <td>189.7</td>\n    </tr>\n    <tr>\n      <th>2021-01-01 08:20:00</th>\n      <td>8.08</td>\n      <td>2.26</td>\n      <td>7.91</td>\n      <td>160.368611</td>\n      <td>NaN</td>\n      <td>1911.678808</td>\n      <td>41.0</td>\n      <td>302</td>\n      <td>236.0</td>\n      <td>202.8</td>\n      <td>196.9</td>\n    </tr>\n    <tr>\n      <th>2021-01-01 08:25:00</th>\n      <td>6.46</td>\n      <td>1.93</td>\n      <td>6.82</td>\n      <td>125.732222</td>\n      <td>NaN</td>\n      <td>1524.026936</td>\n      <td>41.0</td>\n      <td>297</td>\n      <td>235.5</td>\n      <td>202.9</td>\n      <td>179.6</td>\n    </tr>\n    <tr>\n      <th>2021-01-01 08:30:00</th>\n      <td>5.61</td>\n      <td>2.22</td>\n      <td>5.16</td>\n      <td>110.955833</td>\n      <td>NaN</td>\n      <td>1322.652318</td>\n      <td>40.0</td>\n      <td>302</td>\n      <td>235.5</td>\n      <td>211.7</td>\n      <td>180.1</td>\n    </tr>\n    <tr>\n      <th>...</th>\n      <td>...</td>\n      <td>...</td>\n      <td>...</td>\n      <td>...</td>\n      <td>...</td>\n      <td>...</td>\n      <td>...</td>\n      <td>...</td>\n      <td>...</td>\n      <td>...</td>\n      <td>...</td>\n    </tr>\n    <tr>\n      <th>2021-01-17 16:40:00</th>\n      <td>3.98</td>\n      <td>2.47</td>\n      <td>2.49</td>\n      <td>78.125833</td>\n      <td>NaN</td>\n      <td>931.301325</td>\n      <td>40.0</td>\n      <td>302</td>\n      <td>233.6</td>\n      <td>199.3</td>\n      <td>197.9</td>\n    </tr>\n    <tr>\n      <th>2021-01-17 16:45:00</th>\n      <td>2.14</td>\n      <td>1.38</td>\n      <td>1.38</td>\n      <td>40.990000</td>\n      <td>NaN</td>\n      <td>496.848485</td>\n      <td>38.0</td>\n      <td>297</td>\n      <td>231.9</td>\n      <td>195.6</td>\n      <td>194.9</td>\n    </tr>\n    <tr>\n      <th>2021-01-17 16:50:00</th>\n      <td>1.22</td>\n      <td>0.83</td>\n      <td>0.84</td>\n      <td>23.760278</td>\n      <td>NaN</td>\n      <td>283.235099</td>\n      <td>37.0</td>\n      <td>302</td>\n      <td>232.0</td>\n      <td>192.2</td>\n      <td>190.8</td>\n    </tr>\n    <tr>\n      <th>2021-01-17 16:55:00</th>\n      <td>2.99</td>\n      <td>1.65</td>\n      <td>2.10</td>\n      <td>57.606111</td>\n      <td>NaN</td>\n      <td>698.255892</td>\n      <td>37.0</td>\n      <td>297</td>\n      <td>232.8</td>\n      <td>201.9</td>\n      <td>193.7</td>\n    </tr>\n    <tr>\n      <th>2021-01-17 17:00:00</th>\n      <td>8.73</td>\n      <td>3.75</td>\n      <td>7.23</td>\n      <td>173.001667</td>\n      <td>NaN</td>\n      <td>2062.271523</td>\n      <td>40.0</td>\n      <td>302</td>\n      <td>235.5</td>\n      <td>203.5</td>\n      <td>193.9</td>\n    </tr>\n  </tbody>\n</table>\n<p>1804 rows × 11 columns</p>\n</div>"
     },
     "execution_count": 21,
     "metadata": {},
     "output_type": "execute_result"
    }
   ],
   "source": [
    "df = pd.DataFrame({key: dat[key]['Values'] for key in dat.keys()})\n",
    "\n",
    "origin = (start - pd.Timestamp('1970-01-01')) // pd.Timedelta('1 s')\n",
    "dt = df.index.astype('int') + origin\n",
    "df.index = pd.to_datetime(dt, unit='s').sort_values()\n",
    "\n",
    "df\n"
   ],
   "metadata": {
    "collapsed": false,
    "pycharm": {
     "name": "#%%\n"
    }
   }
  }
 ],
 "metadata": {
  "kernelspec": {
   "display_name": "Python 3",
   "language": "python",
   "name": "python3"
  },
  "language_info": {
   "codemirror_mode": {
    "name": "ipython",
    "version": 2
   },
   "file_extension": ".py",
   "mimetype": "text/x-python",
   "name": "python",
   "nbconvert_exporter": "python",
   "pygments_lexer": "ipython2",
   "version": "2.7.6"
  }
 },
 "nbformat": 4,
 "nbformat_minor": 0
}