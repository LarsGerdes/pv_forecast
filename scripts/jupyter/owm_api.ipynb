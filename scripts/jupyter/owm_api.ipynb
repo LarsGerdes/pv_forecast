{
 "cells": [
  {
   "cell_type": "markdown",
   "source": [
    "# Open Weather Map\n",
    "Exploration of openweathermap.org API.\n",
    "## Prerequisits"
   ],
   "metadata": {
    "collapsed": false,
    "pycharm": {
     "name": "#%% md\n"
    }
   }
  },
  {
   "cell_type": "code",
   "execution_count": 1,
   "metadata": {
    "collapsed": true
   },
   "outputs": [],
   "source": [
    "import toml\n",
    "import requests\n",
    "import pandas as pd\n",
    "\n",
    "def del_lst(x):\n",
    "    return x[0]\n",
    "\n",
    "conf = toml.load('../../conf.toml')\n",
    "owm = conf['owm']\n",
    "\n",
    "url = 'https://api.openweathermap.org/data/2.5/onecall?lat={lat}&lon={lng}' \\\n",
    "      '&units=metric&APPID={key}'\n",
    "url = url.format(lat=owm['lat'], lng=owm['lng'], key=owm['key'])"
   ]
  },
  {
   "cell_type": "markdown",
   "source": [
    "## API\n",
    "Get data from API and safe json file."
   ],
   "metadata": {
    "collapsed": false,
    "pycharm": {
     "name": "#%% md\n"
    }
   }
  },
  {
   "cell_type": "code",
   "execution_count": 2,
   "outputs": [
    {
     "data": {
      "text/plain": "dict_keys(['lat', 'lon', 'timezone', 'timezone_offset', 'current', 'minutely', 'hourly', 'daily'])"
     },
     "execution_count": 2,
     "metadata": {},
     "output_type": "execute_result"
    }
   ],
   "source": [
    "response = requests.get(url)\n",
    "data = response.json()\n",
    "data.keys()"
   ],
   "metadata": {
    "collapsed": false,
    "pycharm": {
     "name": "#%%\n"
    }
   }
  },
  {
   "cell_type": "markdown",
   "source": [
    "## Current Weather\n",
    "- Timezone is UTC\n",
    "- temp, feels_like, dew_point: °C\n",
    "- pressure: hPa\n",
    "- humidity, clouds: %\n",
    "- uvi: UV Index\n",
    "- visibility: m\n",
    "- wind_speed: m / s\n",
    "- wind_deg: °"
   ],
   "metadata": {
    "collapsed": false,
    "pycharm": {
     "name": "#%% md\n"
    }
   }
  },
  {
   "cell_type": "code",
   "execution_count": 3,
   "outputs": [
    {
     "data": {
      "text/plain": "                          timezone timezone_offset             sunrise  \\\ndt                                                                       \n2021-05-24 20:38:26  Europe/Berlin 0 days 02:00:00 2021-05-24 03:15:28   \n\n                                 sunset   temp  feels_like  pressure  \\\ndt                                                                     \n2021-05-24 20:38:26 2021-05-24 19:37:04  10.33        9.85      1006   \n\n                     humidity  dew_point  uvi  clouds  visibility  wind_speed  \\\ndt                                                                              \n2021-05-24 20:38:26        93       9.25    0      75       10000        1.54   \n\n                     wind_deg   id    main    description icon  \ndt                                                              \n2021-05-24 20:38:26       190  803  Clouds  broken clouds  04n  ",
      "text/html": "<div>\n<style scoped>\n    .dataframe tbody tr th:only-of-type {\n        vertical-align: middle;\n    }\n\n    .dataframe tbody tr th {\n        vertical-align: top;\n    }\n\n    .dataframe thead th {\n        text-align: right;\n    }\n</style>\n<table border=\"1\" class=\"dataframe\">\n  <thead>\n    <tr style=\"text-align: right;\">\n      <th></th>\n      <th>timezone</th>\n      <th>timezone_offset</th>\n      <th>sunrise</th>\n      <th>sunset</th>\n      <th>temp</th>\n      <th>feels_like</th>\n      <th>pressure</th>\n      <th>humidity</th>\n      <th>dew_point</th>\n      <th>uvi</th>\n      <th>clouds</th>\n      <th>visibility</th>\n      <th>wind_speed</th>\n      <th>wind_deg</th>\n      <th>id</th>\n      <th>main</th>\n      <th>description</th>\n      <th>icon</th>\n    </tr>\n    <tr>\n      <th>dt</th>\n      <th></th>\n      <th></th>\n      <th></th>\n      <th></th>\n      <th></th>\n      <th></th>\n      <th></th>\n      <th></th>\n      <th></th>\n      <th></th>\n      <th></th>\n      <th></th>\n      <th></th>\n      <th></th>\n      <th></th>\n      <th></th>\n      <th></th>\n      <th></th>\n    </tr>\n  </thead>\n  <tbody>\n    <tr>\n      <th>2021-05-24 20:38:26</th>\n      <td>Europe/Berlin</td>\n      <td>0 days 02:00:00</td>\n      <td>2021-05-24 03:15:28</td>\n      <td>2021-05-24 19:37:04</td>\n      <td>10.33</td>\n      <td>9.85</td>\n      <td>1006</td>\n      <td>93</td>\n      <td>9.25</td>\n      <td>0</td>\n      <td>75</td>\n      <td>10000</td>\n      <td>1.54</td>\n      <td>190</td>\n      <td>803</td>\n      <td>Clouds</td>\n      <td>broken clouds</td>\n      <td>04n</td>\n    </tr>\n  </tbody>\n</table>\n</div>"
     },
     "execution_count": 3,
     "metadata": {},
     "output_type": "execute_result"
    }
   ],
   "source": [
    "keys = ['timezone', 'timezone_offset', 'current']\n",
    "time = ['dt', 'sunrise', 'sunset']\n",
    "\n",
    "cur = pd.DataFrame(list(map(data.get, keys)), keys).T\n",
    "cur = cur.join(pd.DataFrame(cur.current[0], [0]))\n",
    "cur = cur.join(pd.DataFrame(cur.weather[0], [0]))\n",
    "cur = cur.drop(columns=['current', 'weather'])\n",
    "\n",
    "cur['timezone_offset'] = pd.to_timedelta(cur.timezone_offset, 's')\n",
    "cur[time] = cur[time].apply(pd.to_datetime, unit='s')\n",
    "cur = cur.set_index('dt')\n",
    "cur"
   ],
   "metadata": {
    "collapsed": false,
    "pycharm": {
     "name": "#%%\n"
    }
   }
  },
  {
   "cell_type": "markdown",
   "source": [
    "### Alerts"
   ],
   "metadata": {
    "collapsed": false,
    "pycharm": {
     "name": "#%% md\n"
    }
   }
  },
  {
   "cell_type": "code",
   "execution_count": 4,
   "outputs": [],
   "source": [
    "# ale = pd.DataFrame(data['alerts'], ['german', 'english'])\n",
    "#\n",
    "# time = ['start', 'end']\n",
    "#\n",
    "# ale[time] = ale[time].apply(pd.to_datetime, unit='s')\n",
    "# ale"
   ],
   "metadata": {
    "collapsed": false,
    "pycharm": {
     "name": "#%%\n"
    }
   }
  },
  {
   "cell_type": "markdown",
   "source": [
    "## Minutely Data\n",
    "- 1 hour\n",
    "- 60 observations\n",
    "- precipitation: mm"
   ],
   "metadata": {
    "collapsed": false,
    "pycharm": {
     "name": "#%% md\n"
    }
   }
  },
  {
   "cell_type": "code",
   "execution_count": 5,
   "outputs": [
    {
     "data": {
      "text/plain": "                     precipitation\ndt                                \n2021-05-24 20:39:00              0\n2021-05-24 20:40:00              0\n2021-05-24 20:41:00              0\n2021-05-24 20:42:00              0\n2021-05-24 20:43:00              0\n...                            ...\n2021-05-24 21:35:00              0\n2021-05-24 21:36:00              0\n2021-05-24 21:37:00              0\n2021-05-24 21:38:00              0\n2021-05-24 21:39:00              0\n\n[61 rows x 1 columns]",
      "text/html": "<div>\n<style scoped>\n    .dataframe tbody tr th:only-of-type {\n        vertical-align: middle;\n    }\n\n    .dataframe tbody tr th {\n        vertical-align: top;\n    }\n\n    .dataframe thead th {\n        text-align: right;\n    }\n</style>\n<table border=\"1\" class=\"dataframe\">\n  <thead>\n    <tr style=\"text-align: right;\">\n      <th></th>\n      <th>precipitation</th>\n    </tr>\n    <tr>\n      <th>dt</th>\n      <th></th>\n    </tr>\n  </thead>\n  <tbody>\n    <tr>\n      <th>2021-05-24 20:39:00</th>\n      <td>0</td>\n    </tr>\n    <tr>\n      <th>2021-05-24 20:40:00</th>\n      <td>0</td>\n    </tr>\n    <tr>\n      <th>2021-05-24 20:41:00</th>\n      <td>0</td>\n    </tr>\n    <tr>\n      <th>2021-05-24 20:42:00</th>\n      <td>0</td>\n    </tr>\n    <tr>\n      <th>2021-05-24 20:43:00</th>\n      <td>0</td>\n    </tr>\n    <tr>\n      <th>...</th>\n      <td>...</td>\n    </tr>\n    <tr>\n      <th>2021-05-24 21:35:00</th>\n      <td>0</td>\n    </tr>\n    <tr>\n      <th>2021-05-24 21:36:00</th>\n      <td>0</td>\n    </tr>\n    <tr>\n      <th>2021-05-24 21:37:00</th>\n      <td>0</td>\n    </tr>\n    <tr>\n      <th>2021-05-24 21:38:00</th>\n      <td>0</td>\n    </tr>\n    <tr>\n      <th>2021-05-24 21:39:00</th>\n      <td>0</td>\n    </tr>\n  </tbody>\n</table>\n<p>61 rows × 1 columns</p>\n</div>"
     },
     "execution_count": 5,
     "metadata": {},
     "output_type": "execute_result"
    }
   ],
   "source": [
    "mnt = pd.DataFrame(data['minutely'])\n",
    "mnt = mnt.set_index('dt')\n",
    "mnt.index = pd.to_datetime(mnt.index, unit='s')\n",
    "mnt"
   ],
   "metadata": {
    "collapsed": false,
    "pycharm": {
     "name": "#%%\n"
    }
   }
  },
  {
   "cell_type": "markdown",
   "source": [
    "## Hourly Data\n",
    "- 2 days\n",
    "- 48 observations\n",
    "- wind_gust: metre/sec\n",
    "- pop: %\n",
    "- rain: mm"
   ],
   "metadata": {
    "collapsed": false,
    "pycharm": {
     "name": "#%% md\n"
    }
   }
  },
  {
   "cell_type": "code",
   "execution_count": 6,
   "outputs": [
    {
     "data": {
      "text/plain": "                      temp  feels_like  pressure  humidity  dew_point   uvi  \\\ndt                                                                            \n2021-05-24 20:00:00  10.22        9.75      1006        94       9.30  0.00   \n2021-05-24 21:00:00  10.33        9.85      1006        93       9.25  0.00   \n2021-05-24 22:00:00  10.05        9.57      1006        94       9.13  0.00   \n2021-05-24 23:00:00   9.59        7.87      1006        95       8.83  0.00   \n2021-05-25 00:00:00   8.88        6.78      1007        96       8.28  0.00   \n2021-05-25 01:00:00   8.26        5.84      1006        97       7.81  0.00   \n2021-05-25 02:00:00   7.80        5.08      1006        98       7.41  0.00   \n2021-05-25 03:00:00   7.94        5.02      1006        95       7.19  0.00   \n2021-05-25 04:00:00   7.73        4.66      1006        95       7.02  0.00   \n2021-05-25 05:00:00   7.80        4.42      1007        95       7.15  0.10   \n2021-05-25 06:00:00   8.12        4.64      1007        95       7.39  0.24   \n2021-05-25 07:00:00   8.21        4.87      1007        95       7.43  0.31   \n2021-05-25 08:00:00   8.24        4.99      1007        94       7.38  0.53   \n2021-05-25 09:00:00   8.67        5.30      1007        93       7.45  0.76   \n2021-05-25 10:00:00   8.72        5.23      1007        93       7.57  0.63   \n2021-05-25 11:00:00   8.96        5.57      1008        91       7.57  0.70   \n2021-05-25 12:00:00   8.06        4.51      1008        94       7.21  0.70   \n2021-05-25 13:00:00   7.91        4.47      1008        94       7.01  1.47   \n2021-05-25 14:00:00   8.36        4.96      1008        93       7.22  1.17   \n2021-05-25 15:00:00   8.55        5.30      1007        93       7.52  0.82   \n2021-05-25 16:00:00   8.54        5.26      1007        94       7.68  0.32   \n2021-05-25 17:00:00   8.01        4.52      1007        95       7.23  0.16   \n2021-05-25 18:00:00   8.17        4.67      1007        95       7.38  0.06   \n2021-05-25 19:00:00   8.37        4.84      1007        94       7.44  0.00   \n2021-05-25 20:00:00   8.14        4.57      1008        95       7.35  0.00   \n2021-05-25 21:00:00   7.96        4.26      1008        95       7.21  0.00   \n2021-05-25 22:00:00   7.31        3.24      1008        93       6.20  0.00   \n2021-05-25 23:00:00   7.16        3.21      1008        92       6.02  0.00   \n2021-05-26 00:00:00   7.75        4.25      1008        93       6.51  0.00   \n2021-05-26 01:00:00   7.85        4.57      1007        95       7.07  0.00   \n2021-05-26 02:00:00   7.74        4.31      1007        96       7.07  0.00   \n2021-05-26 03:00:00   7.81        4.18      1007        95       7.12  0.00   \n2021-05-26 04:00:00   7.85        4.28      1007        95       7.13  0.00   \n2021-05-26 05:00:00   7.98        4.46      1007        95       7.22  0.23   \n2021-05-26 06:00:00   8.68        5.22      1007        94       7.74  0.58   \n2021-05-26 07:00:00   9.54        6.21      1007        92       8.20  0.90   \n2021-05-26 08:00:00  10.24        9.59      1007        87       8.18  1.51   \n2021-05-26 09:00:00  11.11       10.37      1006        80       7.88  2.17   \n2021-05-26 10:00:00  11.45       10.69      1006        78       7.67  0.92   \n2021-05-26 11:00:00  11.59       10.82      1006        77       7.60  1.03   \n2021-05-26 12:00:00  11.04       10.24      1006        78       7.42  1.03   \n2021-05-26 13:00:00   9.47        5.51      1005        90       7.86  0.77   \n2021-05-26 14:00:00   8.80        4.72      1005        94       7.92  0.61   \n2021-05-26 15:00:00   9.07        5.62      1005        96       8.40  0.42   \n2021-05-26 16:00:00   9.62        6.51      1005        94       8.71  1.39   \n2021-05-26 17:00:00   9.57        6.27      1006        93       8.57  0.70   \n2021-05-26 18:00:00   9.46        6.22      1006        92       8.10  0.28   \n2021-05-26 19:00:00   9.16        5.64      1007        92       7.90  0.00   \n\n                     clouds  visibility  wind_speed  wind_deg  wind_gust  \\\ndt                                                                         \n2021-05-24 20:00:00      80       10000        2.96       153       4.99   \n2021-05-24 21:00:00      75       10000        2.92       146       4.19   \n2021-05-24 22:00:00      80       10000        3.08       155       5.37   \n2021-05-24 23:00:00      85       10000        3.27       155       6.04   \n2021-05-25 00:00:00      88       10000        3.69       155       7.96   \n2021-05-25 01:00:00      95       10000        4.05       176       9.01   \n2021-05-25 02:00:00      92       10000        4.45       193       8.94   \n2021-05-25 03:00:00      95       10000        4.98       207       9.70   \n2021-05-25 04:00:00      96       10000        5.22       200      10.38   \n2021-05-25 05:00:00      97       10000        6.09       191      11.18   \n2021-05-25 06:00:00      97       10000        6.62       199      10.55   \n2021-05-25 07:00:00     100        7604        6.29       215       9.56   \n2021-05-25 08:00:00     100       10000        6.06       211       8.96   \n2021-05-25 09:00:00     100       10000        6.76       209       9.30   \n2021-05-25 10:00:00     100       10000        7.21       207      10.15   \n2021-05-25 11:00:00     100        6871        7.12       211      10.33   \n2021-05-25 12:00:00     100        6634        6.79       233      10.44   \n2021-05-25 13:00:00     100        6994        6.33       235      11.27   \n2021-05-25 14:00:00     100       10000        6.60       236      11.84   \n2021-05-25 15:00:00     100        7981        6.30       241      11.82   \n2021-05-25 16:00:00     100        8339        6.38       261      11.67   \n2021-05-25 17:00:00     100        8544        6.57       269      11.87   \n2021-05-25 18:00:00     100       10000        6.75       260      12.41   \n2021-05-25 19:00:00     100       10000        7.03       258      12.13   \n2021-05-25 20:00:00     100        7288        6.94       265      11.20   \n2021-05-25 21:00:00     100        8299        7.20       264      12.12   \n2021-05-25 22:00:00     100       10000        7.79       283      12.63   \n2021-05-25 23:00:00     100       10000        7.25       268      13.21   \n2021-05-26 00:00:00     100       10000        6.40       251      12.36   \n2021-05-26 01:00:00     100       10000        5.84       226      10.99   \n2021-05-26 02:00:00     100       10000        6.17       225      11.70   \n2021-05-26 03:00:00     100       10000        6.83       231      12.34   \n2021-05-26 04:00:00     100       10000        6.67       230      11.98   \n2021-05-26 05:00:00     100       10000        6.65       230      11.80   \n2021-05-26 06:00:00     100       10000        7.08       231      11.80   \n2021-05-26 07:00:00     100       10000        7.49       235      11.40   \n2021-05-26 08:00:00     100       10000        7.95       238      11.31   \n2021-05-26 09:00:00     100       10000        8.50       243      11.89   \n2021-05-26 10:00:00     100       10000        8.51       247      12.26   \n2021-05-26 11:00:00     100       10000        8.37       248      12.71   \n2021-05-26 12:00:00     100       10000        9.04       245      14.02   \n2021-05-26 13:00:00     100        7222        9.99       236      15.54   \n2021-05-26 14:00:00     100       10000        9.57       236      15.33   \n2021-05-26 15:00:00     100       10000        7.44       257      11.33   \n2021-05-26 16:00:00     100       10000        6.81       269      11.90   \n2021-05-26 17:00:00     100       10000        7.41       272      11.67   \n2021-05-26 18:00:00     100       10000        7.08       280      11.59   \n2021-05-26 19:00:00      97       10000        7.76       277      12.99   \n\n                      pop  precipitation   id    main      description icon  \ndt                                                                           \n2021-05-24 20:00:00  0.47           0.00  803  Clouds    broken clouds  04n  \n2021-05-24 21:00:00  0.26           0.00  803  Clouds    broken clouds  04n  \n2021-05-24 22:00:00  0.17           0.00  803  Clouds    broken clouds  04n  \n2021-05-24 23:00:00  0.19           0.00  804  Clouds  overcast clouds  04n  \n2021-05-25 00:00:00  0.26           0.13  500    Rain       light rain  10n  \n2021-05-25 01:00:00  0.36           0.00  804  Clouds  overcast clouds  04n  \n2021-05-25 02:00:00  0.30           0.00  804  Clouds  overcast clouds  04n  \n2021-05-25 03:00:00  0.36           0.22  500    Rain       light rain  10n  \n2021-05-25 04:00:00  0.43           0.00  804  Clouds  overcast clouds  04d  \n2021-05-25 05:00:00  0.43           0.00  804  Clouds  overcast clouds  04d  \n2021-05-25 06:00:00  0.55           0.49  500    Rain       light rain  10d  \n2021-05-25 07:00:00  0.83           1.36  501    Rain    moderate rain  10d  \n2021-05-25 08:00:00  0.89           1.37  501    Rain    moderate rain  10d  \n2021-05-25 09:00:00  0.90           0.78  500    Rain       light rain  10d  \n2021-05-25 10:00:00  0.87           0.48  500    Rain       light rain  10d  \n2021-05-25 11:00:00  0.87           1.12  501    Rain    moderate rain  10d  \n2021-05-25 12:00:00  0.94           2.00  501    Rain    moderate rain  10d  \n2021-05-25 13:00:00  0.99           2.10  501    Rain    moderate rain  10d  \n2021-05-25 14:00:00  0.99           1.28  501    Rain    moderate rain  10d  \n2021-05-25 15:00:00  0.99           1.31  501    Rain    moderate rain  10d  \n2021-05-25 16:00:00  0.99           1.73  501    Rain    moderate rain  10d  \n2021-05-25 17:00:00  1.00           1.55  501    Rain    moderate rain  10d  \n2021-05-25 18:00:00  1.00           1.23  501    Rain    moderate rain  10d  \n2021-05-25 19:00:00  0.98           0.87  500    Rain       light rain  10d  \n2021-05-25 20:00:00  0.95           1.70  501    Rain    moderate rain  10n  \n2021-05-25 21:00:00  0.98           1.67  501    Rain    moderate rain  10n  \n2021-05-25 22:00:00  1.00           1.73  501    Rain    moderate rain  10n  \n2021-05-25 23:00:00  1.00           1.94  501    Rain    moderate rain  10n  \n2021-05-26 00:00:00  1.00           1.45  501    Rain    moderate rain  10n  \n2021-05-26 01:00:00  0.87           0.65  500    Rain       light rain  10n  \n2021-05-26 02:00:00  0.91           0.33  500    Rain       light rain  10n  \n2021-05-26 03:00:00  1.00           0.11  500    Rain       light rain  10n  \n2021-05-26 04:00:00  0.80           0.00  804  Clouds  overcast clouds  04d  \n2021-05-26 05:00:00  0.80           0.00  804  Clouds  overcast clouds  04d  \n2021-05-26 06:00:00  0.79           0.00  804  Clouds  overcast clouds  04d  \n2021-05-26 07:00:00  0.42           0.13  500    Rain       light rain  10d  \n2021-05-26 08:00:00  0.55           0.15  500    Rain       light rain  10d  \n2021-05-26 09:00:00  0.73           0.19  500    Rain       light rain  10d  \n2021-05-26 10:00:00  0.84           0.11  500    Rain       light rain  10d  \n2021-05-26 11:00:00  0.84           0.00  804  Clouds  overcast clouds  04d  \n2021-05-26 12:00:00  0.81           0.35  500    Rain       light rain  10d  \n2021-05-26 13:00:00  0.87           1.24  501    Rain    moderate rain  10d  \n2021-05-26 14:00:00  0.97           1.48  501    Rain    moderate rain  10d  \n2021-05-26 15:00:00  1.00           0.60  500    Rain       light rain  10d  \n2021-05-26 16:00:00  1.00           0.80  500    Rain       light rain  10d  \n2021-05-26 17:00:00  1.00           0.34  500    Rain       light rain  10d  \n2021-05-26 18:00:00  1.00           0.14  500    Rain       light rain  10d  \n2021-05-26 19:00:00  0.65           0.00  804  Clouds  overcast clouds  04d  ",
      "text/html": "<div>\n<style scoped>\n    .dataframe tbody tr th:only-of-type {\n        vertical-align: middle;\n    }\n\n    .dataframe tbody tr th {\n        vertical-align: top;\n    }\n\n    .dataframe thead th {\n        text-align: right;\n    }\n</style>\n<table border=\"1\" class=\"dataframe\">\n  <thead>\n    <tr style=\"text-align: right;\">\n      <th></th>\n      <th>temp</th>\n      <th>feels_like</th>\n      <th>pressure</th>\n      <th>humidity</th>\n      <th>dew_point</th>\n      <th>uvi</th>\n      <th>clouds</th>\n      <th>visibility</th>\n      <th>wind_speed</th>\n      <th>wind_deg</th>\n      <th>wind_gust</th>\n      <th>pop</th>\n      <th>precipitation</th>\n      <th>id</th>\n      <th>main</th>\n      <th>description</th>\n      <th>icon</th>\n    </tr>\n    <tr>\n      <th>dt</th>\n      <th></th>\n      <th></th>\n      <th></th>\n      <th></th>\n      <th></th>\n      <th></th>\n      <th></th>\n      <th></th>\n      <th></th>\n      <th></th>\n      <th></th>\n      <th></th>\n      <th></th>\n      <th></th>\n      <th></th>\n      <th></th>\n      <th></th>\n    </tr>\n  </thead>\n  <tbody>\n    <tr>\n      <th>2021-05-24 20:00:00</th>\n      <td>10.22</td>\n      <td>9.75</td>\n      <td>1006</td>\n      <td>94</td>\n      <td>9.30</td>\n      <td>0.00</td>\n      <td>80</td>\n      <td>10000</td>\n      <td>2.96</td>\n      <td>153</td>\n      <td>4.99</td>\n      <td>0.47</td>\n      <td>0.00</td>\n      <td>803</td>\n      <td>Clouds</td>\n      <td>broken clouds</td>\n      <td>04n</td>\n    </tr>\n    <tr>\n      <th>2021-05-24 21:00:00</th>\n      <td>10.33</td>\n      <td>9.85</td>\n      <td>1006</td>\n      <td>93</td>\n      <td>9.25</td>\n      <td>0.00</td>\n      <td>75</td>\n      <td>10000</td>\n      <td>2.92</td>\n      <td>146</td>\n      <td>4.19</td>\n      <td>0.26</td>\n      <td>0.00</td>\n      <td>803</td>\n      <td>Clouds</td>\n      <td>broken clouds</td>\n      <td>04n</td>\n    </tr>\n    <tr>\n      <th>2021-05-24 22:00:00</th>\n      <td>10.05</td>\n      <td>9.57</td>\n      <td>1006</td>\n      <td>94</td>\n      <td>9.13</td>\n      <td>0.00</td>\n      <td>80</td>\n      <td>10000</td>\n      <td>3.08</td>\n      <td>155</td>\n      <td>5.37</td>\n      <td>0.17</td>\n      <td>0.00</td>\n      <td>803</td>\n      <td>Clouds</td>\n      <td>broken clouds</td>\n      <td>04n</td>\n    </tr>\n    <tr>\n      <th>2021-05-24 23:00:00</th>\n      <td>9.59</td>\n      <td>7.87</td>\n      <td>1006</td>\n      <td>95</td>\n      <td>8.83</td>\n      <td>0.00</td>\n      <td>85</td>\n      <td>10000</td>\n      <td>3.27</td>\n      <td>155</td>\n      <td>6.04</td>\n      <td>0.19</td>\n      <td>0.00</td>\n      <td>804</td>\n      <td>Clouds</td>\n      <td>overcast clouds</td>\n      <td>04n</td>\n    </tr>\n    <tr>\n      <th>2021-05-25 00:00:00</th>\n      <td>8.88</td>\n      <td>6.78</td>\n      <td>1007</td>\n      <td>96</td>\n      <td>8.28</td>\n      <td>0.00</td>\n      <td>88</td>\n      <td>10000</td>\n      <td>3.69</td>\n      <td>155</td>\n      <td>7.96</td>\n      <td>0.26</td>\n      <td>0.13</td>\n      <td>500</td>\n      <td>Rain</td>\n      <td>light rain</td>\n      <td>10n</td>\n    </tr>\n    <tr>\n      <th>2021-05-25 01:00:00</th>\n      <td>8.26</td>\n      <td>5.84</td>\n      <td>1006</td>\n      <td>97</td>\n      <td>7.81</td>\n      <td>0.00</td>\n      <td>95</td>\n      <td>10000</td>\n      <td>4.05</td>\n      <td>176</td>\n      <td>9.01</td>\n      <td>0.36</td>\n      <td>0.00</td>\n      <td>804</td>\n      <td>Clouds</td>\n      <td>overcast clouds</td>\n      <td>04n</td>\n    </tr>\n    <tr>\n      <th>2021-05-25 02:00:00</th>\n      <td>7.80</td>\n      <td>5.08</td>\n      <td>1006</td>\n      <td>98</td>\n      <td>7.41</td>\n      <td>0.00</td>\n      <td>92</td>\n      <td>10000</td>\n      <td>4.45</td>\n      <td>193</td>\n      <td>8.94</td>\n      <td>0.30</td>\n      <td>0.00</td>\n      <td>804</td>\n      <td>Clouds</td>\n      <td>overcast clouds</td>\n      <td>04n</td>\n    </tr>\n    <tr>\n      <th>2021-05-25 03:00:00</th>\n      <td>7.94</td>\n      <td>5.02</td>\n      <td>1006</td>\n      <td>95</td>\n      <td>7.19</td>\n      <td>0.00</td>\n      <td>95</td>\n      <td>10000</td>\n      <td>4.98</td>\n      <td>207</td>\n      <td>9.70</td>\n      <td>0.36</td>\n      <td>0.22</td>\n      <td>500</td>\n      <td>Rain</td>\n      <td>light rain</td>\n      <td>10n</td>\n    </tr>\n    <tr>\n      <th>2021-05-25 04:00:00</th>\n      <td>7.73</td>\n      <td>4.66</td>\n      <td>1006</td>\n      <td>95</td>\n      <td>7.02</td>\n      <td>0.00</td>\n      <td>96</td>\n      <td>10000</td>\n      <td>5.22</td>\n      <td>200</td>\n      <td>10.38</td>\n      <td>0.43</td>\n      <td>0.00</td>\n      <td>804</td>\n      <td>Clouds</td>\n      <td>overcast clouds</td>\n      <td>04d</td>\n    </tr>\n    <tr>\n      <th>2021-05-25 05:00:00</th>\n      <td>7.80</td>\n      <td>4.42</td>\n      <td>1007</td>\n      <td>95</td>\n      <td>7.15</td>\n      <td>0.10</td>\n      <td>97</td>\n      <td>10000</td>\n      <td>6.09</td>\n      <td>191</td>\n      <td>11.18</td>\n      <td>0.43</td>\n      <td>0.00</td>\n      <td>804</td>\n      <td>Clouds</td>\n      <td>overcast clouds</td>\n      <td>04d</td>\n    </tr>\n    <tr>\n      <th>2021-05-25 06:00:00</th>\n      <td>8.12</td>\n      <td>4.64</td>\n      <td>1007</td>\n      <td>95</td>\n      <td>7.39</td>\n      <td>0.24</td>\n      <td>97</td>\n      <td>10000</td>\n      <td>6.62</td>\n      <td>199</td>\n      <td>10.55</td>\n      <td>0.55</td>\n      <td>0.49</td>\n      <td>500</td>\n      <td>Rain</td>\n      <td>light rain</td>\n      <td>10d</td>\n    </tr>\n    <tr>\n      <th>2021-05-25 07:00:00</th>\n      <td>8.21</td>\n      <td>4.87</td>\n      <td>1007</td>\n      <td>95</td>\n      <td>7.43</td>\n      <td>0.31</td>\n      <td>100</td>\n      <td>7604</td>\n      <td>6.29</td>\n      <td>215</td>\n      <td>9.56</td>\n      <td>0.83</td>\n      <td>1.36</td>\n      <td>501</td>\n      <td>Rain</td>\n      <td>moderate rain</td>\n      <td>10d</td>\n    </tr>\n    <tr>\n      <th>2021-05-25 08:00:00</th>\n      <td>8.24</td>\n      <td>4.99</td>\n      <td>1007</td>\n      <td>94</td>\n      <td>7.38</td>\n      <td>0.53</td>\n      <td>100</td>\n      <td>10000</td>\n      <td>6.06</td>\n      <td>211</td>\n      <td>8.96</td>\n      <td>0.89</td>\n      <td>1.37</td>\n      <td>501</td>\n      <td>Rain</td>\n      <td>moderate rain</td>\n      <td>10d</td>\n    </tr>\n    <tr>\n      <th>2021-05-25 09:00:00</th>\n      <td>8.67</td>\n      <td>5.30</td>\n      <td>1007</td>\n      <td>93</td>\n      <td>7.45</td>\n      <td>0.76</td>\n      <td>100</td>\n      <td>10000</td>\n      <td>6.76</td>\n      <td>209</td>\n      <td>9.30</td>\n      <td>0.90</td>\n      <td>0.78</td>\n      <td>500</td>\n      <td>Rain</td>\n      <td>light rain</td>\n      <td>10d</td>\n    </tr>\n    <tr>\n      <th>2021-05-25 10:00:00</th>\n      <td>8.72</td>\n      <td>5.23</td>\n      <td>1007</td>\n      <td>93</td>\n      <td>7.57</td>\n      <td>0.63</td>\n      <td>100</td>\n      <td>10000</td>\n      <td>7.21</td>\n      <td>207</td>\n      <td>10.15</td>\n      <td>0.87</td>\n      <td>0.48</td>\n      <td>500</td>\n      <td>Rain</td>\n      <td>light rain</td>\n      <td>10d</td>\n    </tr>\n    <tr>\n      <th>2021-05-25 11:00:00</th>\n      <td>8.96</td>\n      <td>5.57</td>\n      <td>1008</td>\n      <td>91</td>\n      <td>7.57</td>\n      <td>0.70</td>\n      <td>100</td>\n      <td>6871</td>\n      <td>7.12</td>\n      <td>211</td>\n      <td>10.33</td>\n      <td>0.87</td>\n      <td>1.12</td>\n      <td>501</td>\n      <td>Rain</td>\n      <td>moderate rain</td>\n      <td>10d</td>\n    </tr>\n    <tr>\n      <th>2021-05-25 12:00:00</th>\n      <td>8.06</td>\n      <td>4.51</td>\n      <td>1008</td>\n      <td>94</td>\n      <td>7.21</td>\n      <td>0.70</td>\n      <td>100</td>\n      <td>6634</td>\n      <td>6.79</td>\n      <td>233</td>\n      <td>10.44</td>\n      <td>0.94</td>\n      <td>2.00</td>\n      <td>501</td>\n      <td>Rain</td>\n      <td>moderate rain</td>\n      <td>10d</td>\n    </tr>\n    <tr>\n      <th>2021-05-25 13:00:00</th>\n      <td>7.91</td>\n      <td>4.47</td>\n      <td>1008</td>\n      <td>94</td>\n      <td>7.01</td>\n      <td>1.47</td>\n      <td>100</td>\n      <td>6994</td>\n      <td>6.33</td>\n      <td>235</td>\n      <td>11.27</td>\n      <td>0.99</td>\n      <td>2.10</td>\n      <td>501</td>\n      <td>Rain</td>\n      <td>moderate rain</td>\n      <td>10d</td>\n    </tr>\n    <tr>\n      <th>2021-05-25 14:00:00</th>\n      <td>8.36</td>\n      <td>4.96</td>\n      <td>1008</td>\n      <td>93</td>\n      <td>7.22</td>\n      <td>1.17</td>\n      <td>100</td>\n      <td>10000</td>\n      <td>6.60</td>\n      <td>236</td>\n      <td>11.84</td>\n      <td>0.99</td>\n      <td>1.28</td>\n      <td>501</td>\n      <td>Rain</td>\n      <td>moderate rain</td>\n      <td>10d</td>\n    </tr>\n    <tr>\n      <th>2021-05-25 15:00:00</th>\n      <td>8.55</td>\n      <td>5.30</td>\n      <td>1007</td>\n      <td>93</td>\n      <td>7.52</td>\n      <td>0.82</td>\n      <td>100</td>\n      <td>7981</td>\n      <td>6.30</td>\n      <td>241</td>\n      <td>11.82</td>\n      <td>0.99</td>\n      <td>1.31</td>\n      <td>501</td>\n      <td>Rain</td>\n      <td>moderate rain</td>\n      <td>10d</td>\n    </tr>\n    <tr>\n      <th>2021-05-25 16:00:00</th>\n      <td>8.54</td>\n      <td>5.26</td>\n      <td>1007</td>\n      <td>94</td>\n      <td>7.68</td>\n      <td>0.32</td>\n      <td>100</td>\n      <td>8339</td>\n      <td>6.38</td>\n      <td>261</td>\n      <td>11.67</td>\n      <td>0.99</td>\n      <td>1.73</td>\n      <td>501</td>\n      <td>Rain</td>\n      <td>moderate rain</td>\n      <td>10d</td>\n    </tr>\n    <tr>\n      <th>2021-05-25 17:00:00</th>\n      <td>8.01</td>\n      <td>4.52</td>\n      <td>1007</td>\n      <td>95</td>\n      <td>7.23</td>\n      <td>0.16</td>\n      <td>100</td>\n      <td>8544</td>\n      <td>6.57</td>\n      <td>269</td>\n      <td>11.87</td>\n      <td>1.00</td>\n      <td>1.55</td>\n      <td>501</td>\n      <td>Rain</td>\n      <td>moderate rain</td>\n      <td>10d</td>\n    </tr>\n    <tr>\n      <th>2021-05-25 18:00:00</th>\n      <td>8.17</td>\n      <td>4.67</td>\n      <td>1007</td>\n      <td>95</td>\n      <td>7.38</td>\n      <td>0.06</td>\n      <td>100</td>\n      <td>10000</td>\n      <td>6.75</td>\n      <td>260</td>\n      <td>12.41</td>\n      <td>1.00</td>\n      <td>1.23</td>\n      <td>501</td>\n      <td>Rain</td>\n      <td>moderate rain</td>\n      <td>10d</td>\n    </tr>\n    <tr>\n      <th>2021-05-25 19:00:00</th>\n      <td>8.37</td>\n      <td>4.84</td>\n      <td>1007</td>\n      <td>94</td>\n      <td>7.44</td>\n      <td>0.00</td>\n      <td>100</td>\n      <td>10000</td>\n      <td>7.03</td>\n      <td>258</td>\n      <td>12.13</td>\n      <td>0.98</td>\n      <td>0.87</td>\n      <td>500</td>\n      <td>Rain</td>\n      <td>light rain</td>\n      <td>10d</td>\n    </tr>\n    <tr>\n      <th>2021-05-25 20:00:00</th>\n      <td>8.14</td>\n      <td>4.57</td>\n      <td>1008</td>\n      <td>95</td>\n      <td>7.35</td>\n      <td>0.00</td>\n      <td>100</td>\n      <td>7288</td>\n      <td>6.94</td>\n      <td>265</td>\n      <td>11.20</td>\n      <td>0.95</td>\n      <td>1.70</td>\n      <td>501</td>\n      <td>Rain</td>\n      <td>moderate rain</td>\n      <td>10n</td>\n    </tr>\n    <tr>\n      <th>2021-05-25 21:00:00</th>\n      <td>7.96</td>\n      <td>4.26</td>\n      <td>1008</td>\n      <td>95</td>\n      <td>7.21</td>\n      <td>0.00</td>\n      <td>100</td>\n      <td>8299</td>\n      <td>7.20</td>\n      <td>264</td>\n      <td>12.12</td>\n      <td>0.98</td>\n      <td>1.67</td>\n      <td>501</td>\n      <td>Rain</td>\n      <td>moderate rain</td>\n      <td>10n</td>\n    </tr>\n    <tr>\n      <th>2021-05-25 22:00:00</th>\n      <td>7.31</td>\n      <td>3.24</td>\n      <td>1008</td>\n      <td>93</td>\n      <td>6.20</td>\n      <td>0.00</td>\n      <td>100</td>\n      <td>10000</td>\n      <td>7.79</td>\n      <td>283</td>\n      <td>12.63</td>\n      <td>1.00</td>\n      <td>1.73</td>\n      <td>501</td>\n      <td>Rain</td>\n      <td>moderate rain</td>\n      <td>10n</td>\n    </tr>\n    <tr>\n      <th>2021-05-25 23:00:00</th>\n      <td>7.16</td>\n      <td>3.21</td>\n      <td>1008</td>\n      <td>92</td>\n      <td>6.02</td>\n      <td>0.00</td>\n      <td>100</td>\n      <td>10000</td>\n      <td>7.25</td>\n      <td>268</td>\n      <td>13.21</td>\n      <td>1.00</td>\n      <td>1.94</td>\n      <td>501</td>\n      <td>Rain</td>\n      <td>moderate rain</td>\n      <td>10n</td>\n    </tr>\n    <tr>\n      <th>2021-05-26 00:00:00</th>\n      <td>7.75</td>\n      <td>4.25</td>\n      <td>1008</td>\n      <td>93</td>\n      <td>6.51</td>\n      <td>0.00</td>\n      <td>100</td>\n      <td>10000</td>\n      <td>6.40</td>\n      <td>251</td>\n      <td>12.36</td>\n      <td>1.00</td>\n      <td>1.45</td>\n      <td>501</td>\n      <td>Rain</td>\n      <td>moderate rain</td>\n      <td>10n</td>\n    </tr>\n    <tr>\n      <th>2021-05-26 01:00:00</th>\n      <td>7.85</td>\n      <td>4.57</td>\n      <td>1007</td>\n      <td>95</td>\n      <td>7.07</td>\n      <td>0.00</td>\n      <td>100</td>\n      <td>10000</td>\n      <td>5.84</td>\n      <td>226</td>\n      <td>10.99</td>\n      <td>0.87</td>\n      <td>0.65</td>\n      <td>500</td>\n      <td>Rain</td>\n      <td>light rain</td>\n      <td>10n</td>\n    </tr>\n    <tr>\n      <th>2021-05-26 02:00:00</th>\n      <td>7.74</td>\n      <td>4.31</td>\n      <td>1007</td>\n      <td>96</td>\n      <td>7.07</td>\n      <td>0.00</td>\n      <td>100</td>\n      <td>10000</td>\n      <td>6.17</td>\n      <td>225</td>\n      <td>11.70</td>\n      <td>0.91</td>\n      <td>0.33</td>\n      <td>500</td>\n      <td>Rain</td>\n      <td>light rain</td>\n      <td>10n</td>\n    </tr>\n    <tr>\n      <th>2021-05-26 03:00:00</th>\n      <td>7.81</td>\n      <td>4.18</td>\n      <td>1007</td>\n      <td>95</td>\n      <td>7.12</td>\n      <td>0.00</td>\n      <td>100</td>\n      <td>10000</td>\n      <td>6.83</td>\n      <td>231</td>\n      <td>12.34</td>\n      <td>1.00</td>\n      <td>0.11</td>\n      <td>500</td>\n      <td>Rain</td>\n      <td>light rain</td>\n      <td>10n</td>\n    </tr>\n    <tr>\n      <th>2021-05-26 04:00:00</th>\n      <td>7.85</td>\n      <td>4.28</td>\n      <td>1007</td>\n      <td>95</td>\n      <td>7.13</td>\n      <td>0.00</td>\n      <td>100</td>\n      <td>10000</td>\n      <td>6.67</td>\n      <td>230</td>\n      <td>11.98</td>\n      <td>0.80</td>\n      <td>0.00</td>\n      <td>804</td>\n      <td>Clouds</td>\n      <td>overcast clouds</td>\n      <td>04d</td>\n    </tr>\n    <tr>\n      <th>2021-05-26 05:00:00</th>\n      <td>7.98</td>\n      <td>4.46</td>\n      <td>1007</td>\n      <td>95</td>\n      <td>7.22</td>\n      <td>0.23</td>\n      <td>100</td>\n      <td>10000</td>\n      <td>6.65</td>\n      <td>230</td>\n      <td>11.80</td>\n      <td>0.80</td>\n      <td>0.00</td>\n      <td>804</td>\n      <td>Clouds</td>\n      <td>overcast clouds</td>\n      <td>04d</td>\n    </tr>\n    <tr>\n      <th>2021-05-26 06:00:00</th>\n      <td>8.68</td>\n      <td>5.22</td>\n      <td>1007</td>\n      <td>94</td>\n      <td>7.74</td>\n      <td>0.58</td>\n      <td>100</td>\n      <td>10000</td>\n      <td>7.08</td>\n      <td>231</td>\n      <td>11.80</td>\n      <td>0.79</td>\n      <td>0.00</td>\n      <td>804</td>\n      <td>Clouds</td>\n      <td>overcast clouds</td>\n      <td>04d</td>\n    </tr>\n    <tr>\n      <th>2021-05-26 07:00:00</th>\n      <td>9.54</td>\n      <td>6.21</td>\n      <td>1007</td>\n      <td>92</td>\n      <td>8.20</td>\n      <td>0.90</td>\n      <td>100</td>\n      <td>10000</td>\n      <td>7.49</td>\n      <td>235</td>\n      <td>11.40</td>\n      <td>0.42</td>\n      <td>0.13</td>\n      <td>500</td>\n      <td>Rain</td>\n      <td>light rain</td>\n      <td>10d</td>\n    </tr>\n    <tr>\n      <th>2021-05-26 08:00:00</th>\n      <td>10.24</td>\n      <td>9.59</td>\n      <td>1007</td>\n      <td>87</td>\n      <td>8.18</td>\n      <td>1.51</td>\n      <td>100</td>\n      <td>10000</td>\n      <td>7.95</td>\n      <td>238</td>\n      <td>11.31</td>\n      <td>0.55</td>\n      <td>0.15</td>\n      <td>500</td>\n      <td>Rain</td>\n      <td>light rain</td>\n      <td>10d</td>\n    </tr>\n    <tr>\n      <th>2021-05-26 09:00:00</th>\n      <td>11.11</td>\n      <td>10.37</td>\n      <td>1006</td>\n      <td>80</td>\n      <td>7.88</td>\n      <td>2.17</td>\n      <td>100</td>\n      <td>10000</td>\n      <td>8.50</td>\n      <td>243</td>\n      <td>11.89</td>\n      <td>0.73</td>\n      <td>0.19</td>\n      <td>500</td>\n      <td>Rain</td>\n      <td>light rain</td>\n      <td>10d</td>\n    </tr>\n    <tr>\n      <th>2021-05-26 10:00:00</th>\n      <td>11.45</td>\n      <td>10.69</td>\n      <td>1006</td>\n      <td>78</td>\n      <td>7.67</td>\n      <td>0.92</td>\n      <td>100</td>\n      <td>10000</td>\n      <td>8.51</td>\n      <td>247</td>\n      <td>12.26</td>\n      <td>0.84</td>\n      <td>0.11</td>\n      <td>500</td>\n      <td>Rain</td>\n      <td>light rain</td>\n      <td>10d</td>\n    </tr>\n    <tr>\n      <th>2021-05-26 11:00:00</th>\n      <td>11.59</td>\n      <td>10.82</td>\n      <td>1006</td>\n      <td>77</td>\n      <td>7.60</td>\n      <td>1.03</td>\n      <td>100</td>\n      <td>10000</td>\n      <td>8.37</td>\n      <td>248</td>\n      <td>12.71</td>\n      <td>0.84</td>\n      <td>0.00</td>\n      <td>804</td>\n      <td>Clouds</td>\n      <td>overcast clouds</td>\n      <td>04d</td>\n    </tr>\n    <tr>\n      <th>2021-05-26 12:00:00</th>\n      <td>11.04</td>\n      <td>10.24</td>\n      <td>1006</td>\n      <td>78</td>\n      <td>7.42</td>\n      <td>1.03</td>\n      <td>100</td>\n      <td>10000</td>\n      <td>9.04</td>\n      <td>245</td>\n      <td>14.02</td>\n      <td>0.81</td>\n      <td>0.35</td>\n      <td>500</td>\n      <td>Rain</td>\n      <td>light rain</td>\n      <td>10d</td>\n    </tr>\n    <tr>\n      <th>2021-05-26 13:00:00</th>\n      <td>9.47</td>\n      <td>5.51</td>\n      <td>1005</td>\n      <td>90</td>\n      <td>7.86</td>\n      <td>0.77</td>\n      <td>100</td>\n      <td>7222</td>\n      <td>9.99</td>\n      <td>236</td>\n      <td>15.54</td>\n      <td>0.87</td>\n      <td>1.24</td>\n      <td>501</td>\n      <td>Rain</td>\n      <td>moderate rain</td>\n      <td>10d</td>\n    </tr>\n    <tr>\n      <th>2021-05-26 14:00:00</th>\n      <td>8.80</td>\n      <td>4.72</td>\n      <td>1005</td>\n      <td>94</td>\n      <td>7.92</td>\n      <td>0.61</td>\n      <td>100</td>\n      <td>10000</td>\n      <td>9.57</td>\n      <td>236</td>\n      <td>15.33</td>\n      <td>0.97</td>\n      <td>1.48</td>\n      <td>501</td>\n      <td>Rain</td>\n      <td>moderate rain</td>\n      <td>10d</td>\n    </tr>\n    <tr>\n      <th>2021-05-26 15:00:00</th>\n      <td>9.07</td>\n      <td>5.62</td>\n      <td>1005</td>\n      <td>96</td>\n      <td>8.40</td>\n      <td>0.42</td>\n      <td>100</td>\n      <td>10000</td>\n      <td>7.44</td>\n      <td>257</td>\n      <td>11.33</td>\n      <td>1.00</td>\n      <td>0.60</td>\n      <td>500</td>\n      <td>Rain</td>\n      <td>light rain</td>\n      <td>10d</td>\n    </tr>\n    <tr>\n      <th>2021-05-26 16:00:00</th>\n      <td>9.62</td>\n      <td>6.51</td>\n      <td>1005</td>\n      <td>94</td>\n      <td>8.71</td>\n      <td>1.39</td>\n      <td>100</td>\n      <td>10000</td>\n      <td>6.81</td>\n      <td>269</td>\n      <td>11.90</td>\n      <td>1.00</td>\n      <td>0.80</td>\n      <td>500</td>\n      <td>Rain</td>\n      <td>light rain</td>\n      <td>10d</td>\n    </tr>\n    <tr>\n      <th>2021-05-26 17:00:00</th>\n      <td>9.57</td>\n      <td>6.27</td>\n      <td>1006</td>\n      <td>93</td>\n      <td>8.57</td>\n      <td>0.70</td>\n      <td>100</td>\n      <td>10000</td>\n      <td>7.41</td>\n      <td>272</td>\n      <td>11.67</td>\n      <td>1.00</td>\n      <td>0.34</td>\n      <td>500</td>\n      <td>Rain</td>\n      <td>light rain</td>\n      <td>10d</td>\n    </tr>\n    <tr>\n      <th>2021-05-26 18:00:00</th>\n      <td>9.46</td>\n      <td>6.22</td>\n      <td>1006</td>\n      <td>92</td>\n      <td>8.10</td>\n      <td>0.28</td>\n      <td>100</td>\n      <td>10000</td>\n      <td>7.08</td>\n      <td>280</td>\n      <td>11.59</td>\n      <td>1.00</td>\n      <td>0.14</td>\n      <td>500</td>\n      <td>Rain</td>\n      <td>light rain</td>\n      <td>10d</td>\n    </tr>\n    <tr>\n      <th>2021-05-26 19:00:00</th>\n      <td>9.16</td>\n      <td>5.64</td>\n      <td>1007</td>\n      <td>92</td>\n      <td>7.90</td>\n      <td>0.00</td>\n      <td>97</td>\n      <td>10000</td>\n      <td>7.76</td>\n      <td>277</td>\n      <td>12.99</td>\n      <td>0.65</td>\n      <td>0.00</td>\n      <td>804</td>\n      <td>Clouds</td>\n      <td>overcast clouds</td>\n      <td>04d</td>\n    </tr>\n  </tbody>\n</table>\n</div>"
     },
     "execution_count": 6,
     "metadata": {},
     "output_type": "execute_result"
    }
   ],
   "source": [
    "hr = pd.DataFrame(data['hourly'])\n",
    "\n",
    "hr = hr.set_index('dt')\n",
    "hr.index = pd.to_datetime(hr.index, unit='s')\n",
    "\n",
    "s = hr.rain.notna()\n",
    "hr['precipitation'] = 0\n",
    "hr.loc[s, 'precipitation'] = hr.loc[s, 'rain'].apply(lambda x: x.get('1h'))\n",
    "hr = hr.drop(columns='rain')\n",
    "\n",
    "hr = hr.join(pd.DataFrame(hr.weather.apply(del_lst).tolist(), hr.index))\n",
    "hr = hr.drop(columns='weather')\n",
    "hr"
   ],
   "metadata": {
    "collapsed": false,
    "pycharm": {
     "name": "#%%\n"
    }
   }
  },
  {
   "cell_type": "markdown",
   "source": [
    "## Daily Data\n",
    "- 1 week\n",
    "- 8 observations"
   ],
   "metadata": {
    "collapsed": false,
    "pycharm": {
     "name": "#%% md\n"
    }
   }
  },
  {
   "cell_type": "code",
   "execution_count": 7,
   "outputs": [
    {
     "data": {
      "text/plain": "                                sunrise              sunset    moonrise  \\\ndt                                                                        \n2021-05-24 11:00:00 2021-05-24 03:15:28 2021-05-24 19:37:04  1621875240   \n2021-05-25 11:00:00 2021-05-25 03:14:14 2021-05-25 19:38:31  1621967340   \n2021-05-26 11:00:00 2021-05-26 03:13:02 2021-05-26 19:39:57  1622059380   \n2021-05-27 11:00:00 2021-05-27 03:11:52 2021-05-27 19:41:20  1622151000   \n2021-05-28 11:00:00 2021-05-28 03:10:46 2021-05-28 19:42:41           0   \n2021-05-29 11:00:00 2021-05-29 03:09:42 2021-05-29 19:44:01  1622241660   \n2021-05-30 11:00:00 2021-05-30 03:08:41 2021-05-30 19:45:18  1622331180   \n2021-05-31 11:00:00 2021-05-31 03:07:43 2021-05-31 19:46:33  1622419680   \n\n                        moonset  moon_phase  pressure  humidity  dew_point  \\\ndt                                                                           \n2021-05-24 11:00:00  1621823460        0.42      1008        82       9.94   \n2021-05-25 11:00:00  1621911000        0.46      1008        91       7.57   \n2021-05-26 11:00:00  1621998780        0.50      1006        77       7.60   \n2021-05-27 11:00:00  1622087100        0.54      1016        79       8.90   \n2021-05-28 11:00:00  1622176260        0.58      1024        67       7.63   \n2021-05-29 11:00:00  1622266380        0.61      1027        72       9.09   \n2021-05-30 11:00:00  1622357280        0.65      1024        72       9.82   \n2021-05-31 11:00:00  1622448600        0.69      1020        79      10.03   \n\n                     wind_speed  wind_deg  ...    eve   morn  day_feels_like  \\\ndt                                         ...                                 \n2021-05-24 11:00:00        7.03       187  ...  10.81   9.53           12.51   \n2021-05-25 11:00:00        7.21       207  ...   8.01   7.80            5.57   \n2021-05-26 11:00:00        9.99       236  ...   9.57   7.98           10.82   \n2021-05-27 11:00:00        9.12       283  ...  10.77   9.21           11.79   \n2021-05-28 11:00:00        5.70         4  ...  11.48  10.67           12.78   \n2021-05-29 11:00:00        5.27       357  ...  11.37  11.58           13.51   \n2021-05-30 11:00:00        5.67        29  ...  14.06  10.96           14.16   \n2021-05-31 11:00:00        4.08        60  ...  14.07  11.14           12.90   \n\n                     night_feels_like  eve_feels_like  morn_feels_like   id  \\\ndt                                                                            \n2021-05-24 11:00:00              9.85           10.40             6.81  500   \n2021-05-25 11:00:00              4.26            4.52             4.42  501   \n2021-05-26 11:00:00              5.56            6.27             4.46  501   \n2021-05-27 11:00:00              5.16           10.20             5.74  500   \n2021-05-28 11:00:00              6.24           10.90            10.09  500   \n2021-05-29 11:00:00              6.91           10.76            10.99  500   \n2021-05-30 11:00:00              9.39           13.66            10.25  500   \n2021-05-31 11:00:00             11.15           13.78            10.42  500   \n\n                     main    description  icon  \ndt                                              \n2021-05-24 11:00:00  Rain     light rain   10d  \n2021-05-25 11:00:00  Rain  moderate rain   10d  \n2021-05-26 11:00:00  Rain  moderate rain   10d  \n2021-05-27 11:00:00  Rain     light rain   10d  \n2021-05-28 11:00:00  Rain     light rain   10d  \n2021-05-29 11:00:00  Rain     light rain   10d  \n2021-05-30 11:00:00  Rain     light rain   10d  \n2021-05-31 11:00:00  Rain     light rain   10d  \n\n[8 rows x 29 columns]",
      "text/html": "<div>\n<style scoped>\n    .dataframe tbody tr th:only-of-type {\n        vertical-align: middle;\n    }\n\n    .dataframe tbody tr th {\n        vertical-align: top;\n    }\n\n    .dataframe thead th {\n        text-align: right;\n    }\n</style>\n<table border=\"1\" class=\"dataframe\">\n  <thead>\n    <tr style=\"text-align: right;\">\n      <th></th>\n      <th>sunrise</th>\n      <th>sunset</th>\n      <th>moonrise</th>\n      <th>moonset</th>\n      <th>moon_phase</th>\n      <th>pressure</th>\n      <th>humidity</th>\n      <th>dew_point</th>\n      <th>wind_speed</th>\n      <th>wind_deg</th>\n      <th>...</th>\n      <th>eve</th>\n      <th>morn</th>\n      <th>day_feels_like</th>\n      <th>night_feels_like</th>\n      <th>eve_feels_like</th>\n      <th>morn_feels_like</th>\n      <th>id</th>\n      <th>main</th>\n      <th>description</th>\n      <th>icon</th>\n    </tr>\n    <tr>\n      <th>dt</th>\n      <th></th>\n      <th></th>\n      <th></th>\n      <th></th>\n      <th></th>\n      <th></th>\n      <th></th>\n      <th></th>\n      <th></th>\n      <th></th>\n      <th></th>\n      <th></th>\n      <th></th>\n      <th></th>\n      <th></th>\n      <th></th>\n      <th></th>\n      <th></th>\n      <th></th>\n      <th></th>\n      <th></th>\n    </tr>\n  </thead>\n  <tbody>\n    <tr>\n      <th>2021-05-24 11:00:00</th>\n      <td>2021-05-24 03:15:28</td>\n      <td>2021-05-24 19:37:04</td>\n      <td>1621875240</td>\n      <td>1621823460</td>\n      <td>0.42</td>\n      <td>1008</td>\n      <td>82</td>\n      <td>9.94</td>\n      <td>7.03</td>\n      <td>187</td>\n      <td>...</td>\n      <td>10.81</td>\n      <td>9.53</td>\n      <td>12.51</td>\n      <td>9.85</td>\n      <td>10.40</td>\n      <td>6.81</td>\n      <td>500</td>\n      <td>Rain</td>\n      <td>light rain</td>\n      <td>10d</td>\n    </tr>\n    <tr>\n      <th>2021-05-25 11:00:00</th>\n      <td>2021-05-25 03:14:14</td>\n      <td>2021-05-25 19:38:31</td>\n      <td>1621967340</td>\n      <td>1621911000</td>\n      <td>0.46</td>\n      <td>1008</td>\n      <td>91</td>\n      <td>7.57</td>\n      <td>7.21</td>\n      <td>207</td>\n      <td>...</td>\n      <td>8.01</td>\n      <td>7.80</td>\n      <td>5.57</td>\n      <td>4.26</td>\n      <td>4.52</td>\n      <td>4.42</td>\n      <td>501</td>\n      <td>Rain</td>\n      <td>moderate rain</td>\n      <td>10d</td>\n    </tr>\n    <tr>\n      <th>2021-05-26 11:00:00</th>\n      <td>2021-05-26 03:13:02</td>\n      <td>2021-05-26 19:39:57</td>\n      <td>1622059380</td>\n      <td>1621998780</td>\n      <td>0.50</td>\n      <td>1006</td>\n      <td>77</td>\n      <td>7.60</td>\n      <td>9.99</td>\n      <td>236</td>\n      <td>...</td>\n      <td>9.57</td>\n      <td>7.98</td>\n      <td>10.82</td>\n      <td>5.56</td>\n      <td>6.27</td>\n      <td>4.46</td>\n      <td>501</td>\n      <td>Rain</td>\n      <td>moderate rain</td>\n      <td>10d</td>\n    </tr>\n    <tr>\n      <th>2021-05-27 11:00:00</th>\n      <td>2021-05-27 03:11:52</td>\n      <td>2021-05-27 19:41:20</td>\n      <td>1622151000</td>\n      <td>1622087100</td>\n      <td>0.54</td>\n      <td>1016</td>\n      <td>79</td>\n      <td>8.90</td>\n      <td>9.12</td>\n      <td>283</td>\n      <td>...</td>\n      <td>10.77</td>\n      <td>9.21</td>\n      <td>11.79</td>\n      <td>5.16</td>\n      <td>10.20</td>\n      <td>5.74</td>\n      <td>500</td>\n      <td>Rain</td>\n      <td>light rain</td>\n      <td>10d</td>\n    </tr>\n    <tr>\n      <th>2021-05-28 11:00:00</th>\n      <td>2021-05-28 03:10:46</td>\n      <td>2021-05-28 19:42:41</td>\n      <td>0</td>\n      <td>1622176260</td>\n      <td>0.58</td>\n      <td>1024</td>\n      <td>67</td>\n      <td>7.63</td>\n      <td>5.70</td>\n      <td>4</td>\n      <td>...</td>\n      <td>11.48</td>\n      <td>10.67</td>\n      <td>12.78</td>\n      <td>6.24</td>\n      <td>10.90</td>\n      <td>10.09</td>\n      <td>500</td>\n      <td>Rain</td>\n      <td>light rain</td>\n      <td>10d</td>\n    </tr>\n    <tr>\n      <th>2021-05-29 11:00:00</th>\n      <td>2021-05-29 03:09:42</td>\n      <td>2021-05-29 19:44:01</td>\n      <td>1622241660</td>\n      <td>1622266380</td>\n      <td>0.61</td>\n      <td>1027</td>\n      <td>72</td>\n      <td>9.09</td>\n      <td>5.27</td>\n      <td>357</td>\n      <td>...</td>\n      <td>11.37</td>\n      <td>11.58</td>\n      <td>13.51</td>\n      <td>6.91</td>\n      <td>10.76</td>\n      <td>10.99</td>\n      <td>500</td>\n      <td>Rain</td>\n      <td>light rain</td>\n      <td>10d</td>\n    </tr>\n    <tr>\n      <th>2021-05-30 11:00:00</th>\n      <td>2021-05-30 03:08:41</td>\n      <td>2021-05-30 19:45:18</td>\n      <td>1622331180</td>\n      <td>1622357280</td>\n      <td>0.65</td>\n      <td>1024</td>\n      <td>72</td>\n      <td>9.82</td>\n      <td>5.67</td>\n      <td>29</td>\n      <td>...</td>\n      <td>14.06</td>\n      <td>10.96</td>\n      <td>14.16</td>\n      <td>9.39</td>\n      <td>13.66</td>\n      <td>10.25</td>\n      <td>500</td>\n      <td>Rain</td>\n      <td>light rain</td>\n      <td>10d</td>\n    </tr>\n    <tr>\n      <th>2021-05-31 11:00:00</th>\n      <td>2021-05-31 03:07:43</td>\n      <td>2021-05-31 19:46:33</td>\n      <td>1622419680</td>\n      <td>1622448600</td>\n      <td>0.69</td>\n      <td>1020</td>\n      <td>79</td>\n      <td>10.03</td>\n      <td>4.08</td>\n      <td>60</td>\n      <td>...</td>\n      <td>14.07</td>\n      <td>11.14</td>\n      <td>12.90</td>\n      <td>11.15</td>\n      <td>13.78</td>\n      <td>10.42</td>\n      <td>500</td>\n      <td>Rain</td>\n      <td>light rain</td>\n      <td>10d</td>\n    </tr>\n  </tbody>\n</table>\n<p>8 rows × 29 columns</p>\n</div>"
     },
     "execution_count": 7,
     "metadata": {},
     "output_type": "execute_result"
    }
   ],
   "source": [
    "time = ['dt', 'sunrise', 'sunset']\n",
    "dly = pd.DataFrame(data['daily'])\n",
    "dly[time] = dly[time].apply(pd.to_datetime, unit='s')\n",
    "\n",
    "dly = dly.join(pd.DataFrame(dly.temp.to_list()))\n",
    "dly = dly.join(pd.DataFrame(dly.feels_like.to_list()).add_suffix('_feels_like'))\n",
    "dly = dly.join(pd.DataFrame(dly.weather.apply(del_lst).to_list()))\n",
    "\n",
    "dly = dly.drop(columns=['temp', 'feels_like', 'weather'])\n",
    "dly = dly.set_index('dt')\n",
    "dly"
   ],
   "metadata": {
    "collapsed": false,
    "pycharm": {
     "name": "#%%\n"
    }
   }
  }
 ],
 "metadata": {
  "kernelspec": {
   "name": "python3",
   "language": "python",
   "display_name": "Python 3"
  },
  "language_info": {
   "codemirror_mode": {
    "name": "ipython",
    "version": 2
   },
   "file_extension": ".py",
   "mimetype": "text/x-python",
   "name": "python",
   "nbconvert_exporter": "python",
   "pygments_lexer": "ipython2",
   "version": "2.7.6"
  }
 },
 "nbformat": 4,
 "nbformat_minor": 0
}