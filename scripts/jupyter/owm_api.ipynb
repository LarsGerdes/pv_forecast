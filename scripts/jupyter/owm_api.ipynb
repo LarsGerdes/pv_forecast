{
 "cells": [
  {
   "cell_type": "markdown",
   "source": [
    "# Open Weather Map\n",
    "Exploration of openweathermap.org API.\n",
    "\n",
    "## Prerequisits\n",
    "- load libraries\n",
    "- load configuration file to get API access data\n",
    "- create URL for API access\n",
    "- access API\n",
    "- print general information"
   ],
   "metadata": {
    "collapsed": false,
    "pycharm": {
     "name": "#%% md\n"
    }
   }
  },
  {
   "cell_type": "code",
   "execution_count": 32,
   "metadata": {
    "collapsed": true
   },
   "outputs": [],
   "source": [
    "import toml\n",
    "import requests\n",
    "import pandas as pd\n",
    "\n",
    "def del_lst(x):\n",
    "    return x[0]\n",
    "\n",
    "conf = toml.load('../../conf.toml')\n",
    "owm = conf['owm']\n",
    "\n",
    "url = 'https://api.openweathermap.org/data/2.5/onecall?lat={lat}&lon={lng}' \\\n",
    "      '&units=metric&APPID={key}'\n",
    "url = url.format(lat=owm['lat'], lng=owm['lng'], key=owm['key'])\n",
    "\n",
    "response = requests.get(url)\n",
    "dic = response.json()\n",
    "\n",
    "# keys = ['lat', 'lon', 'timezone', 'timezone_offset']\n",
    "# gi = pd.DataFrame(list(map(dic.get, keys)), keys, ['General Information']).T\n",
    "# gi['timezone_offset'] = pd.to_timedelta(gi.timezone_offset, 's')\n",
    "# gi"
   ]
  },
  {
   "cell_type": "markdown",
   "source": [
    "## Current Weather\n",
    "- Timezone is UTC\n",
    "- temp, feels_like, dew_point: °C\n",
    "- pressure: hPa\n",
    "- humidity, clouds: %\n",
    "- uvi: UV Index\n",
    "- visibility: m\n",
    "- wind_speed: m / s\n",
    "- wind_deg: °"
   ],
   "metadata": {
    "collapsed": false,
    "pycharm": {
     "name": "#%% md\n"
    }
   }
  },
  {
   "cell_type": "code",
   "execution_count": 33,
   "outputs": [
    {
     "data": {
      "text/plain": "                                sunrise              sunset  temp  feels_like  \\\ndt                                                                              \n2021-05-30 22:58:17 2021-05-31 03:07:43 2021-05-31 19:46:33  9.12        9.12   \n\n                     pressure  humidity  dew_point  uvi  clouds  visibility  \\\ndt                                                                            \n2021-05-30 22:58:17      1025        92       7.89    0      20        9000   \n\n                     wind_speed  wind_deg   id    main description icon  \ndt                                                                       \n2021-05-30 22:58:17        1.03       360  801  Clouds  few clouds  02n  ",
      "text/html": "<div>\n<style scoped>\n    .dataframe tbody tr th:only-of-type {\n        vertical-align: middle;\n    }\n\n    .dataframe tbody tr th {\n        vertical-align: top;\n    }\n\n    .dataframe thead th {\n        text-align: right;\n    }\n</style>\n<table border=\"1\" class=\"dataframe\">\n  <thead>\n    <tr style=\"text-align: right;\">\n      <th></th>\n      <th>sunrise</th>\n      <th>sunset</th>\n      <th>temp</th>\n      <th>feels_like</th>\n      <th>pressure</th>\n      <th>humidity</th>\n      <th>dew_point</th>\n      <th>uvi</th>\n      <th>clouds</th>\n      <th>visibility</th>\n      <th>wind_speed</th>\n      <th>wind_deg</th>\n      <th>id</th>\n      <th>main</th>\n      <th>description</th>\n      <th>icon</th>\n    </tr>\n    <tr>\n      <th>dt</th>\n      <th></th>\n      <th></th>\n      <th></th>\n      <th></th>\n      <th></th>\n      <th></th>\n      <th></th>\n      <th></th>\n      <th></th>\n      <th></th>\n      <th></th>\n      <th></th>\n      <th></th>\n      <th></th>\n      <th></th>\n      <th></th>\n    </tr>\n  </thead>\n  <tbody>\n    <tr>\n      <th>2021-05-30 22:58:17</th>\n      <td>2021-05-31 03:07:43</td>\n      <td>2021-05-31 19:46:33</td>\n      <td>9.12</td>\n      <td>9.12</td>\n      <td>1025</td>\n      <td>92</td>\n      <td>7.89</td>\n      <td>0</td>\n      <td>20</td>\n      <td>9000</td>\n      <td>1.03</td>\n      <td>360</td>\n      <td>801</td>\n      <td>Clouds</td>\n      <td>few clouds</td>\n      <td>02n</td>\n    </tr>\n  </tbody>\n</table>\n</div>"
     },
     "execution_count": 33,
     "metadata": {},
     "output_type": "execute_result"
    }
   ],
   "source": [
    "cur = pd.DataFrame(dic['current'])\n",
    "\n",
    "weather = cur.weather[0]\n",
    "cur[list(weather.keys())] = weather.values()\n",
    "cur = cur.drop(columns='weather')\n",
    "\n",
    "time = ['dt', 'sunrise', 'sunset']\n",
    "cur[time] = cur[time].apply(pd.to_datetime, unit='s')\n",
    "cur = cur.set_index('dt')\n",
    "\n",
    "cur"
   ],
   "metadata": {
    "collapsed": false,
    "pycharm": {
     "name": "#%%\n"
    }
   }
  },
  {
   "cell_type": "markdown",
   "source": [
    "### Alerts"
   ],
   "metadata": {
    "collapsed": false,
    "pycharm": {
     "name": "#%% md\n"
    }
   }
  },
  {
   "cell_type": "code",
   "execution_count": 34,
   "outputs": [],
   "source": [
    "# ale = pd.DataFrame(dic['alerts'], ['german', 'english'])\n",
    "#\n",
    "# time = ['start', 'end']\n",
    "# ale[time] = ale[time].apply(pd.to_datetime, unit='s')\n",
    "#\n",
    "# ale"
   ],
   "metadata": {
    "collapsed": false,
    "pycharm": {
     "name": "#%%\n"
    }
   }
  },
  {
   "cell_type": "markdown",
   "source": [
    "## Minutely Data\n",
    "- 1 hour\n",
    "- 60 observations\n",
    "- precipitation: mm"
   ],
   "metadata": {
    "collapsed": false,
    "pycharm": {
     "name": "#%% md\n"
    }
   }
  },
  {
   "cell_type": "code",
   "execution_count": 35,
   "outputs": [
    {
     "data": {
      "text/plain": "                     precipitation\ndt                                \n2021-05-30 22:59:00              0\n2021-05-30 23:00:00              0\n2021-05-30 23:01:00              0\n2021-05-30 23:02:00              0\n2021-05-30 23:03:00              0\n...                            ...\n2021-05-30 23:55:00              0\n2021-05-30 23:56:00              0\n2021-05-30 23:57:00              0\n2021-05-30 23:58:00              0\n2021-05-30 23:59:00              0\n\n[61 rows x 1 columns]",
      "text/html": "<div>\n<style scoped>\n    .dataframe tbody tr th:only-of-type {\n        vertical-align: middle;\n    }\n\n    .dataframe tbody tr th {\n        vertical-align: top;\n    }\n\n    .dataframe thead th {\n        text-align: right;\n    }\n</style>\n<table border=\"1\" class=\"dataframe\">\n  <thead>\n    <tr style=\"text-align: right;\">\n      <th></th>\n      <th>precipitation</th>\n    </tr>\n    <tr>\n      <th>dt</th>\n      <th></th>\n    </tr>\n  </thead>\n  <tbody>\n    <tr>\n      <th>2021-05-30 22:59:00</th>\n      <td>0</td>\n    </tr>\n    <tr>\n      <th>2021-05-30 23:00:00</th>\n      <td>0</td>\n    </tr>\n    <tr>\n      <th>2021-05-30 23:01:00</th>\n      <td>0</td>\n    </tr>\n    <tr>\n      <th>2021-05-30 23:02:00</th>\n      <td>0</td>\n    </tr>\n    <tr>\n      <th>2021-05-30 23:03:00</th>\n      <td>0</td>\n    </tr>\n    <tr>\n      <th>...</th>\n      <td>...</td>\n    </tr>\n    <tr>\n      <th>2021-05-30 23:55:00</th>\n      <td>0</td>\n    </tr>\n    <tr>\n      <th>2021-05-30 23:56:00</th>\n      <td>0</td>\n    </tr>\n    <tr>\n      <th>2021-05-30 23:57:00</th>\n      <td>0</td>\n    </tr>\n    <tr>\n      <th>2021-05-30 23:58:00</th>\n      <td>0</td>\n    </tr>\n    <tr>\n      <th>2021-05-30 23:59:00</th>\n      <td>0</td>\n    </tr>\n  </tbody>\n</table>\n<p>61 rows × 1 columns</p>\n</div>"
     },
     "execution_count": 35,
     "metadata": {},
     "output_type": "execute_result"
    }
   ],
   "source": [
    "mnt = pd.DataFrame(dic['minutely'])\n",
    "mnt = mnt.set_index('dt')\n",
    "mnt.index = pd.to_datetime(mnt.index, unit='s')\n",
    "mnt"
   ],
   "metadata": {
    "collapsed": false,
    "pycharm": {
     "name": "#%%\n"
    }
   }
  },
  {
   "cell_type": "markdown",
   "source": [
    "## Hourly Data\n",
    "- 2 days\n",
    "- 48 observations\n",
    "- wind_gust: metre/sec\n",
    "- pop: %\n",
    "- rain: mm"
   ],
   "metadata": {
    "collapsed": false,
    "pycharm": {
     "name": "#%% md\n"
    }
   }
  },
  {
   "cell_type": "code",
   "execution_count": 36,
   "outputs": [
    {
     "data": {
      "text/plain": "                      temp  feels_like  pressure  humidity  dew_point   uvi  \\\ndt                                                                            \n2021-05-30 22:00:00   8.99        7.73      1025        91       7.60  0.00   \n2021-05-30 23:00:00   9.12        7.91      1025        92       7.89  0.00   \n2021-05-31 00:00:00   9.03        7.86      1025        91       7.64  0.00   \n2021-05-31 01:00:00   8.97        7.77      1025        92       7.74  0.00   \n2021-05-31 02:00:00   8.97        7.70      1026        92       7.74  0.00   \n2021-05-31 03:00:00   8.95        7.77      1026        94       8.04  0.00   \n2021-05-31 04:00:00   9.43        8.24      1026        95       8.64  0.10   \n2021-05-31 05:00:00  11.06       10.68      1026        94      10.11  0.38   \n2021-05-31 06:00:00  12.61       12.25      1026        89      10.85  0.97   \n2021-05-31 07:00:00  14.06       13.71      1026        84      11.46  1.93   \n2021-05-31 08:00:00  15.40       15.06      1026        79      11.93  3.25   \n2021-05-31 09:00:00  16.65       16.25      1026        72      11.56  4.68   \n2021-05-31 10:00:00  17.47       16.97      1025        65      10.81  5.79   \n2021-05-31 11:00:00  18.04       17.49      1025        61      10.33  6.47   \n2021-05-31 12:00:00  18.28       17.70      1025        59      10.09  6.47   \n2021-05-31 13:00:00  18.47       17.91      1025        59      10.32  5.79   \n2021-05-31 14:00:00  18.47       17.97      1024        61      10.87  4.59   \n2021-05-31 15:00:00  18.20       17.75      1024        64      11.33  3.19   \n2021-05-31 16:00:00  17.55       17.16      1024        69      11.88  1.88   \n2021-05-31 17:00:00  16.85       16.57      1024        76      12.75  0.94   \n2021-05-31 18:00:00  15.48       15.20      1023        81      12.16  0.37   \n2021-05-31 19:00:00  13.33       12.89      1023        83      10.48  0.10   \n2021-05-31 20:00:00  11.73       11.13      1023        83       8.93  0.00   \n2021-05-31 21:00:00  11.17       10.54      1023        84       8.59  0.00   \n2021-05-31 22:00:00  10.81       10.22      1023        87       8.66  0.00   \n2021-05-31 23:00:00  10.50        9.96      1023        90       8.92  0.00   \n2021-06-01 00:00:00  10.42        9.89      1023        91       9.08  0.00   \n2021-06-01 01:00:00  10.39        9.89      1023        92       9.19  0.00   \n2021-06-01 02:00:00  10.28        9.77      1023        92       9.00  0.00   \n2021-06-01 03:00:00  10.12        9.56      1022        91       8.61  0.00   \n2021-06-01 04:00:00  10.32        9.76      1022        90       8.72  0.10   \n2021-06-01 05:00:00  12.09       11.63      1022        87      10.07  0.37   \n2021-06-01 06:00:00  13.81       13.39      1022        82      10.80  0.95   \n2021-06-01 07:00:00  15.23       14.85      1022        78      11.35  1.79   \n2021-06-01 08:00:00  16.55       16.19      1022        74      11.89  2.99   \n2021-06-01 09:00:00  17.49       17.17      1022        72      12.21  4.29   \n2021-06-01 10:00:00  17.96       17.64      1021        70      12.42  4.52   \n2021-06-01 11:00:00  18.37       18.06      1021        69      12.65  5.05   \n2021-06-01 12:00:00  18.83       18.57      1021        69      12.95  5.05   \n2021-06-01 13:00:00  18.73       18.46      1021        69      13.00  4.77   \n2021-06-01 14:00:00  18.26       17.97      1020        70      12.68  3.79   \n2021-06-01 15:00:00  17.40       17.00      1020        69      11.83  2.64   \n2021-06-01 16:00:00  16.33       15.82      1020        69      10.61  1.53   \n2021-06-01 17:00:00  15.32       14.87      1019        75      10.88  0.77   \n2021-06-01 18:00:00  13.79       13.26      1019        78      10.02  0.31   \n2021-06-01 19:00:00  12.07       11.34      1019        77       8.19  0.09   \n2021-06-01 20:00:00  10.83        9.87      1019        73       6.15  0.00   \n2021-06-01 21:00:00  10.25        9.21      1019        72       5.51  0.00   \n\n                     clouds  visibility  wind_speed  wind_deg  wind_gust  pop  \\\ndt                                                                              \n2021-05-30 22:00:00      16       10000        2.36        37       2.41    0   \n2021-05-30 23:00:00      20       10000        2.32        37       2.38    0   \n2021-05-31 00:00:00      16       10000        2.25        32       2.32    0   \n2021-05-31 01:00:00      12       10000        2.28        39       2.38    0   \n2021-05-31 02:00:00       8       10000        2.37        48       2.42    0   \n2021-05-31 03:00:00       4       10000        2.24        56       2.28    0   \n2021-05-31 04:00:00       0       10000        2.37        68       2.46    0   \n2021-05-31 05:00:00       0       10000        2.16        84       3.54    0   \n2021-05-31 06:00:00       0       10000        2.61        98       3.75    0   \n2021-05-31 07:00:00       4       10000        2.63       103       3.48    0   \n2021-05-31 08:00:00       4       10000        2.73       106       3.68    0   \n2021-05-31 09:00:00       2       10000        2.85       105       4.02    0   \n2021-05-31 10:00:00       3       10000        3.26       100       4.30    0   \n2021-05-31 11:00:00       3       10000        3.49        98       4.27    0   \n2021-05-31 12:00:00       3       10000        3.67        91       4.40    0   \n2021-05-31 13:00:00       0       10000        3.59        82       4.12    0   \n2021-05-31 14:00:00       0       10000        3.67        76       4.17    0   \n2021-05-31 15:00:00       0       10000        3.75        71       4.20    0   \n2021-05-31 16:00:00       0       10000        4.09        61       4.73    0   \n2021-05-31 17:00:00       0       10000        3.66        49       5.14    0   \n2021-05-31 18:00:00       0       10000        3.47        40       5.62    0   \n2021-05-31 19:00:00       0       10000        3.66        44       5.90    0   \n2021-05-31 20:00:00       0       10000        3.71        51       5.46    0   \n2021-05-31 21:00:00       0       10000        3.61        55       5.31    0   \n2021-05-31 22:00:00       0       10000        3.44        63       4.53    0   \n2021-05-31 23:00:00       0       10000        3.33        78       4.89    0   \n2021-06-01 00:00:00       1       10000        3.05        84       3.71    0   \n2021-06-01 01:00:00      64       10000        2.82        86       3.04    0   \n2021-06-01 02:00:00      51       10000        2.35        96       2.42    0   \n2021-06-01 03:00:00      38       10000        2.11       101       2.11    0   \n2021-06-01 04:00:00      32       10000        1.94       106       1.98    0   \n2021-06-01 05:00:00      29       10000        1.59       119       2.07    0   \n2021-06-01 06:00:00      26       10000        1.53       120       1.93    0   \n2021-06-01 07:00:00      20       10000        1.55       117       1.78    0   \n2021-06-01 08:00:00      38       10000        1.36       106       1.59    0   \n2021-06-01 09:00:00      56       10000        1.68        84       1.85    0   \n2021-06-01 10:00:00      67       10000        1.88        75       1.95    0   \n2021-06-01 11:00:00      74       10000        2.11        63       2.16    0   \n2021-06-01 12:00:00      78       10000        2.74        52       2.66    0   \n2021-06-01 13:00:00     100       10000        3.68        47       3.24    0   \n2021-06-01 14:00:00     100       10000        4.00        43       3.46    0   \n2021-06-01 15:00:00     100       10000        3.94        38       3.72    0   \n2021-06-01 16:00:00     100       10000        3.66        33       4.09    0   \n2021-06-01 17:00:00     100       10000        3.40        35       4.92    0   \n2021-06-01 18:00:00     100       10000        3.38        40       5.79    0   \n2021-06-01 19:00:00     100       10000        3.19        44       4.51    0   \n2021-06-01 20:00:00      98       10000        2.96        46       2.93    0   \n2021-06-01 21:00:00      96       10000        2.97        50       2.99    0   \n\n                      id    main       description icon  rain  \ndt                                                             \n2021-05-30 22:00:00  801  Clouds        few clouds  02n     0  \n2021-05-30 23:00:00  801  Clouds        few clouds  02n     0  \n2021-05-31 00:00:00  801  Clouds        few clouds  02n     0  \n2021-05-31 01:00:00  801  Clouds        few clouds  02n     0  \n2021-05-31 02:00:00  800   Clear         clear sky  01n     0  \n2021-05-31 03:00:00  800   Clear         clear sky  01n     0  \n2021-05-31 04:00:00  800   Clear         clear sky  01d     0  \n2021-05-31 05:00:00  800   Clear         clear sky  01d     0  \n2021-05-31 06:00:00  800   Clear         clear sky  01d     0  \n2021-05-31 07:00:00  800   Clear         clear sky  01d     0  \n2021-05-31 08:00:00  800   Clear         clear sky  01d     0  \n2021-05-31 09:00:00  800   Clear         clear sky  01d     0  \n2021-05-31 10:00:00  800   Clear         clear sky  01d     0  \n2021-05-31 11:00:00  800   Clear         clear sky  01d     0  \n2021-05-31 12:00:00  800   Clear         clear sky  01d     0  \n2021-05-31 13:00:00  800   Clear         clear sky  01d     0  \n2021-05-31 14:00:00  800   Clear         clear sky  01d     0  \n2021-05-31 15:00:00  800   Clear         clear sky  01d     0  \n2021-05-31 16:00:00  800   Clear         clear sky  01d     0  \n2021-05-31 17:00:00  800   Clear         clear sky  01d     0  \n2021-05-31 18:00:00  800   Clear         clear sky  01d     0  \n2021-05-31 19:00:00  800   Clear         clear sky  01d     0  \n2021-05-31 20:00:00  800   Clear         clear sky  01n     0  \n2021-05-31 21:00:00  800   Clear         clear sky  01n     0  \n2021-05-31 22:00:00  800   Clear         clear sky  01n     0  \n2021-05-31 23:00:00  800   Clear         clear sky  01n     0  \n2021-06-01 00:00:00  800   Clear         clear sky  01n     0  \n2021-06-01 01:00:00  803  Clouds     broken clouds  04n     0  \n2021-06-01 02:00:00  803  Clouds     broken clouds  04n     0  \n2021-06-01 03:00:00  802  Clouds  scattered clouds  03n     0  \n2021-06-01 04:00:00  802  Clouds  scattered clouds  03d     0  \n2021-06-01 05:00:00  802  Clouds  scattered clouds  03d     0  \n2021-06-01 06:00:00  802  Clouds  scattered clouds  03d     0  \n2021-06-01 07:00:00  801  Clouds        few clouds  02d     0  \n2021-06-01 08:00:00  802  Clouds  scattered clouds  03d     0  \n2021-06-01 09:00:00  803  Clouds     broken clouds  04d     0  \n2021-06-01 10:00:00  803  Clouds     broken clouds  04d     0  \n2021-06-01 11:00:00  803  Clouds     broken clouds  04d     0  \n2021-06-01 12:00:00  803  Clouds     broken clouds  04d     0  \n2021-06-01 13:00:00  804  Clouds   overcast clouds  04d     0  \n2021-06-01 14:00:00  804  Clouds   overcast clouds  04d     0  \n2021-06-01 15:00:00  804  Clouds   overcast clouds  04d     0  \n2021-06-01 16:00:00  804  Clouds   overcast clouds  04d     0  \n2021-06-01 17:00:00  804  Clouds   overcast clouds  04d     0  \n2021-06-01 18:00:00  804  Clouds   overcast clouds  04d     0  \n2021-06-01 19:00:00  804  Clouds   overcast clouds  04d     0  \n2021-06-01 20:00:00  804  Clouds   overcast clouds  04n     0  \n2021-06-01 21:00:00  804  Clouds   overcast clouds  04n     0  ",
      "text/html": "<div>\n<style scoped>\n    .dataframe tbody tr th:only-of-type {\n        vertical-align: middle;\n    }\n\n    .dataframe tbody tr th {\n        vertical-align: top;\n    }\n\n    .dataframe thead th {\n        text-align: right;\n    }\n</style>\n<table border=\"1\" class=\"dataframe\">\n  <thead>\n    <tr style=\"text-align: right;\">\n      <th></th>\n      <th>temp</th>\n      <th>feels_like</th>\n      <th>pressure</th>\n      <th>humidity</th>\n      <th>dew_point</th>\n      <th>uvi</th>\n      <th>clouds</th>\n      <th>visibility</th>\n      <th>wind_speed</th>\n      <th>wind_deg</th>\n      <th>wind_gust</th>\n      <th>pop</th>\n      <th>id</th>\n      <th>main</th>\n      <th>description</th>\n      <th>icon</th>\n      <th>rain</th>\n    </tr>\n    <tr>\n      <th>dt</th>\n      <th></th>\n      <th></th>\n      <th></th>\n      <th></th>\n      <th></th>\n      <th></th>\n      <th></th>\n      <th></th>\n      <th></th>\n      <th></th>\n      <th></th>\n      <th></th>\n      <th></th>\n      <th></th>\n      <th></th>\n      <th></th>\n      <th></th>\n    </tr>\n  </thead>\n  <tbody>\n    <tr>\n      <th>2021-05-30 22:00:00</th>\n      <td>8.99</td>\n      <td>7.73</td>\n      <td>1025</td>\n      <td>91</td>\n      <td>7.60</td>\n      <td>0.00</td>\n      <td>16</td>\n      <td>10000</td>\n      <td>2.36</td>\n      <td>37</td>\n      <td>2.41</td>\n      <td>0</td>\n      <td>801</td>\n      <td>Clouds</td>\n      <td>few clouds</td>\n      <td>02n</td>\n      <td>0</td>\n    </tr>\n    <tr>\n      <th>2021-05-30 23:00:00</th>\n      <td>9.12</td>\n      <td>7.91</td>\n      <td>1025</td>\n      <td>92</td>\n      <td>7.89</td>\n      <td>0.00</td>\n      <td>20</td>\n      <td>10000</td>\n      <td>2.32</td>\n      <td>37</td>\n      <td>2.38</td>\n      <td>0</td>\n      <td>801</td>\n      <td>Clouds</td>\n      <td>few clouds</td>\n      <td>02n</td>\n      <td>0</td>\n    </tr>\n    <tr>\n      <th>2021-05-31 00:00:00</th>\n      <td>9.03</td>\n      <td>7.86</td>\n      <td>1025</td>\n      <td>91</td>\n      <td>7.64</td>\n      <td>0.00</td>\n      <td>16</td>\n      <td>10000</td>\n      <td>2.25</td>\n      <td>32</td>\n      <td>2.32</td>\n      <td>0</td>\n      <td>801</td>\n      <td>Clouds</td>\n      <td>few clouds</td>\n      <td>02n</td>\n      <td>0</td>\n    </tr>\n    <tr>\n      <th>2021-05-31 01:00:00</th>\n      <td>8.97</td>\n      <td>7.77</td>\n      <td>1025</td>\n      <td>92</td>\n      <td>7.74</td>\n      <td>0.00</td>\n      <td>12</td>\n      <td>10000</td>\n      <td>2.28</td>\n      <td>39</td>\n      <td>2.38</td>\n      <td>0</td>\n      <td>801</td>\n      <td>Clouds</td>\n      <td>few clouds</td>\n      <td>02n</td>\n      <td>0</td>\n    </tr>\n    <tr>\n      <th>2021-05-31 02:00:00</th>\n      <td>8.97</td>\n      <td>7.70</td>\n      <td>1026</td>\n      <td>92</td>\n      <td>7.74</td>\n      <td>0.00</td>\n      <td>8</td>\n      <td>10000</td>\n      <td>2.37</td>\n      <td>48</td>\n      <td>2.42</td>\n      <td>0</td>\n      <td>800</td>\n      <td>Clear</td>\n      <td>clear sky</td>\n      <td>01n</td>\n      <td>0</td>\n    </tr>\n    <tr>\n      <th>2021-05-31 03:00:00</th>\n      <td>8.95</td>\n      <td>7.77</td>\n      <td>1026</td>\n      <td>94</td>\n      <td>8.04</td>\n      <td>0.00</td>\n      <td>4</td>\n      <td>10000</td>\n      <td>2.24</td>\n      <td>56</td>\n      <td>2.28</td>\n      <td>0</td>\n      <td>800</td>\n      <td>Clear</td>\n      <td>clear sky</td>\n      <td>01n</td>\n      <td>0</td>\n    </tr>\n    <tr>\n      <th>2021-05-31 04:00:00</th>\n      <td>9.43</td>\n      <td>8.24</td>\n      <td>1026</td>\n      <td>95</td>\n      <td>8.64</td>\n      <td>0.10</td>\n      <td>0</td>\n      <td>10000</td>\n      <td>2.37</td>\n      <td>68</td>\n      <td>2.46</td>\n      <td>0</td>\n      <td>800</td>\n      <td>Clear</td>\n      <td>clear sky</td>\n      <td>01d</td>\n      <td>0</td>\n    </tr>\n    <tr>\n      <th>2021-05-31 05:00:00</th>\n      <td>11.06</td>\n      <td>10.68</td>\n      <td>1026</td>\n      <td>94</td>\n      <td>10.11</td>\n      <td>0.38</td>\n      <td>0</td>\n      <td>10000</td>\n      <td>2.16</td>\n      <td>84</td>\n      <td>3.54</td>\n      <td>0</td>\n      <td>800</td>\n      <td>Clear</td>\n      <td>clear sky</td>\n      <td>01d</td>\n      <td>0</td>\n    </tr>\n    <tr>\n      <th>2021-05-31 06:00:00</th>\n      <td>12.61</td>\n      <td>12.25</td>\n      <td>1026</td>\n      <td>89</td>\n      <td>10.85</td>\n      <td>0.97</td>\n      <td>0</td>\n      <td>10000</td>\n      <td>2.61</td>\n      <td>98</td>\n      <td>3.75</td>\n      <td>0</td>\n      <td>800</td>\n      <td>Clear</td>\n      <td>clear sky</td>\n      <td>01d</td>\n      <td>0</td>\n    </tr>\n    <tr>\n      <th>2021-05-31 07:00:00</th>\n      <td>14.06</td>\n      <td>13.71</td>\n      <td>1026</td>\n      <td>84</td>\n      <td>11.46</td>\n      <td>1.93</td>\n      <td>4</td>\n      <td>10000</td>\n      <td>2.63</td>\n      <td>103</td>\n      <td>3.48</td>\n      <td>0</td>\n      <td>800</td>\n      <td>Clear</td>\n      <td>clear sky</td>\n      <td>01d</td>\n      <td>0</td>\n    </tr>\n    <tr>\n      <th>2021-05-31 08:00:00</th>\n      <td>15.40</td>\n      <td>15.06</td>\n      <td>1026</td>\n      <td>79</td>\n      <td>11.93</td>\n      <td>3.25</td>\n      <td>4</td>\n      <td>10000</td>\n      <td>2.73</td>\n      <td>106</td>\n      <td>3.68</td>\n      <td>0</td>\n      <td>800</td>\n      <td>Clear</td>\n      <td>clear sky</td>\n      <td>01d</td>\n      <td>0</td>\n    </tr>\n    <tr>\n      <th>2021-05-31 09:00:00</th>\n      <td>16.65</td>\n      <td>16.25</td>\n      <td>1026</td>\n      <td>72</td>\n      <td>11.56</td>\n      <td>4.68</td>\n      <td>2</td>\n      <td>10000</td>\n      <td>2.85</td>\n      <td>105</td>\n      <td>4.02</td>\n      <td>0</td>\n      <td>800</td>\n      <td>Clear</td>\n      <td>clear sky</td>\n      <td>01d</td>\n      <td>0</td>\n    </tr>\n    <tr>\n      <th>2021-05-31 10:00:00</th>\n      <td>17.47</td>\n      <td>16.97</td>\n      <td>1025</td>\n      <td>65</td>\n      <td>10.81</td>\n      <td>5.79</td>\n      <td>3</td>\n      <td>10000</td>\n      <td>3.26</td>\n      <td>100</td>\n      <td>4.30</td>\n      <td>0</td>\n      <td>800</td>\n      <td>Clear</td>\n      <td>clear sky</td>\n      <td>01d</td>\n      <td>0</td>\n    </tr>\n    <tr>\n      <th>2021-05-31 11:00:00</th>\n      <td>18.04</td>\n      <td>17.49</td>\n      <td>1025</td>\n      <td>61</td>\n      <td>10.33</td>\n      <td>6.47</td>\n      <td>3</td>\n      <td>10000</td>\n      <td>3.49</td>\n      <td>98</td>\n      <td>4.27</td>\n      <td>0</td>\n      <td>800</td>\n      <td>Clear</td>\n      <td>clear sky</td>\n      <td>01d</td>\n      <td>0</td>\n    </tr>\n    <tr>\n      <th>2021-05-31 12:00:00</th>\n      <td>18.28</td>\n      <td>17.70</td>\n      <td>1025</td>\n      <td>59</td>\n      <td>10.09</td>\n      <td>6.47</td>\n      <td>3</td>\n      <td>10000</td>\n      <td>3.67</td>\n      <td>91</td>\n      <td>4.40</td>\n      <td>0</td>\n      <td>800</td>\n      <td>Clear</td>\n      <td>clear sky</td>\n      <td>01d</td>\n      <td>0</td>\n    </tr>\n    <tr>\n      <th>2021-05-31 13:00:00</th>\n      <td>18.47</td>\n      <td>17.91</td>\n      <td>1025</td>\n      <td>59</td>\n      <td>10.32</td>\n      <td>5.79</td>\n      <td>0</td>\n      <td>10000</td>\n      <td>3.59</td>\n      <td>82</td>\n      <td>4.12</td>\n      <td>0</td>\n      <td>800</td>\n      <td>Clear</td>\n      <td>clear sky</td>\n      <td>01d</td>\n      <td>0</td>\n    </tr>\n    <tr>\n      <th>2021-05-31 14:00:00</th>\n      <td>18.47</td>\n      <td>17.97</td>\n      <td>1024</td>\n      <td>61</td>\n      <td>10.87</td>\n      <td>4.59</td>\n      <td>0</td>\n      <td>10000</td>\n      <td>3.67</td>\n      <td>76</td>\n      <td>4.17</td>\n      <td>0</td>\n      <td>800</td>\n      <td>Clear</td>\n      <td>clear sky</td>\n      <td>01d</td>\n      <td>0</td>\n    </tr>\n    <tr>\n      <th>2021-05-31 15:00:00</th>\n      <td>18.20</td>\n      <td>17.75</td>\n      <td>1024</td>\n      <td>64</td>\n      <td>11.33</td>\n      <td>3.19</td>\n      <td>0</td>\n      <td>10000</td>\n      <td>3.75</td>\n      <td>71</td>\n      <td>4.20</td>\n      <td>0</td>\n      <td>800</td>\n      <td>Clear</td>\n      <td>clear sky</td>\n      <td>01d</td>\n      <td>0</td>\n    </tr>\n    <tr>\n      <th>2021-05-31 16:00:00</th>\n      <td>17.55</td>\n      <td>17.16</td>\n      <td>1024</td>\n      <td>69</td>\n      <td>11.88</td>\n      <td>1.88</td>\n      <td>0</td>\n      <td>10000</td>\n      <td>4.09</td>\n      <td>61</td>\n      <td>4.73</td>\n      <td>0</td>\n      <td>800</td>\n      <td>Clear</td>\n      <td>clear sky</td>\n      <td>01d</td>\n      <td>0</td>\n    </tr>\n    <tr>\n      <th>2021-05-31 17:00:00</th>\n      <td>16.85</td>\n      <td>16.57</td>\n      <td>1024</td>\n      <td>76</td>\n      <td>12.75</td>\n      <td>0.94</td>\n      <td>0</td>\n      <td>10000</td>\n      <td>3.66</td>\n      <td>49</td>\n      <td>5.14</td>\n      <td>0</td>\n      <td>800</td>\n      <td>Clear</td>\n      <td>clear sky</td>\n      <td>01d</td>\n      <td>0</td>\n    </tr>\n    <tr>\n      <th>2021-05-31 18:00:00</th>\n      <td>15.48</td>\n      <td>15.20</td>\n      <td>1023</td>\n      <td>81</td>\n      <td>12.16</td>\n      <td>0.37</td>\n      <td>0</td>\n      <td>10000</td>\n      <td>3.47</td>\n      <td>40</td>\n      <td>5.62</td>\n      <td>0</td>\n      <td>800</td>\n      <td>Clear</td>\n      <td>clear sky</td>\n      <td>01d</td>\n      <td>0</td>\n    </tr>\n    <tr>\n      <th>2021-05-31 19:00:00</th>\n      <td>13.33</td>\n      <td>12.89</td>\n      <td>1023</td>\n      <td>83</td>\n      <td>10.48</td>\n      <td>0.10</td>\n      <td>0</td>\n      <td>10000</td>\n      <td>3.66</td>\n      <td>44</td>\n      <td>5.90</td>\n      <td>0</td>\n      <td>800</td>\n      <td>Clear</td>\n      <td>clear sky</td>\n      <td>01d</td>\n      <td>0</td>\n    </tr>\n    <tr>\n      <th>2021-05-31 20:00:00</th>\n      <td>11.73</td>\n      <td>11.13</td>\n      <td>1023</td>\n      <td>83</td>\n      <td>8.93</td>\n      <td>0.00</td>\n      <td>0</td>\n      <td>10000</td>\n      <td>3.71</td>\n      <td>51</td>\n      <td>5.46</td>\n      <td>0</td>\n      <td>800</td>\n      <td>Clear</td>\n      <td>clear sky</td>\n      <td>01n</td>\n      <td>0</td>\n    </tr>\n    <tr>\n      <th>2021-05-31 21:00:00</th>\n      <td>11.17</td>\n      <td>10.54</td>\n      <td>1023</td>\n      <td>84</td>\n      <td>8.59</td>\n      <td>0.00</td>\n      <td>0</td>\n      <td>10000</td>\n      <td>3.61</td>\n      <td>55</td>\n      <td>5.31</td>\n      <td>0</td>\n      <td>800</td>\n      <td>Clear</td>\n      <td>clear sky</td>\n      <td>01n</td>\n      <td>0</td>\n    </tr>\n    <tr>\n      <th>2021-05-31 22:00:00</th>\n      <td>10.81</td>\n      <td>10.22</td>\n      <td>1023</td>\n      <td>87</td>\n      <td>8.66</td>\n      <td>0.00</td>\n      <td>0</td>\n      <td>10000</td>\n      <td>3.44</td>\n      <td>63</td>\n      <td>4.53</td>\n      <td>0</td>\n      <td>800</td>\n      <td>Clear</td>\n      <td>clear sky</td>\n      <td>01n</td>\n      <td>0</td>\n    </tr>\n    <tr>\n      <th>2021-05-31 23:00:00</th>\n      <td>10.50</td>\n      <td>9.96</td>\n      <td>1023</td>\n      <td>90</td>\n      <td>8.92</td>\n      <td>0.00</td>\n      <td>0</td>\n      <td>10000</td>\n      <td>3.33</td>\n      <td>78</td>\n      <td>4.89</td>\n      <td>0</td>\n      <td>800</td>\n      <td>Clear</td>\n      <td>clear sky</td>\n      <td>01n</td>\n      <td>0</td>\n    </tr>\n    <tr>\n      <th>2021-06-01 00:00:00</th>\n      <td>10.42</td>\n      <td>9.89</td>\n      <td>1023</td>\n      <td>91</td>\n      <td>9.08</td>\n      <td>0.00</td>\n      <td>1</td>\n      <td>10000</td>\n      <td>3.05</td>\n      <td>84</td>\n      <td>3.71</td>\n      <td>0</td>\n      <td>800</td>\n      <td>Clear</td>\n      <td>clear sky</td>\n      <td>01n</td>\n      <td>0</td>\n    </tr>\n    <tr>\n      <th>2021-06-01 01:00:00</th>\n      <td>10.39</td>\n      <td>9.89</td>\n      <td>1023</td>\n      <td>92</td>\n      <td>9.19</td>\n      <td>0.00</td>\n      <td>64</td>\n      <td>10000</td>\n      <td>2.82</td>\n      <td>86</td>\n      <td>3.04</td>\n      <td>0</td>\n      <td>803</td>\n      <td>Clouds</td>\n      <td>broken clouds</td>\n      <td>04n</td>\n      <td>0</td>\n    </tr>\n    <tr>\n      <th>2021-06-01 02:00:00</th>\n      <td>10.28</td>\n      <td>9.77</td>\n      <td>1023</td>\n      <td>92</td>\n      <td>9.00</td>\n      <td>0.00</td>\n      <td>51</td>\n      <td>10000</td>\n      <td>2.35</td>\n      <td>96</td>\n      <td>2.42</td>\n      <td>0</td>\n      <td>803</td>\n      <td>Clouds</td>\n      <td>broken clouds</td>\n      <td>04n</td>\n      <td>0</td>\n    </tr>\n    <tr>\n      <th>2021-06-01 03:00:00</th>\n      <td>10.12</td>\n      <td>9.56</td>\n      <td>1022</td>\n      <td>91</td>\n      <td>8.61</td>\n      <td>0.00</td>\n      <td>38</td>\n      <td>10000</td>\n      <td>2.11</td>\n      <td>101</td>\n      <td>2.11</td>\n      <td>0</td>\n      <td>802</td>\n      <td>Clouds</td>\n      <td>scattered clouds</td>\n      <td>03n</td>\n      <td>0</td>\n    </tr>\n    <tr>\n      <th>2021-06-01 04:00:00</th>\n      <td>10.32</td>\n      <td>9.76</td>\n      <td>1022</td>\n      <td>90</td>\n      <td>8.72</td>\n      <td>0.10</td>\n      <td>32</td>\n      <td>10000</td>\n      <td>1.94</td>\n      <td>106</td>\n      <td>1.98</td>\n      <td>0</td>\n      <td>802</td>\n      <td>Clouds</td>\n      <td>scattered clouds</td>\n      <td>03d</td>\n      <td>0</td>\n    </tr>\n    <tr>\n      <th>2021-06-01 05:00:00</th>\n      <td>12.09</td>\n      <td>11.63</td>\n      <td>1022</td>\n      <td>87</td>\n      <td>10.07</td>\n      <td>0.37</td>\n      <td>29</td>\n      <td>10000</td>\n      <td>1.59</td>\n      <td>119</td>\n      <td>2.07</td>\n      <td>0</td>\n      <td>802</td>\n      <td>Clouds</td>\n      <td>scattered clouds</td>\n      <td>03d</td>\n      <td>0</td>\n    </tr>\n    <tr>\n      <th>2021-06-01 06:00:00</th>\n      <td>13.81</td>\n      <td>13.39</td>\n      <td>1022</td>\n      <td>82</td>\n      <td>10.80</td>\n      <td>0.95</td>\n      <td>26</td>\n      <td>10000</td>\n      <td>1.53</td>\n      <td>120</td>\n      <td>1.93</td>\n      <td>0</td>\n      <td>802</td>\n      <td>Clouds</td>\n      <td>scattered clouds</td>\n      <td>03d</td>\n      <td>0</td>\n    </tr>\n    <tr>\n      <th>2021-06-01 07:00:00</th>\n      <td>15.23</td>\n      <td>14.85</td>\n      <td>1022</td>\n      <td>78</td>\n      <td>11.35</td>\n      <td>1.79</td>\n      <td>20</td>\n      <td>10000</td>\n      <td>1.55</td>\n      <td>117</td>\n      <td>1.78</td>\n      <td>0</td>\n      <td>801</td>\n      <td>Clouds</td>\n      <td>few clouds</td>\n      <td>02d</td>\n      <td>0</td>\n    </tr>\n    <tr>\n      <th>2021-06-01 08:00:00</th>\n      <td>16.55</td>\n      <td>16.19</td>\n      <td>1022</td>\n      <td>74</td>\n      <td>11.89</td>\n      <td>2.99</td>\n      <td>38</td>\n      <td>10000</td>\n      <td>1.36</td>\n      <td>106</td>\n      <td>1.59</td>\n      <td>0</td>\n      <td>802</td>\n      <td>Clouds</td>\n      <td>scattered clouds</td>\n      <td>03d</td>\n      <td>0</td>\n    </tr>\n    <tr>\n      <th>2021-06-01 09:00:00</th>\n      <td>17.49</td>\n      <td>17.17</td>\n      <td>1022</td>\n      <td>72</td>\n      <td>12.21</td>\n      <td>4.29</td>\n      <td>56</td>\n      <td>10000</td>\n      <td>1.68</td>\n      <td>84</td>\n      <td>1.85</td>\n      <td>0</td>\n      <td>803</td>\n      <td>Clouds</td>\n      <td>broken clouds</td>\n      <td>04d</td>\n      <td>0</td>\n    </tr>\n    <tr>\n      <th>2021-06-01 10:00:00</th>\n      <td>17.96</td>\n      <td>17.64</td>\n      <td>1021</td>\n      <td>70</td>\n      <td>12.42</td>\n      <td>4.52</td>\n      <td>67</td>\n      <td>10000</td>\n      <td>1.88</td>\n      <td>75</td>\n      <td>1.95</td>\n      <td>0</td>\n      <td>803</td>\n      <td>Clouds</td>\n      <td>broken clouds</td>\n      <td>04d</td>\n      <td>0</td>\n    </tr>\n    <tr>\n      <th>2021-06-01 11:00:00</th>\n      <td>18.37</td>\n      <td>18.06</td>\n      <td>1021</td>\n      <td>69</td>\n      <td>12.65</td>\n      <td>5.05</td>\n      <td>74</td>\n      <td>10000</td>\n      <td>2.11</td>\n      <td>63</td>\n      <td>2.16</td>\n      <td>0</td>\n      <td>803</td>\n      <td>Clouds</td>\n      <td>broken clouds</td>\n      <td>04d</td>\n      <td>0</td>\n    </tr>\n    <tr>\n      <th>2021-06-01 12:00:00</th>\n      <td>18.83</td>\n      <td>18.57</td>\n      <td>1021</td>\n      <td>69</td>\n      <td>12.95</td>\n      <td>5.05</td>\n      <td>78</td>\n      <td>10000</td>\n      <td>2.74</td>\n      <td>52</td>\n      <td>2.66</td>\n      <td>0</td>\n      <td>803</td>\n      <td>Clouds</td>\n      <td>broken clouds</td>\n      <td>04d</td>\n      <td>0</td>\n    </tr>\n    <tr>\n      <th>2021-06-01 13:00:00</th>\n      <td>18.73</td>\n      <td>18.46</td>\n      <td>1021</td>\n      <td>69</td>\n      <td>13.00</td>\n      <td>4.77</td>\n      <td>100</td>\n      <td>10000</td>\n      <td>3.68</td>\n      <td>47</td>\n      <td>3.24</td>\n      <td>0</td>\n      <td>804</td>\n      <td>Clouds</td>\n      <td>overcast clouds</td>\n      <td>04d</td>\n      <td>0</td>\n    </tr>\n    <tr>\n      <th>2021-06-01 14:00:00</th>\n      <td>18.26</td>\n      <td>17.97</td>\n      <td>1020</td>\n      <td>70</td>\n      <td>12.68</td>\n      <td>3.79</td>\n      <td>100</td>\n      <td>10000</td>\n      <td>4.00</td>\n      <td>43</td>\n      <td>3.46</td>\n      <td>0</td>\n      <td>804</td>\n      <td>Clouds</td>\n      <td>overcast clouds</td>\n      <td>04d</td>\n      <td>0</td>\n    </tr>\n    <tr>\n      <th>2021-06-01 15:00:00</th>\n      <td>17.40</td>\n      <td>17.00</td>\n      <td>1020</td>\n      <td>69</td>\n      <td>11.83</td>\n      <td>2.64</td>\n      <td>100</td>\n      <td>10000</td>\n      <td>3.94</td>\n      <td>38</td>\n      <td>3.72</td>\n      <td>0</td>\n      <td>804</td>\n      <td>Clouds</td>\n      <td>overcast clouds</td>\n      <td>04d</td>\n      <td>0</td>\n    </tr>\n    <tr>\n      <th>2021-06-01 16:00:00</th>\n      <td>16.33</td>\n      <td>15.82</td>\n      <td>1020</td>\n      <td>69</td>\n      <td>10.61</td>\n      <td>1.53</td>\n      <td>100</td>\n      <td>10000</td>\n      <td>3.66</td>\n      <td>33</td>\n      <td>4.09</td>\n      <td>0</td>\n      <td>804</td>\n      <td>Clouds</td>\n      <td>overcast clouds</td>\n      <td>04d</td>\n      <td>0</td>\n    </tr>\n    <tr>\n      <th>2021-06-01 17:00:00</th>\n      <td>15.32</td>\n      <td>14.87</td>\n      <td>1019</td>\n      <td>75</td>\n      <td>10.88</td>\n      <td>0.77</td>\n      <td>100</td>\n      <td>10000</td>\n      <td>3.40</td>\n      <td>35</td>\n      <td>4.92</td>\n      <td>0</td>\n      <td>804</td>\n      <td>Clouds</td>\n      <td>overcast clouds</td>\n      <td>04d</td>\n      <td>0</td>\n    </tr>\n    <tr>\n      <th>2021-06-01 18:00:00</th>\n      <td>13.79</td>\n      <td>13.26</td>\n      <td>1019</td>\n      <td>78</td>\n      <td>10.02</td>\n      <td>0.31</td>\n      <td>100</td>\n      <td>10000</td>\n      <td>3.38</td>\n      <td>40</td>\n      <td>5.79</td>\n      <td>0</td>\n      <td>804</td>\n      <td>Clouds</td>\n      <td>overcast clouds</td>\n      <td>04d</td>\n      <td>0</td>\n    </tr>\n    <tr>\n      <th>2021-06-01 19:00:00</th>\n      <td>12.07</td>\n      <td>11.34</td>\n      <td>1019</td>\n      <td>77</td>\n      <td>8.19</td>\n      <td>0.09</td>\n      <td>100</td>\n      <td>10000</td>\n      <td>3.19</td>\n      <td>44</td>\n      <td>4.51</td>\n      <td>0</td>\n      <td>804</td>\n      <td>Clouds</td>\n      <td>overcast clouds</td>\n      <td>04d</td>\n      <td>0</td>\n    </tr>\n    <tr>\n      <th>2021-06-01 20:00:00</th>\n      <td>10.83</td>\n      <td>9.87</td>\n      <td>1019</td>\n      <td>73</td>\n      <td>6.15</td>\n      <td>0.00</td>\n      <td>98</td>\n      <td>10000</td>\n      <td>2.96</td>\n      <td>46</td>\n      <td>2.93</td>\n      <td>0</td>\n      <td>804</td>\n      <td>Clouds</td>\n      <td>overcast clouds</td>\n      <td>04n</td>\n      <td>0</td>\n    </tr>\n    <tr>\n      <th>2021-06-01 21:00:00</th>\n      <td>10.25</td>\n      <td>9.21</td>\n      <td>1019</td>\n      <td>72</td>\n      <td>5.51</td>\n      <td>0.00</td>\n      <td>96</td>\n      <td>10000</td>\n      <td>2.97</td>\n      <td>50</td>\n      <td>2.99</td>\n      <td>0</td>\n      <td>804</td>\n      <td>Clouds</td>\n      <td>overcast clouds</td>\n      <td>04n</td>\n      <td>0</td>\n    </tr>\n  </tbody>\n</table>\n</div>"
     },
     "execution_count": 36,
     "metadata": {},
     "output_type": "execute_result"
    }
   ],
   "source": [
    "hr = pd.DataFrame(dic['hourly'])\n",
    "\n",
    "hr['dt'] = pd.to_datetime(hr.dt, unit='s')\n",
    "hr = hr.set_index('dt')\n",
    "\n",
    "hr = hr.join(pd.DataFrame(hr.weather.apply(del_lst).tolist(), hr.index))\n",
    "hr = hr.drop(columns='weather')\n",
    "if 'rain' in hr.columns:\n",
    "    hr.loc[hr.rain.isna(), 'rain'] = 0\n",
    "    hr.loc[hr.rain.notna(), 'rain'] = hr.loc[hr.rain.notna(), 'rain'].apply(\n",
    "        lambda x: x.get('1h')\n",
    "    )\n",
    "else:\n",
    "    hr['rain'] = 0\n",
    "\n",
    "hr"
   ],
   "metadata": {
    "collapsed": false,
    "pycharm": {
     "name": "#%%\n"
    }
   }
  },
  {
   "cell_type": "markdown",
   "source": [
    "## Daily Data\n",
    "- 1 week\n",
    "- 8 observations"
   ],
   "metadata": {
    "collapsed": false,
    "pycharm": {
     "name": "#%% md\n"
    }
   }
  },
  {
   "cell_type": "code",
   "execution_count": 37,
   "outputs": [
    {
     "data": {
      "text/plain": "                                sunrise              sunset    moonrise  \\\ndt                                                                        \n2021-05-31 11:00:00 2021-05-31 03:07:43 2021-05-31 19:46:33  1622419680   \n2021-06-01 11:00:00 2021-06-01 03:06:48 2021-06-01 19:47:46  1622507520   \n2021-06-02 11:00:00 2021-06-02 03:05:56 2021-06-02 19:48:57  1622595000   \n2021-06-03 11:00:00 2021-06-03 03:05:07 2021-06-03 19:50:05  1622682300   \n2021-06-04 11:00:00 2021-06-04 03:04:21 2021-06-04 19:51:11  1622769420   \n2021-06-05 11:00:00 2021-06-05 03:03:38 2021-06-05 19:52:14  1622856540   \n2021-06-06 11:00:00 2021-06-06 03:02:58 2021-06-06 19:53:14  1622943600   \n2021-06-07 11:00:00 2021-06-07 03:02:22 2021-06-07 19:54:12  1623030780   \n\n                        moonset  moon_phase  pressure  humidity  dew_point  \\\ndt                                                                           \n2021-05-31 11:00:00  1622448600        0.69      1025        61      10.33   \n2021-06-01 11:00:00  1622539920        0.72      1021        69      12.65   \n2021-06-02 11:00:00  1622631000        0.75      1018        70      13.63   \n2021-06-03 11:00:00  1622721900        0.79      1024        64      14.31   \n2021-06-04 11:00:00  1622812620        0.82      1027        67      15.05   \n2021-06-05 11:00:00  1622903220        0.85      1026        76      15.64   \n2021-06-06 11:00:00  1622993940        0.88      1022        58      12.80   \n2021-06-07 11:00:00  1623084540        0.91      1021        69      15.19   \n\n                     wind_speed  wind_deg  ...    eve   morn  day_feels_like  \\\ndt                                         ...                                 \n2021-05-31 11:00:00        4.09        61  ...  16.85  11.06           17.49   \n2021-06-01 11:00:00        4.00        43  ...  15.32  12.09           18.06   \n2021-06-02 11:00:00        6.29       123  ...  18.94  10.36           19.19   \n2021-06-03 11:00:00        6.60       123  ...  19.52  14.80           21.37   \n2021-06-04 11:00:00        5.33       137  ...  21.02  14.89           21.35   \n2021-06-05 11:00:00        2.40       347  ...  18.52  16.57           20.24   \n2021-06-06 11:00:00        5.79        59  ...  18.31  15.69           21.07   \n2021-06-07 11:00:00        5.89        47  ...  18.00  15.72           21.22   \n\n                     night_feels_like  eve_feels_like  morn_feels_like   id  \\\ndt                                                                            \n2021-05-31 11:00:00             10.54           16.57            10.68  800   \n2021-06-01 11:00:00              9.21           14.87            11.63  803   \n2021-06-02 11:00:00             16.36           18.93             9.80  801   \n2021-06-03 11:00:00             14.78           19.59            14.56  802   \n2021-06-04 11:00:00             15.50           21.21            14.60  804   \n2021-06-05 11:00:00             15.34           18.70            16.48  500   \n2021-06-06 11:00:00             14.95           18.18            15.53  800   \n2021-06-07 11:00:00             14.86           18.02            15.59  500   \n\n                       main       description  icon  \ndt                                                   \n2021-05-31 11:00:00   Clear         clear sky   01d  \n2021-06-01 11:00:00  Clouds     broken clouds   04d  \n2021-06-02 11:00:00  Clouds        few clouds   02d  \n2021-06-03 11:00:00  Clouds  scattered clouds   03d  \n2021-06-04 11:00:00  Clouds   overcast clouds   04d  \n2021-06-05 11:00:00    Rain        light rain   10d  \n2021-06-06 11:00:00   Clear         clear sky   01d  \n2021-06-07 11:00:00    Rain        light rain   10d  \n\n[8 rows x 29 columns]",
      "text/html": "<div>\n<style scoped>\n    .dataframe tbody tr th:only-of-type {\n        vertical-align: middle;\n    }\n\n    .dataframe tbody tr th {\n        vertical-align: top;\n    }\n\n    .dataframe thead th {\n        text-align: right;\n    }\n</style>\n<table border=\"1\" class=\"dataframe\">\n  <thead>\n    <tr style=\"text-align: right;\">\n      <th></th>\n      <th>sunrise</th>\n      <th>sunset</th>\n      <th>moonrise</th>\n      <th>moonset</th>\n      <th>moon_phase</th>\n      <th>pressure</th>\n      <th>humidity</th>\n      <th>dew_point</th>\n      <th>wind_speed</th>\n      <th>wind_deg</th>\n      <th>...</th>\n      <th>eve</th>\n      <th>morn</th>\n      <th>day_feels_like</th>\n      <th>night_feels_like</th>\n      <th>eve_feels_like</th>\n      <th>morn_feels_like</th>\n      <th>id</th>\n      <th>main</th>\n      <th>description</th>\n      <th>icon</th>\n    </tr>\n    <tr>\n      <th>dt</th>\n      <th></th>\n      <th></th>\n      <th></th>\n      <th></th>\n      <th></th>\n      <th></th>\n      <th></th>\n      <th></th>\n      <th></th>\n      <th></th>\n      <th></th>\n      <th></th>\n      <th></th>\n      <th></th>\n      <th></th>\n      <th></th>\n      <th></th>\n      <th></th>\n      <th></th>\n      <th></th>\n      <th></th>\n    </tr>\n  </thead>\n  <tbody>\n    <tr>\n      <th>2021-05-31 11:00:00</th>\n      <td>2021-05-31 03:07:43</td>\n      <td>2021-05-31 19:46:33</td>\n      <td>1622419680</td>\n      <td>1622448600</td>\n      <td>0.69</td>\n      <td>1025</td>\n      <td>61</td>\n      <td>10.33</td>\n      <td>4.09</td>\n      <td>61</td>\n      <td>...</td>\n      <td>16.85</td>\n      <td>11.06</td>\n      <td>17.49</td>\n      <td>10.54</td>\n      <td>16.57</td>\n      <td>10.68</td>\n      <td>800</td>\n      <td>Clear</td>\n      <td>clear sky</td>\n      <td>01d</td>\n    </tr>\n    <tr>\n      <th>2021-06-01 11:00:00</th>\n      <td>2021-06-01 03:06:48</td>\n      <td>2021-06-01 19:47:46</td>\n      <td>1622507520</td>\n      <td>1622539920</td>\n      <td>0.72</td>\n      <td>1021</td>\n      <td>69</td>\n      <td>12.65</td>\n      <td>4.00</td>\n      <td>43</td>\n      <td>...</td>\n      <td>15.32</td>\n      <td>12.09</td>\n      <td>18.06</td>\n      <td>9.21</td>\n      <td>14.87</td>\n      <td>11.63</td>\n      <td>803</td>\n      <td>Clouds</td>\n      <td>broken clouds</td>\n      <td>04d</td>\n    </tr>\n    <tr>\n      <th>2021-06-02 11:00:00</th>\n      <td>2021-06-02 03:05:56</td>\n      <td>2021-06-02 19:48:57</td>\n      <td>1622595000</td>\n      <td>1622631000</td>\n      <td>0.75</td>\n      <td>1018</td>\n      <td>70</td>\n      <td>13.63</td>\n      <td>6.29</td>\n      <td>123</td>\n      <td>...</td>\n      <td>18.94</td>\n      <td>10.36</td>\n      <td>19.19</td>\n      <td>16.36</td>\n      <td>18.93</td>\n      <td>9.80</td>\n      <td>801</td>\n      <td>Clouds</td>\n      <td>few clouds</td>\n      <td>02d</td>\n    </tr>\n    <tr>\n      <th>2021-06-03 11:00:00</th>\n      <td>2021-06-03 03:05:07</td>\n      <td>2021-06-03 19:50:05</td>\n      <td>1622682300</td>\n      <td>1622721900</td>\n      <td>0.79</td>\n      <td>1024</td>\n      <td>64</td>\n      <td>14.31</td>\n      <td>6.60</td>\n      <td>123</td>\n      <td>...</td>\n      <td>19.52</td>\n      <td>14.80</td>\n      <td>21.37</td>\n      <td>14.78</td>\n      <td>19.59</td>\n      <td>14.56</td>\n      <td>802</td>\n      <td>Clouds</td>\n      <td>scattered clouds</td>\n      <td>03d</td>\n    </tr>\n    <tr>\n      <th>2021-06-04 11:00:00</th>\n      <td>2021-06-04 03:04:21</td>\n      <td>2021-06-04 19:51:11</td>\n      <td>1622769420</td>\n      <td>1622812620</td>\n      <td>0.82</td>\n      <td>1027</td>\n      <td>67</td>\n      <td>15.05</td>\n      <td>5.33</td>\n      <td>137</td>\n      <td>...</td>\n      <td>21.02</td>\n      <td>14.89</td>\n      <td>21.35</td>\n      <td>15.50</td>\n      <td>21.21</td>\n      <td>14.60</td>\n      <td>804</td>\n      <td>Clouds</td>\n      <td>overcast clouds</td>\n      <td>04d</td>\n    </tr>\n    <tr>\n      <th>2021-06-05 11:00:00</th>\n      <td>2021-06-05 03:03:38</td>\n      <td>2021-06-05 19:52:14</td>\n      <td>1622856540</td>\n      <td>1622903220</td>\n      <td>0.85</td>\n      <td>1026</td>\n      <td>76</td>\n      <td>15.64</td>\n      <td>2.40</td>\n      <td>347</td>\n      <td>...</td>\n      <td>18.52</td>\n      <td>16.57</td>\n      <td>20.24</td>\n      <td>15.34</td>\n      <td>18.70</td>\n      <td>16.48</td>\n      <td>500</td>\n      <td>Rain</td>\n      <td>light rain</td>\n      <td>10d</td>\n    </tr>\n    <tr>\n      <th>2021-06-06 11:00:00</th>\n      <td>2021-06-06 03:02:58</td>\n      <td>2021-06-06 19:53:14</td>\n      <td>1622943600</td>\n      <td>1622993940</td>\n      <td>0.88</td>\n      <td>1022</td>\n      <td>58</td>\n      <td>12.80</td>\n      <td>5.79</td>\n      <td>59</td>\n      <td>...</td>\n      <td>18.31</td>\n      <td>15.69</td>\n      <td>21.07</td>\n      <td>14.95</td>\n      <td>18.18</td>\n      <td>15.53</td>\n      <td>800</td>\n      <td>Clear</td>\n      <td>clear sky</td>\n      <td>01d</td>\n    </tr>\n    <tr>\n      <th>2021-06-07 11:00:00</th>\n      <td>2021-06-07 03:02:22</td>\n      <td>2021-06-07 19:54:12</td>\n      <td>1623030780</td>\n      <td>1623084540</td>\n      <td>0.91</td>\n      <td>1021</td>\n      <td>69</td>\n      <td>15.19</td>\n      <td>5.89</td>\n      <td>47</td>\n      <td>...</td>\n      <td>18.00</td>\n      <td>15.72</td>\n      <td>21.22</td>\n      <td>14.86</td>\n      <td>18.02</td>\n      <td>15.59</td>\n      <td>500</td>\n      <td>Rain</td>\n      <td>light rain</td>\n      <td>10d</td>\n    </tr>\n  </tbody>\n</table>\n<p>8 rows × 29 columns</p>\n</div>"
     },
     "execution_count": 37,
     "metadata": {},
     "output_type": "execute_result"
    }
   ],
   "source": [
    "time = ['dt', 'sunrise', 'sunset']\n",
    "dly = pd.DataFrame(dic['daily'])\n",
    "dly[time] = dly[time].apply(pd.to_datetime, unit='s')\n",
    "\n",
    "dly = dly.join(pd.DataFrame(dly.temp.to_list()))\n",
    "dly = dly.join(pd.DataFrame(dly.feels_like.to_list()).add_suffix('_feels_like'))\n",
    "dly = dly.join(pd.DataFrame(dly.weather.apply(del_lst).to_list()))\n",
    "\n",
    "dly = dly.drop(columns=['temp', 'feels_like', 'weather'])\n",
    "dly = dly.set_index('dt')\n",
    "dly"
   ],
   "metadata": {
    "collapsed": false,
    "pycharm": {
     "name": "#%%\n"
    }
   }
  }
 ],
 "metadata": {
  "kernelspec": {
   "name": "python3",
   "language": "python",
   "display_name": "Python 3"
  },
  "language_info": {
   "codemirror_mode": {
    "name": "ipython",
    "version": 2
   },
   "file_extension": ".py",
   "mimetype": "text/x-python",
   "name": "python",
   "nbconvert_exporter": "python",
   "pygments_lexer": "ipython2",
   "version": "2.7.6"
  }
 },
 "nbformat": 4,
 "nbformat_minor": 0
}