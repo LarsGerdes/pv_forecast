{
 "cells": [
  {
   "cell_type": "markdown",
   "source": [
    "# Open Weather Map\n",
    "Exploration of openweathermap.org API.\n",
    "\n",
    "## Prerequisits\n",
    "- load libraries\n",
    "- load configuration file to get API access data\n",
    "- create URL for API access\n",
    "- access API\n",
    "- print general information"
   ],
   "metadata": {
    "collapsed": false,
    "pycharm": {
     "name": "#%% md\n"
    }
   }
  },
  {
   "cell_type": "code",
   "execution_count": 1,
   "metadata": {
    "collapsed": true
   },
   "outputs": [],
   "source": [
    "import toml\n",
    "import requests\n",
    "import pandas as pd\n",
    "\n",
    "def del_lst(x):\n",
    "    return x[0]\n",
    "\n",
    "conf = toml.load('../../conf.toml')\n",
    "owm = conf['owm']\n",
    "\n",
    "url = 'https://api.openweathermap.org/data/2.5/onecall?lat={lat}&lon={lng}' \\\n",
    "      '&units=metric&APPID={key}'\n",
    "url = url.format(lat=owm['lat'], lng=owm['lng'], key=owm['key'])\n",
    "\n",
    "response = requests.get(url)\n",
    "dic = response.json()\n",
    "\n",
    "# keys = ['lat', 'lon', 'timezone', 'timezone_offset']\n",
    "# gi = pd.DataFrame(list(map(dic.get, keys)), keys, ['General Information']).T\n",
    "# gi['timezone_offset'] = pd.to_timedelta(gi.timezone_offset, 's')\n",
    "# gi"
   ]
  },
  {
   "cell_type": "markdown",
   "source": [
    "## Current Weather\n",
    "- Timezone is UTC\n",
    "- temp, feels_like, dew_point: °C\n",
    "- pressure: hPa\n",
    "- humidity, clouds: %\n",
    "- uvi: UV Index\n",
    "- visibility: m\n",
    "- wind_speed: m / s\n",
    "- wind_deg: °"
   ],
   "metadata": {
    "collapsed": false,
    "pycharm": {
     "name": "#%% md\n"
    }
   }
  },
  {
   "cell_type": "code",
   "execution_count": 2,
   "outputs": [
    {
     "data": {
      "text/plain": "                                sunrise              sunset   temp  \\\ndt                                                                   \n2021-06-01 17:36:49 2021-06-01 03:06:48 2021-06-01 19:47:46  18.03   \n\n                     feels_like  pressure  humidity  dew_point   uvi  clouds  \\\ndt                                                                             \n2021-06-01 17:36:49       17.06      1017        45       5.93  0.29      75   \n\n                     visibility  wind_speed  wind_deg   id    main  \\\ndt                                                                   \n2021-06-01 17:36:49       10000        4.12        40  803  Clouds   \n\n                       description icon  \ndt                                       \n2021-06-01 17:36:49  broken clouds  04d  ",
      "text/html": "<div>\n<style scoped>\n    .dataframe tbody tr th:only-of-type {\n        vertical-align: middle;\n    }\n\n    .dataframe tbody tr th {\n        vertical-align: top;\n    }\n\n    .dataframe thead th {\n        text-align: right;\n    }\n</style>\n<table border=\"1\" class=\"dataframe\">\n  <thead>\n    <tr style=\"text-align: right;\">\n      <th></th>\n      <th>sunrise</th>\n      <th>sunset</th>\n      <th>temp</th>\n      <th>feels_like</th>\n      <th>pressure</th>\n      <th>humidity</th>\n      <th>dew_point</th>\n      <th>uvi</th>\n      <th>clouds</th>\n      <th>visibility</th>\n      <th>wind_speed</th>\n      <th>wind_deg</th>\n      <th>id</th>\n      <th>main</th>\n      <th>description</th>\n      <th>icon</th>\n    </tr>\n    <tr>\n      <th>dt</th>\n      <th></th>\n      <th></th>\n      <th></th>\n      <th></th>\n      <th></th>\n      <th></th>\n      <th></th>\n      <th></th>\n      <th></th>\n      <th></th>\n      <th></th>\n      <th></th>\n      <th></th>\n      <th></th>\n      <th></th>\n      <th></th>\n    </tr>\n  </thead>\n  <tbody>\n    <tr>\n      <th>2021-06-01 17:36:49</th>\n      <td>2021-06-01 03:06:48</td>\n      <td>2021-06-01 19:47:46</td>\n      <td>18.03</td>\n      <td>17.06</td>\n      <td>1017</td>\n      <td>45</td>\n      <td>5.93</td>\n      <td>0.29</td>\n      <td>75</td>\n      <td>10000</td>\n      <td>4.12</td>\n      <td>40</td>\n      <td>803</td>\n      <td>Clouds</td>\n      <td>broken clouds</td>\n      <td>04d</td>\n    </tr>\n  </tbody>\n</table>\n</div>"
     },
     "execution_count": 2,
     "metadata": {},
     "output_type": "execute_result"
    }
   ],
   "source": [
    "cur = pd.DataFrame(dic['current'])\n",
    "\n",
    "weather = cur.weather[0]\n",
    "cur[list(weather.keys())] = weather.values()\n",
    "cur = cur.drop(columns='weather')\n",
    "\n",
    "time = ['dt', 'sunrise', 'sunset']\n",
    "cur[time] = cur[time].apply(pd.to_datetime, unit='s')\n",
    "cur = cur.set_index('dt')\n",
    "\n",
    "cur"
   ],
   "metadata": {
    "collapsed": false,
    "pycharm": {
     "name": "#%%\n"
    }
   }
  },
  {
   "cell_type": "markdown",
   "source": [
    "### Alerts"
   ],
   "metadata": {
    "collapsed": false,
    "pycharm": {
     "name": "#%% md\n"
    }
   }
  },
  {
   "cell_type": "code",
   "execution_count": 3,
   "outputs": [],
   "source": [
    "# ale = pd.DataFrame(dic['alerts'], ['german', 'english'])\n",
    "#\n",
    "# time = ['start', 'end']\n",
    "# ale[time] = ale[time].apply(pd.to_datetime, unit='s')\n",
    "#\n",
    "# ale"
   ],
   "metadata": {
    "collapsed": false,
    "pycharm": {
     "name": "#%%\n"
    }
   }
  },
  {
   "cell_type": "markdown",
   "source": [
    "## Minutely Data\n",
    "- 1 hour\n",
    "- 60 observations\n",
    "- precipitation: mm"
   ],
   "metadata": {
    "collapsed": false,
    "pycharm": {
     "name": "#%% md\n"
    }
   }
  },
  {
   "cell_type": "code",
   "execution_count": 4,
   "outputs": [
    {
     "data": {
      "text/plain": "                     precipitation\ndt                                \n2021-06-01 17:37:00              0\n2021-06-01 17:38:00              0\n2021-06-01 17:39:00              0\n2021-06-01 17:40:00              0\n2021-06-01 17:41:00              0\n...                            ...\n2021-06-01 18:33:00              0\n2021-06-01 18:34:00              0\n2021-06-01 18:35:00              0\n2021-06-01 18:36:00              0\n2021-06-01 18:37:00              0\n\n[61 rows x 1 columns]",
      "text/html": "<div>\n<style scoped>\n    .dataframe tbody tr th:only-of-type {\n        vertical-align: middle;\n    }\n\n    .dataframe tbody tr th {\n        vertical-align: top;\n    }\n\n    .dataframe thead th {\n        text-align: right;\n    }\n</style>\n<table border=\"1\" class=\"dataframe\">\n  <thead>\n    <tr style=\"text-align: right;\">\n      <th></th>\n      <th>precipitation</th>\n    </tr>\n    <tr>\n      <th>dt</th>\n      <th></th>\n    </tr>\n  </thead>\n  <tbody>\n    <tr>\n      <th>2021-06-01 17:37:00</th>\n      <td>0</td>\n    </tr>\n    <tr>\n      <th>2021-06-01 17:38:00</th>\n      <td>0</td>\n    </tr>\n    <tr>\n      <th>2021-06-01 17:39:00</th>\n      <td>0</td>\n    </tr>\n    <tr>\n      <th>2021-06-01 17:40:00</th>\n      <td>0</td>\n    </tr>\n    <tr>\n      <th>2021-06-01 17:41:00</th>\n      <td>0</td>\n    </tr>\n    <tr>\n      <th>...</th>\n      <td>...</td>\n    </tr>\n    <tr>\n      <th>2021-06-01 18:33:00</th>\n      <td>0</td>\n    </tr>\n    <tr>\n      <th>2021-06-01 18:34:00</th>\n      <td>0</td>\n    </tr>\n    <tr>\n      <th>2021-06-01 18:35:00</th>\n      <td>0</td>\n    </tr>\n    <tr>\n      <th>2021-06-01 18:36:00</th>\n      <td>0</td>\n    </tr>\n    <tr>\n      <th>2021-06-01 18:37:00</th>\n      <td>0</td>\n    </tr>\n  </tbody>\n</table>\n<p>61 rows × 1 columns</p>\n</div>"
     },
     "execution_count": 4,
     "metadata": {},
     "output_type": "execute_result"
    }
   ],
   "source": [
    "mnt = pd.DataFrame(dic['minutely'])\n",
    "mnt = mnt.set_index('dt')\n",
    "mnt.index = pd.to_datetime(mnt.index, unit='s')\n",
    "mnt"
   ],
   "metadata": {
    "collapsed": false,
    "pycharm": {
     "name": "#%%\n"
    }
   }
  },
  {
   "cell_type": "markdown",
   "source": [
    "## Hourly Data\n",
    "- 2 days\n",
    "- 48 observations\n",
    "- wind_gust: metre/sec\n",
    "- pop: %\n",
    "- rain: mm"
   ],
   "metadata": {
    "collapsed": false,
    "pycharm": {
     "name": "#%% md\n"
    }
   }
  },
  {
   "cell_type": "code",
   "execution_count": 5,
   "outputs": [
    {
     "data": {
      "text/plain": "                      temp  feels_like  pressure  humidity  dew_point   uvi  \\\ndt                                                                            \n2021-06-01 17:00:00  17.61       16.78      1017        52       7.65  0.74   \n2021-06-01 18:00:00  18.03       17.06      1017        45       5.93  0.29   \n2021-06-01 19:00:00  16.98       16.07      1017        51       6.78  0.08   \n2021-06-01 20:00:00  15.65       14.71      1018        55       6.65  0.00   \n2021-06-01 21:00:00  14.28       13.43      1018        64       7.57  0.00   \n2021-06-01 22:00:00  12.81       12.26      1019        81       9.63  0.00   \n2021-06-01 23:00:00  11.30       10.84      1019        90       9.74  0.00   \n2021-06-02 00:00:00  10.49        9.84      1018        86       8.35  0.00   \n2021-06-02 01:00:00   9.82        8.11      1018        86       7.67  0.00   \n2021-06-02 02:00:00   9.13        7.38      1018        88       7.32  0.00   \n2021-06-02 03:00:00   8.97        7.21      1018        89       7.41  0.00   \n2021-06-02 04:00:00   9.04        7.35      1018        92       7.84  0.10   \n2021-06-02 05:00:00  10.52       10.00      1018        91       9.09  0.36   \n2021-06-02 06:00:00  12.12       11.55      1018        83       9.32  0.90   \n2021-06-02 07:00:00  13.24       12.60      1018        76       9.15  1.76   \n2021-06-02 08:00:00  14.31       13.73      1018        74       9.68  2.92   \n2021-06-02 09:00:00  15.54       15.00      1019        71      10.39  4.19   \n2021-06-02 10:00:00  16.72       16.22      1019        68      10.90  5.19   \n2021-06-02 11:00:00  17.73       17.26      1019        65      11.09  5.80   \n2021-06-02 12:00:00  18.47       18.02      1018        63      11.39  5.80   \n2021-06-02 13:00:00  19.13       18.74      1018        63      11.77  5.24   \n2021-06-02 14:00:00  19.47       19.12      1018        63      12.16  4.17   \n2021-06-02 15:00:00  19.63       19.32      1018        64      12.61  2.91   \n2021-06-02 16:00:00  19.61       19.35      1018        66      13.03  1.82   \n2021-06-02 17:00:00  18.83       18.75      1017        76      14.54  0.91   \n2021-06-02 18:00:00  16.75       16.75      1018        87      14.64  0.37   \n2021-06-02 19:00:00  14.75       14.71      1018        93      13.55  0.10   \n2021-06-02 20:00:00  13.80       13.69      1019        94      12.83  0.00   \n2021-06-02 21:00:00  13.69       13.62      1019        96      12.94  0.00   \n2021-06-02 22:00:00  13.42       13.32      1019        96      12.79  0.00   \n2021-06-02 23:00:00  13.47       13.38      1019        96      12.77  0.00   \n2021-06-03 00:00:00  13.42       13.30      1019        95      12.65  0.00   \n2021-06-03 01:00:00  13.18       13.06      1019        96      12.50  0.00   \n2021-06-03 02:00:00  12.95       12.78      1019        95      12.18  0.00   \n2021-06-03 03:00:00  12.60       12.40      1019        95      11.78  0.00   \n2021-06-03 04:00:00  12.74       12.52      1019        94      11.75  0.10   \n2021-06-03 05:00:00  14.21       14.09      1019        92      12.96  0.37   \n2021-06-03 06:00:00  15.92       15.87      1020        88      13.87  0.93   \n2021-06-03 07:00:00  17.49       17.46      1020        83      14.62  1.78   \n2021-06-03 08:00:00  18.97       18.99      1020        79      15.21  2.96   \n2021-06-03 09:00:00  20.39       20.42      1020        74      15.68  4.25   \n2021-06-03 10:00:00  21.46       21.52      1021        71      16.06  5.39   \n2021-06-03 11:00:00  21.54       21.68      1021        74      16.69  6.02   \n2021-06-03 12:00:00  22.15       22.27      1021        71      16.62  6.02   \n2021-06-03 13:00:00  22.90       23.00      1020        67      16.56  5.85   \n2021-06-03 14:00:00  23.20       23.27      1020        65      16.16  4.65   \n2021-06-03 15:00:00  23.11       23.17      1020        65      16.31  3.24   \n2021-06-03 16:00:00  22.48       22.69      1020        73      17.47  1.97   \n\n                     clouds  visibility  wind_speed  wind_deg  wind_gust  \\\ndt                                                                         \n2021-06-01 17:00:00      80       10000        3.52        39       6.05   \n2021-06-01 18:00:00      75       10000        3.20        32       5.41   \n2021-06-01 19:00:00      80       10000        3.84        33       7.12   \n2021-06-01 20:00:00      85       10000        3.14        42       4.84   \n2021-06-01 21:00:00      90       10000        3.24        50       3.99   \n2021-06-01 22:00:00      95       10000        3.28        60       5.08   \n2021-06-01 23:00:00     100       10000        3.06        76       3.77   \n2021-06-02 00:00:00      97       10000        3.44        74       4.38   \n2021-06-02 01:00:00      88       10000        3.33        81       4.43   \n2021-06-02 02:00:00      75       10000        3.14        89       3.85   \n2021-06-02 03:00:00      83       10000        3.11        87       4.00   \n2021-06-02 04:00:00      80       10000        3.01        83       4.25   \n2021-06-02 05:00:00      73       10000        3.21        83       5.80   \n2021-06-02 06:00:00      62       10000        4.76        91       6.79   \n2021-06-02 07:00:00      10       10000        5.31        94       7.19   \n2021-06-02 08:00:00       9       10000        5.80        94       7.33   \n2021-06-02 09:00:00       6       10000        6.02        96       7.25   \n2021-06-02 10:00:00       6       10000        5.84       100       6.85   \n2021-06-02 11:00:00       6       10000        5.09       101       6.02   \n2021-06-02 12:00:00       8       10000        4.27       102       5.14   \n2021-06-02 13:00:00      17       10000        3.65        99       4.49   \n2021-06-02 14:00:00      27       10000        2.86       100       3.86   \n2021-06-02 15:00:00      21       10000        2.37        86       3.45   \n2021-06-02 16:00:00      19       10000        2.35        67       3.45   \n2021-06-02 17:00:00      17       10000        3.17        42       3.40   \n2021-06-02 18:00:00      15       10000        3.67        43       5.31   \n2021-06-02 19:00:00      10       10000        3.15        44       4.29   \n2021-06-02 20:00:00      12       10000        3.47        61       4.39   \n2021-06-02 21:00:00      37       10000        2.53        60       3.00   \n2021-06-02 22:00:00      49       10000        2.32        77       2.58   \n2021-06-02 23:00:00      57       10000        2.31       100       3.01   \n2021-06-03 00:00:00      62       10000        2.15        97       2.33   \n2021-06-03 01:00:00      91       10000        2.90       103       4.10   \n2021-06-03 02:00:00      80       10000        2.64       149       3.77   \n2021-06-03 03:00:00      55       10000        2.68       142       3.32   \n2021-06-03 04:00:00      41       10000        2.73       142       3.63   \n2021-06-03 05:00:00      33       10000        2.16       143       3.79   \n2021-06-03 06:00:00      27       10000        2.67       133       3.92   \n2021-06-03 07:00:00       0       10000        3.06       131       4.09   \n2021-06-03 08:00:00       0       10000        3.48       134       4.43   \n2021-06-03 09:00:00       0       10000        3.71       138       4.66   \n2021-06-03 10:00:00       0       10000        3.89       137       4.87   \n2021-06-03 11:00:00       0       10000        4.35       137       5.40   \n2021-06-03 12:00:00       9       10000        3.68       141       4.58   \n2021-06-03 13:00:00       4       10000        2.99       140       3.93   \n2021-06-03 14:00:00       3       10000        2.92       135       3.86   \n2021-06-03 15:00:00       3       10000        3.27       124       4.16   \n2021-06-03 16:00:00       3       10000        3.26       124       4.56   \n\n                      pop  rain   id    main       description icon  \ndt                                                                   \n2021-06-01 17:00:00  0.00     0  803  Clouds     broken clouds  04d  \n2021-06-01 18:00:00  0.00     0  803  Clouds     broken clouds  04d  \n2021-06-01 19:00:00  0.00     0  803  Clouds     broken clouds  04d  \n2021-06-01 20:00:00  0.00     0  804  Clouds   overcast clouds  04n  \n2021-06-01 21:00:00  0.00     0  804  Clouds   overcast clouds  04n  \n2021-06-01 22:00:00  0.00     0  804  Clouds   overcast clouds  04n  \n2021-06-01 23:00:00  0.00     0  804  Clouds   overcast clouds  04n  \n2021-06-02 00:00:00  0.00     0  804  Clouds   overcast clouds  04n  \n2021-06-02 01:00:00  0.00     0  804  Clouds   overcast clouds  04n  \n2021-06-02 02:00:00  0.00     0  803  Clouds     broken clouds  04n  \n2021-06-02 03:00:00  0.00     0  803  Clouds     broken clouds  04n  \n2021-06-02 04:00:00  0.00     0  803  Clouds     broken clouds  04d  \n2021-06-02 05:00:00  0.00     0  803  Clouds     broken clouds  04d  \n2021-06-02 06:00:00  0.00     0  803  Clouds     broken clouds  04d  \n2021-06-02 07:00:00  0.00     0  800   Clear         clear sky  01d  \n2021-06-02 08:00:00  0.00     0  800   Clear         clear sky  01d  \n2021-06-02 09:00:00  0.00     0  800   Clear         clear sky  01d  \n2021-06-02 10:00:00  0.00     0  800   Clear         clear sky  01d  \n2021-06-02 11:00:00  0.00     0  800   Clear         clear sky  01d  \n2021-06-02 12:00:00  0.00     0  800   Clear         clear sky  01d  \n2021-06-02 13:00:00  0.00     0  801  Clouds        few clouds  02d  \n2021-06-02 14:00:00  0.00     0  802  Clouds  scattered clouds  03d  \n2021-06-02 15:00:00  0.02     0  801  Clouds        few clouds  02d  \n2021-06-02 16:00:00  0.11     0  801  Clouds        few clouds  02d  \n2021-06-02 17:00:00  0.22  0.12  500    Rain        light rain  10d  \n2021-06-02 18:00:00  0.30  0.22  500    Rain        light rain  10d  \n2021-06-02 19:00:00  0.42  0.75  500    Rain        light rain  10d  \n2021-06-02 20:00:00  0.47  0.32  500    Rain        light rain  10n  \n2021-06-02 21:00:00  0.55  1.53  501    Rain     moderate rain  10n  \n2021-06-02 22:00:00  0.66  1.36  501    Rain     moderate rain  10n  \n2021-06-02 23:00:00  0.72  0.75  500    Rain        light rain  10n  \n2021-06-03 00:00:00  0.80  0.67  500    Rain        light rain  10n  \n2021-06-03 01:00:00  0.73   0.3  500    Rain        light rain  10n  \n2021-06-03 02:00:00  0.68     0  803  Clouds     broken clouds  04n  \n2021-06-03 03:00:00  0.68     0  803  Clouds     broken clouds  04n  \n2021-06-03 04:00:00  0.64  0.15  500    Rain        light rain  10d  \n2021-06-03 05:00:00  0.60  0.18  500    Rain        light rain  10d  \n2021-06-03 06:00:00  0.56     0  802  Clouds  scattered clouds  03d  \n2021-06-03 07:00:00  0.22     0  800   Clear         clear sky  01d  \n2021-06-03 08:00:00  0.21     0  800   Clear         clear sky  01d  \n2021-06-03 09:00:00  0.13     0  800   Clear         clear sky  01d  \n2021-06-03 10:00:00  0.21     0  800   Clear         clear sky  01d  \n2021-06-03 11:00:00  0.49  0.94  500    Rain        light rain  10d  \n2021-06-03 12:00:00  0.59  0.86  500    Rain        light rain  10d  \n2021-06-03 13:00:00  0.47  0.51  500    Rain        light rain  10d  \n2021-06-03 14:00:00  0.50  0.39  500    Rain        light rain  10d  \n2021-06-03 15:00:00  0.53  0.36  500    Rain        light rain  10d  \n2021-06-03 16:00:00  0.81  0.35  500    Rain        light rain  10d  ",
      "text/html": "<div>\n<style scoped>\n    .dataframe tbody tr th:only-of-type {\n        vertical-align: middle;\n    }\n\n    .dataframe tbody tr th {\n        vertical-align: top;\n    }\n\n    .dataframe thead th {\n        text-align: right;\n    }\n</style>\n<table border=\"1\" class=\"dataframe\">\n  <thead>\n    <tr style=\"text-align: right;\">\n      <th></th>\n      <th>temp</th>\n      <th>feels_like</th>\n      <th>pressure</th>\n      <th>humidity</th>\n      <th>dew_point</th>\n      <th>uvi</th>\n      <th>clouds</th>\n      <th>visibility</th>\n      <th>wind_speed</th>\n      <th>wind_deg</th>\n      <th>wind_gust</th>\n      <th>pop</th>\n      <th>rain</th>\n      <th>id</th>\n      <th>main</th>\n      <th>description</th>\n      <th>icon</th>\n    </tr>\n    <tr>\n      <th>dt</th>\n      <th></th>\n      <th></th>\n      <th></th>\n      <th></th>\n      <th></th>\n      <th></th>\n      <th></th>\n      <th></th>\n      <th></th>\n      <th></th>\n      <th></th>\n      <th></th>\n      <th></th>\n      <th></th>\n      <th></th>\n      <th></th>\n      <th></th>\n    </tr>\n  </thead>\n  <tbody>\n    <tr>\n      <th>2021-06-01 17:00:00</th>\n      <td>17.61</td>\n      <td>16.78</td>\n      <td>1017</td>\n      <td>52</td>\n      <td>7.65</td>\n      <td>0.74</td>\n      <td>80</td>\n      <td>10000</td>\n      <td>3.52</td>\n      <td>39</td>\n      <td>6.05</td>\n      <td>0.00</td>\n      <td>0</td>\n      <td>803</td>\n      <td>Clouds</td>\n      <td>broken clouds</td>\n      <td>04d</td>\n    </tr>\n    <tr>\n      <th>2021-06-01 18:00:00</th>\n      <td>18.03</td>\n      <td>17.06</td>\n      <td>1017</td>\n      <td>45</td>\n      <td>5.93</td>\n      <td>0.29</td>\n      <td>75</td>\n      <td>10000</td>\n      <td>3.20</td>\n      <td>32</td>\n      <td>5.41</td>\n      <td>0.00</td>\n      <td>0</td>\n      <td>803</td>\n      <td>Clouds</td>\n      <td>broken clouds</td>\n      <td>04d</td>\n    </tr>\n    <tr>\n      <th>2021-06-01 19:00:00</th>\n      <td>16.98</td>\n      <td>16.07</td>\n      <td>1017</td>\n      <td>51</td>\n      <td>6.78</td>\n      <td>0.08</td>\n      <td>80</td>\n      <td>10000</td>\n      <td>3.84</td>\n      <td>33</td>\n      <td>7.12</td>\n      <td>0.00</td>\n      <td>0</td>\n      <td>803</td>\n      <td>Clouds</td>\n      <td>broken clouds</td>\n      <td>04d</td>\n    </tr>\n    <tr>\n      <th>2021-06-01 20:00:00</th>\n      <td>15.65</td>\n      <td>14.71</td>\n      <td>1018</td>\n      <td>55</td>\n      <td>6.65</td>\n      <td>0.00</td>\n      <td>85</td>\n      <td>10000</td>\n      <td>3.14</td>\n      <td>42</td>\n      <td>4.84</td>\n      <td>0.00</td>\n      <td>0</td>\n      <td>804</td>\n      <td>Clouds</td>\n      <td>overcast clouds</td>\n      <td>04n</td>\n    </tr>\n    <tr>\n      <th>2021-06-01 21:00:00</th>\n      <td>14.28</td>\n      <td>13.43</td>\n      <td>1018</td>\n      <td>64</td>\n      <td>7.57</td>\n      <td>0.00</td>\n      <td>90</td>\n      <td>10000</td>\n      <td>3.24</td>\n      <td>50</td>\n      <td>3.99</td>\n      <td>0.00</td>\n      <td>0</td>\n      <td>804</td>\n      <td>Clouds</td>\n      <td>overcast clouds</td>\n      <td>04n</td>\n    </tr>\n    <tr>\n      <th>2021-06-01 22:00:00</th>\n      <td>12.81</td>\n      <td>12.26</td>\n      <td>1019</td>\n      <td>81</td>\n      <td>9.63</td>\n      <td>0.00</td>\n      <td>95</td>\n      <td>10000</td>\n      <td>3.28</td>\n      <td>60</td>\n      <td>5.08</td>\n      <td>0.00</td>\n      <td>0</td>\n      <td>804</td>\n      <td>Clouds</td>\n      <td>overcast clouds</td>\n      <td>04n</td>\n    </tr>\n    <tr>\n      <th>2021-06-01 23:00:00</th>\n      <td>11.30</td>\n      <td>10.84</td>\n      <td>1019</td>\n      <td>90</td>\n      <td>9.74</td>\n      <td>0.00</td>\n      <td>100</td>\n      <td>10000</td>\n      <td>3.06</td>\n      <td>76</td>\n      <td>3.77</td>\n      <td>0.00</td>\n      <td>0</td>\n      <td>804</td>\n      <td>Clouds</td>\n      <td>overcast clouds</td>\n      <td>04n</td>\n    </tr>\n    <tr>\n      <th>2021-06-02 00:00:00</th>\n      <td>10.49</td>\n      <td>9.84</td>\n      <td>1018</td>\n      <td>86</td>\n      <td>8.35</td>\n      <td>0.00</td>\n      <td>97</td>\n      <td>10000</td>\n      <td>3.44</td>\n      <td>74</td>\n      <td>4.38</td>\n      <td>0.00</td>\n      <td>0</td>\n      <td>804</td>\n      <td>Clouds</td>\n      <td>overcast clouds</td>\n      <td>04n</td>\n    </tr>\n    <tr>\n      <th>2021-06-02 01:00:00</th>\n      <td>9.82</td>\n      <td>8.11</td>\n      <td>1018</td>\n      <td>86</td>\n      <td>7.67</td>\n      <td>0.00</td>\n      <td>88</td>\n      <td>10000</td>\n      <td>3.33</td>\n      <td>81</td>\n      <td>4.43</td>\n      <td>0.00</td>\n      <td>0</td>\n      <td>804</td>\n      <td>Clouds</td>\n      <td>overcast clouds</td>\n      <td>04n</td>\n    </tr>\n    <tr>\n      <th>2021-06-02 02:00:00</th>\n      <td>9.13</td>\n      <td>7.38</td>\n      <td>1018</td>\n      <td>88</td>\n      <td>7.32</td>\n      <td>0.00</td>\n      <td>75</td>\n      <td>10000</td>\n      <td>3.14</td>\n      <td>89</td>\n      <td>3.85</td>\n      <td>0.00</td>\n      <td>0</td>\n      <td>803</td>\n      <td>Clouds</td>\n      <td>broken clouds</td>\n      <td>04n</td>\n    </tr>\n    <tr>\n      <th>2021-06-02 03:00:00</th>\n      <td>8.97</td>\n      <td>7.21</td>\n      <td>1018</td>\n      <td>89</td>\n      <td>7.41</td>\n      <td>0.00</td>\n      <td>83</td>\n      <td>10000</td>\n      <td>3.11</td>\n      <td>87</td>\n      <td>4.00</td>\n      <td>0.00</td>\n      <td>0</td>\n      <td>803</td>\n      <td>Clouds</td>\n      <td>broken clouds</td>\n      <td>04n</td>\n    </tr>\n    <tr>\n      <th>2021-06-02 04:00:00</th>\n      <td>9.04</td>\n      <td>7.35</td>\n      <td>1018</td>\n      <td>92</td>\n      <td>7.84</td>\n      <td>0.10</td>\n      <td>80</td>\n      <td>10000</td>\n      <td>3.01</td>\n      <td>83</td>\n      <td>4.25</td>\n      <td>0.00</td>\n      <td>0</td>\n      <td>803</td>\n      <td>Clouds</td>\n      <td>broken clouds</td>\n      <td>04d</td>\n    </tr>\n    <tr>\n      <th>2021-06-02 05:00:00</th>\n      <td>10.52</td>\n      <td>10.00</td>\n      <td>1018</td>\n      <td>91</td>\n      <td>9.09</td>\n      <td>0.36</td>\n      <td>73</td>\n      <td>10000</td>\n      <td>3.21</td>\n      <td>83</td>\n      <td>5.80</td>\n      <td>0.00</td>\n      <td>0</td>\n      <td>803</td>\n      <td>Clouds</td>\n      <td>broken clouds</td>\n      <td>04d</td>\n    </tr>\n    <tr>\n      <th>2021-06-02 06:00:00</th>\n      <td>12.12</td>\n      <td>11.55</td>\n      <td>1018</td>\n      <td>83</td>\n      <td>9.32</td>\n      <td>0.90</td>\n      <td>62</td>\n      <td>10000</td>\n      <td>4.76</td>\n      <td>91</td>\n      <td>6.79</td>\n      <td>0.00</td>\n      <td>0</td>\n      <td>803</td>\n      <td>Clouds</td>\n      <td>broken clouds</td>\n      <td>04d</td>\n    </tr>\n    <tr>\n      <th>2021-06-02 07:00:00</th>\n      <td>13.24</td>\n      <td>12.60</td>\n      <td>1018</td>\n      <td>76</td>\n      <td>9.15</td>\n      <td>1.76</td>\n      <td>10</td>\n      <td>10000</td>\n      <td>5.31</td>\n      <td>94</td>\n      <td>7.19</td>\n      <td>0.00</td>\n      <td>0</td>\n      <td>800</td>\n      <td>Clear</td>\n      <td>clear sky</td>\n      <td>01d</td>\n    </tr>\n    <tr>\n      <th>2021-06-02 08:00:00</th>\n      <td>14.31</td>\n      <td>13.73</td>\n      <td>1018</td>\n      <td>74</td>\n      <td>9.68</td>\n      <td>2.92</td>\n      <td>9</td>\n      <td>10000</td>\n      <td>5.80</td>\n      <td>94</td>\n      <td>7.33</td>\n      <td>0.00</td>\n      <td>0</td>\n      <td>800</td>\n      <td>Clear</td>\n      <td>clear sky</td>\n      <td>01d</td>\n    </tr>\n    <tr>\n      <th>2021-06-02 09:00:00</th>\n      <td>15.54</td>\n      <td>15.00</td>\n      <td>1019</td>\n      <td>71</td>\n      <td>10.39</td>\n      <td>4.19</td>\n      <td>6</td>\n      <td>10000</td>\n      <td>6.02</td>\n      <td>96</td>\n      <td>7.25</td>\n      <td>0.00</td>\n      <td>0</td>\n      <td>800</td>\n      <td>Clear</td>\n      <td>clear sky</td>\n      <td>01d</td>\n    </tr>\n    <tr>\n      <th>2021-06-02 10:00:00</th>\n      <td>16.72</td>\n      <td>16.22</td>\n      <td>1019</td>\n      <td>68</td>\n      <td>10.90</td>\n      <td>5.19</td>\n      <td>6</td>\n      <td>10000</td>\n      <td>5.84</td>\n      <td>100</td>\n      <td>6.85</td>\n      <td>0.00</td>\n      <td>0</td>\n      <td>800</td>\n      <td>Clear</td>\n      <td>clear sky</td>\n      <td>01d</td>\n    </tr>\n    <tr>\n      <th>2021-06-02 11:00:00</th>\n      <td>17.73</td>\n      <td>17.26</td>\n      <td>1019</td>\n      <td>65</td>\n      <td>11.09</td>\n      <td>5.80</td>\n      <td>6</td>\n      <td>10000</td>\n      <td>5.09</td>\n      <td>101</td>\n      <td>6.02</td>\n      <td>0.00</td>\n      <td>0</td>\n      <td>800</td>\n      <td>Clear</td>\n      <td>clear sky</td>\n      <td>01d</td>\n    </tr>\n    <tr>\n      <th>2021-06-02 12:00:00</th>\n      <td>18.47</td>\n      <td>18.02</td>\n      <td>1018</td>\n      <td>63</td>\n      <td>11.39</td>\n      <td>5.80</td>\n      <td>8</td>\n      <td>10000</td>\n      <td>4.27</td>\n      <td>102</td>\n      <td>5.14</td>\n      <td>0.00</td>\n      <td>0</td>\n      <td>800</td>\n      <td>Clear</td>\n      <td>clear sky</td>\n      <td>01d</td>\n    </tr>\n    <tr>\n      <th>2021-06-02 13:00:00</th>\n      <td>19.13</td>\n      <td>18.74</td>\n      <td>1018</td>\n      <td>63</td>\n      <td>11.77</td>\n      <td>5.24</td>\n      <td>17</td>\n      <td>10000</td>\n      <td>3.65</td>\n      <td>99</td>\n      <td>4.49</td>\n      <td>0.00</td>\n      <td>0</td>\n      <td>801</td>\n      <td>Clouds</td>\n      <td>few clouds</td>\n      <td>02d</td>\n    </tr>\n    <tr>\n      <th>2021-06-02 14:00:00</th>\n      <td>19.47</td>\n      <td>19.12</td>\n      <td>1018</td>\n      <td>63</td>\n      <td>12.16</td>\n      <td>4.17</td>\n      <td>27</td>\n      <td>10000</td>\n      <td>2.86</td>\n      <td>100</td>\n      <td>3.86</td>\n      <td>0.00</td>\n      <td>0</td>\n      <td>802</td>\n      <td>Clouds</td>\n      <td>scattered clouds</td>\n      <td>03d</td>\n    </tr>\n    <tr>\n      <th>2021-06-02 15:00:00</th>\n      <td>19.63</td>\n      <td>19.32</td>\n      <td>1018</td>\n      <td>64</td>\n      <td>12.61</td>\n      <td>2.91</td>\n      <td>21</td>\n      <td>10000</td>\n      <td>2.37</td>\n      <td>86</td>\n      <td>3.45</td>\n      <td>0.02</td>\n      <td>0</td>\n      <td>801</td>\n      <td>Clouds</td>\n      <td>few clouds</td>\n      <td>02d</td>\n    </tr>\n    <tr>\n      <th>2021-06-02 16:00:00</th>\n      <td>19.61</td>\n      <td>19.35</td>\n      <td>1018</td>\n      <td>66</td>\n      <td>13.03</td>\n      <td>1.82</td>\n      <td>19</td>\n      <td>10000</td>\n      <td>2.35</td>\n      <td>67</td>\n      <td>3.45</td>\n      <td>0.11</td>\n      <td>0</td>\n      <td>801</td>\n      <td>Clouds</td>\n      <td>few clouds</td>\n      <td>02d</td>\n    </tr>\n    <tr>\n      <th>2021-06-02 17:00:00</th>\n      <td>18.83</td>\n      <td>18.75</td>\n      <td>1017</td>\n      <td>76</td>\n      <td>14.54</td>\n      <td>0.91</td>\n      <td>17</td>\n      <td>10000</td>\n      <td>3.17</td>\n      <td>42</td>\n      <td>3.40</td>\n      <td>0.22</td>\n      <td>0.12</td>\n      <td>500</td>\n      <td>Rain</td>\n      <td>light rain</td>\n      <td>10d</td>\n    </tr>\n    <tr>\n      <th>2021-06-02 18:00:00</th>\n      <td>16.75</td>\n      <td>16.75</td>\n      <td>1018</td>\n      <td>87</td>\n      <td>14.64</td>\n      <td>0.37</td>\n      <td>15</td>\n      <td>10000</td>\n      <td>3.67</td>\n      <td>43</td>\n      <td>5.31</td>\n      <td>0.30</td>\n      <td>0.22</td>\n      <td>500</td>\n      <td>Rain</td>\n      <td>light rain</td>\n      <td>10d</td>\n    </tr>\n    <tr>\n      <th>2021-06-02 19:00:00</th>\n      <td>14.75</td>\n      <td>14.71</td>\n      <td>1018</td>\n      <td>93</td>\n      <td>13.55</td>\n      <td>0.10</td>\n      <td>10</td>\n      <td>10000</td>\n      <td>3.15</td>\n      <td>44</td>\n      <td>4.29</td>\n      <td>0.42</td>\n      <td>0.75</td>\n      <td>500</td>\n      <td>Rain</td>\n      <td>light rain</td>\n      <td>10d</td>\n    </tr>\n    <tr>\n      <th>2021-06-02 20:00:00</th>\n      <td>13.80</td>\n      <td>13.69</td>\n      <td>1019</td>\n      <td>94</td>\n      <td>12.83</td>\n      <td>0.00</td>\n      <td>12</td>\n      <td>10000</td>\n      <td>3.47</td>\n      <td>61</td>\n      <td>4.39</td>\n      <td>0.47</td>\n      <td>0.32</td>\n      <td>500</td>\n      <td>Rain</td>\n      <td>light rain</td>\n      <td>10n</td>\n    </tr>\n    <tr>\n      <th>2021-06-02 21:00:00</th>\n      <td>13.69</td>\n      <td>13.62</td>\n      <td>1019</td>\n      <td>96</td>\n      <td>12.94</td>\n      <td>0.00</td>\n      <td>37</td>\n      <td>10000</td>\n      <td>2.53</td>\n      <td>60</td>\n      <td>3.00</td>\n      <td>0.55</td>\n      <td>1.53</td>\n      <td>501</td>\n      <td>Rain</td>\n      <td>moderate rain</td>\n      <td>10n</td>\n    </tr>\n    <tr>\n      <th>2021-06-02 22:00:00</th>\n      <td>13.42</td>\n      <td>13.32</td>\n      <td>1019</td>\n      <td>96</td>\n      <td>12.79</td>\n      <td>0.00</td>\n      <td>49</td>\n      <td>10000</td>\n      <td>2.32</td>\n      <td>77</td>\n      <td>2.58</td>\n      <td>0.66</td>\n      <td>1.36</td>\n      <td>501</td>\n      <td>Rain</td>\n      <td>moderate rain</td>\n      <td>10n</td>\n    </tr>\n    <tr>\n      <th>2021-06-02 23:00:00</th>\n      <td>13.47</td>\n      <td>13.38</td>\n      <td>1019</td>\n      <td>96</td>\n      <td>12.77</td>\n      <td>0.00</td>\n      <td>57</td>\n      <td>10000</td>\n      <td>2.31</td>\n      <td>100</td>\n      <td>3.01</td>\n      <td>0.72</td>\n      <td>0.75</td>\n      <td>500</td>\n      <td>Rain</td>\n      <td>light rain</td>\n      <td>10n</td>\n    </tr>\n    <tr>\n      <th>2021-06-03 00:00:00</th>\n      <td>13.42</td>\n      <td>13.30</td>\n      <td>1019</td>\n      <td>95</td>\n      <td>12.65</td>\n      <td>0.00</td>\n      <td>62</td>\n      <td>10000</td>\n      <td>2.15</td>\n      <td>97</td>\n      <td>2.33</td>\n      <td>0.80</td>\n      <td>0.67</td>\n      <td>500</td>\n      <td>Rain</td>\n      <td>light rain</td>\n      <td>10n</td>\n    </tr>\n    <tr>\n      <th>2021-06-03 01:00:00</th>\n      <td>13.18</td>\n      <td>13.06</td>\n      <td>1019</td>\n      <td>96</td>\n      <td>12.50</td>\n      <td>0.00</td>\n      <td>91</td>\n      <td>10000</td>\n      <td>2.90</td>\n      <td>103</td>\n      <td>4.10</td>\n      <td>0.73</td>\n      <td>0.3</td>\n      <td>500</td>\n      <td>Rain</td>\n      <td>light rain</td>\n      <td>10n</td>\n    </tr>\n    <tr>\n      <th>2021-06-03 02:00:00</th>\n      <td>12.95</td>\n      <td>12.78</td>\n      <td>1019</td>\n      <td>95</td>\n      <td>12.18</td>\n      <td>0.00</td>\n      <td>80</td>\n      <td>10000</td>\n      <td>2.64</td>\n      <td>149</td>\n      <td>3.77</td>\n      <td>0.68</td>\n      <td>0</td>\n      <td>803</td>\n      <td>Clouds</td>\n      <td>broken clouds</td>\n      <td>04n</td>\n    </tr>\n    <tr>\n      <th>2021-06-03 03:00:00</th>\n      <td>12.60</td>\n      <td>12.40</td>\n      <td>1019</td>\n      <td>95</td>\n      <td>11.78</td>\n      <td>0.00</td>\n      <td>55</td>\n      <td>10000</td>\n      <td>2.68</td>\n      <td>142</td>\n      <td>3.32</td>\n      <td>0.68</td>\n      <td>0</td>\n      <td>803</td>\n      <td>Clouds</td>\n      <td>broken clouds</td>\n      <td>04n</td>\n    </tr>\n    <tr>\n      <th>2021-06-03 04:00:00</th>\n      <td>12.74</td>\n      <td>12.52</td>\n      <td>1019</td>\n      <td>94</td>\n      <td>11.75</td>\n      <td>0.10</td>\n      <td>41</td>\n      <td>10000</td>\n      <td>2.73</td>\n      <td>142</td>\n      <td>3.63</td>\n      <td>0.64</td>\n      <td>0.15</td>\n      <td>500</td>\n      <td>Rain</td>\n      <td>light rain</td>\n      <td>10d</td>\n    </tr>\n    <tr>\n      <th>2021-06-03 05:00:00</th>\n      <td>14.21</td>\n      <td>14.09</td>\n      <td>1019</td>\n      <td>92</td>\n      <td>12.96</td>\n      <td>0.37</td>\n      <td>33</td>\n      <td>10000</td>\n      <td>2.16</td>\n      <td>143</td>\n      <td>3.79</td>\n      <td>0.60</td>\n      <td>0.18</td>\n      <td>500</td>\n      <td>Rain</td>\n      <td>light rain</td>\n      <td>10d</td>\n    </tr>\n    <tr>\n      <th>2021-06-03 06:00:00</th>\n      <td>15.92</td>\n      <td>15.87</td>\n      <td>1020</td>\n      <td>88</td>\n      <td>13.87</td>\n      <td>0.93</td>\n      <td>27</td>\n      <td>10000</td>\n      <td>2.67</td>\n      <td>133</td>\n      <td>3.92</td>\n      <td>0.56</td>\n      <td>0</td>\n      <td>802</td>\n      <td>Clouds</td>\n      <td>scattered clouds</td>\n      <td>03d</td>\n    </tr>\n    <tr>\n      <th>2021-06-03 07:00:00</th>\n      <td>17.49</td>\n      <td>17.46</td>\n      <td>1020</td>\n      <td>83</td>\n      <td>14.62</td>\n      <td>1.78</td>\n      <td>0</td>\n      <td>10000</td>\n      <td>3.06</td>\n      <td>131</td>\n      <td>4.09</td>\n      <td>0.22</td>\n      <td>0</td>\n      <td>800</td>\n      <td>Clear</td>\n      <td>clear sky</td>\n      <td>01d</td>\n    </tr>\n    <tr>\n      <th>2021-06-03 08:00:00</th>\n      <td>18.97</td>\n      <td>18.99</td>\n      <td>1020</td>\n      <td>79</td>\n      <td>15.21</td>\n      <td>2.96</td>\n      <td>0</td>\n      <td>10000</td>\n      <td>3.48</td>\n      <td>134</td>\n      <td>4.43</td>\n      <td>0.21</td>\n      <td>0</td>\n      <td>800</td>\n      <td>Clear</td>\n      <td>clear sky</td>\n      <td>01d</td>\n    </tr>\n    <tr>\n      <th>2021-06-03 09:00:00</th>\n      <td>20.39</td>\n      <td>20.42</td>\n      <td>1020</td>\n      <td>74</td>\n      <td>15.68</td>\n      <td>4.25</td>\n      <td>0</td>\n      <td>10000</td>\n      <td>3.71</td>\n      <td>138</td>\n      <td>4.66</td>\n      <td>0.13</td>\n      <td>0</td>\n      <td>800</td>\n      <td>Clear</td>\n      <td>clear sky</td>\n      <td>01d</td>\n    </tr>\n    <tr>\n      <th>2021-06-03 10:00:00</th>\n      <td>21.46</td>\n      <td>21.52</td>\n      <td>1021</td>\n      <td>71</td>\n      <td>16.06</td>\n      <td>5.39</td>\n      <td>0</td>\n      <td>10000</td>\n      <td>3.89</td>\n      <td>137</td>\n      <td>4.87</td>\n      <td>0.21</td>\n      <td>0</td>\n      <td>800</td>\n      <td>Clear</td>\n      <td>clear sky</td>\n      <td>01d</td>\n    </tr>\n    <tr>\n      <th>2021-06-03 11:00:00</th>\n      <td>21.54</td>\n      <td>21.68</td>\n      <td>1021</td>\n      <td>74</td>\n      <td>16.69</td>\n      <td>6.02</td>\n      <td>0</td>\n      <td>10000</td>\n      <td>4.35</td>\n      <td>137</td>\n      <td>5.40</td>\n      <td>0.49</td>\n      <td>0.94</td>\n      <td>500</td>\n      <td>Rain</td>\n      <td>light rain</td>\n      <td>10d</td>\n    </tr>\n    <tr>\n      <th>2021-06-03 12:00:00</th>\n      <td>22.15</td>\n      <td>22.27</td>\n      <td>1021</td>\n      <td>71</td>\n      <td>16.62</td>\n      <td>6.02</td>\n      <td>9</td>\n      <td>10000</td>\n      <td>3.68</td>\n      <td>141</td>\n      <td>4.58</td>\n      <td>0.59</td>\n      <td>0.86</td>\n      <td>500</td>\n      <td>Rain</td>\n      <td>light rain</td>\n      <td>10d</td>\n    </tr>\n    <tr>\n      <th>2021-06-03 13:00:00</th>\n      <td>22.90</td>\n      <td>23.00</td>\n      <td>1020</td>\n      <td>67</td>\n      <td>16.56</td>\n      <td>5.85</td>\n      <td>4</td>\n      <td>10000</td>\n      <td>2.99</td>\n      <td>140</td>\n      <td>3.93</td>\n      <td>0.47</td>\n      <td>0.51</td>\n      <td>500</td>\n      <td>Rain</td>\n      <td>light rain</td>\n      <td>10d</td>\n    </tr>\n    <tr>\n      <th>2021-06-03 14:00:00</th>\n      <td>23.20</td>\n      <td>23.27</td>\n      <td>1020</td>\n      <td>65</td>\n      <td>16.16</td>\n      <td>4.65</td>\n      <td>3</td>\n      <td>10000</td>\n      <td>2.92</td>\n      <td>135</td>\n      <td>3.86</td>\n      <td>0.50</td>\n      <td>0.39</td>\n      <td>500</td>\n      <td>Rain</td>\n      <td>light rain</td>\n      <td>10d</td>\n    </tr>\n    <tr>\n      <th>2021-06-03 15:00:00</th>\n      <td>23.11</td>\n      <td>23.17</td>\n      <td>1020</td>\n      <td>65</td>\n      <td>16.31</td>\n      <td>3.24</td>\n      <td>3</td>\n      <td>10000</td>\n      <td>3.27</td>\n      <td>124</td>\n      <td>4.16</td>\n      <td>0.53</td>\n      <td>0.36</td>\n      <td>500</td>\n      <td>Rain</td>\n      <td>light rain</td>\n      <td>10d</td>\n    </tr>\n    <tr>\n      <th>2021-06-03 16:00:00</th>\n      <td>22.48</td>\n      <td>22.69</td>\n      <td>1020</td>\n      <td>73</td>\n      <td>17.47</td>\n      <td>1.97</td>\n      <td>3</td>\n      <td>10000</td>\n      <td>3.26</td>\n      <td>124</td>\n      <td>4.56</td>\n      <td>0.81</td>\n      <td>0.35</td>\n      <td>500</td>\n      <td>Rain</td>\n      <td>light rain</td>\n      <td>10d</td>\n    </tr>\n  </tbody>\n</table>\n</div>"
     },
     "execution_count": 5,
     "metadata": {},
     "output_type": "execute_result"
    }
   ],
   "source": [
    "hr = pd.DataFrame(dic['hourly'])\n",
    "\n",
    "hr['dt'] = pd.to_datetime(hr.dt, unit='s')\n",
    "hr = hr.set_index('dt')\n",
    "\n",
    "hr = hr.join(pd.DataFrame(hr.weather.apply(del_lst).tolist(), hr.index))\n",
    "hr = hr.drop(columns='weather')\n",
    "if 'rain' in hr.columns:\n",
    "    hr.loc[hr.rain.notna(), 'rain'] = hr.loc[hr.rain.notna(), 'rain'].apply(\n",
    "        lambda x: x.get('1h')\n",
    "    )\n",
    "    hr.loc[hr.rain.isna(), 'rain'] = 0\n",
    "else:\n",
    "    hr['rain'] = 0\n",
    "\n",
    "hr"
   ],
   "metadata": {
    "collapsed": false,
    "pycharm": {
     "name": "#%%\n"
    }
   }
  },
  {
   "cell_type": "markdown",
   "source": [
    "## Daily Data\n",
    "- 1 week\n",
    "- 8 observations"
   ],
   "metadata": {
    "collapsed": false,
    "pycharm": {
     "name": "#%% md\n"
    }
   }
  },
  {
   "cell_type": "code",
   "execution_count": 6,
   "outputs": [
    {
     "data": {
      "text/plain": "                                sunrise              sunset  \\\ndt                                                            \n2021-06-01 11:00:00 2021-06-01 03:06:48 2021-06-01 19:47:46   \n2021-06-02 11:00:00 2021-06-02 03:05:56 2021-06-02 19:48:57   \n2021-06-03 11:00:00 2021-06-03 03:05:07 2021-06-03 19:50:05   \n2021-06-04 11:00:00 2021-06-04 03:04:21 2021-06-04 19:51:11   \n2021-06-05 11:00:00 2021-06-05 03:03:38 2021-06-05 19:52:14   \n2021-06-06 11:00:00 2021-06-06 03:02:58 2021-06-06 19:53:14   \n2021-06-07 11:00:00 2021-06-07 03:02:22 2021-06-07 19:54:12   \n2021-06-08 11:00:00 2021-06-08 03:01:49 2021-06-08 19:55:07   \n\n                               moonrise             moonset  moon_phase  \\\ndt                                                                        \n2021-06-01 11:00:00 2021-06-01 00:32:00 2021-06-01 09:32:00        0.72   \n2021-06-02 11:00:00 2021-06-02 00:50:00 2021-06-02 10:50:00        0.75   \n2021-06-03 11:00:00 2021-06-03 01:05:00 2021-06-03 12:05:00        0.79   \n2021-06-04 11:00:00 2021-06-04 01:17:00 2021-06-04 13:17:00        0.82   \n2021-06-05 11:00:00 2021-06-05 01:29:00 2021-06-05 14:27:00        0.85   \n2021-06-06 11:00:00 2021-06-06 01:40:00 2021-06-06 15:39:00        0.88   \n2021-06-07 11:00:00 2021-06-07 01:53:00 2021-06-07 16:49:00        0.91   \n2021-06-08 11:00:00 2021-06-08 02:08:00 2021-06-08 18:01:00        0.94   \n\n                     pressure  humidity  dew_point  wind_speed  wind_deg  ...  \\\ndt                                                                        ...   \n2021-06-01 11:00:00      1020        66      12.88        4.41        49  ...   \n2021-06-02 11:00:00      1019        65      11.09        6.02        96  ...   \n2021-06-03 11:00:00      1021        74      16.69        4.35       137  ...   \n2021-06-04 11:00:00      1022        83      16.69        3.39        73  ...   \n2021-06-05 11:00:00      1022        77      15.88        4.00        70  ...   \n2021-06-06 11:00:00      1021        72      15.30        4.04        74  ...   \n2021-06-07 11:00:00      1022        66      14.89        3.36       111  ...   \n2021-06-08 11:00:00      1020        63      14.64        3.88        20  ...   \n\n                       eve   morn  day_feels_like  night_feels_like  \\\ndt                                                                    \n2021-06-01 11:00:00  17.61  12.58           19.21             13.43   \n2021-06-02 11:00:00  18.83  10.52           17.26             13.62   \n2021-06-03 11:00:00  21.07  14.21           21.68             16.42   \n2021-06-04 11:00:00  19.16  14.66           19.94             15.16   \n2021-06-05 11:00:00  18.36  15.20           20.14             15.09   \n2021-06-06 11:00:00  18.68  15.12           20.72             15.14   \n2021-06-07 11:00:00  19.25  16.04           21.47             15.26   \n2021-06-08 11:00:00  18.64  16.59           22.10             15.40   \n\n                     eve_feels_like  morn_feels_like   id    main  \\\ndt                                                                  \n2021-06-01 11:00:00           16.78            12.19  803  Clouds   \n2021-06-02 11:00:00           18.75            10.00  501    Rain   \n2021-06-03 11:00:00           21.32            14.09  501    Rain   \n2021-06-04 11:00:00           19.43            14.71  500    Rain   \n2021-06-05 11:00:00           18.58            15.10  500    Rain   \n2021-06-06 11:00:00           18.82            15.04  500    Rain   \n2021-06-07 11:00:00           19.35            15.89  500    Rain   \n2021-06-08 11:00:00           18.75            16.47  501    Rain   \n\n                       description  icon  \ndt                                        \n2021-06-01 11:00:00  broken clouds   04d  \n2021-06-02 11:00:00  moderate rain   10d  \n2021-06-03 11:00:00  moderate rain   10d  \n2021-06-04 11:00:00     light rain   10d  \n2021-06-05 11:00:00     light rain   10d  \n2021-06-06 11:00:00     light rain   10d  \n2021-06-07 11:00:00     light rain   10d  \n2021-06-08 11:00:00  moderate rain   10d  \n\n[8 rows x 29 columns]",
      "text/html": "<div>\n<style scoped>\n    .dataframe tbody tr th:only-of-type {\n        vertical-align: middle;\n    }\n\n    .dataframe tbody tr th {\n        vertical-align: top;\n    }\n\n    .dataframe thead th {\n        text-align: right;\n    }\n</style>\n<table border=\"1\" class=\"dataframe\">\n  <thead>\n    <tr style=\"text-align: right;\">\n      <th></th>\n      <th>sunrise</th>\n      <th>sunset</th>\n      <th>moonrise</th>\n      <th>moonset</th>\n      <th>moon_phase</th>\n      <th>pressure</th>\n      <th>humidity</th>\n      <th>dew_point</th>\n      <th>wind_speed</th>\n      <th>wind_deg</th>\n      <th>...</th>\n      <th>eve</th>\n      <th>morn</th>\n      <th>day_feels_like</th>\n      <th>night_feels_like</th>\n      <th>eve_feels_like</th>\n      <th>morn_feels_like</th>\n      <th>id</th>\n      <th>main</th>\n      <th>description</th>\n      <th>icon</th>\n    </tr>\n    <tr>\n      <th>dt</th>\n      <th></th>\n      <th></th>\n      <th></th>\n      <th></th>\n      <th></th>\n      <th></th>\n      <th></th>\n      <th></th>\n      <th></th>\n      <th></th>\n      <th></th>\n      <th></th>\n      <th></th>\n      <th></th>\n      <th></th>\n      <th></th>\n      <th></th>\n      <th></th>\n      <th></th>\n      <th></th>\n      <th></th>\n    </tr>\n  </thead>\n  <tbody>\n    <tr>\n      <th>2021-06-01 11:00:00</th>\n      <td>2021-06-01 03:06:48</td>\n      <td>2021-06-01 19:47:46</td>\n      <td>2021-06-01 00:32:00</td>\n      <td>2021-06-01 09:32:00</td>\n      <td>0.72</td>\n      <td>1020</td>\n      <td>66</td>\n      <td>12.88</td>\n      <td>4.41</td>\n      <td>49</td>\n      <td>...</td>\n      <td>17.61</td>\n      <td>12.58</td>\n      <td>19.21</td>\n      <td>13.43</td>\n      <td>16.78</td>\n      <td>12.19</td>\n      <td>803</td>\n      <td>Clouds</td>\n      <td>broken clouds</td>\n      <td>04d</td>\n    </tr>\n    <tr>\n      <th>2021-06-02 11:00:00</th>\n      <td>2021-06-02 03:05:56</td>\n      <td>2021-06-02 19:48:57</td>\n      <td>2021-06-02 00:50:00</td>\n      <td>2021-06-02 10:50:00</td>\n      <td>0.75</td>\n      <td>1019</td>\n      <td>65</td>\n      <td>11.09</td>\n      <td>6.02</td>\n      <td>96</td>\n      <td>...</td>\n      <td>18.83</td>\n      <td>10.52</td>\n      <td>17.26</td>\n      <td>13.62</td>\n      <td>18.75</td>\n      <td>10.00</td>\n      <td>501</td>\n      <td>Rain</td>\n      <td>moderate rain</td>\n      <td>10d</td>\n    </tr>\n    <tr>\n      <th>2021-06-03 11:00:00</th>\n      <td>2021-06-03 03:05:07</td>\n      <td>2021-06-03 19:50:05</td>\n      <td>2021-06-03 01:05:00</td>\n      <td>2021-06-03 12:05:00</td>\n      <td>0.79</td>\n      <td>1021</td>\n      <td>74</td>\n      <td>16.69</td>\n      <td>4.35</td>\n      <td>137</td>\n      <td>...</td>\n      <td>21.07</td>\n      <td>14.21</td>\n      <td>21.68</td>\n      <td>16.42</td>\n      <td>21.32</td>\n      <td>14.09</td>\n      <td>501</td>\n      <td>Rain</td>\n      <td>moderate rain</td>\n      <td>10d</td>\n    </tr>\n    <tr>\n      <th>2021-06-04 11:00:00</th>\n      <td>2021-06-04 03:04:21</td>\n      <td>2021-06-04 19:51:11</td>\n      <td>2021-06-04 01:17:00</td>\n      <td>2021-06-04 13:17:00</td>\n      <td>0.82</td>\n      <td>1022</td>\n      <td>83</td>\n      <td>16.69</td>\n      <td>3.39</td>\n      <td>73</td>\n      <td>...</td>\n      <td>19.16</td>\n      <td>14.66</td>\n      <td>19.94</td>\n      <td>15.16</td>\n      <td>19.43</td>\n      <td>14.71</td>\n      <td>500</td>\n      <td>Rain</td>\n      <td>light rain</td>\n      <td>10d</td>\n    </tr>\n    <tr>\n      <th>2021-06-05 11:00:00</th>\n      <td>2021-06-05 03:03:38</td>\n      <td>2021-06-05 19:52:14</td>\n      <td>2021-06-05 01:29:00</td>\n      <td>2021-06-05 14:27:00</td>\n      <td>0.85</td>\n      <td>1022</td>\n      <td>77</td>\n      <td>15.88</td>\n      <td>4.00</td>\n      <td>70</td>\n      <td>...</td>\n      <td>18.36</td>\n      <td>15.20</td>\n      <td>20.14</td>\n      <td>15.09</td>\n      <td>18.58</td>\n      <td>15.10</td>\n      <td>500</td>\n      <td>Rain</td>\n      <td>light rain</td>\n      <td>10d</td>\n    </tr>\n    <tr>\n      <th>2021-06-06 11:00:00</th>\n      <td>2021-06-06 03:02:58</td>\n      <td>2021-06-06 19:53:14</td>\n      <td>2021-06-06 01:40:00</td>\n      <td>2021-06-06 15:39:00</td>\n      <td>0.88</td>\n      <td>1021</td>\n      <td>72</td>\n      <td>15.30</td>\n      <td>4.04</td>\n      <td>74</td>\n      <td>...</td>\n      <td>18.68</td>\n      <td>15.12</td>\n      <td>20.72</td>\n      <td>15.14</td>\n      <td>18.82</td>\n      <td>15.04</td>\n      <td>500</td>\n      <td>Rain</td>\n      <td>light rain</td>\n      <td>10d</td>\n    </tr>\n    <tr>\n      <th>2021-06-07 11:00:00</th>\n      <td>2021-06-07 03:02:22</td>\n      <td>2021-06-07 19:54:12</td>\n      <td>2021-06-07 01:53:00</td>\n      <td>2021-06-07 16:49:00</td>\n      <td>0.91</td>\n      <td>1022</td>\n      <td>66</td>\n      <td>14.89</td>\n      <td>3.36</td>\n      <td>111</td>\n      <td>...</td>\n      <td>19.25</td>\n      <td>16.04</td>\n      <td>21.47</td>\n      <td>15.26</td>\n      <td>19.35</td>\n      <td>15.89</td>\n      <td>500</td>\n      <td>Rain</td>\n      <td>light rain</td>\n      <td>10d</td>\n    </tr>\n    <tr>\n      <th>2021-06-08 11:00:00</th>\n      <td>2021-06-08 03:01:49</td>\n      <td>2021-06-08 19:55:07</td>\n      <td>2021-06-08 02:08:00</td>\n      <td>2021-06-08 18:01:00</td>\n      <td>0.94</td>\n      <td>1020</td>\n      <td>63</td>\n      <td>14.64</td>\n      <td>3.88</td>\n      <td>20</td>\n      <td>...</td>\n      <td>18.64</td>\n      <td>16.59</td>\n      <td>22.10</td>\n      <td>15.40</td>\n      <td>18.75</td>\n      <td>16.47</td>\n      <td>501</td>\n      <td>Rain</td>\n      <td>moderate rain</td>\n      <td>10d</td>\n    </tr>\n  </tbody>\n</table>\n<p>8 rows × 29 columns</p>\n</div>"
     },
     "execution_count": 6,
     "metadata": {},
     "output_type": "execute_result"
    }
   ],
   "source": [
    "time = ['dt', 'sunrise', 'sunset', 'moonrise', 'moonset']\n",
    "dly = pd.DataFrame(dic['daily'])\n",
    "dly[time] = dly[time].apply(pd.to_datetime, unit='s')\n",
    "\n",
    "dly = dly.join(pd.DataFrame(dly.temp.to_list()))\n",
    "dly = dly.join(pd.DataFrame(dly.feels_like.to_list()).add_suffix('_feels_like'))\n",
    "dly = dly.join(pd.DataFrame(dly.weather.apply(del_lst).to_list()))\n",
    "\n",
    "dly = dly.drop(columns=['temp', 'feels_like', 'weather'])\n",
    "dly = dly.set_index('dt')\n",
    "dly"
   ],
   "metadata": {
    "collapsed": false,
    "pycharm": {
     "name": "#%%\n"
    }
   }
  }
 ],
 "metadata": {
  "kernelspec": {
   "name": "python3",
   "language": "python",
   "display_name": "Python 3"
  },
  "language_info": {
   "codemirror_mode": {
    "name": "ipython",
    "version": 2
   },
   "file_extension": ".py",
   "mimetype": "text/x-python",
   "name": "python",
   "nbconvert_exporter": "python",
   "pygments_lexer": "ipython2",
   "version": "2.7.6"
  }
 },
 "nbformat": 4,
 "nbformat_minor": 0
}