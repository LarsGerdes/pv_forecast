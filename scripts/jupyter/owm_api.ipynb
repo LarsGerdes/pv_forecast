{
 "cells": [
  {
   "cell_type": "markdown",
   "source": [
    "# Open Weather Map\n",
    "Exploration of openweathermap.org API.\n",
    "## Prerequisits"
   ],
   "metadata": {
    "collapsed": false,
    "pycharm": {
     "name": "#%% md\n"
    }
   }
  },
  {
   "cell_type": "code",
   "execution_count": 1,
   "metadata": {
    "collapsed": true
   },
   "outputs": [],
   "source": [
    "import toml\n",
    "import requests\n",
    "import pandas as pd\n",
    "\n",
    "def del_lst(x):\n",
    "    return x[0]\n",
    "\n",
    "conf = toml.load('../../conf.toml')\n",
    "owm = conf['owm']\n",
    "\n",
    "url = 'https://api.openweathermap.org/data/2.5/onecall?lat={lat}&lon={lng}' \\\n",
    "      '&units=metric&APPID={key}'\n",
    "url = url.format(lat=owm['lat'], lng=owm['lng'], key=owm['key'])"
   ]
  },
  {
   "cell_type": "markdown",
   "source": [
    "## API\n",
    "Get data from API and safe json file."
   ],
   "metadata": {
    "collapsed": false,
    "pycharm": {
     "name": "#%% md\n"
    }
   }
  },
  {
   "cell_type": "code",
   "execution_count": 2,
   "outputs": [
    {
     "data": {
      "text/plain": "dict_keys(['lat', 'lon', 'timezone', 'timezone_offset', 'current', 'minutely', 'hourly', 'daily', 'alerts'])"
     },
     "execution_count": 2,
     "metadata": {},
     "output_type": "execute_result"
    }
   ],
   "source": [
    "response = requests.get(url)\n",
    "data = response.json()\n",
    "data.keys()"
   ],
   "metadata": {
    "collapsed": false,
    "pycharm": {
     "name": "#%%\n"
    }
   }
  },
  {
   "cell_type": "markdown",
   "source": [
    "## Current Weather\n",
    "- Timezone is UTC\n",
    "- temp, feels_like, dew_point: °C\n",
    "- pressure: hPa\n",
    "- humidity, clouds: %\n",
    "- uvi: UV Index\n",
    "- visibility: m\n",
    "- wind_speed: m / s\n",
    "- wind_deg: °"
   ],
   "metadata": {
    "collapsed": false,
    "pycharm": {
     "name": "#%% md\n"
    }
   }
  },
  {
   "cell_type": "code",
   "execution_count": 3,
   "outputs": [
    {
     "data": {
      "text/plain": "                          timezone timezone_offset             sunrise  \\\ndt                                                                       \n2021-05-05 12:14:58  Europe/Berlin 0 days 02:00:00 2021-05-05 03:46:14   \n\n                                 sunset  temp  feels_like  pressure  humidity  \\\ndt                                                                              \n2021-05-05 12:14:58 2021-05-05 19:05:35  8.21        3.35       996        81   \n\n                     dew_point   uvi  clouds  visibility  wind_speed  \\\ndt                                                                     \n2021-05-05 12:14:58       5.15  0.89      75        8000       12.35   \n\n                     wind_deg  rain   id  main description icon  \ndt                                                               \n2021-05-05 12:14:58       290   NaN  500  Rain  light rain  10d  ",
      "text/html": "<div>\n<style scoped>\n    .dataframe tbody tr th:only-of-type {\n        vertical-align: middle;\n    }\n\n    .dataframe tbody tr th {\n        vertical-align: top;\n    }\n\n    .dataframe thead th {\n        text-align: right;\n    }\n</style>\n<table border=\"1\" class=\"dataframe\">\n  <thead>\n    <tr style=\"text-align: right;\">\n      <th></th>\n      <th>timezone</th>\n      <th>timezone_offset</th>\n      <th>sunrise</th>\n      <th>sunset</th>\n      <th>temp</th>\n      <th>feels_like</th>\n      <th>pressure</th>\n      <th>humidity</th>\n      <th>dew_point</th>\n      <th>uvi</th>\n      <th>clouds</th>\n      <th>visibility</th>\n      <th>wind_speed</th>\n      <th>wind_deg</th>\n      <th>rain</th>\n      <th>id</th>\n      <th>main</th>\n      <th>description</th>\n      <th>icon</th>\n    </tr>\n    <tr>\n      <th>dt</th>\n      <th></th>\n      <th></th>\n      <th></th>\n      <th></th>\n      <th></th>\n      <th></th>\n      <th></th>\n      <th></th>\n      <th></th>\n      <th></th>\n      <th></th>\n      <th></th>\n      <th></th>\n      <th></th>\n      <th></th>\n      <th></th>\n      <th></th>\n      <th></th>\n      <th></th>\n    </tr>\n  </thead>\n  <tbody>\n    <tr>\n      <th>2021-05-05 12:14:58</th>\n      <td>Europe/Berlin</td>\n      <td>0 days 02:00:00</td>\n      <td>2021-05-05 03:46:14</td>\n      <td>2021-05-05 19:05:35</td>\n      <td>8.21</td>\n      <td>3.35</td>\n      <td>996</td>\n      <td>81</td>\n      <td>5.15</td>\n      <td>0.89</td>\n      <td>75</td>\n      <td>8000</td>\n      <td>12.35</td>\n      <td>290</td>\n      <td>NaN</td>\n      <td>500</td>\n      <td>Rain</td>\n      <td>light rain</td>\n      <td>10d</td>\n    </tr>\n  </tbody>\n</table>\n</div>"
     },
     "execution_count": 3,
     "metadata": {},
     "output_type": "execute_result"
    }
   ],
   "source": [
    "keys = ['timezone', 'timezone_offset', 'current']\n",
    "time = ['dt', 'sunrise', 'sunset']\n",
    "\n",
    "cur = pd.DataFrame(list(map(data.get, keys)), keys).T\n",
    "cur = cur.join(pd.DataFrame(cur.current[0], [0]))\n",
    "cur = cur.join(pd.DataFrame(cur.weather[0], [0]))\n",
    "cur = cur.drop(columns=['current', 'weather'])\n",
    "\n",
    "cur['timezone_offset'] = pd.to_timedelta(cur.timezone_offset, 's')\n",
    "cur[time] = cur[time].apply(pd.to_datetime, unit='s')\n",
    "cur = cur.set_index('dt')\n",
    "cur"
   ],
   "metadata": {
    "collapsed": false,
    "pycharm": {
     "name": "#%%\n"
    }
   }
  },
  {
   "cell_type": "markdown",
   "source": [
    "### Alerts"
   ],
   "metadata": {
    "collapsed": false,
    "pycharm": {
     "name": "#%% md\n"
    }
   }
  },
  {
   "cell_type": "code",
   "execution_count": 4,
   "outputs": [],
   "source": [
    "# ale = pd.DataFrame(data['alerts'], ['german', 'english'])\n",
    "#\n",
    "# time = ['start', 'end']\n",
    "#\n",
    "# ale[time] = ale[time].apply(pd.to_datetime, unit='s')\n",
    "# ale"
   ],
   "metadata": {
    "collapsed": false,
    "pycharm": {
     "name": "#%%\n"
    }
   }
  },
  {
   "cell_type": "markdown",
   "source": [
    "## Minutely Data\n",
    "- 1 hour\n",
    "- 60 observations\n",
    "- precipitation: mm"
   ],
   "metadata": {
    "collapsed": false,
    "pycharm": {
     "name": "#%% md\n"
    }
   }
  },
  {
   "cell_type": "code",
   "execution_count": 5,
   "outputs": [
    {
     "data": {
      "text/plain": "                     precipitation\ndt                                \n2021-05-05 12:15:00         0.1780\n2021-05-05 12:16:00         0.1496\n2021-05-05 12:17:00         0.1212\n2021-05-05 12:18:00         0.0000\n2021-05-05 12:19:00         0.0000\n...                            ...\n2021-05-05 13:11:00         0.0000\n2021-05-05 13:12:00         0.0000\n2021-05-05 13:13:00         0.0000\n2021-05-05 13:14:00         0.0000\n2021-05-05 13:15:00         0.0000\n\n[61 rows x 1 columns]",
      "text/html": "<div>\n<style scoped>\n    .dataframe tbody tr th:only-of-type {\n        vertical-align: middle;\n    }\n\n    .dataframe tbody tr th {\n        vertical-align: top;\n    }\n\n    .dataframe thead th {\n        text-align: right;\n    }\n</style>\n<table border=\"1\" class=\"dataframe\">\n  <thead>\n    <tr style=\"text-align: right;\">\n      <th></th>\n      <th>precipitation</th>\n    </tr>\n    <tr>\n      <th>dt</th>\n      <th></th>\n    </tr>\n  </thead>\n  <tbody>\n    <tr>\n      <th>2021-05-05 12:15:00</th>\n      <td>0.1780</td>\n    </tr>\n    <tr>\n      <th>2021-05-05 12:16:00</th>\n      <td>0.1496</td>\n    </tr>\n    <tr>\n      <th>2021-05-05 12:17:00</th>\n      <td>0.1212</td>\n    </tr>\n    <tr>\n      <th>2021-05-05 12:18:00</th>\n      <td>0.0000</td>\n    </tr>\n    <tr>\n      <th>2021-05-05 12:19:00</th>\n      <td>0.0000</td>\n    </tr>\n    <tr>\n      <th>...</th>\n      <td>...</td>\n    </tr>\n    <tr>\n      <th>2021-05-05 13:11:00</th>\n      <td>0.0000</td>\n    </tr>\n    <tr>\n      <th>2021-05-05 13:12:00</th>\n      <td>0.0000</td>\n    </tr>\n    <tr>\n      <th>2021-05-05 13:13:00</th>\n      <td>0.0000</td>\n    </tr>\n    <tr>\n      <th>2021-05-05 13:14:00</th>\n      <td>0.0000</td>\n    </tr>\n    <tr>\n      <th>2021-05-05 13:15:00</th>\n      <td>0.0000</td>\n    </tr>\n  </tbody>\n</table>\n<p>61 rows × 1 columns</p>\n</div>"
     },
     "execution_count": 5,
     "metadata": {},
     "output_type": "execute_result"
    }
   ],
   "source": [
    "mnt = pd.DataFrame(data['minutely'])\n",
    "mnt = mnt.set_index('dt')\n",
    "mnt.index = pd.to_datetime(mnt.index, unit='s')\n",
    "mnt"
   ],
   "metadata": {
    "collapsed": false,
    "pycharm": {
     "name": "#%%\n"
    }
   }
  },
  {
   "cell_type": "markdown",
   "source": [
    "## Hourly Data\n",
    "- 2 days\n",
    "- 48 observations\n",
    "- wind_gust: metre/sec\n",
    "- pop: %\n",
    "- rain: mm"
   ],
   "metadata": {
    "collapsed": false,
    "pycharm": {
     "name": "#%% md\n"
    }
   }
  },
  {
   "cell_type": "code",
   "execution_count": 6,
   "outputs": [
    {
     "data": {
      "text/plain": "                     temp  feels_like  pressure  humidity  dew_point   uvi  \\\ndt                                                                           \n2021-05-05 12:00:00  8.21        3.37       996        81       5.15  0.89   \n2021-05-05 13:00:00  7.81        2.81       996        83       5.11  1.37   \n2021-05-05 14:00:00  7.52        2.33       997        84       5.00  1.07   \n2021-05-05 15:00:00  7.75        2.57       998        83       5.05  0.72   \n2021-05-05 16:00:00  7.21        1.91      1000        83       4.52  0.42   \n2021-05-05 17:00:00  6.47        1.08      1002        82       3.63  0.19   \n2021-05-05 18:00:00  5.93        0.59      1002        79       2.59  0.06   \n2021-05-05 19:00:00  5.46        0.18      1003        75       1.40  0.00   \n2021-05-05 20:00:00  5.41        0.23      1003        72       0.82  0.00   \n2021-05-05 21:00:00  5.30        0.24      1003        72       0.80  0.00   \n2021-05-05 22:00:00  5.32        0.29      1004        69       0.28  0.00   \n2021-05-05 23:00:00  5.21        0.20      1004        68      -0.06  0.00   \n2021-05-06 00:00:00  4.90        0.02      1004        69      -0.14  0.00   \n2021-05-06 01:00:00  4.55       -0.20      1004        71      -0.20  0.00   \n2021-05-06 02:00:00  4.02       -0.60      1004        74      -0.14  0.00   \n2021-05-06 03:00:00  3.18       -1.48      1004        78      -0.28  0.00   \n2021-05-06 04:00:00  2.55       -2.08      1004        81      -0.40  0.00   \n2021-05-06 05:00:00  3.48       -0.90      1004        78       0.08  0.17   \n2021-05-06 06:00:00  5.82        1.78      1005        72       1.24  0.49   \n2021-05-06 07:00:00  7.34        3.43      1005        67       1.80  1.06   \n2021-05-06 08:00:00  7.93        4.00      1005        61       0.94  1.86   \n2021-05-06 09:00:00  8.43        4.62      1006        58       0.90  2.76   \n2021-05-06 10:00:00  8.87        5.24      1006        59       1.27  3.63   \n2021-05-06 11:00:00  8.97        5.47      1006        59       1.67  4.10   \n2021-05-06 12:00:00  9.21        5.97      1006        59       1.70  4.10   \n2021-05-06 13:00:00  9.27        6.20      1006        59       1.89  3.73   \n2021-05-06 14:00:00  9.15        6.35      1006        59       1.66  2.91   \n2021-05-06 15:00:00  9.07        6.56      1006        58       1.43  1.95   \n2021-05-06 16:00:00  8.41        5.98      1005        62       1.60  0.69   \n2021-05-06 17:00:00  7.68        5.72      1005        69       2.39  0.31   \n2021-05-06 18:00:00  6.52        5.13      1005        75       2.41  0.10   \n2021-05-06 19:00:00  5.47        5.47      1005        74       1.29  0.00   \n2021-05-06 20:00:00  5.20        3.86      1006        79       1.92  0.00   \n2021-05-06 21:00:00  4.52        3.59      1005        88       2.80  0.00   \n2021-05-06 22:00:00  3.94        3.94      1005        91       2.63  0.00   \n2021-05-06 23:00:00  3.34        1.52      1005        92       2.23  0.00   \n2021-05-07 00:00:00  2.96        0.65      1005        94       2.15  0.00   \n2021-05-07 01:00:00  2.77        1.54      1005        95       2.08  0.00   \n2021-05-07 02:00:00  2.81        2.81      1005        94       2.00  0.00   \n2021-05-07 03:00:00  2.77        2.77      1005        94       1.94  0.00   \n2021-05-07 04:00:00  2.53       -0.31      1006        96       1.96  0.00   \n2021-05-07 05:00:00  2.80       -0.31      1006        97       2.37  0.15   \n2021-05-07 06:00:00  3.34        0.59      1007        95       2.69  0.45   \n2021-05-07 07:00:00  3.93        0.59      1007        94       3.19  1.02   \n2021-05-07 08:00:00  5.72        2.74      1007        83       3.12  1.76   \n2021-05-07 09:00:00  6.78        3.19      1008        76       2.98  2.61   \n2021-05-07 10:00:00  7.45        3.78      1009        72       2.85  3.63   \n2021-05-07 11:00:00  7.50        3.92      1010        71       2.63  4.10   \n\n                     clouds  visibility  wind_speed  wind_deg  wind_gust  \\\ndt                                                                         \n2021-05-05 12:00:00      75       10000       12.23       282      16.99   \n2021-05-05 13:00:00      80       10000       12.31       279      17.87   \n2021-05-05 14:00:00      85       10000       12.79       279      18.64   \n2021-05-05 15:00:00      89       10000       13.15       279      19.08   \n2021-05-05 16:00:00      94       10000       12.81       279      18.81   \n2021-05-05 17:00:00      93       10000       11.95       278      17.89   \n2021-05-05 18:00:00      88       10000       10.94       276      16.45   \n2021-05-05 19:00:00      29       10000       10.08       276      15.41   \n2021-05-05 20:00:00      25       10000        9.65       275      14.76   \n2021-05-05 21:00:00      21       10000        9.09       275      14.27   \n2021-05-05 22:00:00      21       10000        9.00       272      14.17   \n2021-05-05 23:00:00      22       10000        8.81       268      14.14   \n2021-05-06 00:00:00      22       10000        8.08       266      13.84   \n2021-05-06 01:00:00      15       10000        7.38       266      13.47   \n2021-05-06 02:00:00      13       10000        6.61       262      12.58   \n2021-05-06 03:00:00      12       10000        6.14       255      11.84   \n2021-05-06 04:00:00      13       10000        5.71       255      11.30   \n2021-05-06 05:00:00      12       10000        5.70       257      11.63   \n2021-05-06 06:00:00      12       10000        6.41       264      10.48   \n2021-05-06 07:00:00      15       10000        7.29       272      10.23   \n2021-05-06 08:00:00      14       10000        7.95       276      10.01   \n2021-05-06 09:00:00      12       10000        8.05       278       9.83   \n2021-05-06 10:00:00      26       10000        7.86       278       9.55   \n2021-05-06 11:00:00      32       10000        7.49       279       9.13   \n2021-05-06 12:00:00      39       10000        6.83       280       8.44   \n2021-05-06 13:00:00      53       10000        6.35       279       7.72   \n2021-05-06 14:00:00      67       10000        5.48       283       6.96   \n2021-05-06 15:00:00      78       10000        4.67       297       5.79   \n2021-05-06 16:00:00      83       10000        4.14       312       4.35   \n2021-05-06 17:00:00      87       10000        3.01       334       3.53   \n2021-05-06 18:00:00      89       10000        2.01         2       2.59   \n2021-05-06 19:00:00     100       10000        0.57        70       0.95   \n2021-05-06 20:00:00     100       10000        1.76       180       1.78   \n2021-05-06 21:00:00     100       10000        1.36       175       1.71   \n2021-05-06 22:00:00     100       10000        1.12       180       1.80   \n2021-05-06 23:00:00     100       10000        1.92       185       2.45   \n2021-05-07 00:00:00     100       10000        2.33       178       3.05   \n2021-05-07 01:00:00     100       10000        1.41       187       1.73   \n2021-05-07 02:00:00     100       10000        0.41       199       0.61   \n2021-05-07 03:00:00     100       10000        0.90       259       0.94   \n2021-05-07 04:00:00     100       10000        2.82       268       3.70   \n2021-05-07 05:00:00     100        8376        3.22       270       4.01   \n2021-05-07 06:00:00     100       10000        2.90       252       4.64   \n2021-05-07 07:00:00     100       10000        3.92       235       6.48   \n2021-05-07 08:00:00     100       10000        4.00       276       5.93   \n2021-05-07 09:00:00     100       10000        5.91       320       7.26   \n2021-05-07 10:00:00     100       10000        6.64       321       7.92   \n2021-05-07 11:00:00      99       10000        6.42       313       7.87   \n\n                      pop  precipitation   id    main       description icon  \ndt                                                                            \n2021-05-05 12:00:00  1.00           0.20  500    Rain        light rain  10d  \n2021-05-05 13:00:00  0.80           0.00  803  Clouds     broken clouds  04d  \n2021-05-05 14:00:00  0.80           0.00  804  Clouds   overcast clouds  04d  \n2021-05-05 15:00:00  1.00           0.24  500    Rain        light rain  10d  \n2021-05-05 16:00:00  1.00           0.13  500    Rain        light rain  10d  \n2021-05-05 17:00:00  0.79           0.00  804  Clouds   overcast clouds  04d  \n2021-05-05 18:00:00  0.75           0.00  804  Clouds   overcast clouds  04d  \n2021-05-05 19:00:00  0.13           0.00  802  Clouds  scattered clouds  03d  \n2021-05-05 20:00:00  0.15           0.00  802  Clouds  scattered clouds  03n  \n2021-05-05 21:00:00  0.40           0.00  801  Clouds        few clouds  02n  \n2021-05-05 22:00:00  0.41           0.00  801  Clouds        few clouds  02n  \n2021-05-05 23:00:00  0.42           0.00  801  Clouds        few clouds  02n  \n2021-05-06 00:00:00  0.38           0.00  801  Clouds        few clouds  02n  \n2021-05-06 01:00:00  0.00           0.00  801  Clouds        few clouds  02n  \n2021-05-06 02:00:00  0.00           0.00  801  Clouds        few clouds  02n  \n2021-05-06 03:00:00  0.00           0.00  801  Clouds        few clouds  02n  \n2021-05-06 04:00:00  0.00           0.00  801  Clouds        few clouds  02d  \n2021-05-06 05:00:00  0.00           0.00  801  Clouds        few clouds  02d  \n2021-05-06 06:00:00  0.00           0.00  801  Clouds        few clouds  02d  \n2021-05-06 07:00:00  0.03           0.00  801  Clouds        few clouds  02d  \n2021-05-06 08:00:00  0.02           0.00  801  Clouds        few clouds  02d  \n2021-05-06 09:00:00  0.02           0.00  801  Clouds        few clouds  02d  \n2021-05-06 10:00:00  0.27           0.10  500    Rain        light rain  10d  \n2021-05-06 11:00:00  0.28           0.17  500    Rain        light rain  10d  \n2021-05-06 12:00:00  0.38           0.10  500    Rain        light rain  10d  \n2021-05-06 13:00:00  0.47           0.14  500    Rain        light rain  10d  \n2021-05-06 14:00:00  0.44           0.11  500    Rain        light rain  10d  \n2021-05-06 15:00:00  0.36           0.00  803  Clouds     broken clouds  04d  \n2021-05-06 16:00:00  0.32           0.00  803  Clouds     broken clouds  04d  \n2021-05-06 17:00:00  0.36           0.00  804  Clouds   overcast clouds  04d  \n2021-05-06 18:00:00  0.37           0.00  804  Clouds   overcast clouds  04d  \n2021-05-06 19:00:00  0.31           0.00  804  Clouds   overcast clouds  04d  \n2021-05-06 20:00:00  0.51           0.28  500    Rain        light rain  10n  \n2021-05-06 21:00:00  0.57           0.61  500    Rain        light rain  10n  \n2021-05-06 22:00:00  0.57           0.78  500    Rain        light rain  10n  \n2021-05-06 23:00:00  0.58           0.75  500    Rain        light rain  10n  \n2021-05-07 00:00:00  0.68           0.66  500    Rain        light rain  10n  \n2021-05-07 01:00:00  0.97           0.65  500    Rain        light rain  10n  \n2021-05-07 02:00:00  0.98           0.61  500    Rain        light rain  10n  \n2021-05-07 03:00:00  0.98           0.23  500    Rain        light rain  10n  \n2021-05-07 04:00:00  0.98           0.25  500    Rain        light rain  10d  \n2021-05-07 05:00:00  0.94           0.61  500    Rain        light rain  10d  \n2021-05-07 06:00:00  0.94           0.63  500    Rain        light rain  10d  \n2021-05-07 07:00:00  0.61           0.11  500    Rain        light rain  10d  \n2021-05-07 08:00:00  0.75           0.17  500    Rain        light rain  10d  \n2021-05-07 09:00:00  0.94           0.39  500    Rain        light rain  10d  \n2021-05-07 10:00:00  1.00           0.34  500    Rain        light rain  10d  \n2021-05-07 11:00:00  0.97           0.27  500    Rain        light rain  10d  ",
      "text/html": "<div>\n<style scoped>\n    .dataframe tbody tr th:only-of-type {\n        vertical-align: middle;\n    }\n\n    .dataframe tbody tr th {\n        vertical-align: top;\n    }\n\n    .dataframe thead th {\n        text-align: right;\n    }\n</style>\n<table border=\"1\" class=\"dataframe\">\n  <thead>\n    <tr style=\"text-align: right;\">\n      <th></th>\n      <th>temp</th>\n      <th>feels_like</th>\n      <th>pressure</th>\n      <th>humidity</th>\n      <th>dew_point</th>\n      <th>uvi</th>\n      <th>clouds</th>\n      <th>visibility</th>\n      <th>wind_speed</th>\n      <th>wind_deg</th>\n      <th>wind_gust</th>\n      <th>pop</th>\n      <th>precipitation</th>\n      <th>id</th>\n      <th>main</th>\n      <th>description</th>\n      <th>icon</th>\n    </tr>\n    <tr>\n      <th>dt</th>\n      <th></th>\n      <th></th>\n      <th></th>\n      <th></th>\n      <th></th>\n      <th></th>\n      <th></th>\n      <th></th>\n      <th></th>\n      <th></th>\n      <th></th>\n      <th></th>\n      <th></th>\n      <th></th>\n      <th></th>\n      <th></th>\n      <th></th>\n    </tr>\n  </thead>\n  <tbody>\n    <tr>\n      <th>2021-05-05 12:00:00</th>\n      <td>8.21</td>\n      <td>3.37</td>\n      <td>996</td>\n      <td>81</td>\n      <td>5.15</td>\n      <td>0.89</td>\n      <td>75</td>\n      <td>10000</td>\n      <td>12.23</td>\n      <td>282</td>\n      <td>16.99</td>\n      <td>1.00</td>\n      <td>0.20</td>\n      <td>500</td>\n      <td>Rain</td>\n      <td>light rain</td>\n      <td>10d</td>\n    </tr>\n    <tr>\n      <th>2021-05-05 13:00:00</th>\n      <td>7.81</td>\n      <td>2.81</td>\n      <td>996</td>\n      <td>83</td>\n      <td>5.11</td>\n      <td>1.37</td>\n      <td>80</td>\n      <td>10000</td>\n      <td>12.31</td>\n      <td>279</td>\n      <td>17.87</td>\n      <td>0.80</td>\n      <td>0.00</td>\n      <td>803</td>\n      <td>Clouds</td>\n      <td>broken clouds</td>\n      <td>04d</td>\n    </tr>\n    <tr>\n      <th>2021-05-05 14:00:00</th>\n      <td>7.52</td>\n      <td>2.33</td>\n      <td>997</td>\n      <td>84</td>\n      <td>5.00</td>\n      <td>1.07</td>\n      <td>85</td>\n      <td>10000</td>\n      <td>12.79</td>\n      <td>279</td>\n      <td>18.64</td>\n      <td>0.80</td>\n      <td>0.00</td>\n      <td>804</td>\n      <td>Clouds</td>\n      <td>overcast clouds</td>\n      <td>04d</td>\n    </tr>\n    <tr>\n      <th>2021-05-05 15:00:00</th>\n      <td>7.75</td>\n      <td>2.57</td>\n      <td>998</td>\n      <td>83</td>\n      <td>5.05</td>\n      <td>0.72</td>\n      <td>89</td>\n      <td>10000</td>\n      <td>13.15</td>\n      <td>279</td>\n      <td>19.08</td>\n      <td>1.00</td>\n      <td>0.24</td>\n      <td>500</td>\n      <td>Rain</td>\n      <td>light rain</td>\n      <td>10d</td>\n    </tr>\n    <tr>\n      <th>2021-05-05 16:00:00</th>\n      <td>7.21</td>\n      <td>1.91</td>\n      <td>1000</td>\n      <td>83</td>\n      <td>4.52</td>\n      <td>0.42</td>\n      <td>94</td>\n      <td>10000</td>\n      <td>12.81</td>\n      <td>279</td>\n      <td>18.81</td>\n      <td>1.00</td>\n      <td>0.13</td>\n      <td>500</td>\n      <td>Rain</td>\n      <td>light rain</td>\n      <td>10d</td>\n    </tr>\n    <tr>\n      <th>2021-05-05 17:00:00</th>\n      <td>6.47</td>\n      <td>1.08</td>\n      <td>1002</td>\n      <td>82</td>\n      <td>3.63</td>\n      <td>0.19</td>\n      <td>93</td>\n      <td>10000</td>\n      <td>11.95</td>\n      <td>278</td>\n      <td>17.89</td>\n      <td>0.79</td>\n      <td>0.00</td>\n      <td>804</td>\n      <td>Clouds</td>\n      <td>overcast clouds</td>\n      <td>04d</td>\n    </tr>\n    <tr>\n      <th>2021-05-05 18:00:00</th>\n      <td>5.93</td>\n      <td>0.59</td>\n      <td>1002</td>\n      <td>79</td>\n      <td>2.59</td>\n      <td>0.06</td>\n      <td>88</td>\n      <td>10000</td>\n      <td>10.94</td>\n      <td>276</td>\n      <td>16.45</td>\n      <td>0.75</td>\n      <td>0.00</td>\n      <td>804</td>\n      <td>Clouds</td>\n      <td>overcast clouds</td>\n      <td>04d</td>\n    </tr>\n    <tr>\n      <th>2021-05-05 19:00:00</th>\n      <td>5.46</td>\n      <td>0.18</td>\n      <td>1003</td>\n      <td>75</td>\n      <td>1.40</td>\n      <td>0.00</td>\n      <td>29</td>\n      <td>10000</td>\n      <td>10.08</td>\n      <td>276</td>\n      <td>15.41</td>\n      <td>0.13</td>\n      <td>0.00</td>\n      <td>802</td>\n      <td>Clouds</td>\n      <td>scattered clouds</td>\n      <td>03d</td>\n    </tr>\n    <tr>\n      <th>2021-05-05 20:00:00</th>\n      <td>5.41</td>\n      <td>0.23</td>\n      <td>1003</td>\n      <td>72</td>\n      <td>0.82</td>\n      <td>0.00</td>\n      <td>25</td>\n      <td>10000</td>\n      <td>9.65</td>\n      <td>275</td>\n      <td>14.76</td>\n      <td>0.15</td>\n      <td>0.00</td>\n      <td>802</td>\n      <td>Clouds</td>\n      <td>scattered clouds</td>\n      <td>03n</td>\n    </tr>\n    <tr>\n      <th>2021-05-05 21:00:00</th>\n      <td>5.30</td>\n      <td>0.24</td>\n      <td>1003</td>\n      <td>72</td>\n      <td>0.80</td>\n      <td>0.00</td>\n      <td>21</td>\n      <td>10000</td>\n      <td>9.09</td>\n      <td>275</td>\n      <td>14.27</td>\n      <td>0.40</td>\n      <td>0.00</td>\n      <td>801</td>\n      <td>Clouds</td>\n      <td>few clouds</td>\n      <td>02n</td>\n    </tr>\n    <tr>\n      <th>2021-05-05 22:00:00</th>\n      <td>5.32</td>\n      <td>0.29</td>\n      <td>1004</td>\n      <td>69</td>\n      <td>0.28</td>\n      <td>0.00</td>\n      <td>21</td>\n      <td>10000</td>\n      <td>9.00</td>\n      <td>272</td>\n      <td>14.17</td>\n      <td>0.41</td>\n      <td>0.00</td>\n      <td>801</td>\n      <td>Clouds</td>\n      <td>few clouds</td>\n      <td>02n</td>\n    </tr>\n    <tr>\n      <th>2021-05-05 23:00:00</th>\n      <td>5.21</td>\n      <td>0.20</td>\n      <td>1004</td>\n      <td>68</td>\n      <td>-0.06</td>\n      <td>0.00</td>\n      <td>22</td>\n      <td>10000</td>\n      <td>8.81</td>\n      <td>268</td>\n      <td>14.14</td>\n      <td>0.42</td>\n      <td>0.00</td>\n      <td>801</td>\n      <td>Clouds</td>\n      <td>few clouds</td>\n      <td>02n</td>\n    </tr>\n    <tr>\n      <th>2021-05-06 00:00:00</th>\n      <td>4.90</td>\n      <td>0.02</td>\n      <td>1004</td>\n      <td>69</td>\n      <td>-0.14</td>\n      <td>0.00</td>\n      <td>22</td>\n      <td>10000</td>\n      <td>8.08</td>\n      <td>266</td>\n      <td>13.84</td>\n      <td>0.38</td>\n      <td>0.00</td>\n      <td>801</td>\n      <td>Clouds</td>\n      <td>few clouds</td>\n      <td>02n</td>\n    </tr>\n    <tr>\n      <th>2021-05-06 01:00:00</th>\n      <td>4.55</td>\n      <td>-0.20</td>\n      <td>1004</td>\n      <td>71</td>\n      <td>-0.20</td>\n      <td>0.00</td>\n      <td>15</td>\n      <td>10000</td>\n      <td>7.38</td>\n      <td>266</td>\n      <td>13.47</td>\n      <td>0.00</td>\n      <td>0.00</td>\n      <td>801</td>\n      <td>Clouds</td>\n      <td>few clouds</td>\n      <td>02n</td>\n    </tr>\n    <tr>\n      <th>2021-05-06 02:00:00</th>\n      <td>4.02</td>\n      <td>-0.60</td>\n      <td>1004</td>\n      <td>74</td>\n      <td>-0.14</td>\n      <td>0.00</td>\n      <td>13</td>\n      <td>10000</td>\n      <td>6.61</td>\n      <td>262</td>\n      <td>12.58</td>\n      <td>0.00</td>\n      <td>0.00</td>\n      <td>801</td>\n      <td>Clouds</td>\n      <td>few clouds</td>\n      <td>02n</td>\n    </tr>\n    <tr>\n      <th>2021-05-06 03:00:00</th>\n      <td>3.18</td>\n      <td>-1.48</td>\n      <td>1004</td>\n      <td>78</td>\n      <td>-0.28</td>\n      <td>0.00</td>\n      <td>12</td>\n      <td>10000</td>\n      <td>6.14</td>\n      <td>255</td>\n      <td>11.84</td>\n      <td>0.00</td>\n      <td>0.00</td>\n      <td>801</td>\n      <td>Clouds</td>\n      <td>few clouds</td>\n      <td>02n</td>\n    </tr>\n    <tr>\n      <th>2021-05-06 04:00:00</th>\n      <td>2.55</td>\n      <td>-2.08</td>\n      <td>1004</td>\n      <td>81</td>\n      <td>-0.40</td>\n      <td>0.00</td>\n      <td>13</td>\n      <td>10000</td>\n      <td>5.71</td>\n      <td>255</td>\n      <td>11.30</td>\n      <td>0.00</td>\n      <td>0.00</td>\n      <td>801</td>\n      <td>Clouds</td>\n      <td>few clouds</td>\n      <td>02d</td>\n    </tr>\n    <tr>\n      <th>2021-05-06 05:00:00</th>\n      <td>3.48</td>\n      <td>-0.90</td>\n      <td>1004</td>\n      <td>78</td>\n      <td>0.08</td>\n      <td>0.17</td>\n      <td>12</td>\n      <td>10000</td>\n      <td>5.70</td>\n      <td>257</td>\n      <td>11.63</td>\n      <td>0.00</td>\n      <td>0.00</td>\n      <td>801</td>\n      <td>Clouds</td>\n      <td>few clouds</td>\n      <td>02d</td>\n    </tr>\n    <tr>\n      <th>2021-05-06 06:00:00</th>\n      <td>5.82</td>\n      <td>1.78</td>\n      <td>1005</td>\n      <td>72</td>\n      <td>1.24</td>\n      <td>0.49</td>\n      <td>12</td>\n      <td>10000</td>\n      <td>6.41</td>\n      <td>264</td>\n      <td>10.48</td>\n      <td>0.00</td>\n      <td>0.00</td>\n      <td>801</td>\n      <td>Clouds</td>\n      <td>few clouds</td>\n      <td>02d</td>\n    </tr>\n    <tr>\n      <th>2021-05-06 07:00:00</th>\n      <td>7.34</td>\n      <td>3.43</td>\n      <td>1005</td>\n      <td>67</td>\n      <td>1.80</td>\n      <td>1.06</td>\n      <td>15</td>\n      <td>10000</td>\n      <td>7.29</td>\n      <td>272</td>\n      <td>10.23</td>\n      <td>0.03</td>\n      <td>0.00</td>\n      <td>801</td>\n      <td>Clouds</td>\n      <td>few clouds</td>\n      <td>02d</td>\n    </tr>\n    <tr>\n      <th>2021-05-06 08:00:00</th>\n      <td>7.93</td>\n      <td>4.00</td>\n      <td>1005</td>\n      <td>61</td>\n      <td>0.94</td>\n      <td>1.86</td>\n      <td>14</td>\n      <td>10000</td>\n      <td>7.95</td>\n      <td>276</td>\n      <td>10.01</td>\n      <td>0.02</td>\n      <td>0.00</td>\n      <td>801</td>\n      <td>Clouds</td>\n      <td>few clouds</td>\n      <td>02d</td>\n    </tr>\n    <tr>\n      <th>2021-05-06 09:00:00</th>\n      <td>8.43</td>\n      <td>4.62</td>\n      <td>1006</td>\n      <td>58</td>\n      <td>0.90</td>\n      <td>2.76</td>\n      <td>12</td>\n      <td>10000</td>\n      <td>8.05</td>\n      <td>278</td>\n      <td>9.83</td>\n      <td>0.02</td>\n      <td>0.00</td>\n      <td>801</td>\n      <td>Clouds</td>\n      <td>few clouds</td>\n      <td>02d</td>\n    </tr>\n    <tr>\n      <th>2021-05-06 10:00:00</th>\n      <td>8.87</td>\n      <td>5.24</td>\n      <td>1006</td>\n      <td>59</td>\n      <td>1.27</td>\n      <td>3.63</td>\n      <td>26</td>\n      <td>10000</td>\n      <td>7.86</td>\n      <td>278</td>\n      <td>9.55</td>\n      <td>0.27</td>\n      <td>0.10</td>\n      <td>500</td>\n      <td>Rain</td>\n      <td>light rain</td>\n      <td>10d</td>\n    </tr>\n    <tr>\n      <th>2021-05-06 11:00:00</th>\n      <td>8.97</td>\n      <td>5.47</td>\n      <td>1006</td>\n      <td>59</td>\n      <td>1.67</td>\n      <td>4.10</td>\n      <td>32</td>\n      <td>10000</td>\n      <td>7.49</td>\n      <td>279</td>\n      <td>9.13</td>\n      <td>0.28</td>\n      <td>0.17</td>\n      <td>500</td>\n      <td>Rain</td>\n      <td>light rain</td>\n      <td>10d</td>\n    </tr>\n    <tr>\n      <th>2021-05-06 12:00:00</th>\n      <td>9.21</td>\n      <td>5.97</td>\n      <td>1006</td>\n      <td>59</td>\n      <td>1.70</td>\n      <td>4.10</td>\n      <td>39</td>\n      <td>10000</td>\n      <td>6.83</td>\n      <td>280</td>\n      <td>8.44</td>\n      <td>0.38</td>\n      <td>0.10</td>\n      <td>500</td>\n      <td>Rain</td>\n      <td>light rain</td>\n      <td>10d</td>\n    </tr>\n    <tr>\n      <th>2021-05-06 13:00:00</th>\n      <td>9.27</td>\n      <td>6.20</td>\n      <td>1006</td>\n      <td>59</td>\n      <td>1.89</td>\n      <td>3.73</td>\n      <td>53</td>\n      <td>10000</td>\n      <td>6.35</td>\n      <td>279</td>\n      <td>7.72</td>\n      <td>0.47</td>\n      <td>0.14</td>\n      <td>500</td>\n      <td>Rain</td>\n      <td>light rain</td>\n      <td>10d</td>\n    </tr>\n    <tr>\n      <th>2021-05-06 14:00:00</th>\n      <td>9.15</td>\n      <td>6.35</td>\n      <td>1006</td>\n      <td>59</td>\n      <td>1.66</td>\n      <td>2.91</td>\n      <td>67</td>\n      <td>10000</td>\n      <td>5.48</td>\n      <td>283</td>\n      <td>6.96</td>\n      <td>0.44</td>\n      <td>0.11</td>\n      <td>500</td>\n      <td>Rain</td>\n      <td>light rain</td>\n      <td>10d</td>\n    </tr>\n    <tr>\n      <th>2021-05-06 15:00:00</th>\n      <td>9.07</td>\n      <td>6.56</td>\n      <td>1006</td>\n      <td>58</td>\n      <td>1.43</td>\n      <td>1.95</td>\n      <td>78</td>\n      <td>10000</td>\n      <td>4.67</td>\n      <td>297</td>\n      <td>5.79</td>\n      <td>0.36</td>\n      <td>0.00</td>\n      <td>803</td>\n      <td>Clouds</td>\n      <td>broken clouds</td>\n      <td>04d</td>\n    </tr>\n    <tr>\n      <th>2021-05-06 16:00:00</th>\n      <td>8.41</td>\n      <td>5.98</td>\n      <td>1005</td>\n      <td>62</td>\n      <td>1.60</td>\n      <td>0.69</td>\n      <td>83</td>\n      <td>10000</td>\n      <td>4.14</td>\n      <td>312</td>\n      <td>4.35</td>\n      <td>0.32</td>\n      <td>0.00</td>\n      <td>803</td>\n      <td>Clouds</td>\n      <td>broken clouds</td>\n      <td>04d</td>\n    </tr>\n    <tr>\n      <th>2021-05-06 17:00:00</th>\n      <td>7.68</td>\n      <td>5.72</td>\n      <td>1005</td>\n      <td>69</td>\n      <td>2.39</td>\n      <td>0.31</td>\n      <td>87</td>\n      <td>10000</td>\n      <td>3.01</td>\n      <td>334</td>\n      <td>3.53</td>\n      <td>0.36</td>\n      <td>0.00</td>\n      <td>804</td>\n      <td>Clouds</td>\n      <td>overcast clouds</td>\n      <td>04d</td>\n    </tr>\n    <tr>\n      <th>2021-05-06 18:00:00</th>\n      <td>6.52</td>\n      <td>5.13</td>\n      <td>1005</td>\n      <td>75</td>\n      <td>2.41</td>\n      <td>0.10</td>\n      <td>89</td>\n      <td>10000</td>\n      <td>2.01</td>\n      <td>2</td>\n      <td>2.59</td>\n      <td>0.37</td>\n      <td>0.00</td>\n      <td>804</td>\n      <td>Clouds</td>\n      <td>overcast clouds</td>\n      <td>04d</td>\n    </tr>\n    <tr>\n      <th>2021-05-06 19:00:00</th>\n      <td>5.47</td>\n      <td>5.47</td>\n      <td>1005</td>\n      <td>74</td>\n      <td>1.29</td>\n      <td>0.00</td>\n      <td>100</td>\n      <td>10000</td>\n      <td>0.57</td>\n      <td>70</td>\n      <td>0.95</td>\n      <td>0.31</td>\n      <td>0.00</td>\n      <td>804</td>\n      <td>Clouds</td>\n      <td>overcast clouds</td>\n      <td>04d</td>\n    </tr>\n    <tr>\n      <th>2021-05-06 20:00:00</th>\n      <td>5.20</td>\n      <td>3.86</td>\n      <td>1006</td>\n      <td>79</td>\n      <td>1.92</td>\n      <td>0.00</td>\n      <td>100</td>\n      <td>10000</td>\n      <td>1.76</td>\n      <td>180</td>\n      <td>1.78</td>\n      <td>0.51</td>\n      <td>0.28</td>\n      <td>500</td>\n      <td>Rain</td>\n      <td>light rain</td>\n      <td>10n</td>\n    </tr>\n    <tr>\n      <th>2021-05-06 21:00:00</th>\n      <td>4.52</td>\n      <td>3.59</td>\n      <td>1005</td>\n      <td>88</td>\n      <td>2.80</td>\n      <td>0.00</td>\n      <td>100</td>\n      <td>10000</td>\n      <td>1.36</td>\n      <td>175</td>\n      <td>1.71</td>\n      <td>0.57</td>\n      <td>0.61</td>\n      <td>500</td>\n      <td>Rain</td>\n      <td>light rain</td>\n      <td>10n</td>\n    </tr>\n    <tr>\n      <th>2021-05-06 22:00:00</th>\n      <td>3.94</td>\n      <td>3.94</td>\n      <td>1005</td>\n      <td>91</td>\n      <td>2.63</td>\n      <td>0.00</td>\n      <td>100</td>\n      <td>10000</td>\n      <td>1.12</td>\n      <td>180</td>\n      <td>1.80</td>\n      <td>0.57</td>\n      <td>0.78</td>\n      <td>500</td>\n      <td>Rain</td>\n      <td>light rain</td>\n      <td>10n</td>\n    </tr>\n    <tr>\n      <th>2021-05-06 23:00:00</th>\n      <td>3.34</td>\n      <td>1.52</td>\n      <td>1005</td>\n      <td>92</td>\n      <td>2.23</td>\n      <td>0.00</td>\n      <td>100</td>\n      <td>10000</td>\n      <td>1.92</td>\n      <td>185</td>\n      <td>2.45</td>\n      <td>0.58</td>\n      <td>0.75</td>\n      <td>500</td>\n      <td>Rain</td>\n      <td>light rain</td>\n      <td>10n</td>\n    </tr>\n    <tr>\n      <th>2021-05-07 00:00:00</th>\n      <td>2.96</td>\n      <td>0.65</td>\n      <td>1005</td>\n      <td>94</td>\n      <td>2.15</td>\n      <td>0.00</td>\n      <td>100</td>\n      <td>10000</td>\n      <td>2.33</td>\n      <td>178</td>\n      <td>3.05</td>\n      <td>0.68</td>\n      <td>0.66</td>\n      <td>500</td>\n      <td>Rain</td>\n      <td>light rain</td>\n      <td>10n</td>\n    </tr>\n    <tr>\n      <th>2021-05-07 01:00:00</th>\n      <td>2.77</td>\n      <td>1.54</td>\n      <td>1005</td>\n      <td>95</td>\n      <td>2.08</td>\n      <td>0.00</td>\n      <td>100</td>\n      <td>10000</td>\n      <td>1.41</td>\n      <td>187</td>\n      <td>1.73</td>\n      <td>0.97</td>\n      <td>0.65</td>\n      <td>500</td>\n      <td>Rain</td>\n      <td>light rain</td>\n      <td>10n</td>\n    </tr>\n    <tr>\n      <th>2021-05-07 02:00:00</th>\n      <td>2.81</td>\n      <td>2.81</td>\n      <td>1005</td>\n      <td>94</td>\n      <td>2.00</td>\n      <td>0.00</td>\n      <td>100</td>\n      <td>10000</td>\n      <td>0.41</td>\n      <td>199</td>\n      <td>0.61</td>\n      <td>0.98</td>\n      <td>0.61</td>\n      <td>500</td>\n      <td>Rain</td>\n      <td>light rain</td>\n      <td>10n</td>\n    </tr>\n    <tr>\n      <th>2021-05-07 03:00:00</th>\n      <td>2.77</td>\n      <td>2.77</td>\n      <td>1005</td>\n      <td>94</td>\n      <td>1.94</td>\n      <td>0.00</td>\n      <td>100</td>\n      <td>10000</td>\n      <td>0.90</td>\n      <td>259</td>\n      <td>0.94</td>\n      <td>0.98</td>\n      <td>0.23</td>\n      <td>500</td>\n      <td>Rain</td>\n      <td>light rain</td>\n      <td>10n</td>\n    </tr>\n    <tr>\n      <th>2021-05-07 04:00:00</th>\n      <td>2.53</td>\n      <td>-0.31</td>\n      <td>1006</td>\n      <td>96</td>\n      <td>1.96</td>\n      <td>0.00</td>\n      <td>100</td>\n      <td>10000</td>\n      <td>2.82</td>\n      <td>268</td>\n      <td>3.70</td>\n      <td>0.98</td>\n      <td>0.25</td>\n      <td>500</td>\n      <td>Rain</td>\n      <td>light rain</td>\n      <td>10d</td>\n    </tr>\n    <tr>\n      <th>2021-05-07 05:00:00</th>\n      <td>2.80</td>\n      <td>-0.31</td>\n      <td>1006</td>\n      <td>97</td>\n      <td>2.37</td>\n      <td>0.15</td>\n      <td>100</td>\n      <td>8376</td>\n      <td>3.22</td>\n      <td>270</td>\n      <td>4.01</td>\n      <td>0.94</td>\n      <td>0.61</td>\n      <td>500</td>\n      <td>Rain</td>\n      <td>light rain</td>\n      <td>10d</td>\n    </tr>\n    <tr>\n      <th>2021-05-07 06:00:00</th>\n      <td>3.34</td>\n      <td>0.59</td>\n      <td>1007</td>\n      <td>95</td>\n      <td>2.69</td>\n      <td>0.45</td>\n      <td>100</td>\n      <td>10000</td>\n      <td>2.90</td>\n      <td>252</td>\n      <td>4.64</td>\n      <td>0.94</td>\n      <td>0.63</td>\n      <td>500</td>\n      <td>Rain</td>\n      <td>light rain</td>\n      <td>10d</td>\n    </tr>\n    <tr>\n      <th>2021-05-07 07:00:00</th>\n      <td>3.93</td>\n      <td>0.59</td>\n      <td>1007</td>\n      <td>94</td>\n      <td>3.19</td>\n      <td>1.02</td>\n      <td>100</td>\n      <td>10000</td>\n      <td>3.92</td>\n      <td>235</td>\n      <td>6.48</td>\n      <td>0.61</td>\n      <td>0.11</td>\n      <td>500</td>\n      <td>Rain</td>\n      <td>light rain</td>\n      <td>10d</td>\n    </tr>\n    <tr>\n      <th>2021-05-07 08:00:00</th>\n      <td>5.72</td>\n      <td>2.74</td>\n      <td>1007</td>\n      <td>83</td>\n      <td>3.12</td>\n      <td>1.76</td>\n      <td>100</td>\n      <td>10000</td>\n      <td>4.00</td>\n      <td>276</td>\n      <td>5.93</td>\n      <td>0.75</td>\n      <td>0.17</td>\n      <td>500</td>\n      <td>Rain</td>\n      <td>light rain</td>\n      <td>10d</td>\n    </tr>\n    <tr>\n      <th>2021-05-07 09:00:00</th>\n      <td>6.78</td>\n      <td>3.19</td>\n      <td>1008</td>\n      <td>76</td>\n      <td>2.98</td>\n      <td>2.61</td>\n      <td>100</td>\n      <td>10000</td>\n      <td>5.91</td>\n      <td>320</td>\n      <td>7.26</td>\n      <td>0.94</td>\n      <td>0.39</td>\n      <td>500</td>\n      <td>Rain</td>\n      <td>light rain</td>\n      <td>10d</td>\n    </tr>\n    <tr>\n      <th>2021-05-07 10:00:00</th>\n      <td>7.45</td>\n      <td>3.78</td>\n      <td>1009</td>\n      <td>72</td>\n      <td>2.85</td>\n      <td>3.63</td>\n      <td>100</td>\n      <td>10000</td>\n      <td>6.64</td>\n      <td>321</td>\n      <td>7.92</td>\n      <td>1.00</td>\n      <td>0.34</td>\n      <td>500</td>\n      <td>Rain</td>\n      <td>light rain</td>\n      <td>10d</td>\n    </tr>\n    <tr>\n      <th>2021-05-07 11:00:00</th>\n      <td>7.50</td>\n      <td>3.92</td>\n      <td>1010</td>\n      <td>71</td>\n      <td>2.63</td>\n      <td>4.10</td>\n      <td>99</td>\n      <td>10000</td>\n      <td>6.42</td>\n      <td>313</td>\n      <td>7.87</td>\n      <td>0.97</td>\n      <td>0.27</td>\n      <td>500</td>\n      <td>Rain</td>\n      <td>light rain</td>\n      <td>10d</td>\n    </tr>\n  </tbody>\n</table>\n</div>"
     },
     "execution_count": 6,
     "metadata": {},
     "output_type": "execute_result"
    }
   ],
   "source": [
    "hr = pd.DataFrame(data['hourly'])\n",
    "\n",
    "hr = hr.set_index('dt')\n",
    "hr.index = pd.to_datetime(hr.index, unit='s')\n",
    "\n",
    "s = hr.rain.notna()\n",
    "hr['precipitation'] = 0\n",
    "hr.loc[s, 'precipitation'] = hr.loc[s, 'rain'].apply(lambda x: x.get('1h'))\n",
    "hr = hr.drop(columns='rain')\n",
    "\n",
    "hr = hr.join(pd.DataFrame(hr.weather.apply(del_lst).tolist(), hr.index))\n",
    "hr = hr.drop(columns='weather')\n",
    "hr"
   ],
   "metadata": {
    "collapsed": false,
    "pycharm": {
     "name": "#%%\n"
    }
   }
  },
  {
   "cell_type": "markdown",
   "source": [
    "## Daily Data\n",
    "- 1 week\n",
    "- 8 observations"
   ],
   "metadata": {
    "collapsed": false,
    "pycharm": {
     "name": "#%% md\n"
    }
   }
  },
  {
   "cell_type": "code",
   "execution_count": 7,
   "outputs": [
    {
     "data": {
      "text/plain": "                                sunrise              sunset    moonrise  \\\ndt                                                                        \n2021-05-05 11:00:00 2021-05-05 03:46:14 2021-05-05 19:05:35  1620181620   \n2021-05-06 11:00:00 2021-05-06 03:44:20 2021-05-06 19:07:22  1620268980   \n2021-05-07 11:00:00 2021-05-07 03:42:27 2021-05-07 19:09:09  1620356160   \n2021-05-08 11:00:00 2021-05-08 03:40:36 2021-05-08 19:10:54  1620443280   \n2021-05-09 11:00:00 2021-05-09 03:38:47 2021-05-09 19:12:40  1620530400   \n2021-05-10 11:00:00 2021-05-10 03:36:59 2021-05-10 19:14:24  1620617520   \n2021-05-11 11:00:00 2021-05-11 03:35:13 2021-05-11 19:16:08  1620704700   \n2021-05-12 11:00:00 2021-05-12 03:33:29 2021-05-12 19:17:51  1620792060   \n\n                        moonset  moon_phase  pressure  humidity  dew_point  \\\ndt                                                                           \n2021-05-05 11:00:00  1620215280        0.80       996        83       5.20   \n2021-05-06 11:00:00  1620306180        0.83      1006        59       1.67   \n2021-05-07 11:00:00  1620396960        0.87      1010        71       2.63   \n2021-05-08 11:00:00  1620487680        0.90      1013        56       3.57   \n2021-05-09 11:00:00  1620578280        0.93      1001        86      15.00   \n2021-05-10 11:00:00  1620668940        0.96      1003        96      11.21   \n2021-05-11 11:00:00  1620759600        0.00      1010        71       9.57   \n2021-05-12 11:00:00  1620850320        0.02      1015        64       6.57   \n\n                     wind_speed  wind_deg  ...    eve   morn  day_feels_like  \\\ndt                                         ...                                 \n2021-05-05 11:00:00       13.15       279  ...   6.47   5.29            3.25   \n2021-05-06 11:00:00        9.00       272  ...   7.68   3.48            5.47   \n2021-05-07 11:00:00        7.97       289  ...   7.78   2.80            3.92   \n2021-05-08 11:00:00        8.21       186  ...   8.45   5.27           10.60   \n2021-05-09 11:00:00        8.50       217  ...  18.08  12.73           17.27   \n2021-05-10 11:00:00        5.72       215  ...  11.47  13.32           11.52   \n2021-05-11 11:00:00        4.90       212  ...  10.68  10.51           14.16   \n2021-05-12 11:00:00        4.85       310  ...   9.54   9.86           12.24   \n\n                     night_feels_like  eve_feels_like  morn_feels_like   id  \\\ndt                                                                            \n2021-05-05 11:00:00             -0.52            1.08            -0.52  501   \n2021-05-06 11:00:00             -0.90            5.72            -0.90  500   \n2021-05-07 11:00:00             -0.31            4.08            -0.31  500   \n2021-05-08 11:00:00              2.47            4.75             2.47  501   \n2021-05-09 11:00:00             12.51           18.06            12.51  500   \n2021-05-10 11:00:00             13.16           11.00            13.16  501   \n2021-05-11 11:00:00              9.99           10.05             9.99  500   \n2021-05-12 11:00:00              9.55            7.63             9.55  500   \n\n                     main    description  icon  \ndt                                              \n2021-05-05 11:00:00  Rain  moderate rain   10d  \n2021-05-06 11:00:00  Rain     light rain   10d  \n2021-05-07 11:00:00  Rain     light rain   10d  \n2021-05-08 11:00:00  Rain  moderate rain   10d  \n2021-05-09 11:00:00  Rain     light rain   10d  \n2021-05-10 11:00:00  Rain  moderate rain   10d  \n2021-05-11 11:00:00  Rain     light rain   10d  \n2021-05-12 11:00:00  Rain     light rain   10d  \n\n[8 rows x 29 columns]",
      "text/html": "<div>\n<style scoped>\n    .dataframe tbody tr th:only-of-type {\n        vertical-align: middle;\n    }\n\n    .dataframe tbody tr th {\n        vertical-align: top;\n    }\n\n    .dataframe thead th {\n        text-align: right;\n    }\n</style>\n<table border=\"1\" class=\"dataframe\">\n  <thead>\n    <tr style=\"text-align: right;\">\n      <th></th>\n      <th>sunrise</th>\n      <th>sunset</th>\n      <th>moonrise</th>\n      <th>moonset</th>\n      <th>moon_phase</th>\n      <th>pressure</th>\n      <th>humidity</th>\n      <th>dew_point</th>\n      <th>wind_speed</th>\n      <th>wind_deg</th>\n      <th>...</th>\n      <th>eve</th>\n      <th>morn</th>\n      <th>day_feels_like</th>\n      <th>night_feels_like</th>\n      <th>eve_feels_like</th>\n      <th>morn_feels_like</th>\n      <th>id</th>\n      <th>main</th>\n      <th>description</th>\n      <th>icon</th>\n    </tr>\n    <tr>\n      <th>dt</th>\n      <th></th>\n      <th></th>\n      <th></th>\n      <th></th>\n      <th></th>\n      <th></th>\n      <th></th>\n      <th></th>\n      <th></th>\n      <th></th>\n      <th></th>\n      <th></th>\n      <th></th>\n      <th></th>\n      <th></th>\n      <th></th>\n      <th></th>\n      <th></th>\n      <th></th>\n      <th></th>\n      <th></th>\n    </tr>\n  </thead>\n  <tbody>\n    <tr>\n      <th>2021-05-05 11:00:00</th>\n      <td>2021-05-05 03:46:14</td>\n      <td>2021-05-05 19:05:35</td>\n      <td>1620181620</td>\n      <td>1620215280</td>\n      <td>0.80</td>\n      <td>996</td>\n      <td>83</td>\n      <td>5.20</td>\n      <td>13.15</td>\n      <td>279</td>\n      <td>...</td>\n      <td>6.47</td>\n      <td>5.29</td>\n      <td>3.25</td>\n      <td>-0.52</td>\n      <td>1.08</td>\n      <td>-0.52</td>\n      <td>501</td>\n      <td>Rain</td>\n      <td>moderate rain</td>\n      <td>10d</td>\n    </tr>\n    <tr>\n      <th>2021-05-06 11:00:00</th>\n      <td>2021-05-06 03:44:20</td>\n      <td>2021-05-06 19:07:22</td>\n      <td>1620268980</td>\n      <td>1620306180</td>\n      <td>0.83</td>\n      <td>1006</td>\n      <td>59</td>\n      <td>1.67</td>\n      <td>9.00</td>\n      <td>272</td>\n      <td>...</td>\n      <td>7.68</td>\n      <td>3.48</td>\n      <td>5.47</td>\n      <td>-0.90</td>\n      <td>5.72</td>\n      <td>-0.90</td>\n      <td>500</td>\n      <td>Rain</td>\n      <td>light rain</td>\n      <td>10d</td>\n    </tr>\n    <tr>\n      <th>2021-05-07 11:00:00</th>\n      <td>2021-05-07 03:42:27</td>\n      <td>2021-05-07 19:09:09</td>\n      <td>1620356160</td>\n      <td>1620396960</td>\n      <td>0.87</td>\n      <td>1010</td>\n      <td>71</td>\n      <td>2.63</td>\n      <td>7.97</td>\n      <td>289</td>\n      <td>...</td>\n      <td>7.78</td>\n      <td>2.80</td>\n      <td>3.92</td>\n      <td>-0.31</td>\n      <td>4.08</td>\n      <td>-0.31</td>\n      <td>500</td>\n      <td>Rain</td>\n      <td>light rain</td>\n      <td>10d</td>\n    </tr>\n    <tr>\n      <th>2021-05-08 11:00:00</th>\n      <td>2021-05-08 03:40:36</td>\n      <td>2021-05-08 19:10:54</td>\n      <td>1620443280</td>\n      <td>1620487680</td>\n      <td>0.90</td>\n      <td>1013</td>\n      <td>56</td>\n      <td>3.57</td>\n      <td>8.21</td>\n      <td>186</td>\n      <td>...</td>\n      <td>8.45</td>\n      <td>5.27</td>\n      <td>10.60</td>\n      <td>2.47</td>\n      <td>4.75</td>\n      <td>2.47</td>\n      <td>501</td>\n      <td>Rain</td>\n      <td>moderate rain</td>\n      <td>10d</td>\n    </tr>\n    <tr>\n      <th>2021-05-09 11:00:00</th>\n      <td>2021-05-09 03:38:47</td>\n      <td>2021-05-09 19:12:40</td>\n      <td>1620530400</td>\n      <td>1620578280</td>\n      <td>0.93</td>\n      <td>1001</td>\n      <td>86</td>\n      <td>15.00</td>\n      <td>8.50</td>\n      <td>217</td>\n      <td>...</td>\n      <td>18.08</td>\n      <td>12.73</td>\n      <td>17.27</td>\n      <td>12.51</td>\n      <td>18.06</td>\n      <td>12.51</td>\n      <td>500</td>\n      <td>Rain</td>\n      <td>light rain</td>\n      <td>10d</td>\n    </tr>\n    <tr>\n      <th>2021-05-10 11:00:00</th>\n      <td>2021-05-10 03:36:59</td>\n      <td>2021-05-10 19:14:24</td>\n      <td>1620617520</td>\n      <td>1620668940</td>\n      <td>0.96</td>\n      <td>1003</td>\n      <td>96</td>\n      <td>11.21</td>\n      <td>5.72</td>\n      <td>215</td>\n      <td>...</td>\n      <td>11.47</td>\n      <td>13.32</td>\n      <td>11.52</td>\n      <td>13.16</td>\n      <td>11.00</td>\n      <td>13.16</td>\n      <td>501</td>\n      <td>Rain</td>\n      <td>moderate rain</td>\n      <td>10d</td>\n    </tr>\n    <tr>\n      <th>2021-05-11 11:00:00</th>\n      <td>2021-05-11 03:35:13</td>\n      <td>2021-05-11 19:16:08</td>\n      <td>1620704700</td>\n      <td>1620759600</td>\n      <td>0.00</td>\n      <td>1010</td>\n      <td>71</td>\n      <td>9.57</td>\n      <td>4.90</td>\n      <td>212</td>\n      <td>...</td>\n      <td>10.68</td>\n      <td>10.51</td>\n      <td>14.16</td>\n      <td>9.99</td>\n      <td>10.05</td>\n      <td>9.99</td>\n      <td>500</td>\n      <td>Rain</td>\n      <td>light rain</td>\n      <td>10d</td>\n    </tr>\n    <tr>\n      <th>2021-05-12 11:00:00</th>\n      <td>2021-05-12 03:33:29</td>\n      <td>2021-05-12 19:17:51</td>\n      <td>1620792060</td>\n      <td>1620850320</td>\n      <td>0.02</td>\n      <td>1015</td>\n      <td>64</td>\n      <td>6.57</td>\n      <td>4.85</td>\n      <td>310</td>\n      <td>...</td>\n      <td>9.54</td>\n      <td>9.86</td>\n      <td>12.24</td>\n      <td>9.55</td>\n      <td>7.63</td>\n      <td>9.55</td>\n      <td>500</td>\n      <td>Rain</td>\n      <td>light rain</td>\n      <td>10d</td>\n    </tr>\n  </tbody>\n</table>\n<p>8 rows × 29 columns</p>\n</div>"
     },
     "execution_count": 7,
     "metadata": {},
     "output_type": "execute_result"
    }
   ],
   "source": [
    "time = ['dt', 'sunrise', 'sunset']\n",
    "dly = pd.DataFrame(data['daily'])\n",
    "dly[time] = dly[time].apply(pd.to_datetime, unit='s')\n",
    "\n",
    "dly = dly.join(pd.DataFrame(dly.temp.to_list()))\n",
    "dly = dly.join(pd.DataFrame(dly.feels_like.to_list()).add_suffix('_feels_like'))\n",
    "dly = dly.join(pd.DataFrame(dly.weather.apply(del_lst).to_list()))\n",
    "\n",
    "dly = dly.drop(columns=['temp', 'feels_like', 'weather'])\n",
    "dly = dly.set_index('dt')\n",
    "dly"
   ],
   "metadata": {
    "collapsed": false,
    "pycharm": {
     "name": "#%%\n"
    }
   }
  }
 ],
 "metadata": {
  "kernelspec": {
   "name": "python3",
   "language": "python",
   "display_name": "Python 3"
  },
  "language_info": {
   "codemirror_mode": {
    "name": "ipython",
    "version": 2
   },
   "file_extension": ".py",
   "mimetype": "text/x-python",
   "name": "python",
   "nbconvert_exporter": "python",
   "pygments_lexer": "ipython2",
   "version": "2.7.6"
  }
 },
 "nbformat": 4,
 "nbformat_minor": 0
}