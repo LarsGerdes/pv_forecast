{
 "cells": [
  {
   "cell_type": "markdown",
   "source": [
    "# Import Sunrise and Sunset Data\n",
    "## Prerequisits"
   ],
   "metadata": {
    "collapsed": false,
    "pycharm": {
     "name": "#%% md\n"
    }
   }
  },
  {
   "cell_type": "code",
   "execution_count": 1,
   "metadata": {
    "collapsed": true
   },
   "outputs": [
    {
     "data": {
      "text/plain": "array(['2020-10-13', '2020-10-14', '2020-10-15', '2020-10-16',\n       '2020-10-17', '2020-10-18', '2020-10-19', '2020-10-20',\n       '2020-10-21', '2020-10-22', '2020-10-23', '2020-10-24',\n       '2020-10-25', '2020-10-26', '2020-10-27', '2020-10-28',\n       '2020-10-29', '2020-10-30', '2020-10-31', '2020-11-01',\n       '2020-11-02', '2020-11-03', '2020-11-04', '2020-11-05',\n       '2020-11-06', '2020-11-07', '2020-11-08', '2020-11-09',\n       '2020-11-10', '2020-11-11', '2020-11-12', '2020-11-13',\n       '2020-11-14', '2020-11-15', '2020-11-16', '2020-11-17',\n       '2020-11-18', '2020-11-19', '2020-11-20', '2020-11-21',\n       '2020-11-22', '2020-11-23', '2020-11-24', '2020-11-25',\n       '2020-11-26', '2020-11-27', '2020-11-28', '2020-11-29',\n       '2020-11-30', '2020-12-01', '2020-12-02', '2020-12-03',\n       '2020-12-04', '2020-12-05', '2020-12-06', '2020-12-07',\n       '2020-12-08', '2020-12-09', '2020-12-10', '2020-12-11',\n       '2020-12-12', '2020-12-13', '2020-12-14', '2020-12-15',\n       '2020-12-16', '2020-12-17', '2020-12-18'], dtype='datetime64[D]')"
     },
     "execution_count": 1,
     "metadata": {},
     "output_type": "execute_result"
    }
   ],
   "source": [
    "import requests\n",
    "import numpy as np\n",
    "import pandas as pd\n",
    "import db_access as db\n",
    "from sqlalchemy import create_engine\n",
    "\n",
    "conn = create_engine('postgresql+psycopg2://{}:{}@{}:{}/{}'.format(\n",
    "    db.user, db.password, db.host, db.port, db.database\n",
    ")).connect()\n",
    "\n",
    "pv = pd.read_sql('SELECT * FROM pv', conn, 'datetime')\n",
    "\n",
    "dates = np.unique(pv.index.date.astype('datetime64'))\n",
    "dates"
   ]
  },
  {
   "cell_type": "markdown",
   "source": [
    "## Load Sunrise and Sunset Data\n",
    "- API from sunrise-sunset.org"
   ],
   "metadata": {
    "collapsed": false,
    "pycharm": {
     "name": "#%% md\n"
    }
   }
  },
  {
   "cell_type": "code",
   "execution_count": 2,
   "outputs": [
    {
     "data": {
      "text/plain": "                             sunrise                    sunset\ndate                                                          \n2020-10-13 2020-10-13 05:54:32+00:00 2020-10-13 16:36:00+00:00\n2020-10-14 2020-10-14 05:56:23+00:00 2020-10-14 16:33:42+00:00\n2020-10-15 2020-10-15 05:58:14+00:00 2020-10-15 16:31:25+00:00\n2020-10-16 2020-10-16 06:00:06+00:00 2020-10-16 16:29:08+00:00\n2020-10-17 2020-10-17 06:01:58+00:00 2020-10-17 16:26:53+00:00\n...                              ...                       ...\n2020-12-14 2020-12-14 07:39:10+00:00 2020-12-14 15:09:33+00:00\n2020-12-15 2020-12-15 07:40:00+00:00 2020-12-15 15:09:41+00:00\n2020-12-16 2020-12-16 07:40:47+00:00 2020-12-16 15:09:52+00:00\n2020-12-17 2020-12-17 07:41:31+00:00 2020-12-17 15:10:08+00:00\n2020-12-18 2020-12-18 07:42:11+00:00 2020-12-18 15:10:27+00:00\n\n[67 rows x 2 columns]",
      "text/html": "<div>\n<style scoped>\n    .dataframe tbody tr th:only-of-type {\n        vertical-align: middle;\n    }\n\n    .dataframe tbody tr th {\n        vertical-align: top;\n    }\n\n    .dataframe thead th {\n        text-align: right;\n    }\n</style>\n<table border=\"1\" class=\"dataframe\">\n  <thead>\n    <tr style=\"text-align: right;\">\n      <th></th>\n      <th>sunrise</th>\n      <th>sunset</th>\n    </tr>\n    <tr>\n      <th>date</th>\n      <th></th>\n      <th></th>\n    </tr>\n  </thead>\n  <tbody>\n    <tr>\n      <th>2020-10-13</th>\n      <td>2020-10-13 05:54:32+00:00</td>\n      <td>2020-10-13 16:36:00+00:00</td>\n    </tr>\n    <tr>\n      <th>2020-10-14</th>\n      <td>2020-10-14 05:56:23+00:00</td>\n      <td>2020-10-14 16:33:42+00:00</td>\n    </tr>\n    <tr>\n      <th>2020-10-15</th>\n      <td>2020-10-15 05:58:14+00:00</td>\n      <td>2020-10-15 16:31:25+00:00</td>\n    </tr>\n    <tr>\n      <th>2020-10-16</th>\n      <td>2020-10-16 06:00:06+00:00</td>\n      <td>2020-10-16 16:29:08+00:00</td>\n    </tr>\n    <tr>\n      <th>2020-10-17</th>\n      <td>2020-10-17 06:01:58+00:00</td>\n      <td>2020-10-17 16:26:53+00:00</td>\n    </tr>\n    <tr>\n      <th>...</th>\n      <td>...</td>\n      <td>...</td>\n    </tr>\n    <tr>\n      <th>2020-12-14</th>\n      <td>2020-12-14 07:39:10+00:00</td>\n      <td>2020-12-14 15:09:33+00:00</td>\n    </tr>\n    <tr>\n      <th>2020-12-15</th>\n      <td>2020-12-15 07:40:00+00:00</td>\n      <td>2020-12-15 15:09:41+00:00</td>\n    </tr>\n    <tr>\n      <th>2020-12-16</th>\n      <td>2020-12-16 07:40:47+00:00</td>\n      <td>2020-12-16 15:09:52+00:00</td>\n    </tr>\n    <tr>\n      <th>2020-12-17</th>\n      <td>2020-12-17 07:41:31+00:00</td>\n      <td>2020-12-17 15:10:08+00:00</td>\n    </tr>\n    <tr>\n      <th>2020-12-18</th>\n      <td>2020-12-18 07:42:11+00:00</td>\n      <td>2020-12-18 15:10:27+00:00</td>\n    </tr>\n  </tbody>\n</table>\n<p>67 rows × 2 columns</p>\n</div>"
     },
     "execution_count": 2,
     "metadata": {},
     "output_type": "execute_result"
    }
   ],
   "source": [
    "rise = []\n",
    "sset = []\n",
    "\n",
    "for i in dates:\n",
    "    response = requests.get('https://api.sunrise-sunset.org/json?'\n",
    "                            'lat=53.540548&lng=7.683708&date={}'\n",
    "                            '&formatted=0'.format(i)).json()\n",
    "    rise.append(response['results']['sunrise'])\n",
    "    sset.append(response['results']['sunset'])\n",
    "\n",
    "df = pd.DataFrame({'sunrise': rise, 'sunset': sset}, dates)\n",
    "df = df.apply(pd.to_datetime)\n",
    "df.index.name = 'date'\n",
    "# df.to_sql('sun_rise_set', conn, if_exists='replace')\n",
    "df"
   ],
   "metadata": {
    "collapsed": false,
    "pycharm": {
     "name": "#%%\n"
    }
   }
  }
 ],
 "metadata": {
  "kernelspec": {
   "name": "python_3_8_env",
   "language": "python",
   "display_name": "python_3_8_env"
  },
  "language_info": {
   "codemirror_mode": {
    "name": "ipython",
    "version": 2
   },
   "file_extension": ".py",
   "mimetype": "text/x-python",
   "name": "python",
   "nbconvert_exporter": "python",
   "pygments_lexer": "ipython2",
   "version": "2.7.6"
  }
 },
 "nbformat": 4,
 "nbformat_minor": 0
}